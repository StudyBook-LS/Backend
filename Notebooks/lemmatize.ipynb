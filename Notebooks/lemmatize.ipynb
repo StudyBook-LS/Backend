{
 "cells": [
  {
   "cell_type": "code",
   "execution_count": 8,
   "metadata": {
    "collapsed": true,
    "pycharm": {
     "is_executing": false,
     "name": "#%%\n"
    }
   },
   "outputs": [],
   "source": [
    "import pandas as pd\n",
    "import spacy\n",
    "import re\n",
    "from collections import OrderedDict"
   ]
  },
  {
   "cell_type": "code",
   "execution_count": 9,
   "outputs": [
    {
     "name": "stdout",
     "text": [
      "Requirement already satisfied: en_core_web_sm==2.1.0 from https://github.com/explosion/spacy-models/releases/download/en_core_web_sm-2.1.0/en_core_web_sm-2.1.0.tar.gz#egg=en_core_web_sm==2.1.0 in /Users/lambda_school_loaner_153/.conda/envs/flask_app/lib/python3.7/site-packages (2.1.0)\r\n",
      "\u001b[38;5;2m✔ Download and installation successful\u001b[0m\r\nYou can now load the model via spacy.load('en_core_web_sm')\r\n"
     ],
     "output_type": "stream"
    }
   ],
   "source": [
    "# !python -m spacy download en_core_web_sm\n",
    "nlp = spacy.load(\"en_core_web_sm\", disable=['parser', 'ner'])"
   ],
   "metadata": {
    "collapsed": false,
    "pycharm": {
     "name": "#%%\n",
     "is_executing": false
    }
   }
  },
  {
   "cell_type": "code",
   "execution_count": 10,
   "outputs": [],
   "source": [
    "df = pd.read_csv('../frontend_dataset_final.csv')"
   ],
   "metadata": {
    "collapsed": false,
    "pycharm": {
     "name": "#%%\n",
     "is_executing": false
    }
   }
  },
  {
   "cell_type": "code",
   "execution_count": 11,
   "outputs": [],
   "source": [
    "def lemmatize(string):\n",
    "    doc = nlp(string)\n",
    "    return \" \".join([token.lemma_ for token in doc])"
   ],
   "metadata": {
    "collapsed": false,
    "pycharm": {
     "name": "#%%\n",
     "is_executing": false
    }
   }
  },
  {
   "cell_type": "code",
   "execution_count": 12,
   "outputs": [],
   "source": [
    "df['lem_terms'] = df['mesh_term'].str.lower() + ' ' + df['condition'].str.lower() + ' ' + df['keyword'].str.lower()"
   ],
   "metadata": {
    "collapsed": false,
    "pycharm": {
     "name": "#%%\n",
     "is_executing": false
    }
   }
  },
  {
   "cell_type": "code",
   "execution_count": 13,
   "outputs": [],
   "source": [
    "def set_o_strings(strings):\n",
    "    new = OrderedDict()\n",
    "    for string in strings.split():\n",
    "        new[string] = ''\n",
    "    return u\" \".join(new.keys())"
   ],
   "metadata": {
    "collapsed": false,
    "pycharm": {
     "name": "#%%\n",
     "is_executing": false
    }
   }
  },
  {
   "cell_type": "code",
   "execution_count": 14,
   "outputs": [],
   "source": [
    "def replace_missing(string):\n",
    "    new = re.sub(' missing', '', string)\n",
    "    return u\"{}\".format(new)"
   ],
   "metadata": {
    "collapsed": false,
    "pycharm": {
     "name": "#%%\n",
     "is_executing": false
    }
   }
  },
  {
   "cell_type": "code",
   "execution_count": 15,
   "outputs": [],
   "source": [
    "df['lem_terms'] = df['lem_terms'].apply(replace_missing)\n",
    "df['lem_terms'] = df['lem_terms'].apply(set_o_strings)"
   ],
   "metadata": {
    "collapsed": false,
    "pycharm": {
     "name": "#%%\n",
     "is_executing": false
    }
   }
  },
  {
   "cell_type": "code",
   "execution_count": 16,
   "outputs": [
    {
     "data": {
      "text/plain": "    Unnamed: 0                                             agency  \\\n0            0  Fraunhofer Institute for Molecular Biology and...   \n1            1                           University of Washington   \n2            3   CSPC ZhongQi Pharmaceutical Technology Co., Ltd.   \n3            4  Fraunhofer Institute for Molecular Biology and...   \n4            7                       Chang Gung Memorial Hospital   \n5           10  Shanghai General Hospital, Shanghai Jiao Tong ...   \n6           12               Beth Israel Deaconess Medical Center   \n7           13                             Sun Yat-sen University   \n8           16                                University of Miami   \n9           17                                  Assiut University   \n10          18                                   Meghan Pearl, MD   \n11          19                         Akesobio Australia Pty Ltd   \n12          28                                   Cairo University   \n13          29                                  Assiut University   \n14          30  St. Joseph`s Hospital and Medical Center, Phoenix   \n15          31                                      Joshua M Hare   \n16          33                                     Riitta Veijola   \n17          35                          Clinical Centre of Serbia   \n18          36             Fred Hutchinson Cancer Research Center   \n19          38                       Shanghai Changzheng Hospital   \n\n                                          brief_title  \\\n0   PREVALENCE OF Anti-CCP POSITIVITY AND SUBCLINI...   \n1   Aldesleukin and Pembrolizumab in Treating Pati...   \n2   Nab-Paclitaxel Versus Paclitaxel Plus Carbopla...   \n3   PREVALENCE OF Anti-CCP POSITIVITY AND SUBCLINI...   \n4   Analgesic Effect of Low Level Laser for Proced...   \n5   Role of the Serum Exosomal miRNA in Diabetic R...   \n6                Living Kidney Donor Lost Wages Trial   \n7   Artificial Intelligence-assissted Glaucoma Eva...   \n8       TENS Trial to Prevent Neuropathic Pain in SCI   \n9   Smartphones Addiction in Assiut University Stu...   \n10  Envarsus XR® in Adolescent Renal Transplant Re...   \n11  Study of the Safety, Pharmacokinetics, and Ant...   \n12     Doppler Imaging and Morbidly Adherent Placenta   \n13     Progesterone and Doppler in Recurrent Abortion   \n14  Development and Validation of Advanced MRI Met...   \n15  Allogeneic HUman Mesenchymal Stem Cell Infusio...   \n16  Type 1 Diabetes Prediction and Prevention (DIP...   \n17  Predicting Ventricular Tachyarrhythmias Follow...   \n18                    MMF for HIV Reservoir Reduction   \n19  Efficacy and Safety of Nerve Root Axial Decomp...   \n\n                                        brief_summary               city  \\\n0   Non-interventional, prospective, observational...  Frankfurt am Main   \n1   This phase I trial studies the side effects an...            Seattle   \n2   This is a randomized, multicenter, open, contr...            Missing   \n3   Non-interventional, prospective, observational...  Frankfurt am Main   \n4   Neonates undergo several painful procedures an...          Kaohsiung   \n5   Diabetic retinopathy (DR) is one of the most c...            Missing   \n6   This study aims to evaluate the effectiveness ...             Boston   \n7   Glaucoma is currently the second leading cause...          Guangzhou   \n8   The purpose of this research study is to: 1) t...              Miami   \n9   Smartphones have become a part of our daily li...             Assiut   \n10  Adolescents commonly experience barriers to ad...        Los Angeles   \n11  This study is to characterize the safety, tole...            Clayton   \n12  The aim of this study is to assess the value o...              Cairo   \n13  Recurrent pregnancy loss is classically define...             Assiut   \n14  A critical aspect of brain tumor patient manag...            Phoenix   \n15  Eighty (80) subjects with Alcohol Use Disorder...              Miami   \n16  The Type 1 Diabetes Prediction and Prevention ...               Oulu   \n17  Predict-VT is an investigator-initiated, prosp...           Belgrade   \n18  This is an open label, randomized Phase II stu...            Seattle   \n19  Background: Tethered cord syndrome (TCS) is a ...           Shanghai   \n\n                                   condition        country  \\\n0                       Rheumatoid Arthritis        Germany   \n1            Clear Cell Renal Cell Carcinoma  United States   \n2                 Non-small Cell Lung Cancer        Missing   \n3                       Rheumatoid Arthritis        Germany   \n4                            Procedural Pain         Taiwan   \n5                       Diabetic Retinopathy        Missing   \n6                            Kidney Diseases  United States   \n7                    Artificial Intelligence          China   \n8                       Spinal Cord Injuries  United States   \n9                           Behavior Problem          Egypt   \n10                    Kidney Transplantation  United States   \n11                           Advanced Cancer      Australia   \n12                     Antepartum Hemorrhage          Egypt   \n13               Abortion in First Trimester          Egypt   \n14                               Brain Tumor  United States   \n15                          Major Depression  United States   \n16                  Type 1 Diabetes Mellitus        Finland   \n17                       Risk Stratification         Serbia   \n18  Human Immunodeficiency Virus I Infection  United States   \n19                    Tethered Cord Syndrome          China   \n\n                                 detailed_description  \\\n0   Studies of early arthritis cohorts have shown ...   \n1   PRIMARY OBJECTIVES: I. To evaluate the safety ...   \n2   Subjects will receive one of two treatment reg...   \n3   Studies of early arthritis cohorts have shown ...   \n4   This open-label, randomized controlled trial i...   \n5                                             Missing   \n6   Live donor kidney transplantation (LDKT) accel...   \n7   Glaucoma is currently the second leading cause...   \n8                                             Missing   \n9   What is smartphones addiction? The concept of ...   \n10  This is a randomized, prospective, single-cent...   \n11                                            Missing   \n12                                            Missing   \n13  Spontaneous pregnancy loss is a surprisingly c...   \n14  The objectives of this study are to (1) Develo...   \n15  Eighty (80) subjects fulfilling all inclusion/...   \n16  Briefly, cord blood samples are collected and ...   \n17  Study design Predict-VT is an investigator-ini...   \n18  This is an open-label, randomized pilot trial ...   \n19  Background: Tethered cord syndrome (TCS) is a ...   \n\n                                          eligibility  gender  \\\n0   population without pre-classified RA but new o...     All   \n1   Inclusion Criteria:  - Be willing and able to ...     All   \n2   Inclusion Criteria:  - Accepted the purpose of...     All   \n3   population without pre-classified RA but new o...     All   \n4   Inclusion Criteria:  - healthy fullterm neonat...     All   \n5   Patients will be chosen according to the inclu...     All   \n6   Inclusion Criteria:  - For KT patients:  - Chr...     All   \n7   Anyone who can complete visual field test and ...     All   \n8   Inclusion Criteria:  - Age ≥ 18;  - Traumatic ...     All   \n9   Egyptian Students of Assiut University will be...     All   \n10  Inclusion Criteria:  - Recipients of first kid...     All   \n11  Inclusion Criteria:  - Written and signed info...     All   \n12  Inclusion Criteria:  - Age: 18 - 45.  - Pregna...  Female   \n13  Inclusion Criteria:  1. pregnant 7-12 weeks do...  Female   \n14  Inclusion Criteria:  - Must have either radiol...     All   \n15  Inclusion Criteria:  1. Provide written inform...     All   \n16  Since November 1994 the Finnish Type 1 Diabete...     All   \n17  The study will include 600 patients with acute...     All   \n18  Inclusion Criteria:  1. Confirmed HIV infectio...     All   \n19  Inclusion Criteria:  1. patients aged 14-20 ye...     All   \n\n                    keyword                         mesh_term  \\\n0                  Anti-CCP                         Arthritis   \n1                   Missing                         Carcinoma   \n2                   Missing                    Lung Neoplasms   \n3                  Anti-CCP                         Arthritis   \n4                  neonates                  Pain, Procedural   \n5      diabetic retinopathy                  Retinal Diseases   \n6                      LDKT                   Kidney Diseases   \n7   artificial intelligence                          Glaucoma   \n8          Neuropathic Pain              Spinal Cord Injuries   \n9     smartphones addiction               Behavior, Addictive   \n10              Envarsus XR                        Tacrolimus   \n11            immunotherapy                           Missing   \n12                  Missing                        Hemorrhage   \n13                  Missing                      Progesterone   \n14         brain tumor, MRI                   Brain Neoplasms   \n15               stem cells                           Disease   \n16                  Missing                 Diabetes Mellitus   \n17          risk prediction                        Infarction   \n18                      HIV  Immunologic Deficiency Syndromes   \n19                  Missing                          Syndrome   \n\n                                       official_title  \\\n0   PREVALENCE OF ANTI-CYCLIC CITRULLINATED PEPTID...   \n1   A Phase I Trial of Interleukin-2 (Aldesleukin)...   \n2   The Randomized,Open, Multicenter Phase III Stu...   \n3   PREVALENCE OF ANTI-CYCLIC CITRULLINATED PEPTID...   \n4   Analgesic Effect of Low Level Laser for Proced...   \n5   Prognostic Role of Serum Exosomal miRNA and It...   \n6                       Living Donor Lost Wages Trial   \n7   Development of Artificial Intelligence-assisst...   \n8   Randomized, Double-blinded, Controlled Trial o...   \n9   Smartphones Addiction and Its Correlations Amo...   \n10  A Prospective, Randomized, Single-center, Pilo...   \n11  A Phase 1A/1B Multicenter, Open-label, Dose-es...   \n12  The Role of Grey Scale Ultrasound, 2D, and 3D ...   \n13  Role of Serum Progesterone and Doppler Ultraso...   \n14  Development and Validation of Advanced MRI Met...   \n15  A Phase I/II, Prospective, Randomized, Double-...   \n16  Type 1 Diabetes Prediction and Prevention (DIP...   \n17  Predicting Ventricular Tachyarrhythmias Follow...   \n18  Mycophenolate Mofetil Therapy for Reduction of...   \n19  Efficacy and Safety of Nerve Root Axial Decomp...   \n\n             overall_status            phase          state  \\\n0                Recruiting          Missing         Hessia   \n1                Recruiting          Phase 1     Washington   \n2        Not yet recruiting          Phase 3        Missing   \n3                Recruiting          Missing         Hessia   \n4                Recruiting          Missing        Missing   \n5        Not yet recruiting          Missing        Missing   \n6                Recruiting          Missing  Massachusetts   \n7                Recruiting          Missing      Guangdong   \n8                Recruiting          Missing        Florida   \n9        Not yet recruiting          Missing        Missing   \n10  Enrolling by invitation          Phase 4     California   \n11               Recruiting          Phase 1       Victoria   \n12               Recruiting          Missing        Missing   \n13       Not yet recruiting          Phase 4        Missing   \n14               Recruiting          Missing        Arizona   \n15               Recruiting  Phase 1/Phase 2        Florida   \n16               Recruiting          Missing        Missing   \n17               Recruiting          Missing        Missing   \n18               Recruiting          Phase 2     Washington   \n19               Recruiting          Missing       Shanghai   \n\n                                            url  \\\n0   https://clinicaltrials.gov/show/NCT03267147   \n1   https://clinicaltrials.gov/show/NCT03260504   \n2   https://clinicaltrials.gov/show/NCT03262948   \n3   https://clinicaltrials.gov/show/NCT03267147   \n4   https://clinicaltrials.gov/show/NCT03268148   \n5   https://clinicaltrials.gov/show/NCT03264976   \n6   https://clinicaltrials.gov/show/NCT03268850   \n7   https://clinicaltrials.gov/show/NCT03268031   \n8   https://clinicaltrials.gov/show/NCT03267810   \n9   https://clinicaltrials.gov/show/NCT03260296   \n10  https://clinicaltrials.gov/show/NCT03266393   \n11  https://clinicaltrials.gov/show/NCT03261011   \n12  https://clinicaltrials.gov/show/NCT03267446   \n13  https://clinicaltrials.gov/show/NCT03267771   \n14  https://clinicaltrials.gov/show/NCT03264300   \n15  https://clinicaltrials.gov/show/NCT03265808   \n16  https://clinicaltrials.gov/show/NCT03269084   \n17  https://clinicaltrials.gov/show/NCT03263949   \n18  https://clinicaltrials.gov/show/NCT03262441   \n19  https://clinicaltrials.gov/show/NCT03262844   \n\n                                            lem_terms  \n0                       arthritis rheumatoid anti-ccp  \n1                          carcinoma clear cell renal  \n2                lung neoplasms non-small cell cancer  \n3                       arthritis rheumatoid anti-ccp  \n4                      pain, procedural pain neonates  \n5               retinal diseases diabetic retinopathy  \n6                                kidney diseases ldkt  \n7                    glaucoma artificial intelligence  \n8               spinal cord injuries neuropathic pain  \n9   behavior, addictive behavior problem smartphon...  \n10      tacrolimus kidney transplantation envarsus xr  \n11              missing advanced cancer immunotherapy  \n12                              hemorrhage antepartum  \n13           progesterone abortion in first trimester  \n14                   brain neoplasms tumor tumor, mri  \n15                disease major depression stem cells  \n16                           diabetes mellitus type 1  \n17          infarction risk stratification prediction  \n18  immunologic deficiency syndromes human immunod...  \n19                             syndrome tethered cord  ",
      "text/html": "<div>\n<style scoped>\n    .dataframe tbody tr th:only-of-type {\n        vertical-align: middle;\n    }\n\n    .dataframe tbody tr th {\n        vertical-align: top;\n    }\n\n    .dataframe thead th {\n        text-align: right;\n    }\n</style>\n<table border=\"1\" class=\"dataframe\">\n  <thead>\n    <tr style=\"text-align: right;\">\n      <th></th>\n      <th>Unnamed: 0</th>\n      <th>agency</th>\n      <th>brief_title</th>\n      <th>brief_summary</th>\n      <th>city</th>\n      <th>condition</th>\n      <th>country</th>\n      <th>detailed_description</th>\n      <th>eligibility</th>\n      <th>gender</th>\n      <th>keyword</th>\n      <th>mesh_term</th>\n      <th>official_title</th>\n      <th>overall_status</th>\n      <th>phase</th>\n      <th>state</th>\n      <th>url</th>\n      <th>lem_terms</th>\n    </tr>\n  </thead>\n  <tbody>\n    <tr>\n      <th>0</th>\n      <td>0</td>\n      <td>Fraunhofer Institute for Molecular Biology and...</td>\n      <td>PREVALENCE OF Anti-CCP POSITIVITY AND SUBCLINI...</td>\n      <td>Non-interventional, prospective, observational...</td>\n      <td>Frankfurt am Main</td>\n      <td>Rheumatoid Arthritis</td>\n      <td>Germany</td>\n      <td>Studies of early arthritis cohorts have shown ...</td>\n      <td>population without pre-classified RA but new o...</td>\n      <td>All</td>\n      <td>Anti-CCP</td>\n      <td>Arthritis</td>\n      <td>PREVALENCE OF ANTI-CYCLIC CITRULLINATED PEPTID...</td>\n      <td>Recruiting</td>\n      <td>Missing</td>\n      <td>Hessia</td>\n      <td>https://clinicaltrials.gov/show/NCT03267147</td>\n      <td>arthritis rheumatoid anti-ccp</td>\n    </tr>\n    <tr>\n      <th>1</th>\n      <td>1</td>\n      <td>University of Washington</td>\n      <td>Aldesleukin and Pembrolizumab in Treating Pati...</td>\n      <td>This phase I trial studies the side effects an...</td>\n      <td>Seattle</td>\n      <td>Clear Cell Renal Cell Carcinoma</td>\n      <td>United States</td>\n      <td>PRIMARY OBJECTIVES: I. To evaluate the safety ...</td>\n      <td>Inclusion Criteria:  - Be willing and able to ...</td>\n      <td>All</td>\n      <td>Missing</td>\n      <td>Carcinoma</td>\n      <td>A Phase I Trial of Interleukin-2 (Aldesleukin)...</td>\n      <td>Recruiting</td>\n      <td>Phase 1</td>\n      <td>Washington</td>\n      <td>https://clinicaltrials.gov/show/NCT03260504</td>\n      <td>carcinoma clear cell renal</td>\n    </tr>\n    <tr>\n      <th>2</th>\n      <td>3</td>\n      <td>CSPC ZhongQi Pharmaceutical Technology Co., Ltd.</td>\n      <td>Nab-Paclitaxel Versus Paclitaxel Plus Carbopla...</td>\n      <td>This is a randomized, multicenter, open, contr...</td>\n      <td>Missing</td>\n      <td>Non-small Cell Lung Cancer</td>\n      <td>Missing</td>\n      <td>Subjects will receive one of two treatment reg...</td>\n      <td>Inclusion Criteria:  - Accepted the purpose of...</td>\n      <td>All</td>\n      <td>Missing</td>\n      <td>Lung Neoplasms</td>\n      <td>The Randomized,Open, Multicenter Phase III Stu...</td>\n      <td>Not yet recruiting</td>\n      <td>Phase 3</td>\n      <td>Missing</td>\n      <td>https://clinicaltrials.gov/show/NCT03262948</td>\n      <td>lung neoplasms non-small cell cancer</td>\n    </tr>\n    <tr>\n      <th>3</th>\n      <td>4</td>\n      <td>Fraunhofer Institute for Molecular Biology and...</td>\n      <td>PREVALENCE OF Anti-CCP POSITIVITY AND SUBCLINI...</td>\n      <td>Non-interventional, prospective, observational...</td>\n      <td>Frankfurt am Main</td>\n      <td>Rheumatoid Arthritis</td>\n      <td>Germany</td>\n      <td>Studies of early arthritis cohorts have shown ...</td>\n      <td>population without pre-classified RA but new o...</td>\n      <td>All</td>\n      <td>Anti-CCP</td>\n      <td>Arthritis</td>\n      <td>PREVALENCE OF ANTI-CYCLIC CITRULLINATED PEPTID...</td>\n      <td>Recruiting</td>\n      <td>Missing</td>\n      <td>Hessia</td>\n      <td>https://clinicaltrials.gov/show/NCT03267147</td>\n      <td>arthritis rheumatoid anti-ccp</td>\n    </tr>\n    <tr>\n      <th>4</th>\n      <td>7</td>\n      <td>Chang Gung Memorial Hospital</td>\n      <td>Analgesic Effect of Low Level Laser for Proced...</td>\n      <td>Neonates undergo several painful procedures an...</td>\n      <td>Kaohsiung</td>\n      <td>Procedural Pain</td>\n      <td>Taiwan</td>\n      <td>This open-label, randomized controlled trial i...</td>\n      <td>Inclusion Criteria:  - healthy fullterm neonat...</td>\n      <td>All</td>\n      <td>neonates</td>\n      <td>Pain, Procedural</td>\n      <td>Analgesic Effect of Low Level Laser for Proced...</td>\n      <td>Recruiting</td>\n      <td>Missing</td>\n      <td>Missing</td>\n      <td>https://clinicaltrials.gov/show/NCT03268148</td>\n      <td>pain, procedural pain neonates</td>\n    </tr>\n    <tr>\n      <th>5</th>\n      <td>10</td>\n      <td>Shanghai General Hospital, Shanghai Jiao Tong ...</td>\n      <td>Role of the Serum Exosomal miRNA in Diabetic R...</td>\n      <td>Diabetic retinopathy (DR) is one of the most c...</td>\n      <td>Missing</td>\n      <td>Diabetic Retinopathy</td>\n      <td>Missing</td>\n      <td>Missing</td>\n      <td>Patients will be chosen according to the inclu...</td>\n      <td>All</td>\n      <td>diabetic retinopathy</td>\n      <td>Retinal Diseases</td>\n      <td>Prognostic Role of Serum Exosomal miRNA and It...</td>\n      <td>Not yet recruiting</td>\n      <td>Missing</td>\n      <td>Missing</td>\n      <td>https://clinicaltrials.gov/show/NCT03264976</td>\n      <td>retinal diseases diabetic retinopathy</td>\n    </tr>\n    <tr>\n      <th>6</th>\n      <td>12</td>\n      <td>Beth Israel Deaconess Medical Center</td>\n      <td>Living Kidney Donor Lost Wages Trial</td>\n      <td>This study aims to evaluate the effectiveness ...</td>\n      <td>Boston</td>\n      <td>Kidney Diseases</td>\n      <td>United States</td>\n      <td>Live donor kidney transplantation (LDKT) accel...</td>\n      <td>Inclusion Criteria:  - For KT patients:  - Chr...</td>\n      <td>All</td>\n      <td>LDKT</td>\n      <td>Kidney Diseases</td>\n      <td>Living Donor Lost Wages Trial</td>\n      <td>Recruiting</td>\n      <td>Missing</td>\n      <td>Massachusetts</td>\n      <td>https://clinicaltrials.gov/show/NCT03268850</td>\n      <td>kidney diseases ldkt</td>\n    </tr>\n    <tr>\n      <th>7</th>\n      <td>13</td>\n      <td>Sun Yat-sen University</td>\n      <td>Artificial Intelligence-assissted Glaucoma Eva...</td>\n      <td>Glaucoma is currently the second leading cause...</td>\n      <td>Guangzhou</td>\n      <td>Artificial Intelligence</td>\n      <td>China</td>\n      <td>Glaucoma is currently the second leading cause...</td>\n      <td>Anyone who can complete visual field test and ...</td>\n      <td>All</td>\n      <td>artificial intelligence</td>\n      <td>Glaucoma</td>\n      <td>Development of Artificial Intelligence-assisst...</td>\n      <td>Recruiting</td>\n      <td>Missing</td>\n      <td>Guangdong</td>\n      <td>https://clinicaltrials.gov/show/NCT03268031</td>\n      <td>glaucoma artificial intelligence</td>\n    </tr>\n    <tr>\n      <th>8</th>\n      <td>16</td>\n      <td>University of Miami</td>\n      <td>TENS Trial to Prevent Neuropathic Pain in SCI</td>\n      <td>The purpose of this research study is to: 1) t...</td>\n      <td>Miami</td>\n      <td>Spinal Cord Injuries</td>\n      <td>United States</td>\n      <td>Missing</td>\n      <td>Inclusion Criteria:  - Age ≥ 18;  - Traumatic ...</td>\n      <td>All</td>\n      <td>Neuropathic Pain</td>\n      <td>Spinal Cord Injuries</td>\n      <td>Randomized, Double-blinded, Controlled Trial o...</td>\n      <td>Recruiting</td>\n      <td>Missing</td>\n      <td>Florida</td>\n      <td>https://clinicaltrials.gov/show/NCT03267810</td>\n      <td>spinal cord injuries neuropathic pain</td>\n    </tr>\n    <tr>\n      <th>9</th>\n      <td>17</td>\n      <td>Assiut University</td>\n      <td>Smartphones Addiction in Assiut University Stu...</td>\n      <td>Smartphones have become a part of our daily li...</td>\n      <td>Assiut</td>\n      <td>Behavior Problem</td>\n      <td>Egypt</td>\n      <td>What is smartphones addiction? The concept of ...</td>\n      <td>Egyptian Students of Assiut University will be...</td>\n      <td>All</td>\n      <td>smartphones addiction</td>\n      <td>Behavior, Addictive</td>\n      <td>Smartphones Addiction and Its Correlations Amo...</td>\n      <td>Not yet recruiting</td>\n      <td>Missing</td>\n      <td>Missing</td>\n      <td>https://clinicaltrials.gov/show/NCT03260296</td>\n      <td>behavior, addictive behavior problem smartphon...</td>\n    </tr>\n    <tr>\n      <th>10</th>\n      <td>18</td>\n      <td>Meghan Pearl, MD</td>\n      <td>Envarsus XR® in Adolescent Renal Transplant Re...</td>\n      <td>Adolescents commonly experience barriers to ad...</td>\n      <td>Los Angeles</td>\n      <td>Kidney Transplantation</td>\n      <td>United States</td>\n      <td>This is a randomized, prospective, single-cent...</td>\n      <td>Inclusion Criteria:  - Recipients of first kid...</td>\n      <td>All</td>\n      <td>Envarsus XR</td>\n      <td>Tacrolimus</td>\n      <td>A Prospective, Randomized, Single-center, Pilo...</td>\n      <td>Enrolling by invitation</td>\n      <td>Phase 4</td>\n      <td>California</td>\n      <td>https://clinicaltrials.gov/show/NCT03266393</td>\n      <td>tacrolimus kidney transplantation envarsus xr</td>\n    </tr>\n    <tr>\n      <th>11</th>\n      <td>19</td>\n      <td>Akesobio Australia Pty Ltd</td>\n      <td>Study of the Safety, Pharmacokinetics, and Ant...</td>\n      <td>This study is to characterize the safety, tole...</td>\n      <td>Clayton</td>\n      <td>Advanced Cancer</td>\n      <td>Australia</td>\n      <td>Missing</td>\n      <td>Inclusion Criteria:  - Written and signed info...</td>\n      <td>All</td>\n      <td>immunotherapy</td>\n      <td>Missing</td>\n      <td>A Phase 1A/1B Multicenter, Open-label, Dose-es...</td>\n      <td>Recruiting</td>\n      <td>Phase 1</td>\n      <td>Victoria</td>\n      <td>https://clinicaltrials.gov/show/NCT03261011</td>\n      <td>missing advanced cancer immunotherapy</td>\n    </tr>\n    <tr>\n      <th>12</th>\n      <td>28</td>\n      <td>Cairo University</td>\n      <td>Doppler Imaging and Morbidly Adherent Placenta</td>\n      <td>The aim of this study is to assess the value o...</td>\n      <td>Cairo</td>\n      <td>Antepartum Hemorrhage</td>\n      <td>Egypt</td>\n      <td>Missing</td>\n      <td>Inclusion Criteria:  - Age: 18 - 45.  - Pregna...</td>\n      <td>Female</td>\n      <td>Missing</td>\n      <td>Hemorrhage</td>\n      <td>The Role of Grey Scale Ultrasound, 2D, and 3D ...</td>\n      <td>Recruiting</td>\n      <td>Missing</td>\n      <td>Missing</td>\n      <td>https://clinicaltrials.gov/show/NCT03267446</td>\n      <td>hemorrhage antepartum</td>\n    </tr>\n    <tr>\n      <th>13</th>\n      <td>29</td>\n      <td>Assiut University</td>\n      <td>Progesterone and Doppler in Recurrent Abortion</td>\n      <td>Recurrent pregnancy loss is classically define...</td>\n      <td>Assiut</td>\n      <td>Abortion in First Trimester</td>\n      <td>Egypt</td>\n      <td>Spontaneous pregnancy loss is a surprisingly c...</td>\n      <td>Inclusion Criteria:  1. pregnant 7-12 weeks do...</td>\n      <td>Female</td>\n      <td>Missing</td>\n      <td>Progesterone</td>\n      <td>Role of Serum Progesterone and Doppler Ultraso...</td>\n      <td>Not yet recruiting</td>\n      <td>Phase 4</td>\n      <td>Missing</td>\n      <td>https://clinicaltrials.gov/show/NCT03267771</td>\n      <td>progesterone abortion in first trimester</td>\n    </tr>\n    <tr>\n      <th>14</th>\n      <td>30</td>\n      <td>St. Joseph`s Hospital and Medical Center, Phoenix</td>\n      <td>Development and Validation of Advanced MRI Met...</td>\n      <td>A critical aspect of brain tumor patient manag...</td>\n      <td>Phoenix</td>\n      <td>Brain Tumor</td>\n      <td>United States</td>\n      <td>The objectives of this study are to (1) Develo...</td>\n      <td>Inclusion Criteria:  - Must have either radiol...</td>\n      <td>All</td>\n      <td>brain tumor, MRI</td>\n      <td>Brain Neoplasms</td>\n      <td>Development and Validation of Advanced MRI Met...</td>\n      <td>Recruiting</td>\n      <td>Missing</td>\n      <td>Arizona</td>\n      <td>https://clinicaltrials.gov/show/NCT03264300</td>\n      <td>brain neoplasms tumor tumor, mri</td>\n    </tr>\n    <tr>\n      <th>15</th>\n      <td>31</td>\n      <td>Joshua M Hare</td>\n      <td>Allogeneic HUman Mesenchymal Stem Cell Infusio...</td>\n      <td>Eighty (80) subjects with Alcohol Use Disorder...</td>\n      <td>Miami</td>\n      <td>Major Depression</td>\n      <td>United States</td>\n      <td>Eighty (80) subjects fulfilling all inclusion/...</td>\n      <td>Inclusion Criteria:  1. Provide written inform...</td>\n      <td>All</td>\n      <td>stem cells</td>\n      <td>Disease</td>\n      <td>A Phase I/II, Prospective, Randomized, Double-...</td>\n      <td>Recruiting</td>\n      <td>Phase 1/Phase 2</td>\n      <td>Florida</td>\n      <td>https://clinicaltrials.gov/show/NCT03265808</td>\n      <td>disease major depression stem cells</td>\n    </tr>\n    <tr>\n      <th>16</th>\n      <td>33</td>\n      <td>Riitta Veijola</td>\n      <td>Type 1 Diabetes Prediction and Prevention (DIP...</td>\n      <td>The Type 1 Diabetes Prediction and Prevention ...</td>\n      <td>Oulu</td>\n      <td>Type 1 Diabetes Mellitus</td>\n      <td>Finland</td>\n      <td>Briefly, cord blood samples are collected and ...</td>\n      <td>Since November 1994 the Finnish Type 1 Diabete...</td>\n      <td>All</td>\n      <td>Missing</td>\n      <td>Diabetes Mellitus</td>\n      <td>Type 1 Diabetes Prediction and Prevention (DIP...</td>\n      <td>Recruiting</td>\n      <td>Missing</td>\n      <td>Missing</td>\n      <td>https://clinicaltrials.gov/show/NCT03269084</td>\n      <td>diabetes mellitus type 1</td>\n    </tr>\n    <tr>\n      <th>17</th>\n      <td>35</td>\n      <td>Clinical Centre of Serbia</td>\n      <td>Predicting Ventricular Tachyarrhythmias Follow...</td>\n      <td>Predict-VT is an investigator-initiated, prosp...</td>\n      <td>Belgrade</td>\n      <td>Risk Stratification</td>\n      <td>Serbia</td>\n      <td>Study design Predict-VT is an investigator-ini...</td>\n      <td>The study will include 600 patients with acute...</td>\n      <td>All</td>\n      <td>risk prediction</td>\n      <td>Infarction</td>\n      <td>Predicting Ventricular Tachyarrhythmias Follow...</td>\n      <td>Recruiting</td>\n      <td>Missing</td>\n      <td>Missing</td>\n      <td>https://clinicaltrials.gov/show/NCT03263949</td>\n      <td>infarction risk stratification prediction</td>\n    </tr>\n    <tr>\n      <th>18</th>\n      <td>36</td>\n      <td>Fred Hutchinson Cancer Research Center</td>\n      <td>MMF for HIV Reservoir Reduction</td>\n      <td>This is an open label, randomized Phase II stu...</td>\n      <td>Seattle</td>\n      <td>Human Immunodeficiency Virus I Infection</td>\n      <td>United States</td>\n      <td>This is an open-label, randomized pilot trial ...</td>\n      <td>Inclusion Criteria:  1. Confirmed HIV infectio...</td>\n      <td>All</td>\n      <td>HIV</td>\n      <td>Immunologic Deficiency Syndromes</td>\n      <td>Mycophenolate Mofetil Therapy for Reduction of...</td>\n      <td>Recruiting</td>\n      <td>Phase 2</td>\n      <td>Washington</td>\n      <td>https://clinicaltrials.gov/show/NCT03262441</td>\n      <td>immunologic deficiency syndromes human immunod...</td>\n    </tr>\n    <tr>\n      <th>19</th>\n      <td>38</td>\n      <td>Shanghai Changzheng Hospital</td>\n      <td>Efficacy and Safety of Nerve Root Axial Decomp...</td>\n      <td>Background: Tethered cord syndrome (TCS) is a ...</td>\n      <td>Shanghai</td>\n      <td>Tethered Cord Syndrome</td>\n      <td>China</td>\n      <td>Background: Tethered cord syndrome (TCS) is a ...</td>\n      <td>Inclusion Criteria:  1. patients aged 14-20 ye...</td>\n      <td>All</td>\n      <td>Missing</td>\n      <td>Syndrome</td>\n      <td>Efficacy and Safety of Nerve Root Axial Decomp...</td>\n      <td>Recruiting</td>\n      <td>Missing</td>\n      <td>Shanghai</td>\n      <td>https://clinicaltrials.gov/show/NCT03262844</td>\n      <td>syndrome tethered cord</td>\n    </tr>\n  </tbody>\n</table>\n</div>"
     },
     "metadata": {},
     "output_type": "execute_result",
     "execution_count": 16
    }
   ],
   "source": [
    "df.head(20)"
   ],
   "metadata": {
    "collapsed": false,
    "pycharm": {
     "name": "#%%\n",
     "is_executing": false
    }
   }
  },
  {
   "cell_type": "code",
   "execution_count": 17,
   "outputs": [],
   "source": [
    "df['lemmatized'] = df['lem_terms'].apply(lemmatize)"
   ],
   "metadata": {
    "collapsed": false,
    "pycharm": {
     "name": "#%%\n",
     "is_executing": false
    }
   }
  },
  {
   "cell_type": "code",
   "execution_count": 18,
   "outputs": [
    {
     "data": {
      "text/plain": "0                       arthritis rheumatoid anti - ccp\n1                            carcinoma clear cell renal\n2                 lung neoplasm non - small cell cancer\n3                       arthritis rheumatoid anti - ccp\n4                        pain , procedural pain neonate\n5                  retinal disease diabetic retinopathy\n6                                   kidney disease ldkt\n7                      glaucoma artificial intelligence\n8                   spinal cord injury neuropathic pain\n9     behavior , addictive behavior problem smartpho...\n10        tacrolimus kidney transplantation envarsus xr\n11                   miss advanced cancer immunotherapy\n12                                hemorrhage antepartum\n13             progesterone abortion in first trimester\n14                     brain neoplasm tumor tumor , mri\n15                   disease major depression stem cell\n16                             diabetes mellitus type 1\n17            infarction risk stratification prediction\n18    immunologic deficiency syndrome human immunode...\n19                               syndrome tethered cord\n20                         anemia , sickle cell disease\n21                   infarction st elevation myocardial\n22           carcinoma , non - small - cell lung cancer\n23        depression depression , postpartum prevention\n24                               hypertension pulmonary\n25                              neoplasm advanced e7386\n26                 osteoarthritis shoulder arthroplasty\n27                                cerebral palsy infant\n28    hypertension woman who give birth at dijon and...\n29                                       retinoblastoma\n30                             fistula datum collection\n31             compulsive personality disorder behavior\n32         pain , postoperative inguinal hernia inl-001\n33    respiratory aspiration surgery inhalation , in...\n34               misoprostol medical ; abortion , fetus\n35        pancreatitis pancreatitis , chronic pediatric\n36                                            dysphonia\n37    carcinoma , transitional cell carcinoma of the...\n38                 osteoarthritis shoulder arthroplasty\n39                                 acidosi renal tubule\n40                           hypertension hypersplenism\n41     hyperbilirubinemia hyperbilirubinemia , neonatal\n42              liver disease end stage disease frailty\n43               disease ankle injury and disorder foot\n44                           diarrhea outpatient clinic\n45                   disease major depression stem cell\n46    bupivacaine surgery to the distal one third of...\n47       coronary artery disease stent , des , inspiron\n48                                       hypoxia cancer\n49              kidney disease ileus ; mechanical ileus\nName: lemmatized, dtype: object"
     },
     "metadata": {},
     "output_type": "execute_result",
     "execution_count": 18
    }
   ],
   "source": [
    "df['lemmatized'].head(50)\n",
    "\n",
    "\n"
   ],
   "metadata": {
    "collapsed": false,
    "pycharm": {
     "name": "#%%\n",
     "is_executing": false
    }
   }
  }
 ],
 "metadata": {
  "language_info": {
   "codemirror_mode": {
    "name": "ipython",
    "version": 2
   },
   "file_extension": ".py",
   "mimetype": "text/x-python",
   "name": "python",
   "nbconvert_exporter": "python",
   "pygments_lexer": "ipython2",
   "version": "2.7.6"
  },
  "kernelspec": {
   "name": "python3",
   "language": "python",
   "display_name": "Python 3"
  },
  "pycharm": {
   "stem_cell": {
    "cell_type": "raw",
    "source": [],
    "metadata": {
     "collapsed": false
    }
   }
  }
 },
 "nbformat": 4,
 "nbformat_minor": 0
}