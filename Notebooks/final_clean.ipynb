{
 "cells": [
  {
   "cell_type": "code",
   "execution_count": 1,
   "metadata": {
    "collapsed": true,
    "pycharm": {
     "is_executing": false
    }
   },
   "outputs": [],
   "source": [
    "import pandas as pd\n",
    "import re"
   ]
  },
  {
   "cell_type": "code",
   "execution_count": 2,
   "outputs": [],
   "source": [
    "front = pd.read_csv('../frontend_dataset_final.csv')"
   ],
   "metadata": {
    "collapsed": false,
    "pycharm": {
     "name": "#%%\n",
     "is_executing": false
    }
   }
  },
  {
   "cell_type": "code",
   "execution_count": 6,
   "outputs": [
    {
     "data": {
      "text/plain": "(0, Unnamed: 0                                                              0\n agency                  Fraunhofer Institute for Molecular Biology and...\n brief_title             PREVALENCE OF Anti-CCP POSITIVITY AND SUBCLINI...\n brief_summary           Non-interventional, prospective, observational...\n city                                                    Frankfurt am Main\n condition                                            Rheumatoid Arthritis\n country                                                           Germany\n detailed_description    Studies of early arthritis cohorts have shown ...\n eligibility             population without pre-classified RA but new o...\n gender                                                                All\n keyword                                                          Anti-CCP\n mesh_term                                                       Arthritis\n official_title          PREVALENCE OF ANTI-CYCLIC CITRULLINATED PEPTID...\n overall_status                                                 Recruiting\n phase                                                             Missing\n state                                                              Hessia\n url                           https://clinicaltrials.gov/show/NCT03267147\n Name: 0, dtype: object)"
     },
     "metadata": {},
     "output_type": "execute_result",
     "execution_count": 6
    }
   ],
   "source": [
    "import json\n",
    "f = list(front.iterrows())[0]\n",
    "f"
   ],
   "metadata": {
    "collapsed": false,
    "pycharm": {
     "name": "#%%\n",
     "is_executing": false
    }
   }
  },
  {
   "cell_type": "code",
   "execution_count": 24,
   "outputs": [
    {
     "data": {
      "text/plain": "{'agency': 'Fraunhofer Institute for Molecular Biology and Applied Ecology',\n 'brief_title': 'PREVALENCE OF Anti-CCP POSITIVITY AND SUBCLINICAL SIGNS OF INFLAMMATION IN PATIENTS WITH NEW ONSET OF NON-SPECIFIC MUSCULOSKELETAL SYMPTOMS',\n 'brief_summary': 'Non-interventional, prospective, observational study to assess the relative risk of anti-CCP positive patients to develop (subclinical) signs of inflammation in accordance with early Rheumatoid Arthritis (RA) in a population without pre-classified RA but new1 onset of non-specific musculoskeletal (MSK) symptoms in general practices in Germany and subsequent 36 months follow-up by rheumatologists',\n 'city': 'Frankfurt am Main',\n 'condition': 'Rheumatoid Arthritis',\n 'country': 'Germany',\n 'detailed_description': 'Studies of early arthritis cohorts have shown that a large number of early arthritis patients cannot be accurately diagnosed at their first visit, and hence are often referred as undifferentiated arthritis patients. If patients are found to be anti-CCP(+) when referred to the clinician, however, more than 90 percent develop RA within 3 years - in contrast to only 30 percent of the anti-CCP(-) patients. The presence of anti-CCP antibodies in undifferentiated arthritis therefore accurately predicts development of RA. Anti-CCP antibodies are very specific for RA, and they are produced at significant level very early in disease. The specificity of anti-CCP antibodies for the diagnosis of RA is high (94.1-99.0 percent). Moreover, it has been reported that anti-CCP antibodies can be present many years before the first visit to the clinic (up to 18 years). Furthermore, the presence of anti-CCP antibodies at the first visit to the clinician predicts radiographic progression, as demonstrated by many studies that have shown a strong association of anti-CCP positivity with the development of bone erosions.Early diagnosis of RA coupled with rational use of disease-modifying anti-rheumatic drugs (DMARD) has been shown to have a favourable effect on the course of the disease. Early and accurate diagnosis has therefore become increasingly important. Implementing anti-CCP quick tests in general practices could facilitate an early detection of RA or the allocation to a high risk RA group. This, in turn, would guarantee an early referral of the patient to a rheumatologist and together with other clinical examinations can aid in the early diagnosis and treatment. As has been shown in many studies an early intervention is vital to preserve joint function and to improve patient care. In this study, we want to assess the relative risk for patients derived from GPs in Germany with new onset of non-specific MSK symptoms and anti-CCP test positivity to develop (subclinical) signs of inflammation in accordance with early RA. Those patients will be identified in general practices and will be tested for anti-CCP status. Anti-CCP positive patients will then be introduced to a rheumatologist to validate anti-CCP status and examine presence of clinical signs of early RA in addition to subclinical signs of MSK inflammation. Furthermore, to focus on the possibility of early detection of anti-CCP before the onset of clinically active arthritis, patients will be followed-up by a rheumatologist until detection of early RA or up to 36 months in total. Early RA will be examined using standard of care for signs of inflammation including clinical examination for swollen and tender joints. In addition, ultrasound will be performed to assess joint inflammation as well as fluorescence optical imaging technique (Xiralite®) to sensitively illustrate changes in microvascularisation as a marker of subclinical inflammation. In cases of RA diagnosis, the study ends with the date of diagnosis and patients will receive treatment according to local guidelines earlier and medical care will be continued in clinical routine care conditions outside of the study. Moreover, the cooperation status between GPs and rheumatologists will be evaluated using qualitative interviews. Feasibility of the diagnosis of early RA in at risk patients as well as the feasibility of the transferral of these patients from the general practice to the rheumatologist will be assessed. Training of GPs for detection of early RA will be improved. Overall, the hypothesis of the study is that patients with new onset of unspecific MSK-symptoms and who are positive for anti-CCP, which both are risk factors for developing RA, will be earlier introduced to and monitored by a rheumatologist for proper clinical examination and potential treatment when establishing RA, which in turn will not only improve patient care, disease outcomes and quality of life, but might also be cost effective.',\n 'eligibility': 'population without pre-classified RA but new onset of non-specific musculoskeletal (MSK)  symptoms Non-Probability Sample  Inclusion Criteria:  - New onset of non-specific MSK symptoms, including, but not limited to, arthralgia of  the hands and the large joints such as wrists, knees, and shoulders  - Written informed consent obtained prior to the initiation of any study  protocol-required procedures  - General understanding of study procedure and informed consent  - Age ≥ 18 and ≤ 65 years  Exclusion Criteria:  - RA diagnosed according to modified EULAR/ACR (american college of  rheumatology)-criteria  - known arthritis  - known reasons for MSK symptoms, e.g. mechanical, traumatic, etc.  - MSK symptoms previously reported at another (general) practice  - Alcohol, drug or chemical abuse  - Underage or incapable patients All 18 Years 65 Years No',\n 'gender': 'All',\n 'keyword': 'Anti-CCP',\n 'mesh_term': 'Arthritis',\n 'official_title': 'PREVALENCE OF ANTI-CYCLIC CITRULLINATED PEPTIDE (Anti-CCP) POSITIVITY AND SUBCLINICAL SIGNS OF INFLAMMATION IN PATIENTS WITH NEW ONSET OF NON-SPECIFIC MUSCULOSKELETAL SYMPTOMS POSSIBLY RELATED TO EARLY RHEUMATOID ARTHRITIS IN GENERAL PRACTICES IN GERMANY',\n 'overall_status': 'Recruiting',\n 'phase': 'Missing',\n 'state': 'Hessia',\n 'url': 'https://clinicaltrials.gov/show/NCT03267147'}"
     },
     "metadata": {},
     "output_type": "execute_result",
     "execution_count": 24
    }
   ],
   "source": [
    "j = {}\n",
    "for x in f[1:]:\n",
    "    for z, y in zip(x.index.values[1:], x.values[1:]):\n",
    "        j[z] = y\n",
    "j"
   ],
   "metadata": {
    "collapsed": false,
    "pycharm": {
     "name": "#%%\n",
     "is_executing": false
    }
   }
  },
  {
   "cell_type": "code",
   "execution_count": null,
   "outputs": [],
   "source": [
    "def replacement(string):\n",
    "    # replace single quotes with back tick.\n",
    "    new = re.sub(r'\\'', '`', string)\n",
    "    # replace percent symbol with text.\n",
    "    new = re.sub(r'%', ' percent', new)\n",
    "    return new"
   ],
   "metadata": {
    "collapsed": false,
    "pycharm": {
     "name": "#%%\n"
    }
   }
  },
  {
   "cell_type": "code",
   "execution_count": 4,
   "outputs": [],
   "source": [
    "front = front.fillna('Missing')\n"
   ],
   "metadata": {
    "collapsed": false,
    "pycharm": {
     "name": "#%%\n",
     "is_executing": false
    }
   }
  },
  {
   "cell_type": "code",
   "execution_count": 7,
   "outputs": [],
   "source": [
    "front = front.applymap(replacement)"
   ],
   "metadata": {
    "collapsed": false,
    "pycharm": {
     "name": "#%%\n",
     "is_executing": false
    }
   }
  },
  {
   "cell_type": "code",
   "execution_count": 8,
   "outputs": [],
   "source": [
    "front = front.reset_index(drop=True)"
   ],
   "metadata": {
    "collapsed": false,
    "pycharm": {
     "name": "#%%\n",
     "is_executing": false
    }
   }
  },
  {
   "cell_type": "code",
   "execution_count": 13,
   "outputs": [],
   "source": [
    "front.to_csv('../frontend_dataset_final.csv')"
   ],
   "metadata": {
    "collapsed": false,
    "pycharm": {
     "name": "#%%\n",
     "is_executing": false
    }
   }
  },
  {
   "cell_type": "code",
   "execution_count": 9,
   "outputs": [
    {
     "data": {
      "text/plain": "                                              agency  \\\n0  Fraunhofer Institute for Molecular Biology and...   \n1                           University of Washington   \n2            Icahn School of Medicine at Mount Sinai   \n3   CSPC ZhongQi Pharmaceutical Technology Co., Ltd.   \n4  Fraunhofer Institute for Molecular Biology and...   \n\n                                         brief_title  \\\n0  PREVALENCE OF Anti-CCP POSITIVITY AND SUBCLINI...   \n1  Aldesleukin and Pembrolizumab in Treating Pati...   \n2                    Maternal Loss of Control Eating   \n3  Nab-Paclitaxel Versus Paclitaxel Plus Carbopla...   \n4  PREVALENCE OF Anti-CCP POSITIVITY AND SUBCLINI...   \n\n                                       brief_summary               city  \\\n0  Non-interventional, prospective, observational...  Frankfurt am Main   \n1  This phase I trial studies the side effects an...            Seattle   \n2  This study focused on investigating the effect...           New York   \n3  This is a randomized, multicenter, open, contr...            Missing   \n4  Non-interventional, prospective, observational...  Frankfurt am Main   \n\n                         condition        country  \\\n0             Rheumatoid Arthritis        Germany   \n1  Clear Cell Renal Cell Carcinoma  United States   \n2                  Eating Disorder  United States   \n3       Non-small Cell Lung Cancer        Missing   \n4             Rheumatoid Arthritis        Germany   \n\n                                detailed_description  \\\n0  Studies of early arthritis cohorts have shown ...   \n1  PRIMARY OBJECTIVES: I. To evaluate the safety ...   \n2  Deidentified and anonymised data already colle...   \n3  Subjects will receive one of two treatment reg...   \n4  Studies of early arthritis cohorts have shown ...   \n\n                                         eligibility  gender   keyword  \\\n0  population without pre-classified RA but new o...     All  Anti-CCP   \n1  Inclusion Criteria:  - Be willing and able to ...     All   Missing   \n2  All pregnant women living in the geographical ...  Female    ALSPAC   \n3  Inclusion Criteria:  - Accepted the purpose of...     All   Missing   \n4  population without pre-classified RA but new o...     All  Anti-CCP   \n\n                      mesh_term  \\\n0                     Arthritis   \n1                     Carcinoma   \n2  Feeding and Eating Disorders   \n3                Lung Neoplasms   \n4                     Arthritis   \n\n                                      official_title      overall_status  \\\n0  PREVALENCE OF ANTI-CYCLIC CITRULLINATED PEPTID...          Recruiting   \n1  A Phase I Trial of Interleukin-2 (Aldesleukin)...          Recruiting   \n2  Maternal Loss of Control Eating: a Longitudina...           Completed   \n3  The Randomized,Open, Multicenter Phase III Stu...  Not yet recruiting   \n4  PREVALENCE OF ANTI-CYCLIC CITRULLINATED PEPTID...          Recruiting   \n\n     phase       state                                          url  \n0  Missing      Hessia  https://clinicaltrials.gov/show/NCT03267147  \n1  Phase 1  Washington  https://clinicaltrials.gov/show/NCT03260504  \n2  Missing    New York  https://clinicaltrials.gov/show/NCT03269253  \n3  Phase 3     Missing  https://clinicaltrials.gov/show/NCT03262948  \n4  Missing      Hessia  https://clinicaltrials.gov/show/NCT03267147  ",
      "text/html": "<div>\n<style scoped>\n    .dataframe tbody tr th:only-of-type {\n        vertical-align: middle;\n    }\n\n    .dataframe tbody tr th {\n        vertical-align: top;\n    }\n\n    .dataframe thead th {\n        text-align: right;\n    }\n</style>\n<table border=\"1\" class=\"dataframe\">\n  <thead>\n    <tr style=\"text-align: right;\">\n      <th></th>\n      <th>agency</th>\n      <th>brief_title</th>\n      <th>brief_summary</th>\n      <th>city</th>\n      <th>condition</th>\n      <th>country</th>\n      <th>detailed_description</th>\n      <th>eligibility</th>\n      <th>gender</th>\n      <th>keyword</th>\n      <th>mesh_term</th>\n      <th>official_title</th>\n      <th>overall_status</th>\n      <th>phase</th>\n      <th>state</th>\n      <th>url</th>\n    </tr>\n  </thead>\n  <tbody>\n    <tr>\n      <th>0</th>\n      <td>Fraunhofer Institute for Molecular Biology and...</td>\n      <td>PREVALENCE OF Anti-CCP POSITIVITY AND SUBCLINI...</td>\n      <td>Non-interventional, prospective, observational...</td>\n      <td>Frankfurt am Main</td>\n      <td>Rheumatoid Arthritis</td>\n      <td>Germany</td>\n      <td>Studies of early arthritis cohorts have shown ...</td>\n      <td>population without pre-classified RA but new o...</td>\n      <td>All</td>\n      <td>Anti-CCP</td>\n      <td>Arthritis</td>\n      <td>PREVALENCE OF ANTI-CYCLIC CITRULLINATED PEPTID...</td>\n      <td>Recruiting</td>\n      <td>Missing</td>\n      <td>Hessia</td>\n      <td>https://clinicaltrials.gov/show/NCT03267147</td>\n    </tr>\n    <tr>\n      <th>1</th>\n      <td>University of Washington</td>\n      <td>Aldesleukin and Pembrolizumab in Treating Pati...</td>\n      <td>This phase I trial studies the side effects an...</td>\n      <td>Seattle</td>\n      <td>Clear Cell Renal Cell Carcinoma</td>\n      <td>United States</td>\n      <td>PRIMARY OBJECTIVES: I. To evaluate the safety ...</td>\n      <td>Inclusion Criteria:  - Be willing and able to ...</td>\n      <td>All</td>\n      <td>Missing</td>\n      <td>Carcinoma</td>\n      <td>A Phase I Trial of Interleukin-2 (Aldesleukin)...</td>\n      <td>Recruiting</td>\n      <td>Phase 1</td>\n      <td>Washington</td>\n      <td>https://clinicaltrials.gov/show/NCT03260504</td>\n    </tr>\n    <tr>\n      <th>2</th>\n      <td>Icahn School of Medicine at Mount Sinai</td>\n      <td>Maternal Loss of Control Eating</td>\n      <td>This study focused on investigating the effect...</td>\n      <td>New York</td>\n      <td>Eating Disorder</td>\n      <td>United States</td>\n      <td>Deidentified and anonymised data already colle...</td>\n      <td>All pregnant women living in the geographical ...</td>\n      <td>Female</td>\n      <td>ALSPAC</td>\n      <td>Feeding and Eating Disorders</td>\n      <td>Maternal Loss of Control Eating: a Longitudina...</td>\n      <td>Completed</td>\n      <td>Missing</td>\n      <td>New York</td>\n      <td>https://clinicaltrials.gov/show/NCT03269253</td>\n    </tr>\n    <tr>\n      <th>3</th>\n      <td>CSPC ZhongQi Pharmaceutical Technology Co., Ltd.</td>\n      <td>Nab-Paclitaxel Versus Paclitaxel Plus Carbopla...</td>\n      <td>This is a randomized, multicenter, open, contr...</td>\n      <td>Missing</td>\n      <td>Non-small Cell Lung Cancer</td>\n      <td>Missing</td>\n      <td>Subjects will receive one of two treatment reg...</td>\n      <td>Inclusion Criteria:  - Accepted the purpose of...</td>\n      <td>All</td>\n      <td>Missing</td>\n      <td>Lung Neoplasms</td>\n      <td>The Randomized,Open, Multicenter Phase III Stu...</td>\n      <td>Not yet recruiting</td>\n      <td>Phase 3</td>\n      <td>Missing</td>\n      <td>https://clinicaltrials.gov/show/NCT03262948</td>\n    </tr>\n    <tr>\n      <th>4</th>\n      <td>Fraunhofer Institute for Molecular Biology and...</td>\n      <td>PREVALENCE OF Anti-CCP POSITIVITY AND SUBCLINI...</td>\n      <td>Non-interventional, prospective, observational...</td>\n      <td>Frankfurt am Main</td>\n      <td>Rheumatoid Arthritis</td>\n      <td>Germany</td>\n      <td>Studies of early arthritis cohorts have shown ...</td>\n      <td>population without pre-classified RA but new o...</td>\n      <td>All</td>\n      <td>Anti-CCP</td>\n      <td>Arthritis</td>\n      <td>PREVALENCE OF ANTI-CYCLIC CITRULLINATED PEPTID...</td>\n      <td>Recruiting</td>\n      <td>Missing</td>\n      <td>Hessia</td>\n      <td>https://clinicaltrials.gov/show/NCT03267147</td>\n    </tr>\n  </tbody>\n</table>\n</div>"
     },
     "metadata": {},
     "output_type": "execute_result",
     "execution_count": 9
    }
   ],
   "source": [
    "front.head()"
   ],
   "metadata": {
    "collapsed": false,
    "pycharm": {
     "name": "#%%\n",
     "is_executing": false
    }
   }
  },
  {
   "cell_type": "code",
   "execution_count": 11,
   "outputs": [],
   "source": [
    "def get_open_studies(df):\n",
    "    df = df[df['overall_status'].isin(['Recruiting',\n",
    "                                  'Expanded access available',\n",
    "                                  'Not yet recruiting',\n",
    "                                  'Available',\n",
    "                                  'Enrolling by invitation'])]\n",
    "\n",
    "    return df\n",
    "\n"
   ],
   "metadata": {
    "collapsed": false,
    "pycharm": {
     "name": "#%%\n",
     "is_executing": false
    }
   }
  },
  {
   "cell_type": "code",
   "execution_count": 12,
   "outputs": [],
   "source": [
    "front = get_open_studies(front)"
   ],
   "metadata": {
    "collapsed": false,
    "pycharm": {
     "name": "#%%\n",
     "is_executing": false
    }
   }
  },
  {
   "cell_type": "code",
   "execution_count": null,
   "outputs": [],
   "source": [
    "\n"
   ],
   "metadata": {
    "collapsed": false,
    "pycharm": {
     "name": "#%%\n"
    }
   }
  }
 ],
 "metadata": {
  "language_info": {
   "codemirror_mode": {
    "name": "ipython",
    "version": 2
   },
   "file_extension": ".py",
   "mimetype": "text/x-python",
   "name": "python",
   "nbconvert_exporter": "python",
   "pygments_lexer": "ipython2",
   "version": "2.7.6"
  },
  "kernelspec": {
   "name": "python3",
   "language": "python",
   "display_name": "Python 3"
  },
  "pycharm": {
   "stem_cell": {
    "cell_type": "raw",
    "source": [],
    "metadata": {
     "collapsed": false
    }
   }
  }
 },
 "nbformat": 4,
 "nbformat_minor": 0
}