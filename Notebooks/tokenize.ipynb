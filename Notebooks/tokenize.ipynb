{
 "cells": [
  {
   "cell_type": "code",
   "execution_count": 23,
   "outputs": [],
   "source": [
    "import pandas as pd\n",
    "import spacy\n",
    "import re\n",
    "from collections import OrderedDict"
   ],
   "metadata": {
    "collapsed": false,
    "pycharm": {
     "name": "#%%\n",
     "is_executing": false
    }
   }
  },
  {
   "cell_type": "code",
   "execution_count": 24,
   "outputs": [
    {
     "name": "stdout",
     "text": [
      "Requirement already satisfied: en_core_web_sm==2.1.0 from https://github.com/explosion/spacy-models/releases/download/en_core_web_sm-2.1.0/en_core_web_sm-2.1.0.tar.gz#egg=en_core_web_sm==2.1.0 in /Users/lambda_school_loaner_153/.conda/envs/flask_app/lib/python3.7/site-packages (2.1.0)\r\n",
      "\u001b[38;5;2m✔ Download and installation successful\u001b[0m\r\nYou can now load the model via spacy.load('en_core_web_sm')\r\n"
     ],
     "output_type": "stream"
    }
   ],
   "source": [
    "!python -m spacy download en_core_web_sm\n",
    "nlp = spacy.load(\"en_core_web_sm\")"
   ],
   "metadata": {
    "collapsed": false,
    "pycharm": {
     "name": "#%%\n",
     "is_executing": false
    }
   }
  },
  {
   "cell_type": "code",
   "execution_count": 25,
   "outputs": [],
   "source": [
    "df = pd.read_csv('../frontend_dataset_final.csv')"
   ],
   "metadata": {
    "collapsed": false,
    "pycharm": {
     "name": "#%%\n",
     "is_executing": false
    }
   }
  },
  {
   "cell_type": "code",
   "execution_count": 26,
   "outputs": [
    {
     "data": {
      "text/plain": "   Unnamed: 0                                             agency  \\\n0           0  Fraunhofer Institute for Molecular Biology and...   \n1           1                           University of Washington   \n2           3   CSPC ZhongQi Pharmaceutical Technology Co., Ltd.   \n3           4  Fraunhofer Institute for Molecular Biology and...   \n4           7                       Chang Gung Memorial Hospital   \n\n                                         brief_title  \\\n0  PREVALENCE OF Anti-CCP POSITIVITY AND SUBCLINI...   \n1  Aldesleukin and Pembrolizumab in Treating Pati...   \n2  Nab-Paclitaxel Versus Paclitaxel Plus Carbopla...   \n3  PREVALENCE OF Anti-CCP POSITIVITY AND SUBCLINI...   \n4  Analgesic Effect of Low Level Laser for Proced...   \n\n                                       brief_summary               city  \\\n0  Non-interventional, prospective, observational...  Frankfurt am Main   \n1  This phase I trial studies the side effects an...            Seattle   \n2  This is a randomized, multicenter, open, contr...            Missing   \n3  Non-interventional, prospective, observational...  Frankfurt am Main   \n4  Neonates undergo several painful procedures an...          Kaohsiung   \n\n                         condition        country  \\\n0             Rheumatoid Arthritis        Germany   \n1  Clear Cell Renal Cell Carcinoma  United States   \n2       Non-small Cell Lung Cancer        Missing   \n3             Rheumatoid Arthritis        Germany   \n4                  Procedural Pain         Taiwan   \n\n                                detailed_description  \\\n0  Studies of early arthritis cohorts have shown ...   \n1  PRIMARY OBJECTIVES: I. To evaluate the safety ...   \n2  Subjects will receive one of two treatment reg...   \n3  Studies of early arthritis cohorts have shown ...   \n4  This open-label, randomized controlled trial i...   \n\n                                         eligibility gender   keyword  \\\n0  population without pre-classified RA but new o...    All  Anti-CCP   \n1  Inclusion Criteria:  - Be willing and able to ...    All   Missing   \n2  Inclusion Criteria:  - Accepted the purpose of...    All   Missing   \n3  population without pre-classified RA but new o...    All  Anti-CCP   \n4  Inclusion Criteria:  - healthy fullterm neonat...    All  neonates   \n\n          mesh_term                                     official_title  \\\n0         Arthritis  PREVALENCE OF ANTI-CYCLIC CITRULLINATED PEPTID...   \n1         Carcinoma  A Phase I Trial of Interleukin-2 (Aldesleukin)...   \n2    Lung Neoplasms  The Randomized,Open, Multicenter Phase III Stu...   \n3         Arthritis  PREVALENCE OF ANTI-CYCLIC CITRULLINATED PEPTID...   \n4  Pain, Procedural  Analgesic Effect of Low Level Laser for Proced...   \n\n       overall_status    phase       state  \\\n0          Recruiting  Missing      Hessia   \n1          Recruiting  Phase 1  Washington   \n2  Not yet recruiting  Phase 3     Missing   \n3          Recruiting  Missing      Hessia   \n4          Recruiting  Missing     Missing   \n\n                                           url  \n0  https://clinicaltrials.gov/show/NCT03267147  \n1  https://clinicaltrials.gov/show/NCT03260504  \n2  https://clinicaltrials.gov/show/NCT03262948  \n3  https://clinicaltrials.gov/show/NCT03267147  \n4  https://clinicaltrials.gov/show/NCT03268148  ",
      "text/html": "<div>\n<style scoped>\n    .dataframe tbody tr th:only-of-type {\n        vertical-align: middle;\n    }\n\n    .dataframe tbody tr th {\n        vertical-align: top;\n    }\n\n    .dataframe thead th {\n        text-align: right;\n    }\n</style>\n<table border=\"1\" class=\"dataframe\">\n  <thead>\n    <tr style=\"text-align: right;\">\n      <th></th>\n      <th>Unnamed: 0</th>\n      <th>agency</th>\n      <th>brief_title</th>\n      <th>brief_summary</th>\n      <th>city</th>\n      <th>condition</th>\n      <th>country</th>\n      <th>detailed_description</th>\n      <th>eligibility</th>\n      <th>gender</th>\n      <th>keyword</th>\n      <th>mesh_term</th>\n      <th>official_title</th>\n      <th>overall_status</th>\n      <th>phase</th>\n      <th>state</th>\n      <th>url</th>\n    </tr>\n  </thead>\n  <tbody>\n    <tr>\n      <th>0</th>\n      <td>0</td>\n      <td>Fraunhofer Institute for Molecular Biology and...</td>\n      <td>PREVALENCE OF Anti-CCP POSITIVITY AND SUBCLINI...</td>\n      <td>Non-interventional, prospective, observational...</td>\n      <td>Frankfurt am Main</td>\n      <td>Rheumatoid Arthritis</td>\n      <td>Germany</td>\n      <td>Studies of early arthritis cohorts have shown ...</td>\n      <td>population without pre-classified RA but new o...</td>\n      <td>All</td>\n      <td>Anti-CCP</td>\n      <td>Arthritis</td>\n      <td>PREVALENCE OF ANTI-CYCLIC CITRULLINATED PEPTID...</td>\n      <td>Recruiting</td>\n      <td>Missing</td>\n      <td>Hessia</td>\n      <td>https://clinicaltrials.gov/show/NCT03267147</td>\n    </tr>\n    <tr>\n      <th>1</th>\n      <td>1</td>\n      <td>University of Washington</td>\n      <td>Aldesleukin and Pembrolizumab in Treating Pati...</td>\n      <td>This phase I trial studies the side effects an...</td>\n      <td>Seattle</td>\n      <td>Clear Cell Renal Cell Carcinoma</td>\n      <td>United States</td>\n      <td>PRIMARY OBJECTIVES: I. To evaluate the safety ...</td>\n      <td>Inclusion Criteria:  - Be willing and able to ...</td>\n      <td>All</td>\n      <td>Missing</td>\n      <td>Carcinoma</td>\n      <td>A Phase I Trial of Interleukin-2 (Aldesleukin)...</td>\n      <td>Recruiting</td>\n      <td>Phase 1</td>\n      <td>Washington</td>\n      <td>https://clinicaltrials.gov/show/NCT03260504</td>\n    </tr>\n    <tr>\n      <th>2</th>\n      <td>3</td>\n      <td>CSPC ZhongQi Pharmaceutical Technology Co., Ltd.</td>\n      <td>Nab-Paclitaxel Versus Paclitaxel Plus Carbopla...</td>\n      <td>This is a randomized, multicenter, open, contr...</td>\n      <td>Missing</td>\n      <td>Non-small Cell Lung Cancer</td>\n      <td>Missing</td>\n      <td>Subjects will receive one of two treatment reg...</td>\n      <td>Inclusion Criteria:  - Accepted the purpose of...</td>\n      <td>All</td>\n      <td>Missing</td>\n      <td>Lung Neoplasms</td>\n      <td>The Randomized,Open, Multicenter Phase III Stu...</td>\n      <td>Not yet recruiting</td>\n      <td>Phase 3</td>\n      <td>Missing</td>\n      <td>https://clinicaltrials.gov/show/NCT03262948</td>\n    </tr>\n    <tr>\n      <th>3</th>\n      <td>4</td>\n      <td>Fraunhofer Institute for Molecular Biology and...</td>\n      <td>PREVALENCE OF Anti-CCP POSITIVITY AND SUBCLINI...</td>\n      <td>Non-interventional, prospective, observational...</td>\n      <td>Frankfurt am Main</td>\n      <td>Rheumatoid Arthritis</td>\n      <td>Germany</td>\n      <td>Studies of early arthritis cohorts have shown ...</td>\n      <td>population without pre-classified RA but new o...</td>\n      <td>All</td>\n      <td>Anti-CCP</td>\n      <td>Arthritis</td>\n      <td>PREVALENCE OF ANTI-CYCLIC CITRULLINATED PEPTID...</td>\n      <td>Recruiting</td>\n      <td>Missing</td>\n      <td>Hessia</td>\n      <td>https://clinicaltrials.gov/show/NCT03267147</td>\n    </tr>\n    <tr>\n      <th>4</th>\n      <td>7</td>\n      <td>Chang Gung Memorial Hospital</td>\n      <td>Analgesic Effect of Low Level Laser for Proced...</td>\n      <td>Neonates undergo several painful procedures an...</td>\n      <td>Kaohsiung</td>\n      <td>Procedural Pain</td>\n      <td>Taiwan</td>\n      <td>This open-label, randomized controlled trial i...</td>\n      <td>Inclusion Criteria:  - healthy fullterm neonat...</td>\n      <td>All</td>\n      <td>neonates</td>\n      <td>Pain, Procedural</td>\n      <td>Analgesic Effect of Low Level Laser for Proced...</td>\n      <td>Recruiting</td>\n      <td>Missing</td>\n      <td>Missing</td>\n      <td>https://clinicaltrials.gov/show/NCT03268148</td>\n    </tr>\n  </tbody>\n</table>\n</div>"
     },
     "metadata": {},
     "output_type": "execute_result",
     "execution_count": 26
    }
   ],
   "source": [
    "df.head()"
   ],
   "metadata": {
    "collapsed": false,
    "pycharm": {
     "name": "#%%\n",
     "is_executing": false
    }
   }
  },
  {
   "cell_type": "code",
   "execution_count": 27,
   "outputs": [],
   "source": [
    "df['search_terms'] = df['mesh_term'].str.lower() + ' ' + df['condition'].str.lower() + ' ' + df['keyword'].str.lower()"
   ],
   "metadata": {
    "collapsed": false,
    "pycharm": {
     "name": "#%%\n",
     "is_executing": false
    }
   }
  },
  {
   "cell_type": "code",
   "execution_count": 28,
   "outputs": [],
   "source": [
    "def set_o_strings(strings):\n",
    "    new = OrderedDict()\n",
    "    for string in strings.split():\n",
    "        new[string] = ''\n",
    "    return u\" \".join(new.keys())"
   ],
   "metadata": {
    "collapsed": false,
    "pycharm": {
     "name": "#%%\n",
     "is_executing": false
    }
   }
  },
  {
   "cell_type": "code",
   "execution_count": 29,
   "outputs": [],
   "source": [
    "def replace_missing(string):\n",
    "    new = re.sub(' missing', '', string)\n",
    "    return u\"{}\".format(new)"
   ],
   "metadata": {
    "collapsed": false,
    "pycharm": {
     "name": "#%%\n",
     "is_executing": false
    }
   }
  },
  {
   "cell_type": "code",
   "execution_count": 30,
   "outputs": [],
   "source": [
    "df['search_terms'] = df['search_terms'].apply(replace_missing)\n",
    "df['search_terms'] = df['search_terms'].apply(set_o_strings)"
   ],
   "metadata": {
    "collapsed": false,
    "pycharm": {
     "name": "#%%\n",
     "is_executing": false
    }
   }
  },
  {
   "cell_type": "code",
   "execution_count": 31,
   "outputs": [
    {
     "data": {
      "text/plain": "0                         arthritis rheumatoid anti-ccp\n1                            carcinoma clear cell renal\n2                  lung neoplasms non-small cell cancer\n3                         arthritis rheumatoid anti-ccp\n4                        pain, procedural pain neonates\n5                 retinal diseases diabetic retinopathy\n6                                  kidney diseases ldkt\n7                      glaucoma artificial intelligence\n8                 spinal cord injuries neuropathic pain\n9     behavior, addictive behavior problem smartphon...\n10        tacrolimus kidney transplantation envarsus xr\n11                missing advanced cancer immunotherapy\n12                                hemorrhage antepartum\n13             progesterone abortion in first trimester\n14                     brain neoplasms tumor tumor, mri\n15                  disease major depression stem cells\n16                             diabetes mellitus type 1\n17            infarction risk stratification prediction\n18    immunologic deficiency syndromes human immunod...\n19                               syndrome tethered cord\nName: search_terms, dtype: object"
     },
     "metadata": {},
     "output_type": "execute_result",
     "execution_count": 31
    }
   ],
   "source": [
    "df['search_terms'].head(20)"
   ],
   "metadata": {
    "collapsed": false,
    "pycharm": {
     "name": "#%%\n",
     "is_executing": false
    }
   }
  },
  {
   "cell_type": "code",
   "execution_count": 32,
   "outputs": [],
   "source": [
    "df['keyword_tokens'] = df['search_terms'].apply(lambda x: nlp.tokenizer(x))"
   ],
   "metadata": {
    "collapsed": false,
    "pycharm": {
     "name": "#%%\n",
     "is_executing": false
    }
   }
  },
  {
   "cell_type": "code",
   "execution_count": 33,
   "outputs": [
    {
     "data": {
      "text/plain": "0                 (arthritis, rheumatoid, anti, -, ccp)\n1                       (carcinoma, clear, cell, renal)\n2        (lung, neoplasms, non, -, small, cell, cancer)\n3                 (arthritis, rheumatoid, anti, -, ccp)\n4                 (pain, ,, procedural, pain, neonates)\n5            (retinal, diseases, diabetic, retinopathy)\n6                              (kidney, diseases, ldkt)\n7                  (glaucoma, artificial, intelligence)\n8           (spinal, cord, injuries, neuropathic, pain)\n9     (behavior, ,, addictive, behavior, problem, sm...\n10    (tacrolimus, kidney, transplantation, envarsus...\n11           (missing, advanced, cancer, immunotherapy)\n12                             (hemorrhage, antepartum)\n13       (progesterone, abortion, in, first, trimester)\n14             (brain, neoplasms, tumor, tumor, ,, mri)\n15            (disease, major, depression, stem, cells)\n16                        (diabetes, mellitus, type, 1)\n17       (infarction, risk, stratification, prediction)\n18    (immunologic, deficiency, syndromes, human, im...\n19                           (syndrome, tethered, cord)\n20                   (anemia, ,, sickle, cell, disease)\n21              (infarction, st, elevation, myocardial)\n22    (carcinoma, ,, non, -, small, -, cell, lung, c...\n23    (depression, depression, ,, postpartum, preven...\n24                            (hypertension, pulmonary)\n25                         (neoplasms, advanced, e7386)\n26             (osteoarthritis, shoulder, arthroplasty)\n27                            (cerebral, palsy, infant)\n28    (hypertension, women, who, gave, birth, at, di...\n29                                     (retinoblastoma)\n30                          (fistula, data, collection)\n31        (compulsive, personality, disorder, behavior)\n32    (pain, ,, postoperative, inguinal, hernia, inl...\n33    (respiratory, aspiration, surgery, inhalation,...\n34        (misoprostol, medical, ;, abortion, ,, fetus)\n35    (pancreatitis, pancreatitis, ,, chronic, pedia...\n36                                          (dysphonia)\n37    (carcinoma, ,, transitional, cell, carcinoma, ...\n38             (osteoarthritis, shoulder, arthroplasty)\n39                            (acidosis, renal, tubule)\n40                        (hypertension, hypersplenism)\n41    (hyperbilirubinemia, hyperbilirubinemia, ,, ne...\n42      (liver, diseases, end, stage, disease, frailty)\n43     (disease, ankle, injuries, and, disorders, foot)\n44                      (diarrhea, outpatient, clinics)\n45            (disease, major, depression, stem, cells)\n46    (bupivacaine, surgery, to, the, distal, one, t...\n47    (coronary, artery, disease, stent, ,, des, ,, ...\n48                                    (hypoxia, cancer)\n49      (kidney, diseases, ileus, ;, mechanical, ileus)\nName: keyword_tokens, dtype: object"
     },
     "metadata": {},
     "output_type": "execute_result",
     "execution_count": 33
    }
   ],
   "source": [
    "df['keyword_tokens'].head(50)"
   ],
   "metadata": {
    "collapsed": false,
    "pycharm": {
     "name": "#%%\n",
     "is_executing": false
    }
   }
  },
  {
   "cell_type": "code",
   "execution_count": 33,
   "outputs": [],
   "source": [
    "\n"
   ],
   "metadata": {
    "collapsed": false,
    "pycharm": {
     "name": "#%%\n",
     "is_executing": false
    }
   }
  }
 ],
 "metadata": {
  "kernelspec": {
   "name": "python3",
   "language": "python",
   "display_name": "Python 3"
  },
  "pycharm": {
   "stem_cell": {
    "cell_type": "raw",
    "source": [],
    "metadata": {
     "collapsed": false
    }
   }
  }
 },
 "nbformat": 4,
 "nbformat_minor": 2
}