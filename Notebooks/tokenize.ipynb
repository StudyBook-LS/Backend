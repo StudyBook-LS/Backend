{
 "cells": [
  {
   "cell_type": "markdown",
   "metadata": {},
   "source": [
    "## Goals of Notebook"
   ]
  },
  {
   "cell_type": "markdown",
   "metadata": {},
   "source": [
    "* Combine relevant text columns into new column entitled \"search_terms\"\n",
    "* Tokenize search terms so they can later be ranked in our search engine"
   ]
  },
  {
   "cell_type": "code",
   "execution_count": 23,
   "metadata": {
    "pycharm": {
     "is_executing": false,
     "name": "#%%\n"
    }
   },
   "outputs": [],
   "source": [
    "import pandas as pd\n",
    "import spacy\n",
    "import re\n",
    "from collections import OrderedDict"
   ]
  },
  {
   "cell_type": "code",
   "execution_count": 24,
   "metadata": {
    "pycharm": {
     "is_executing": false,
     "name": "#%%\n"
    }
   },
   "outputs": [
    {
     "name": "stdout",
     "output_type": "stream",
     "text": [
      "Requirement already satisfied: en_core_web_sm==2.1.0 from https://github.com/explosion/spacy-models/releases/download/en_core_web_sm-2.1.0/en_core_web_sm-2.1.0.tar.gz#egg=en_core_web_sm==2.1.0 in /Users/lambda_school_loaner_153/.conda/envs/flask_app/lib/python3.7/site-packages (2.1.0)\r\n",
      "\u001b[38;5;2m✔ Download and installation successful\u001b[0m\r\n",
      "You can now load the model via spacy.load('en_core_web_sm')\r\n"
     ]
    }
   ],
   "source": [
    "\n",
    "!python -m spacy download en_core_web_sm\n",
    "nlp = spacy.load(\"en_core_web_sm\")"
   ]
  },
  {
   "cell_type": "code",
   "execution_count": 25,
   "metadata": {
    "pycharm": {
     "is_executing": false,
     "name": "#%%\n"
    }
   },
   "outputs": [],
   "source": [
    "# Import cleaned csv\n",
    "df = pd.read_csv('../clinical_trial.csv')"
   ]
  },
  {
   "cell_type": "code",
   "execution_count": 26,
   "metadata": {
    "pycharm": {
     "is_executing": false,
     "name": "#%%\n"
    }
   },
   "outputs": [
    {
     "data": {
      "text/html": [
       "<div>\n",
       "<style scoped>\n",
       "    .dataframe tbody tr th:only-of-type {\n",
       "        vertical-align: middle;\n",
       "    }\n",
       "\n",
       "    .dataframe tbody tr th {\n",
       "        vertical-align: top;\n",
       "    }\n",
       "\n",
       "    .dataframe thead th {\n",
       "        text-align: right;\n",
       "    }\n",
       "</style>\n",
       "<table border=\"1\" class=\"dataframe\">\n",
       "  <thead>\n",
       "    <tr style=\"text-align: right;\">\n",
       "      <th></th>\n",
       "      <th>Unnamed: 0</th>\n",
       "      <th>agency</th>\n",
       "      <th>brief_title</th>\n",
       "      <th>brief_summary</th>\n",
       "      <th>city</th>\n",
       "      <th>condition</th>\n",
       "      <th>country</th>\n",
       "      <th>detailed_description</th>\n",
       "      <th>eligibility</th>\n",
       "      <th>gender</th>\n",
       "      <th>keyword</th>\n",
       "      <th>mesh_term</th>\n",
       "      <th>official_title</th>\n",
       "      <th>overall_status</th>\n",
       "      <th>phase</th>\n",
       "      <th>state</th>\n",
       "      <th>url</th>\n",
       "    </tr>\n",
       "  </thead>\n",
       "  <tbody>\n",
       "    <tr>\n",
       "      <th>0</th>\n",
       "      <td>0</td>\n",
       "      <td>Fraunhofer Institute for Molecular Biology and...</td>\n",
       "      <td>PREVALENCE OF Anti-CCP POSITIVITY AND SUBCLINI...</td>\n",
       "      <td>Non-interventional, prospective, observational...</td>\n",
       "      <td>Frankfurt am Main</td>\n",
       "      <td>Rheumatoid Arthritis</td>\n",
       "      <td>Germany</td>\n",
       "      <td>Studies of early arthritis cohorts have shown ...</td>\n",
       "      <td>population without pre-classified RA but new o...</td>\n",
       "      <td>All</td>\n",
       "      <td>Anti-CCP</td>\n",
       "      <td>Arthritis</td>\n",
       "      <td>PREVALENCE OF ANTI-CYCLIC CITRULLINATED PEPTID...</td>\n",
       "      <td>Recruiting</td>\n",
       "      <td>Missing</td>\n",
       "      <td>Hessia</td>\n",
       "      <td>https://clinicaltrials.gov/show/NCT03267147</td>\n",
       "    </tr>\n",
       "    <tr>\n",
       "      <th>1</th>\n",
       "      <td>1</td>\n",
       "      <td>University of Washington</td>\n",
       "      <td>Aldesleukin and Pembrolizumab in Treating Pati...</td>\n",
       "      <td>This phase I trial studies the side effects an...</td>\n",
       "      <td>Seattle</td>\n",
       "      <td>Clear Cell Renal Cell Carcinoma</td>\n",
       "      <td>United States</td>\n",
       "      <td>PRIMARY OBJECTIVES: I. To evaluate the safety ...</td>\n",
       "      <td>Inclusion Criteria:  - Be willing and able to ...</td>\n",
       "      <td>All</td>\n",
       "      <td>Missing</td>\n",
       "      <td>Carcinoma</td>\n",
       "      <td>A Phase I Trial of Interleukin-2 (Aldesleukin)...</td>\n",
       "      <td>Recruiting</td>\n",
       "      <td>Phase 1</td>\n",
       "      <td>Washington</td>\n",
       "      <td>https://clinicaltrials.gov/show/NCT03260504</td>\n",
       "    </tr>\n",
       "    <tr>\n",
       "      <th>2</th>\n",
       "      <td>3</td>\n",
       "      <td>CSPC ZhongQi Pharmaceutical Technology Co., Ltd.</td>\n",
       "      <td>Nab-Paclitaxel Versus Paclitaxel Plus Carbopla...</td>\n",
       "      <td>This is a randomized, multicenter, open, contr...</td>\n",
       "      <td>Missing</td>\n",
       "      <td>Non-small Cell Lung Cancer</td>\n",
       "      <td>Missing</td>\n",
       "      <td>Subjects will receive one of two treatment reg...</td>\n",
       "      <td>Inclusion Criteria:  - Accepted the purpose of...</td>\n",
       "      <td>All</td>\n",
       "      <td>Missing</td>\n",
       "      <td>Lung Neoplasms</td>\n",
       "      <td>The Randomized,Open, Multicenter Phase III Stu...</td>\n",
       "      <td>Not yet recruiting</td>\n",
       "      <td>Phase 3</td>\n",
       "      <td>Missing</td>\n",
       "      <td>https://clinicaltrials.gov/show/NCT03262948</td>\n",
       "    </tr>\n",
       "    <tr>\n",
       "      <th>3</th>\n",
       "      <td>4</td>\n",
       "      <td>Fraunhofer Institute for Molecular Biology and...</td>\n",
       "      <td>PREVALENCE OF Anti-CCP POSITIVITY AND SUBCLINI...</td>\n",
       "      <td>Non-interventional, prospective, observational...</td>\n",
       "      <td>Frankfurt am Main</td>\n",
       "      <td>Rheumatoid Arthritis</td>\n",
       "      <td>Germany</td>\n",
       "      <td>Studies of early arthritis cohorts have shown ...</td>\n",
       "      <td>population without pre-classified RA but new o...</td>\n",
       "      <td>All</td>\n",
       "      <td>Anti-CCP</td>\n",
       "      <td>Arthritis</td>\n",
       "      <td>PREVALENCE OF ANTI-CYCLIC CITRULLINATED PEPTID...</td>\n",
       "      <td>Recruiting</td>\n",
       "      <td>Missing</td>\n",
       "      <td>Hessia</td>\n",
       "      <td>https://clinicaltrials.gov/show/NCT03267147</td>\n",
       "    </tr>\n",
       "    <tr>\n",
       "      <th>4</th>\n",
       "      <td>7</td>\n",
       "      <td>Chang Gung Memorial Hospital</td>\n",
       "      <td>Analgesic Effect of Low Level Laser for Proced...</td>\n",
       "      <td>Neonates undergo several painful procedures an...</td>\n",
       "      <td>Kaohsiung</td>\n",
       "      <td>Procedural Pain</td>\n",
       "      <td>Taiwan</td>\n",
       "      <td>This open-label, randomized controlled trial i...</td>\n",
       "      <td>Inclusion Criteria:  - healthy fullterm neonat...</td>\n",
       "      <td>All</td>\n",
       "      <td>neonates</td>\n",
       "      <td>Pain, Procedural</td>\n",
       "      <td>Analgesic Effect of Low Level Laser for Proced...</td>\n",
       "      <td>Recruiting</td>\n",
       "      <td>Missing</td>\n",
       "      <td>Missing</td>\n",
       "      <td>https://clinicaltrials.gov/show/NCT03268148</td>\n",
       "    </tr>\n",
       "  </tbody>\n",
       "</table>\n",
       "</div>"
      ],
      "text/plain": [
       "   Unnamed: 0                                             agency  \\\n",
       "0           0  Fraunhofer Institute for Molecular Biology and...   \n",
       "1           1                           University of Washington   \n",
       "2           3   CSPC ZhongQi Pharmaceutical Technology Co., Ltd.   \n",
       "3           4  Fraunhofer Institute for Molecular Biology and...   \n",
       "4           7                       Chang Gung Memorial Hospital   \n",
       "\n",
       "                                         brief_title  \\\n",
       "0  PREVALENCE OF Anti-CCP POSITIVITY AND SUBCLINI...   \n",
       "1  Aldesleukin and Pembrolizumab in Treating Pati...   \n",
       "2  Nab-Paclitaxel Versus Paclitaxel Plus Carbopla...   \n",
       "3  PREVALENCE OF Anti-CCP POSITIVITY AND SUBCLINI...   \n",
       "4  Analgesic Effect of Low Level Laser for Proced...   \n",
       "\n",
       "                                       brief_summary               city  \\\n",
       "0  Non-interventional, prospective, observational...  Frankfurt am Main   \n",
       "1  This phase I trial studies the side effects an...            Seattle   \n",
       "2  This is a randomized, multicenter, open, contr...            Missing   \n",
       "3  Non-interventional, prospective, observational...  Frankfurt am Main   \n",
       "4  Neonates undergo several painful procedures an...          Kaohsiung   \n",
       "\n",
       "                         condition        country  \\\n",
       "0             Rheumatoid Arthritis        Germany   \n",
       "1  Clear Cell Renal Cell Carcinoma  United States   \n",
       "2       Non-small Cell Lung Cancer        Missing   \n",
       "3             Rheumatoid Arthritis        Germany   \n",
       "4                  Procedural Pain         Taiwan   \n",
       "\n",
       "                                detailed_description  \\\n",
       "0  Studies of early arthritis cohorts have shown ...   \n",
       "1  PRIMARY OBJECTIVES: I. To evaluate the safety ...   \n",
       "2  Subjects will receive one of two treatment reg...   \n",
       "3  Studies of early arthritis cohorts have shown ...   \n",
       "4  This open-label, randomized controlled trial i...   \n",
       "\n",
       "                                         eligibility gender   keyword  \\\n",
       "0  population without pre-classified RA but new o...    All  Anti-CCP   \n",
       "1  Inclusion Criteria:  - Be willing and able to ...    All   Missing   \n",
       "2  Inclusion Criteria:  - Accepted the purpose of...    All   Missing   \n",
       "3  population without pre-classified RA but new o...    All  Anti-CCP   \n",
       "4  Inclusion Criteria:  - healthy fullterm neonat...    All  neonates   \n",
       "\n",
       "          mesh_term                                     official_title  \\\n",
       "0         Arthritis  PREVALENCE OF ANTI-CYCLIC CITRULLINATED PEPTID...   \n",
       "1         Carcinoma  A Phase I Trial of Interleukin-2 (Aldesleukin)...   \n",
       "2    Lung Neoplasms  The Randomized,Open, Multicenter Phase III Stu...   \n",
       "3         Arthritis  PREVALENCE OF ANTI-CYCLIC CITRULLINATED PEPTID...   \n",
       "4  Pain, Procedural  Analgesic Effect of Low Level Laser for Proced...   \n",
       "\n",
       "       overall_status    phase       state  \\\n",
       "0          Recruiting  Missing      Hessia   \n",
       "1          Recruiting  Phase 1  Washington   \n",
       "2  Not yet recruiting  Phase 3     Missing   \n",
       "3          Recruiting  Missing      Hessia   \n",
       "4          Recruiting  Missing     Missing   \n",
       "\n",
       "                                           url  \n",
       "0  https://clinicaltrials.gov/show/NCT03267147  \n",
       "1  https://clinicaltrials.gov/show/NCT03260504  \n",
       "2  https://clinicaltrials.gov/show/NCT03262948  \n",
       "3  https://clinicaltrials.gov/show/NCT03267147  \n",
       "4  https://clinicaltrials.gov/show/NCT03268148  "
      ]
     },
     "execution_count": 26,
     "metadata": {},
     "output_type": "execute_result"
    }
   ],
   "source": [
    "df.head()"
   ]
  },
  {
   "cell_type": "code",
   "execution_count": 27,
   "metadata": {
    "pycharm": {
     "is_executing": false,
     "name": "#%%\n"
    }
   },
   "outputs": [],
   "source": [
    "# Create search_terms column containing relevant text columns \n",
    "df['search_terms'] = df['mesh_term'].str.lower() + ' ' + df['condition'].str.lower() + ' ' + df['keyword'].str.lower()"
   ]
  },
  {
   "cell_type": "markdown",
   "metadata": {},
   "source": [
    "### Functions"
   ]
  },
  {
   "cell_type": "code",
   "execution_count": 28,
   "metadata": {
    "pycharm": {
     "is_executing": false,
     "name": "#%%\n"
    }
   },
   "outputs": [],
   "source": [
    "# Remove duplicate words from string\n",
    "def set_o_strings(strings):\n",
    "    new = OrderedDict()\n",
    "    for string in strings.split():\n",
    "        new[string] = ''\n",
    "    return u\" \".join(new.keys())"
   ]
  },
  {
   "cell_type": "code",
   "execution_count": 29,
   "metadata": {
    "pycharm": {
     "is_executing": false,
     "name": "#%%\n"
    }
   },
   "outputs": [],
   "source": [
    "# Remove missing from search terms, replace with blank space\n",
    "def replace_missing(string):\n",
    "    new = re.sub(' missing', '', string)\n",
    "    return u\"{}\".format(new)"
   ]
  },
  {
   "cell_type": "code",
   "execution_count": 30,
   "metadata": {
    "pycharm": {
     "is_executing": false,
     "name": "#%%\n"
    }
   },
   "outputs": [],
   "source": [
    "# Apply above functions to search terms\n",
    "df['search_terms'] = df['search_terms'].apply(replace_missing)\n",
    "df['search_terms'] = df['search_terms'].apply(set_o_strings)"
   ]
  },
  {
   "cell_type": "code",
   "execution_count": 31,
   "metadata": {
    "pycharm": {
     "is_executing": false,
     "name": "#%%\n"
    }
   },
   "outputs": [
    {
     "data": {
      "text/plain": [
       "0                         arthritis rheumatoid anti-ccp\n",
       "1                            carcinoma clear cell renal\n",
       "2                  lung neoplasms non-small cell cancer\n",
       "3                         arthritis rheumatoid anti-ccp\n",
       "4                        pain, procedural pain neonates\n",
       "5                 retinal diseases diabetic retinopathy\n",
       "6                                  kidney diseases ldkt\n",
       "7                      glaucoma artificial intelligence\n",
       "8                 spinal cord injuries neuropathic pain\n",
       "9     behavior, addictive behavior problem smartphon...\n",
       "10        tacrolimus kidney transplantation envarsus xr\n",
       "11                missing advanced cancer immunotherapy\n",
       "12                                hemorrhage antepartum\n",
       "13             progesterone abortion in first trimester\n",
       "14                     brain neoplasms tumor tumor, mri\n",
       "15                  disease major depression stem cells\n",
       "16                             diabetes mellitus type 1\n",
       "17            infarction risk stratification prediction\n",
       "18    immunologic deficiency syndromes human immunod...\n",
       "19                               syndrome tethered cord\n",
       "Name: search_terms, dtype: object"
      ]
     },
     "execution_count": 31,
     "metadata": {},
     "output_type": "execute_result"
    }
   ],
   "source": [
    "df['search_terms'].head(20)"
   ]
  },
  {
   "cell_type": "code",
   "execution_count": 32,
   "metadata": {
    "pycharm": {
     "is_executing": false,
     "name": "#%%\n"
    }
   },
   "outputs": [],
   "source": [
    "# Tokenize search terms\n",
    "df['keyword_tokens'] = df['search_terms'].apply(lambda x: nlp.tokenizer(x))"
   ]
  },
  {
   "cell_type": "code",
   "execution_count": 33,
   "metadata": {
    "pycharm": {
     "is_executing": false,
     "name": "#%%\n"
    }
   },
   "outputs": [
    {
     "data": {
      "text/plain": [
       "0                 (arthritis, rheumatoid, anti, -, ccp)\n",
       "1                       (carcinoma, clear, cell, renal)\n",
       "2        (lung, neoplasms, non, -, small, cell, cancer)\n",
       "3                 (arthritis, rheumatoid, anti, -, ccp)\n",
       "4                 (pain, ,, procedural, pain, neonates)\n",
       "5            (retinal, diseases, diabetic, retinopathy)\n",
       "6                              (kidney, diseases, ldkt)\n",
       "7                  (glaucoma, artificial, intelligence)\n",
       "8           (spinal, cord, injuries, neuropathic, pain)\n",
       "9     (behavior, ,, addictive, behavior, problem, sm...\n",
       "10    (tacrolimus, kidney, transplantation, envarsus...\n",
       "11           (missing, advanced, cancer, immunotherapy)\n",
       "12                             (hemorrhage, antepartum)\n",
       "13       (progesterone, abortion, in, first, trimester)\n",
       "14             (brain, neoplasms, tumor, tumor, ,, mri)\n",
       "15            (disease, major, depression, stem, cells)\n",
       "16                        (diabetes, mellitus, type, 1)\n",
       "17       (infarction, risk, stratification, prediction)\n",
       "18    (immunologic, deficiency, syndromes, human, im...\n",
       "19                           (syndrome, tethered, cord)\n",
       "20                   (anemia, ,, sickle, cell, disease)\n",
       "21              (infarction, st, elevation, myocardial)\n",
       "22    (carcinoma, ,, non, -, small, -, cell, lung, c...\n",
       "23    (depression, depression, ,, postpartum, preven...\n",
       "24                            (hypertension, pulmonary)\n",
       "25                         (neoplasms, advanced, e7386)\n",
       "26             (osteoarthritis, shoulder, arthroplasty)\n",
       "27                            (cerebral, palsy, infant)\n",
       "28    (hypertension, women, who, gave, birth, at, di...\n",
       "29                                     (retinoblastoma)\n",
       "30                          (fistula, data, collection)\n",
       "31        (compulsive, personality, disorder, behavior)\n",
       "32    (pain, ,, postoperative, inguinal, hernia, inl...\n",
       "33    (respiratory, aspiration, surgery, inhalation,...\n",
       "34        (misoprostol, medical, ;, abortion, ,, fetus)\n",
       "35    (pancreatitis, pancreatitis, ,, chronic, pedia...\n",
       "36                                          (dysphonia)\n",
       "37    (carcinoma, ,, transitional, cell, carcinoma, ...\n",
       "38             (osteoarthritis, shoulder, arthroplasty)\n",
       "39                            (acidosis, renal, tubule)\n",
       "40                        (hypertension, hypersplenism)\n",
       "41    (hyperbilirubinemia, hyperbilirubinemia, ,, ne...\n",
       "42      (liver, diseases, end, stage, disease, frailty)\n",
       "43     (disease, ankle, injuries, and, disorders, foot)\n",
       "44                      (diarrhea, outpatient, clinics)\n",
       "45            (disease, major, depression, stem, cells)\n",
       "46    (bupivacaine, surgery, to, the, distal, one, t...\n",
       "47    (coronary, artery, disease, stent, ,, des, ,, ...\n",
       "48                                    (hypoxia, cancer)\n",
       "49      (kidney, diseases, ileus, ;, mechanical, ileus)\n",
       "Name: keyword_tokens, dtype: object"
      ]
     },
     "execution_count": 33,
     "metadata": {},
     "output_type": "execute_result"
    }
   ],
   "source": [
    "df['keyword_tokens'].head(50)"
   ]
  },
  {
   "cell_type": "code",
   "execution_count": 33,
   "metadata": {
    "pycharm": {
     "is_executing": false,
     "name": "#%%\n"
    }
   },
   "outputs": [],
   "source": [
    "df.to_csv(\"clinial_trial_tokenized\")"
   ]
  }
 ],
 "metadata": {
  "kernelspec": {
   "display_name": "Python 3",
   "language": "python",
   "name": "python3"
  },
  "language_info": {
   "codemirror_mode": {
    "name": "ipython",
    "version": 3
   },
   "file_extension": ".py",
   "mimetype": "text/x-python",
   "name": "python",
   "nbconvert_exporter": "python",
   "pygments_lexer": "ipython3",
   "version": "3.7.1"
  },
  "pycharm": {
   "stem_cell": {
    "cell_type": "raw",
    "metadata": {
     "collapsed": false
    },
    "source": []
   }
  }
 },
 "nbformat": 4,
 "nbformat_minor": 2
}
