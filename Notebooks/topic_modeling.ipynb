{
 "cells": [
  {
   "cell_type": "markdown",
   "metadata": {},
   "source": [
    "# Auto-labeling of a corpus of clinical trials for later use in retrieving search results"
   ]
  },
  {
   "cell_type": "code",
   "execution_count": 611,
   "metadata": {
    "collapsed": false,
    "jupyter": {
     "outputs_hidden": false
    },
    "pycharm": {
     "is_executing": false,
     "name": "#%%\n"
    }
   },
   "outputs": [],
   "source": [
    "import csv\n",
    "import gensim\n",
    "import numpy as np\n",
    "import matplotlib.pyplot as plt\n",
    "import multiprocessing\n",
    "import os\n",
    "import re\n",
    "import seaborn as sns\n",
    "import spacy\n",
    "import sys\n",
    "\n",
    "from collections import OrderedDict\n",
    "from gensim import corpora\n",
    "from gensim.models.phrases import Phrases, Phraser\n",
    "from gensim.models.ldamulticore import LdaMulticore\n",
    "from gensim.models.coherencemodel import CoherenceModel\n",
    "from gensim.parsing.preprocessing import STOPWORDS\n",
    "from gensim.utils import simple_preprocess\n",
    "from multiprocessing import Pool\n",
    "\n",
    "nlp = spacy.load(\"en_core_web_lg\")\n"
   ]
  },
  {
   "cell_type": "markdown",
   "metadata": {},
   "source": [
    "Add a ton of stopwords relating to procedural things to make room for the medical conditions we're looking to classify."
   ]
  },
  {
   "cell_type": "code",
   "execution_count": 889,
   "metadata": {
    "collapsed": false,
    "jupyter": {
     "outputs_hidden": false
    },
    "pycharm": {
     "is_executing": false,
     "name": "#%%\n"
    }
   },
   "outputs": [],
   "source": [
    "STOPWORDS = set(STOPWORDS).union(set(['patient', 'patients', 'study', 'disease',\n",
    "                                      'treatment', 'randomized', 'statistical', \n",
    "                                      'analysis', 'group', 'trial', 'clinical', \n",
    "                                      'controlled', 'safety', 'associated', 'risk', \n",
    "                                      'intervention', 'care', 'health', 'therapy', \n",
    "                                      'participants', 'method', 'monitor', 'studies',\n",
    "                                      'cohorts', 'percent', 'prospective', 'efficacy', \n",
    "                                      'days', 'months', 'evaluate', 'subjects', \n",
    "                                      'data', 'outcomes', 'research', 'function', \n",
    "                                      'effects', 'investigators', 'use', 'population', \n",
    "                                      'compared', 'quality', 'results', 'improve',\n",
    "                                      'term', 'groups', 'weeks', 'week', 'groups', \n",
    "                                      'test', 'control', 'time', 'period', 'placebo', \n",
    "                                      'stimulation', 'symptoms', 'mortality', 'failure',\n",
    "                                      'non', 'interventional', 'observational', 'assess', \n",
    "                                      'relative', 'positive', 'develop', 'signs', \n",
    "                                      'enrolled', 'randomly', 'assigned', 'ratio', \n",
    "                                      'stratified', 'multicenter', 'open', 'phase', \n",
    "                                      'stage', 'iiib', 'eligible', 'criteria', \n",
    "                                      'inclusion', 'exclustion', 'year', 'years',\n",
    "                                      'before', 'after', 'therapy', 'therapies',\n",
    "                                      'interventions', 'controlling', 'terms', 'risks',\n",
    "                                      'enroll', 'studies', 'diseases', 'enrolling',\n",
    "                                      'evaluating', 'evaluated', 'evaluates', 'effect',\n",
    "                                      'invesetigate', 'investigator', 'investigation',\n",
    "                                      'investigations', 'studying', 'eligibility', \"dose\", \n",
    "                                      \"screening\", \"history\", \"drug\", \"active\", \"including\",\n",
    "                                      \"significant\", \"day\", 'days', \"potential\", \"female\", \n",
    "                                      \"mg\", \"hepatitis\", \"investigational\", 'prior', 'known',\n",
    "                                      'clinically', 'clincal', 'clinic', 'period', 'following',\n",
    "                                      'subject', 'visit', 'subjects', 'willing', \n",
    "                                      'participation', 'lab', 'laboratory', 'medical',\n",
    "                                      'response', 'diagnosis', 'stages', 'staged',\n",
    "                                      'diagnoses', 'treat', 'treats', 'treated', 'program',\n",
    "                                      'self', 'based', 'life', 'participate', 'english',\n",
    "                                      'participates', 'able', 'community', 'support',\n",
    "                                      'ability', 'coummunities', 'supports', 'supported',\n",
    "                                      'consent', 'age', 'informed', 'consents', 'consented',\n",
    "                                      'provide', 'provided', 'condition', 'conditions',\n",
    "                                      'conditioned', 'compliance', 'enrollment',\n",
    "                                      'accept', 'accepted', 'accepting', 'enrolment',\n",
    "                                      'accepts', 'current', 'currently', 'controlled',\n",
    "                                      'uncontrolled', 'status', 'recieved', 'times', \n",
    "                                      'limit', 'count', 'disorder', 'disorders', 'follow',\n",
    "                                      'follows', 'followed', 'participant', 'related',\n",
    "                                      'probability', 'probabilities', 'sample', 'samples',\n",
    "                                      'practice', 'individual', 'individuals', \n",
    "                                      'individually', 'specific', 'specify', 'prevalence', \n",
    "                                      'limited', 'procedure', 'procedures', 'write',\n",
    "                                      'obtain', 'practice', 'practices', 'practicing',\n",
    "                                      'diagnostic', 'mg', 'mcg', 'ml', 'qday', 'tid',\n",
    "                                      'qid', 'bid', 'po', 'pr', 'ac', 'prn', 'am', 'pm',\n",
    "                                      'market', 'receive', 'received', 'receives', \n",
    "                                      'require', 'requires', 'required', 'start', 'end',\n",
    "                                      'starts', 'ends', 'starting', 'ending', 'allow',\n",
    "                                      'allows', 'allowed', 'define', 'defines', 'defined',\n",
    "                                      'evaluation', 'ongoing', 'examination', 'evaluations',\n",
    "                                      'examinations', 'evidence', 'upper','lower', 'normal',\n",
    "                                      'people', 'person', 'exclusion', 'hour', 'hours', 'hr',\n",
    "                                      'hrs', 'min', 'minute', 'minutes', 'include', 'equal',\n",
    "                                      'equals', 'double', 'undergo', 'level', 'dl', \n",
    "                                      'diagnose', 'increase', 'increases', 'decrease', \n",
    "                                      'decreases', 'facility' 'implementation', 'center',\n",
    "                                      'training', 'provider', 'providers', 'centers',\n",
    "                                      'facilities', 'trainings', 'previous', 'assess',\n",
    "                                      'assesses', 'assessment', 'assessments', 'assessing',\n",
    "                                      'cause', 'service', 'services', 'project', 'projects',\n",
    "                                      'identify', 'live', 'design', 'designs', 'survey',\n",
    "                                      'surveys', 'surveying', 'implementation', 'implementations',\n",
    "                                      \n",
    "                                      ]))\n"
   ]
  },
  {
   "cell_type": "code",
   "execution_count": 890,
   "metadata": {
    "collapsed": false,
    "jupyter": {
     "outputs_hidden": false
    },
    "pycharm": {
     "is_executing": false,
     "name": "#%%\n"
    }
   },
   "outputs": [],
   "source": [
    "def replace_csv_missing(row):\n",
    "    text = (row[2] + ' ' +  # 'brief_title'\n",
    "            row[3] + ' ' +  # 'condition'\n",
    "            row[5] + ' ' +  # 'brief_summary'\n",
    "            row[8][:500] + ' ' +  # 'eligibility' Keep first 500, tends to be exclusion criteria if it's very long.\n",
    "            row[10] + ' ' +  # 'keyword'\n",
    "            row[11] + ' ' +  # 'mesh_term'\n",
    "            row[12]  # 'official_title\n",
    "           )\n",
    "    text = text.lower()\n",
    "    new = re.sub('missing', '', text)\n",
    "    new = re.sub('-', ' ', new)\n",
    "    new = re.sub('\\(\\S*\\)', ' ', new)\n",
    "    new = re.sub(' \\s+', ' ', new)\n",
    "    return u\"{}\".format(new)"
   ]
  },
  {
   "cell_type": "code",
   "execution_count": 891,
   "metadata": {
    "collapsed": false,
    "jupyter": {
     "outputs_hidden": false
    },
    "pycharm": {
     "is_executing": false,
     "name": "#%%\n"
    }
   },
   "outputs": [],
   "source": [
    "def replace_text_missing(text):\n",
    "    text = text.lower().strip('\\n')\n",
    "    new = re.sub(' \\s+', ' ', text)\n",
    "    return u\"{}\".format(new)"
   ]
  },
  {
   "cell_type": "code",
   "execution_count": 892,
   "metadata": {},
   "outputs": [],
   "source": [
    "def import_text_files(directory):\n",
    "    bad_lines = ('service :',\n",
    "                 'allergies :',\n",
    "                 'chief complaint :',\n",
    "                 'major surgical or invasive procedure :',\n",
    "                 'history of present illness :',\n",
    "                 'past medical history :',\n",
    "                 'social history :',\n",
    "                 'family history :',\n",
    "                 'physical exam :',\n",
    "                 'pertinent results :',\n",
    "                 'brief hospital course :',\n",
    "                 'medications on admission :',\n",
    "                 'impression :',\n",
    "                 'final diagnosis :',\n",
    "                 'underlying medical condition :',\n",
    "                 'discharge disposition :',\n",
    "                 'discharge condition :',\n",
    "                 'discharge instructions :',\n",
    "                 'discharge medications :',\n",
    "                 'followup instructions',\n",
    "                 'signed',\n",
    "                 '( ',\n",
    "                 'job',\n",
    "                 't :',\n",
    "                 'y :',\n",
    "                 'd :',\n",
    "                 'med',\n",
    "                 'dictated',\n",
    "                 )\n",
    "    lines = []\n",
    "    for file in os.listdir(directory):\n",
    "        if file.endswith('txt'):\n",
    "            with open(directory + file, 'r') as f:\n",
    "                for i, line in enumerate(f):\n",
    "                    # Skip first 7 lines.\n",
    "                    if i < 8:\n",
    "                        pass\n",
    "                    # Skip section header lines.\n",
    "                    elif line.lower().startswith(bad_lines):\n",
    "                        pass\n",
    "                    else:\n",
    "                        out =  replace_text_missing(line)\n",
    "                        lines.append(out)\n",
    "    return lines"
   ]
  },
  {
   "cell_type": "code",
   "execution_count": 893,
   "metadata": {},
   "outputs": [],
   "source": [
    "def import_csv_files(file):\n",
    "    all_rows = []\n",
    "    with open(file, 'r') as csvinfile:\n",
    "        csv_reader = csv.reader(csvinfile, delimiter=',')\n",
    "        for row in csv_reader:\n",
    "            all_rows.append(row)\n",
    "    pool = Pool(processes=multiprocessing.cpu_count())    \n",
    "    transformed_rows = pool.map(replace_csv_missing, all_rows)\n",
    "    pool.close() \n",
    "    pool.join()\n",
    "    return transformed_rows\n",
    "    "
   ]
  },
  {
   "cell_type": "markdown",
   "metadata": {},
   "source": [
    "Import data."
   ]
  },
  {
   "cell_type": "code",
   "execution_count": 894,
   "metadata": {},
   "outputs": [],
   "source": [
    "search_terms = import_csv_files('../frontend_dataset_final.csv')[1:]  # Discard header row."
   ]
  },
  {
   "cell_type": "code",
   "execution_count": 895,
   "metadata": {},
   "outputs": [
    {
     "data": {
      "text/plain": [
       "22471"
      ]
     },
     "execution_count": 895,
     "metadata": {},
     "output_type": "execute_result"
    }
   ],
   "source": [
    "len(search_terms)"
   ]
  },
  {
   "cell_type": "code",
   "execution_count": 896,
   "metadata": {},
   "outputs": [],
   "source": [
    "search_terms += import_text_files('beth_docs/')"
   ]
  },
  {
   "cell_type": "code",
   "execution_count": 897,
   "metadata": {},
   "outputs": [
    {
     "data": {
      "text/plain": [
       "34302"
      ]
     },
     "execution_count": 897,
     "metadata": {},
     "output_type": "execute_result"
    }
   ],
   "source": [
    "len(search_terms)"
   ]
  },
  {
   "cell_type": "code",
   "execution_count": 898,
   "metadata": {
    "collapsed": false,
    "jupyter": {
     "outputs_hidden": false
    },
    "pycharm": {
     "is_executing": false,
     "name": "#%%\n"
    }
   },
   "outputs": [
    {
     "data": {
      "text/plain": [
       "43832"
      ]
     },
     "execution_count": 898,
     "metadata": {},
     "output_type": "execute_result"
    }
   ],
   "source": [
    "search_terms += import_text_files('partner_docs/')\n",
    "len(search_terms)"
   ]
  },
  {
   "cell_type": "code",
   "execution_count": 899,
   "metadata": {},
   "outputs": [
    {
     "data": {
      "text/plain": [
       "50984"
      ]
     },
     "execution_count": 899,
     "metadata": {},
     "output_type": "execute_result"
    }
   ],
   "source": [
    "search_terms += import_text_files('beth_txt/')\n",
    "len(search_terms)"
   ]
  },
  {
   "cell_type": "code",
   "execution_count": 900,
   "metadata": {},
   "outputs": [
    {
     "data": {
      "text/plain": [
       "57328"
      ]
     },
     "execution_count": 900,
     "metadata": {},
     "output_type": "execute_result"
    }
   ],
   "source": [
    "search_terms += import_text_files('partner_txt/')\n",
    "len(search_terms)"
   ]
  },
  {
   "cell_type": "markdown",
   "metadata": {},
   "source": [
    "Split into training and test sets."
   ]
  },
  {
   "cell_type": "code",
   "execution_count": 901,
   "metadata": {},
   "outputs": [],
   "source": [
    "test_terms = search_terms.copy()[:1000]\n",
    "search_terms = search_terms[-56328:]"
   ]
  },
  {
   "cell_type": "code",
   "execution_count": 902,
   "metadata": {},
   "outputs": [
    {
     "data": {
      "text/plain": [
       "(56328, 1000)"
      ]
     },
     "execution_count": 902,
     "metadata": {},
     "output_type": "execute_result"
    }
   ],
   "source": [
    "len(search_terms), len(test_terms)"
   ]
  },
  {
   "cell_type": "code",
   "execution_count": 903,
   "metadata": {},
   "outputs": [
    {
     "data": {
      "text/plain": [
       "'vestibulopathy with vestibulo ocular reflex gain deficit the study is examine the eye movements characteristics of patients with vor gain deficits (overt and covert saccades) before and after physical therapy intervention program and examine the most effective physical therapy treatment program for patients with vestibulopathy. vestibulopathy, acute peripheral inclusion criteria: diagnosed with unilateral or bilateral vestibulopathy living independently in the community exclusion criteria: cognitive state decline neurological disorder disease or disorders that can affect balance all 40 years n/a no dizziness vestibular neuronitis vestibulopathy with vestibulo ocular reflex gain deficit characteristics of overt and covert saccadic eye movements measured by the video head impulse test '"
      ]
     },
     "execution_count": 903,
     "metadata": {},
     "output_type": "execute_result"
    }
   ],
   "source": [
    "search_terms[0]"
   ]
  },
  {
   "cell_type": "code",
   "execution_count": 904,
   "metadata": {},
   "outputs": [
    {
     "data": {
      "text/plain": [
       "'prevalence of anti ccp positivity and subclinical signs of inflammation in patients with new onset of non specific musculoskeletal symptoms non interventional, prospective, observational study to assess the relative risk of anti ccp positive patients to develop signs of inflammation in accordance with early rheumatoid arthritis in a population without pre classified ra but new1 onset of non specific musculoskeletal symptoms in general practices in germany and subsequent 36 months follow up by rheumatologists rheumatoid arthritis population without pre classified ra but new onset of non specific musculoskeletal symptoms non probability sample inclusion criteria: new onset of non specific msk symptoms, including, but not limited to, arthralgia of the hands and the large joints such as wrists, knees, and shoulders written informed consent obtained prior to the initiation of any study protocol required procedures general understanding of study procedure and informed consent age ≥ 18 and ≤ 65 years exc anti ccp arthritis prevalence of anti cyclic citrullinated peptide (anti ccp) positivity and subclinical signs of inflammation in patients with new onset of non specific musculoskeletal symptoms possibly related to early rheumatoid arthritis in general practices in germany'"
      ]
     },
     "execution_count": 904,
     "metadata": {},
     "output_type": "execute_result"
    }
   ],
   "source": [
    "test_terms[0]"
   ]
  },
  {
   "cell_type": "markdown",
   "metadata": {},
   "source": [
    "Create lemmatization and tokenization functions."
   ]
  },
  {
   "cell_type": "code",
   "execution_count": 905,
   "metadata": {},
   "outputs": [],
   "source": [
    "def lemmatize(text):\n",
    "    \"\"\"Return new string of lemmatized words from text.\"\"\"\n",
    "    doc = nlp(text)\n",
    "    return \" \".join([token.lemma_ for token in doc if token.text not in STOPWORDS])"
   ]
  },
  {
   "cell_type": "code",
   "execution_count": 906,
   "metadata": {
    "pycharm": {
     "is_executing": false,
     "name": "#%%\n"
    }
   },
   "outputs": [],
   "source": [
    "def tokenize(text):\n",
    "    \"\"\"Return list of tokens from text.\"\"\"\n",
    "    return [token for token in simple_preprocess(text) if token not in STOPWORDS]"
   ]
  },
  {
   "cell_type": "markdown",
   "metadata": {},
   "source": [
    "Apply functions element-wise with multiprocessing."
   ]
  },
  {
   "cell_type": "code",
   "execution_count": 907,
   "metadata": {
    "pycharm": {
     "is_executing": false,
     "name": "#%%\n"
    }
   },
   "outputs": [],
   "source": [
    "pool = Pool(processes=multiprocessing.cpu_count())\n",
    "lemma = pool.map(lemmatize, search_terms)\n",
    "pool.close()\n",
    "pool.join()\n",
    "\n",
    "pool = Pool(processes=multiprocessing.cpu_count())\n",
    "keyword_tokens = pool.map(tokenize, lemma)\n",
    "pool.close()\n",
    "pool.join()"
   ]
  },
  {
   "cell_type": "markdown",
   "metadata": {},
   "source": [
    "Apply Phraser to detect bi-grams and more-grams."
   ]
  },
  {
   "cell_type": "code",
   "execution_count": 908,
   "metadata": {},
   "outputs": [],
   "source": [
    "# token_ = [doc.split(\" \") for doc in keyword_tokens]\n",
    "bigram = Phrases(keyword_tokens,\n",
    "                 min_count=10,\n",
    "                 threshold=5,\n",
    "                 delimiter=b' ')\n",
    "\n",
    "bigram_phraser = Phraser(bigram)\n",
    "\n",
    "bigram_tokens = []\n",
    "for sent in keyword_tokens:\n",
    "    bigram_tokens.append(bigram_phraser[sent])"
   ]
  },
  {
   "cell_type": "markdown",
   "metadata": {},
   "source": [
    "Check bigrams for meaningfullness."
   ]
  },
  {
   "cell_type": "code",
   "execution_count": 909,
   "metadata": {},
   "outputs": [
    {
     "data": {
      "text/plain": [
       "['vestibulopathy',\n",
       " 'vestibulo',\n",
       " 'ocular',\n",
       " 'reflex',\n",
       " 'gain',\n",
       " 'deficit',\n",
       " 'examine',\n",
       " 'eye movement',\n",
       " 'characteristic',\n",
       " 'vor',\n",
       " 'gain',\n",
       " 'deficit',\n",
       " 'overt',\n",
       " 'covert',\n",
       " 'saccade',\n",
       " 'physical',\n",
       " 'examine',\n",
       " 'effective',\n",
       " 'physical',\n",
       " 'vestibulopathy',\n",
       " 'vestibulopathy',\n",
       " 'acute',\n",
       " 'peripheral',\n",
       " 'unilateral bilateral',\n",
       " 'vestibulopathy',\n",
       " 'independently',\n",
       " 'cognitive',\n",
       " 'state',\n",
       " 'decline',\n",
       " 'neurological',\n",
       " 'affect',\n",
       " 'balance',\n",
       " 'dizziness',\n",
       " 'vestibular',\n",
       " 'neuronitis',\n",
       " 'vestibulopathy',\n",
       " 'vestibulo',\n",
       " 'ocular',\n",
       " 'reflex',\n",
       " 'gain',\n",
       " 'deficit',\n",
       " 'characteristic',\n",
       " 'overt',\n",
       " 'covert',\n",
       " 'saccadic',\n",
       " 'eye movement',\n",
       " 'measure',\n",
       " 'video',\n",
       " 'head',\n",
       " 'impulse']"
      ]
     },
     "execution_count": 909,
     "metadata": {},
     "output_type": "execute_result"
    }
   ],
   "source": [
    "bigram_tokens[0]"
   ]
  },
  {
   "cell_type": "markdown",
   "metadata": {},
   "source": [
    "Looks nice.\n",
    "\n",
    "Create a gensim dictionary of our bigram tokens."
   ]
  },
  {
   "cell_type": "code",
   "execution_count": 910,
   "metadata": {
    "pycharm": {
     "is_executing": false,
     "name": "#%%\n"
    }
   },
   "outputs": [],
   "source": [
    "id2word = corpora.Dictionary(bigram_tokens)"
   ]
  },
  {
   "cell_type": "code",
   "execution_count": 911,
   "metadata": {},
   "outputs": [
    {
     "data": {
      "text/plain": [
       "55258"
      ]
     },
     "execution_count": 911,
     "metadata": {},
     "output_type": "execute_result"
    }
   ],
   "source": [
    "len(id2word.keys())"
   ]
  },
  {
   "cell_type": "markdown",
   "metadata": {},
   "source": [
    "Filter our dictionary to, hopefully, more useful words."
   ]
  },
  {
   "cell_type": "code",
   "execution_count": 912,
   "metadata": {},
   "outputs": [
    {
     "data": {
      "text/plain": [
       "7876"
      ]
     },
     "execution_count": 912,
     "metadata": {},
     "output_type": "execute_result"
    }
   ],
   "source": [
    "id2word.filter_extremes(no_below=20, no_above=0.005)\n",
    "len(id2word.keys())"
   ]
  },
  {
   "cell_type": "markdown",
   "metadata": {},
   "source": [
    "Create corpus for modeling."
   ]
  },
  {
   "cell_type": "code",
   "execution_count": 913,
   "metadata": {
    "collapsed": false,
    "jupyter": {
     "outputs_hidden": false
    },
    "pycharm": {
     "is_executing": false,
     "name": "#%%\n"
    }
   },
   "outputs": [],
   "source": [
    "corpus = [id2word.doc2bow(text) for text in bigram_tokens]"
   ]
  },
  {
   "cell_type": "markdown",
   "metadata": {},
   "source": [
    "Fit an LDA model."
   ]
  },
  {
   "cell_type": "code",
   "execution_count": 914,
   "metadata": {
    "collapsed": false,
    "jupyter": {
     "outputs_hidden": false
    },
    "pycharm": {
     "is_executing": false,
     "name": "#%%\n"
    }
   },
   "outputs": [],
   "source": [
    "lda = LdaMulticore(corpus=corpus,\n",
    "                   id2word=id2word,\n",
    "                   chunksize=10000,\n",
    "                   passes=15,\n",
    "                   workers=multiprocessing.cpu_count(),\n",
    "                   )"
   ]
  },
  {
   "cell_type": "markdown",
   "metadata": {},
   "source": [
    "Test out our model."
   ]
  },
  {
   "cell_type": "code",
   "execution_count": 915,
   "metadata": {},
   "outputs": [],
   "source": [
    "def get_search_terms(index):\n",
    "    \"\"\"Return topics for a given index in the test_tems list.\"\"\"\n",
    "    # Preprocess new document.\n",
    "    lemma = list(map(lemmatize, [test_terms[index]]))\n",
    "    other_texts = list(map(tokenize, lemma))\n",
    "    other_corpus = []\n",
    "    for sent in other_texts:\n",
    "        other_corpus.append(bigram_phraser[sent])\n",
    "    corpus = [id2word.doc2bow(text) for text in other_corpus]\n",
    "    unseen_doc = corpus[0]\n",
    "    # Feed processed document to the model.\n",
    "    vector = lda[unseen_doc]  # Get topic probability distribution for a document\n",
    "    # Choose the set of topics the model gives the highest probability to.\n",
    "    terms = [topic.split('*') for topic in lda.print_topic(vector[np.argmax(vector, axis=0)[1]][0], 20).split(' + ')]\n",
    "             #if float(topic.split('*')[0]) >= .005]  # Set a model probability cut-off for topic inclusion.\n",
    "    return terms"
   ]
  },
  {
   "cell_type": "code",
   "execution_count": 916,
   "metadata": {},
   "outputs": [],
   "source": [
    "index_to_search = 949"
   ]
  },
  {
   "cell_type": "code",
   "execution_count": 917,
   "metadata": {},
   "outputs": [
    {
     "data": {
      "text/plain": [
       "'comparison of two strategies for endotracheal tube cuff underinflation prevention during invasive mechanical ventilation during invasive mechanical ventilation, maintaining endotracheal tube cuff pressure around 25 cmh2o is recommended for sealing the upper airways. the continuous control of pcuff with a simple mechanical device, the tracoe smart cuffmanagertm, has never been assessed. the investigators hypothesize that the tracoe smart cuffmanagertm would allow a reduction of the incidence of underinflation episodes, as compared with the intermittent strategy of pcuff control. acute brain injury inclusion criteria: with severe acute brain damage admitted in the icu for less than 48 hours and expected to receive invasive mechanical ventilation (through orotracheal tube with a low pressure high volume cuff) for at least 48 hours after inclusion. exclusion criteria: change in the upper airway management within the 48 hours following the inclusion (extubation or change in the tracheal tube or tracheostomy) pregnancy, moribund status. all 18 years n/a no endotracheal tube wounds and injuries comparison of two strategies for the prevention of endotracheal tube cuff underinflation during invasive mechanical ventilation: intermittent versus continuous cuff pressure control a randomised controlled study'"
      ]
     },
     "execution_count": 917,
     "metadata": {},
     "output_type": "execute_result"
    }
   ],
   "source": [
    "test_terms[index_to_search]"
   ]
  },
  {
   "cell_type": "code",
   "execution_count": 918,
   "metadata": {},
   "outputs": [
    {
     "data": {
      "text/plain": [
       "[['0.053', '\"oxygen\"'],\n",
       " ['0.038', '\"ventilation\"'],\n",
       " ['0.021', '\"flow\"'],\n",
       " ['0.021', '\"deficiency\"'],\n",
       " ['0.016', '\"physiological\"'],\n",
       " ['0.016', '\"ventilator\"'],\n",
       " ['0.014', '\"invasive ventilation\"'],\n",
       " ['0.014', '\"oxygenation\"'],\n",
       " ['0.014', '\"mode\"'],\n",
       " ['0.012', '\"prognostic factor\"'],\n",
       " ['0.012', '\"air\"'],\n",
       " ['0.011', '\"niv\"'],\n",
       " ['0.011', '\"high flow\"'],\n",
       " ['0.011', '\"mask\"'],\n",
       " ['0.010', '\"type ii\"'],\n",
       " ['0.009', '\"intubate\"'],\n",
       " ['0.009', '\"neuromuscular\"'],\n",
       " ['0.009', '\"chronic obstructive\"'],\n",
       " ['0.008', '\"carbon dioxide\"'],\n",
       " ['0.008', '\"breathing\"']]"
      ]
     },
     "execution_count": 918,
     "metadata": {},
     "output_type": "execute_result"
    }
   ],
   "source": [
    "get_search_terms(index_to_search)"
   ]
  },
  {
   "cell_type": "markdown",
   "metadata": {},
   "source": [
    "Pretty good."
   ]
  },
  {
   "cell_type": "code",
   "execution_count": 919,
   "metadata": {},
   "outputs": [],
   "source": [
    "index_to_search = 244"
   ]
  },
  {
   "cell_type": "code",
   "execution_count": 920,
   "metadata": {},
   "outputs": [
    {
     "data": {
      "text/plain": [
       "'community based intervention effects on older adults` physical activity the research team will conduct a 2 x 2 factorial experiment testing the individual and combined effects of two empirically and theoretically relevant sets of behavior change strategies on community dwelling older adults` physical activity. to do this the investigators will randomize participants >= 70 years old (n = 308) to 1 of 4 experimental conditions. all conditions include an evidence based physical activity protocol endorsed by centers for disease control and prevention for use by all older adults, including those with frailty and multiple co morbidities and the commercially available physical activity monitor (e.g., fitbit) to augment intervention delivery. intervention components that are experimental and vary by condition are the sets of behavior change strategies which will be combined with the physical activity protocol and the physical activity monitor. condition 1 has no specific behavior change strategies; condition 2 includes an intervention component comprised of 5 interpersonal behavior change strategies, such as facilitating social support and social comparison; condition 3 includes an intervention component comprised of 5 intrapersonal behavior change strategies, such as setting personally meaningful goals; and condition 4 includes both sets of behavior change strategies 5 interpersonal strategies combined with 5 intrapersonal behavior change strategies. exercise inclusion criteria: â‰¥70 years of age english speaking low levels of pa (below recommended guidelines) self reported fall risk as guided by the cdc, steadi fall risk screener one or more falls in the last year unsteadiness when standing or walking worries about falling participants who self report the following symptoms will require clearance from a primary provider (as guided by the exercise and screening for you questionnaire) pain, tightness or pressure in chest d community based intervention effects on older adults` physical activity and falls '"
      ]
     },
     "execution_count": 920,
     "metadata": {},
     "output_type": "execute_result"
    }
   ],
   "source": [
    "test_terms[index_to_search]"
   ]
  },
  {
   "cell_type": "code",
   "execution_count": 921,
   "metadata": {},
   "outputs": [
    {
     "data": {
      "text/plain": [
       "[['0.037', '\"app\"'],\n",
       " ['0.033', '\"communication\"'],\n",
       " ['0.032', '\"smartphone\"'],\n",
       " ['0.017', '\"programme\"'],\n",
       " ['0.016', '\"partner\"'],\n",
       " ['0.016', '\"couple\"'],\n",
       " ['0.012', '\"hispanic\"'],\n",
       " ['0.012', '\"read\"'],\n",
       " ['0.011', '\"remote\"'],\n",
       " ['0.011', '\"mobile application\"'],\n",
       " ['0.011', '\"interaction\"'],\n",
       " ['0.009', '\"planning\"'],\n",
       " ['0.009', '\"lifestyle\"'],\n",
       " ['0.009', '\"mobile\"'],\n",
       " ['0.008', '\"communicate\"'],\n",
       " ['0.008', '\"connect\"'],\n",
       " ['0.008', '\"parent child\"'],\n",
       " ['0.007', '\"low income\"'],\n",
       " ['0.007', '\"dyad\"'],\n",
       " ['0.007', '\"smart phone\"']]"
      ]
     },
     "execution_count": 921,
     "metadata": {},
     "output_type": "execute_result"
    }
   ],
   "source": [
    "get_search_terms(index_to_search)"
   ]
  },
  {
   "cell_type": "code",
   "execution_count": 922,
   "metadata": {},
   "outputs": [],
   "source": [
    "index_to_search = 847"
   ]
  },
  {
   "cell_type": "code",
   "execution_count": 923,
   "metadata": {},
   "outputs": [
    {
     "data": {
      "text/plain": [
       "'web based orthopaedic sports medicine registry the purpose of this study is to establish an international, web based clinical registry to collect baseline characteristics of patients undergoing orthopaedic, sports medicine, arthroscopy, and related surgery, and the subsequent outcomes and cost effectiveness associated with the surgical procedures and nonoperative treatments. degenerative and traumatic pathology of the knee cohort will be selected from clinic patients scheduling surgery or nonoperative treatment non probability sample inclusion criteria: all patients electing to schedule routine and medically indicated orthopedic, sports medicine, arthroscopy and related surgery or nonoperative treatment exclusion criteria: non english or spanish speaking vulnerable populations, excluding minors all 12 years n/a no orthopedic surgery orthopaedic sports medicine, arthroscopy, and related surgery registry using the web based orthoillustrated surgical outcomes system'"
      ]
     },
     "execution_count": 923,
     "metadata": {},
     "output_type": "execute_result"
    }
   ],
   "source": [
    "test_terms[index_to_search]"
   ]
  },
  {
   "cell_type": "code",
   "execution_count": 924,
   "metadata": {},
   "outputs": [
    {
     "data": {
      "text/plain": [
       "[['0.055', '\"spinal cord\"'],\n",
       " ['0.031', '\"shoulder\"'],\n",
       " ['0.029', '\"memory\"'],\n",
       " ['0.028', '\"gait\"'],\n",
       " ['0.027', '\"old adult\"'],\n",
       " ['0.019', '\"sci\"'],\n",
       " ['0.016', '\"cognition\"'],\n",
       " ['0.016', '\"mild cognitive\"'],\n",
       " ['0.015', '\"mobility\"'],\n",
       " ['0.015', '\"physiotherapy\"'],\n",
       " ['0.014', '\"balance\"'],\n",
       " ['0.013', '\"walking\"'],\n",
       " ['0.011', '\"manual\"'],\n",
       " ['0.011', '\"cognitive dysfunction\"'],\n",
       " ['0.010', '\"rotator cuff\"'],\n",
       " ['0.008', '\"spasticity\"'],\n",
       " ['0.008', '\"mci\"'],\n",
       " ['0.007', '\"decline\"'],\n",
       " ['0.007', '\"shoulder pain\"'],\n",
       " ['0.007', '\"leg\"']]"
      ]
     },
     "execution_count": 924,
     "metadata": {},
     "output_type": "execute_result"
    }
   ],
   "source": [
    "get_search_terms(index_to_search)"
   ]
  },
  {
   "cell_type": "markdown",
   "metadata": {},
   "source": [
    "Also pretty good."
   ]
  },
  {
   "cell_type": "code",
   "execution_count": 925,
   "metadata": {},
   "outputs": [],
   "source": [
    "index_to_search = 682"
   ]
  },
  {
   "cell_type": "code",
   "execution_count": 926,
   "metadata": {},
   "outputs": [
    {
     "data": {
      "text/plain": [
       "'pan asia united states prevention of sudden cardiac death catheter ablation trial the current standard of care for ventricular tachycardia includes the use of medicine called anti arrhythmic drugs and implantable cardioverter defibrillator therapy. these treatments are used to terminate the irregular heartbeats and bring the heart back to a normal rhythm. catheter ablation is a procedure used to eliminate the heart cells causing the arrhythmia. patients eligible for this may benefit from an ablation procedure in addition to an icd to treat their vt condition or risk of developing vt. this study aims to show that treating vt with catheter ablation, if performed preemptively at the time of icd implantation, will reduce subsequent recurrent vt, icd shocks, and lead to improved survival. ventricular tachycardia inclusion criteria: patient is receiving a new implantable cardioverter defibrillator or cardiac resynchronization therapy device (crt d) implant that has study required programing capabilities and is appropriate for remote monitoring. patient who has received the icd / crt d within 90 days of enrollment can also be enrolled. patient who has a high risk of icd shock as shown by documented monomorphic vt by one or more of the following: spontaneous mmvt inducible mmvt sudden cardiac death tachycardia pause scd: pan asia united states prevention of sudden cardiac death catheter ablation trial'"
      ]
     },
     "execution_count": 926,
     "metadata": {},
     "output_type": "execute_result"
    }
   ],
   "source": [
    "test_terms[index_to_search]"
   ]
  },
  {
   "cell_type": "code",
   "execution_count": 927,
   "metadata": {},
   "outputs": [
    {
     "data": {
      "text/plain": [
       "[['0.042', '\"infarction\"'],\n",
       " ['0.035', '\"cirrhosis\"'],\n",
       " ['0.029', '\"icd\"'],\n",
       " ['0.027', '\"supplementation\"'],\n",
       " ['0.024', '\"liver cirrhosis\"'],\n",
       " ['0.022', '\"myocardial\"'],\n",
       " ['0.022', '\"sarcopenia\"'],\n",
       " ['0.020', '\"acute myocardial\"'],\n",
       " ['0.018', '\"mi\"'],\n",
       " ['0.016', '\"ventricular\"'],\n",
       " ['0.014', '\"arrhythmia\"'],\n",
       " ['0.013', '\"skeletal muscle\"'],\n",
       " ['0.011', '\"defibrillator\"'],\n",
       " ['0.010', '\"dysplasia\"'],\n",
       " ['0.010', '\"cmr\"'],\n",
       " ['0.009', '\"sudden cardiac\"'],\n",
       " ['0.009', '\"cirrhotic\"'],\n",
       " ['0.009', '\"systolic\"'],\n",
       " ['0.008', '\"potassium\"'],\n",
       " ['0.008', '\"st elevation\"']]"
      ]
     },
     "execution_count": 927,
     "metadata": {},
     "output_type": "execute_result"
    }
   ],
   "source": [
    "get_search_terms(index_to_search)"
   ]
  },
  {
   "cell_type": "markdown",
   "metadata": {},
   "source": [
    "One more..."
   ]
  },
  {
   "cell_type": "code",
   "execution_count": 928,
   "metadata": {},
   "outputs": [],
   "source": [
    "index_to_search = 724"
   ]
  },
  {
   "cell_type": "code",
   "execution_count": 929,
   "metadata": {},
   "outputs": [
    {
     "data": {
      "text/plain": [
       "'single agent and combined inhibition after allogeneic stem cell transplant the purpose of the study is to determine the safety and benefit of nivolumab, ipilimumab or the combination of nivolumab with ipilimumab given after bone marrow transplant for patients with acute myelogenous leukemia and myelodysplastic syndrome. acute myeloid leukemia and myelodysplastic syndrome inclusion criteria: 1. voluntary signed and dated irb/iec approved written informed consent form in accordance with regulatory and local guidelines. 2. be 18 years or older and 70 years or younger on the day of signing consent 3. have a confirmed diagnosis of non m3 acute myeloid leukemia (intermediate ii is high risk. our population will consist of intermediate ii and high risk patients or any flt3+ aml) or ipss intermediate 2 or high risk myelodysplastic syndrome (appendice leukemia, myeloid, acute phase i study of single agent and combined checkpoint inhibition after allogeneic hematopoietic stem cell transplantation in patients at high risk for post transplant recurrence'"
      ]
     },
     "execution_count": 929,
     "metadata": {},
     "output_type": "execute_result"
    }
   ],
   "source": [
    "test_terms[index_to_search]"
   ]
  },
  {
   "cell_type": "code",
   "execution_count": 930,
   "metadata": {},
   "outputs": [
    {
     "data": {
      "text/plain": [
       "[['0.086', '\"acute myeloid\"'],\n",
       " ['0.058', '\"aml\"'],\n",
       " ['0.031', '\"myelodysplastic syndrome\"'],\n",
       " ['0.029', '\"mds\"'],\n",
       " ['0.027', '\"relapse refractory\"'],\n",
       " ['0.019', '\"hip fracture\"'],\n",
       " ['0.018', '\"venetoclax\"'],\n",
       " ['0.018', '\"azd\"'],\n",
       " ['0.016', '\"azacitidine\"'],\n",
       " ['0.016', '\"car\"'],\n",
       " ['0.015', '\"blast\"'],\n",
       " ['0.012', '\"induction\"'],\n",
       " ['0.011', '\"military\"'],\n",
       " ['0.011', '\"relapsed refractory\"'],\n",
       " ['0.010', '\"biliary tract\"'],\n",
       " ['0.010', '\"leukemia myelodysplastic\"'],\n",
       " ['0.010', '\"cytarabine\"'],\n",
       " ['0.010', '\"flow cytometry\"'],\n",
       " ['0.010', '\"cytogenetic\"'],\n",
       " ['0.010', '\"leukaemia\"']]"
      ]
     },
     "execution_count": 930,
     "metadata": {},
     "output_type": "execute_result"
    }
   ],
   "source": [
    "get_search_terms(index_to_search)"
   ]
  },
  {
   "cell_type": "code",
   "execution_count": 931,
   "metadata": {},
   "outputs": [],
   "source": [
    "index_to_search = 754"
   ]
  },
  {
   "cell_type": "code",
   "execution_count": 932,
   "metadata": {},
   "outputs": [
    {
     "data": {
      "text/plain": [
       "'adapting project uplift for blacks in georgia specific aim 8. evaluate the efficacy of project uplift for reducing symptoms of anxiety, depression, and ptsd among african americans at immediate posttest, after 3 months, and after 5 months. depressive symptoms inclusion criteria: identify as african american or black; diagnosed by a healthcare provider with epilepsy or seizure disorder at least 3 months ago; is mildly to moderately depressed or mildly to moderately anxious as determined by the phq 4; willing to be audio recorded during uplift sessions exclusion criteria: does not self identify as african american or black; is not depressed or anxious as determined by the phq 4; is severely depressed or anxious as determined by the phq 4; r epilepsy depression adapting evidence based epilepsy self management programs for blacks in georgia'"
      ]
     },
     "execution_count": 932,
     "metadata": {},
     "output_type": "execute_result"
    }
   ],
   "source": [
    "test_terms[index_to_search]"
   ]
  },
  {
   "cell_type": "code",
   "execution_count": 933,
   "metadata": {},
   "outputs": [
    {
     "data": {
      "text/plain": [
       "[['0.040', '\"eat\"'],\n",
       " ['0.024', '\"attention\"'],\n",
       " ['0.020', '\"task\"'],\n",
       " ['0.012', '\"depressed\"'],\n",
       " ['0.012', '\"reward\"'],\n",
       " ['0.012', '\"substance abuse\"'],\n",
       " ['0.011', '\"psychotherapy\"'],\n",
       " ['0.010', '\"emotional\"'],\n",
       " ['0.010', '\"teen\"'],\n",
       " ['0.010', '\"mood\"'],\n",
       " ['0.009', '\"luteal\"'],\n",
       " ['0.009', '\"depressive\"'],\n",
       " ['0.009', '\"learning\"'],\n",
       " ['0.009', '\"gonadotropin\"'],\n",
       " ['0.009', '\"ed\"'],\n",
       " ['0.009', '\"emotion\"'],\n",
       " ['0.008', '\"coaching\"'],\n",
       " ['0.007', '\"intellectual disability\"'],\n",
       " ['0.007', '\"psychiatrist\"'],\n",
       " ['0.007', '\"infertility\"']]"
      ]
     },
     "execution_count": 933,
     "metadata": {},
     "output_type": "execute_result"
    }
   ],
   "source": [
    "get_search_terms(index_to_search)"
   ]
  },
  {
   "cell_type": "code",
   "execution_count": 934,
   "metadata": {},
   "outputs": [],
   "source": [
    "index_to_search = 74"
   ]
  },
  {
   "cell_type": "code",
   "execution_count": 935,
   "metadata": {},
   "outputs": [
    {
     "data": {
      "text/plain": [
       "'evaluation of short term outcome of different bifurcation stenting techniques at assuit university cath. lab primary aim: evaluation of the short term outcome of different techniques used in bifurcational coronary arteries intervention regarding major adverse cardiac event : cardiac death, myocardial infarction, target vessel revascularization, or stent thrombosis and occurrence of unstable angina with ecg changes and echo findings in the same target vessel in assiut university cath. lab. secondary aim: calculation of the percentage of bifurcational coronary arteries intervention in assiut university cath.lab stemi st elevation myocardial infarction this study will include patients diagnosed as bifurcational coronary arteries iesion underwent intervention non probability sample inclusion criteria: all patients with true bifurcational coronary arteries lesion defined as (lesions in which there is more than 50 percent diameter stenosis in both the parent vessel and the ostium of the side branch arising from the lesion, and both are more than 2.0 mm in diameter by visual estimation) undergoing intervention either urgent or electiv infarction evaluation of short term outcome of different bifurcation stenting techniques at assuit university cath. lab'"
      ]
     },
     "execution_count": 935,
     "metadata": {},
     "output_type": "execute_result"
    }
   ],
   "source": [
    "test_terms[index_to_search]"
   ]
  },
  {
   "cell_type": "code",
   "execution_count": 936,
   "metadata": {},
   "outputs": [
    {
     "data": {
      "text/plain": [
       "[['0.056', '\"stent\"'],\n",
       " ['0.027', '\"pci\"'],\n",
       " ['0.024', '\"consultation\"'],\n",
       " ['0.023', '\"percutaneous coronary\"'],\n",
       " ['0.019', '\"morning\"'],\n",
       " ['0.014', '\"genomic\"'],\n",
       " ['0.014', '\"alcoholic\"'],\n",
       " ['0.012', '\"situ\"'],\n",
       " ['0.011', '\"stenting\"'],\n",
       " ['0.010', '\"coronary angiography\"'],\n",
       " ['0.010', '\"variation\"'],\n",
       " ['0.009', '\"elute stent\"'],\n",
       " ['0.009', '\"aerobic exercise\"'],\n",
       " ['0.008', '\"cbd\"'],\n",
       " ['0.008', '\"vessel\"'],\n",
       " ['0.007', '\"operating room\"'],\n",
       " ['0.007', '\"expand\"'],\n",
       " ['0.007', '\"circadian rhythm\"'],\n",
       " ['0.007', '\"clostridium difficile\"'],\n",
       " ['0.006', '\"des\"']]"
      ]
     },
     "execution_count": 936,
     "metadata": {},
     "output_type": "execute_result"
    }
   ],
   "source": [
    "get_search_terms(index_to_search)"
   ]
  },
  {
   "cell_type": "code",
   "execution_count": 955,
   "metadata": {},
   "outputs": [],
   "source": [
    "index_to_search = 679"
   ]
  },
  {
   "cell_type": "code",
   "execution_count": 956,
   "metadata": {},
   "outputs": [
    {
     "data": {
      "text/plain": [
       "'diet for induction and maintenance of remission and re biosis in crohn`s disease the modified exclusive enteral nutrition is an open label randomized controlled trial in mild to severe crohn`s disease patients. the purpose of this study is to determine whether induction of remission and maintenance of remission can be achieved with a new dietary strategy that involves only 2 weeks of exclusive enteral nutrition with modulen and 12 weeks of an exclusion diet involving selected table foods. this novel approach will be compared to the gold standard dietary regime involving 8 weeks of een. crohn`s disease inclusion criteria: 1. established diagnosis of crohn`s disease. 2. patients with mild to severe active crohn`s disease 3. ages 8 18 4. duration of disease ≤ 36 months 5. active inflammation (crp≥>0.6 mg /dl or esr≥>20 or calprotectin≥>200 mcg/gr within the past 3 weeks) during screening 6. patients with b1, p0 uncomplicated disease at enrollment 7. patients with disease defined as l1, l4, l3 or l2 limited to cecum, ascending or transverse colon or l2 with left sided dis crohn`s disease crohn disease modified exclusive enteral nutrition with the crohn`s disease exclusion diet for induction and maintenance of remission and re biosis'"
      ]
     },
     "execution_count": 956,
     "metadata": {},
     "output_type": "execute_result"
    }
   ],
   "source": [
    "test_terms[index_to_search]"
   ]
  },
  {
   "cell_type": "code",
   "execution_count": 957,
   "metadata": {},
   "outputs": [
    {
     "data": {
      "text/plain": [
       "[['0.047', '\"crohn\"'],\n",
       " ['0.031', '\"intestinal\"'],\n",
       " ['0.030', '\"resonance imaging\"'],\n",
       " ['0.028', '\"algorithm\"'],\n",
       " ['0.022', '\"neuroblastoma\"'],\n",
       " ['0.019', '\"functional magnetic\"'],\n",
       " ['0.018', '\"osteosarcoma\"'],\n",
       " ['0.014', '\"fmri\"'],\n",
       " ['0.014', '\"hct\"'],\n",
       " ['0.012', '\"cerebellar\"'],\n",
       " ['0.010', '\"isolate\"'],\n",
       " ['0.010', '\"pleural effusion\"'],\n",
       " ['0.009', '\"ataxia\"'],\n",
       " ['0.009', '\"hybrid\"'],\n",
       " ['0.008', '\"culture\"'],\n",
       " ['0.008', '\"peri implant\"'],\n",
       " ['0.008', '\"charge\"'],\n",
       " ['0.007', '\"hematopoietic cell\"'],\n",
       " ['0.007', '\"isolated\"'],\n",
       " ['0.006', '\"institutional review\"']]"
      ]
     },
     "execution_count": 957,
     "metadata": {},
     "output_type": "execute_result"
    }
   ],
   "source": [
    "get_search_terms(index_to_search)"
   ]
  },
  {
   "cell_type": "code",
   "execution_count": null,
   "metadata": {},
   "outputs": [],
   "source": []
  }
 ],
 "metadata": {
  "kernelspec": {
   "display_name": "unit4 (Python 3.7)",
   "language": "python",
   "name": "unit4"
  },
  "language_info": {
   "codemirror_mode": {
    "name": "ipython",
    "version": 3
   },
   "file_extension": ".py",
   "mimetype": "text/x-python",
   "name": "python",
   "nbconvert_exporter": "python",
   "pygments_lexer": "ipython3",
   "version": "3.7.3"
  },
  "pycharm": {
   "stem_cell": {
    "cell_type": "raw",
    "metadata": {
     "collapsed": false
    },
    "source": []
   }
  }
 },
 "nbformat": 4,
 "nbformat_minor": 4
}
