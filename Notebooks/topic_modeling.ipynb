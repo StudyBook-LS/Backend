{
 "cells": [
  {
   "cell_type": "code",
   "execution_count": 1,
   "metadata": {
    "collapsed": false,
    "jupyter": {
     "outputs_hidden": false
    },
    "pycharm": {
     "is_executing": false,
     "name": "#%%\n"
    }
   },
   "outputs": [],
   "source": [
    "import csv\n",
    "import gensim\n",
    "import numpy as np\n",
    "import matplotlib.pyplot as plt\n",
    "import multiprocessing\n",
    "import os\n",
    "import pandas as pd\n",
    "import re\n",
    "import seaborn as sns\n",
    "import sys\n",
    "\n",
    "from collections import OrderedDict\n",
    "from gensim import corpora\n",
    "from gensim.models.ldamulticore import LdaMulticore\n",
    "from gensim.models.coherencemodel import CoherenceModel\n",
    "from gensim.parsing.preprocessing import STOPWORDS\n",
    "from gensim.utils import simple_preprocess\n",
    "from multiprocessing import Pool\n"
   ]
  },
  {
   "cell_type": "code",
   "execution_count": 2,
   "metadata": {
    "collapsed": false,
    "jupyter": {
     "outputs_hidden": false
    },
    "pycharm": {
     "is_executing": false,
     "name": "#%%\n"
    }
   },
   "outputs": [],
   "source": [
    "STOPWORDS = set(STOPWORDS).union(set(['patient', 'patients', 'study', 'disease',\n",
    "                                      'treatment', 'randomized', 'statistical', 'analysis'\n",
    "                                      'group', 'trial', 'clinical', 'controlled', 'safety',\n",
    "                                      'associated', 'risk', 'intervention', 'care', 'health',\n",
    "                                      'therapy', 'participants', 'method', 'monitor', 'studies',\n",
    "                                      'cohorts', 'percent', 'prospective', 'efficacy', 'days', 'months',\n",
    "                                      'evaluate', 'subjects', 'data', 'outcomes', 'research',\n",
    "                                      'function', 'effects', 'investigators', 'use',\n",
    "                                      'population', 'compared', 'quality', 'results', 'improve',\n",
    "                                      'term', 'group', 'weeks', 'week', 'groups', 'test', 'control', 'time', 'period'\n",
    "                                      'placebo', 'stimulation', 'symptoms', 'mortality', 'failure',\n",
    "                                      'non', 'interventional', 'observational', 'assess', 'relative', 'positive',\n",
    "                                      'develop', 'signs', 'enrolled', 'randomly', 'assigned', 'ratio', 'stratified',\n",
    "                                      'multicenter', 'open', 'phase', 'stage', 'iiib', 'eligible', ]))\n"
   ]
  },
  {
   "cell_type": "code",
   "execution_count": 3,
   "metadata": {
    "pycharm": {
     "is_executing": false,
     "name": "#%%\n"
    }
   },
   "outputs": [],
   "source": [
    "df = pd.read_csv('../frontend_dataset_final.csv')"
   ]
  },
  {
   "cell_type": "code",
   "execution_count": 4,
   "metadata": {},
   "outputs": [],
   "source": [
    "# def transform_instance(row):\n",
    "#     cur_row = []\n",
    "#     label = \"__label__\" + index_to_label[row[0]]  #Prefix the index-ed label with __label__\n",
    "#     cur_row.append(label)\n",
    "#     cur_row.extend(nltk.word_tokenize(row[3].lower()))\n",
    "#     cur_row.extend(nltk.word_tokenize(row[5].lower()))\n",
    "#     cur_row.extend(nltk.word_tokenize(row[7].lower()))\n",
    "#     cur_row.extend(nltk.word_tokenize(row[10].lower()))\n",
    "#     cur_row.extend(nltk.word_tokenize(row[11].lower()))\n",
    "#     return cur_row"
   ]
  },
  {
   "cell_type": "code",
   "execution_count": 5,
   "metadata": {},
   "outputs": [],
   "source": [
    "# def preprocess(input_file, output_file, keep=1):\n",
    "#     all_rows = []\n",
    "#     with open(input_file, 'r') as csvinfile:\n",
    "#         csv_reader = csv.reader(csvinfile, delimiter=',')\n",
    "#         for row in csv_reader:\n",
    "#             all_rows.append(row)\n",
    "#     shuffle(all_rows)\n",
    "#     all_rows = all_rows[:int(keep*len(all_rows))]\n",
    "#     pool = Pool(processes=multiprocessing.cpu_count())\n",
    "#     transformed_rows = pool.map(transform_instance, all_rows)\n",
    "#     pool.close() \n",
    "#     pool.join()\n",
    "    \n",
    "#     with open(output_file, 'w') as csvoutfile:\n",
    "#         csv_writer = csv.writer(csvoutfile, delimiter=' ', lineterminator='\\n')\n",
    "#         csv_writer.writerows(transformed_rows)"
   ]
  },
  {
   "cell_type": "code",
   "execution_count": 6,
   "metadata": {
    "collapsed": false,
    "jupyter": {
     "outputs_hidden": false
    },
    "pycharm": {
     "is_executing": false,
     "name": "#%%\n"
    }
   },
   "outputs": [
    {
     "data": {
      "text/html": [
       "<div>\n",
       "<style scoped>\n",
       "    .dataframe tbody tr th:only-of-type {\n",
       "        vertical-align: middle;\n",
       "    }\n",
       "\n",
       "    .dataframe tbody tr th {\n",
       "        vertical-align: top;\n",
       "    }\n",
       "\n",
       "    .dataframe thead th {\n",
       "        text-align: right;\n",
       "    }\n",
       "</style>\n",
       "<table border=\"1\" class=\"dataframe\">\n",
       "  <thead>\n",
       "    <tr style=\"text-align: right;\">\n",
       "      <th></th>\n",
       "      <th>agency</th>\n",
       "      <th>brief_title</th>\n",
       "      <th>brief_summary</th>\n",
       "      <th>city</th>\n",
       "      <th>condition</th>\n",
       "      <th>country</th>\n",
       "      <th>detailed_description</th>\n",
       "      <th>eligibility</th>\n",
       "      <th>gender</th>\n",
       "      <th>keyword</th>\n",
       "      <th>mesh_term</th>\n",
       "      <th>official_title</th>\n",
       "      <th>overall_status</th>\n",
       "      <th>phase</th>\n",
       "      <th>state</th>\n",
       "      <th>url</th>\n",
       "    </tr>\n",
       "  </thead>\n",
       "  <tbody>\n",
       "    <tr>\n",
       "      <th>0</th>\n",
       "      <td>Fraunhofer Institute for Molecular Biology and...</td>\n",
       "      <td>PREVALENCE OF Anti-CCP POSITIVITY AND SUBCLINI...</td>\n",
       "      <td>Non-interventional, prospective, observational...</td>\n",
       "      <td>Frankfurt am Main</td>\n",
       "      <td>Rheumatoid Arthritis</td>\n",
       "      <td>Germany</td>\n",
       "      <td>Studies of early arthritis cohorts have shown ...</td>\n",
       "      <td>population without pre-classified RA but new o...</td>\n",
       "      <td>All</td>\n",
       "      <td>Anti-CCP</td>\n",
       "      <td>Arthritis</td>\n",
       "      <td>PREVALENCE OF ANTI-CYCLIC CITRULLINATED PEPTID...</td>\n",
       "      <td>Recruiting</td>\n",
       "      <td>Missing</td>\n",
       "      <td>Hessia</td>\n",
       "      <td>https://clinicaltrials.gov/show/NCT03267147</td>\n",
       "    </tr>\n",
       "    <tr>\n",
       "      <th>1</th>\n",
       "      <td>University of Washington</td>\n",
       "      <td>Aldesleukin and Pembrolizumab in Treating Pati...</td>\n",
       "      <td>This phase I trial studies the side effects an...</td>\n",
       "      <td>Seattle</td>\n",
       "      <td>Clear Cell Renal Cell Carcinoma</td>\n",
       "      <td>United States</td>\n",
       "      <td>PRIMARY OBJECTIVES: I. To evaluate the safety ...</td>\n",
       "      <td>Inclusion Criteria:  - Be willing and able to ...</td>\n",
       "      <td>All</td>\n",
       "      <td>Missing</td>\n",
       "      <td>Carcinoma</td>\n",
       "      <td>A Phase I Trial of Interleukin-2 (Aldesleukin)...</td>\n",
       "      <td>Recruiting</td>\n",
       "      <td>Phase 1</td>\n",
       "      <td>Washington</td>\n",
       "      <td>https://clinicaltrials.gov/show/NCT03260504</td>\n",
       "    </tr>\n",
       "    <tr>\n",
       "      <th>2</th>\n",
       "      <td>CSPC ZhongQi Pharmaceutical Technology Co., Ltd.</td>\n",
       "      <td>Nab-Paclitaxel Versus Paclitaxel Plus Carbopla...</td>\n",
       "      <td>This is a randomized, multicenter, open, contr...</td>\n",
       "      <td>Missing</td>\n",
       "      <td>Non-small Cell Lung Cancer</td>\n",
       "      <td>Missing</td>\n",
       "      <td>Subjects will receive one of two treatment reg...</td>\n",
       "      <td>Inclusion Criteria:  - Accepted the purpose of...</td>\n",
       "      <td>All</td>\n",
       "      <td>Missing</td>\n",
       "      <td>Lung Neoplasms</td>\n",
       "      <td>The Randomized,Open, Multicenter Phase III Stu...</td>\n",
       "      <td>Not yet recruiting</td>\n",
       "      <td>Phase 3</td>\n",
       "      <td>Missing</td>\n",
       "      <td>https://clinicaltrials.gov/show/NCT03262948</td>\n",
       "    </tr>\n",
       "    <tr>\n",
       "      <th>3</th>\n",
       "      <td>Fraunhofer Institute for Molecular Biology and...</td>\n",
       "      <td>PREVALENCE OF Anti-CCP POSITIVITY AND SUBCLINI...</td>\n",
       "      <td>Non-interventional, prospective, observational...</td>\n",
       "      <td>Frankfurt am Main</td>\n",
       "      <td>Rheumatoid Arthritis</td>\n",
       "      <td>Germany</td>\n",
       "      <td>Studies of early arthritis cohorts have shown ...</td>\n",
       "      <td>population without pre-classified RA but new o...</td>\n",
       "      <td>All</td>\n",
       "      <td>Anti-CCP</td>\n",
       "      <td>Arthritis</td>\n",
       "      <td>PREVALENCE OF ANTI-CYCLIC CITRULLINATED PEPTID...</td>\n",
       "      <td>Recruiting</td>\n",
       "      <td>Missing</td>\n",
       "      <td>Hessia</td>\n",
       "      <td>https://clinicaltrials.gov/show/NCT03267147</td>\n",
       "    </tr>\n",
       "    <tr>\n",
       "      <th>4</th>\n",
       "      <td>Chang Gung Memorial Hospital</td>\n",
       "      <td>Analgesic Effect of Low Level Laser for Proced...</td>\n",
       "      <td>Neonates undergo several painful procedures an...</td>\n",
       "      <td>Kaohsiung</td>\n",
       "      <td>Procedural Pain</td>\n",
       "      <td>Taiwan</td>\n",
       "      <td>This open-label, randomized controlled trial i...</td>\n",
       "      <td>Inclusion Criteria:  - healthy fullterm neonat...</td>\n",
       "      <td>All</td>\n",
       "      <td>neonates</td>\n",
       "      <td>Pain, Procedural</td>\n",
       "      <td>Analgesic Effect of Low Level Laser for Proced...</td>\n",
       "      <td>Recruiting</td>\n",
       "      <td>Missing</td>\n",
       "      <td>Missing</td>\n",
       "      <td>https://clinicaltrials.gov/show/NCT03268148</td>\n",
       "    </tr>\n",
       "  </tbody>\n",
       "</table>\n",
       "</div>"
      ],
      "text/plain": [
       "                                              agency  \\\n",
       "0  Fraunhofer Institute for Molecular Biology and...   \n",
       "1                           University of Washington   \n",
       "2   CSPC ZhongQi Pharmaceutical Technology Co., Ltd.   \n",
       "3  Fraunhofer Institute for Molecular Biology and...   \n",
       "4                       Chang Gung Memorial Hospital   \n",
       "\n",
       "                                         brief_title  \\\n",
       "0  PREVALENCE OF Anti-CCP POSITIVITY AND SUBCLINI...   \n",
       "1  Aldesleukin and Pembrolizumab in Treating Pati...   \n",
       "2  Nab-Paclitaxel Versus Paclitaxel Plus Carbopla...   \n",
       "3  PREVALENCE OF Anti-CCP POSITIVITY AND SUBCLINI...   \n",
       "4  Analgesic Effect of Low Level Laser for Proced...   \n",
       "\n",
       "                                       brief_summary               city  \\\n",
       "0  Non-interventional, prospective, observational...  Frankfurt am Main   \n",
       "1  This phase I trial studies the side effects an...            Seattle   \n",
       "2  This is a randomized, multicenter, open, contr...            Missing   \n",
       "3  Non-interventional, prospective, observational...  Frankfurt am Main   \n",
       "4  Neonates undergo several painful procedures an...          Kaohsiung   \n",
       "\n",
       "                         condition        country  \\\n",
       "0             Rheumatoid Arthritis        Germany   \n",
       "1  Clear Cell Renal Cell Carcinoma  United States   \n",
       "2       Non-small Cell Lung Cancer        Missing   \n",
       "3             Rheumatoid Arthritis        Germany   \n",
       "4                  Procedural Pain         Taiwan   \n",
       "\n",
       "                                detailed_description  \\\n",
       "0  Studies of early arthritis cohorts have shown ...   \n",
       "1  PRIMARY OBJECTIVES: I. To evaluate the safety ...   \n",
       "2  Subjects will receive one of two treatment reg...   \n",
       "3  Studies of early arthritis cohorts have shown ...   \n",
       "4  This open-label, randomized controlled trial i...   \n",
       "\n",
       "                                         eligibility gender   keyword  \\\n",
       "0  population without pre-classified RA but new o...    All  Anti-CCP   \n",
       "1  Inclusion Criteria:  - Be willing and able to ...    All   Missing   \n",
       "2  Inclusion Criteria:  - Accepted the purpose of...    All   Missing   \n",
       "3  population without pre-classified RA but new o...    All  Anti-CCP   \n",
       "4  Inclusion Criteria:  - healthy fullterm neonat...    All  neonates   \n",
       "\n",
       "          mesh_term                                     official_title  \\\n",
       "0         Arthritis  PREVALENCE OF ANTI-CYCLIC CITRULLINATED PEPTID...   \n",
       "1         Carcinoma  A Phase I Trial of Interleukin-2 (Aldesleukin)...   \n",
       "2    Lung Neoplasms  The Randomized,Open, Multicenter Phase III Stu...   \n",
       "3         Arthritis  PREVALENCE OF ANTI-CYCLIC CITRULLINATED PEPTID...   \n",
       "4  Pain, Procedural  Analgesic Effect of Low Level Laser for Proced...   \n",
       "\n",
       "       overall_status    phase       state  \\\n",
       "0          Recruiting  Missing      Hessia   \n",
       "1          Recruiting  Phase 1  Washington   \n",
       "2  Not yet recruiting  Phase 3     Missing   \n",
       "3          Recruiting  Missing      Hessia   \n",
       "4          Recruiting  Missing     Missing   \n",
       "\n",
       "                                           url  \n",
       "0  https://clinicaltrials.gov/show/NCT03267147  \n",
       "1  https://clinicaltrials.gov/show/NCT03260504  \n",
       "2  https://clinicaltrials.gov/show/NCT03262948  \n",
       "3  https://clinicaltrials.gov/show/NCT03267147  \n",
       "4  https://clinicaltrials.gov/show/NCT03268148  "
      ]
     },
     "execution_count": 6,
     "metadata": {},
     "output_type": "execute_result"
    }
   ],
   "source": [
    "df = df.drop(columns='Unnamed: 0')\n",
    "df.head()"
   ]
  },
  {
   "cell_type": "code",
   "execution_count": 7,
   "metadata": {
    "collapsed": false,
    "jupyter": {
     "outputs_hidden": false
    },
    "pycharm": {
     "is_executing": false,
     "name": "#%%\n"
    }
   },
   "outputs": [],
   "source": [
    "df['search_terms'] = (df['mesh_term'].str.lower()\n",
    "                      + ' ' + df['condition'].str.lower() \n",
    "                      + ' ' + df['keyword'].str.lower()\n",
    "                      + ' ' + df['brief_summary'].str.lower()\n",
    "                      + ' ' + df['official_title'].str.lower()\n",
    "                      + ' ' + df['detailed_description'].str.lower()\n",
    "                      + ' ' + df['eligibility'].str.lower()\n",
    "                      )"
   ]
  },
  {
   "cell_type": "code",
   "execution_count": 8,
   "metadata": {
    "collapsed": false,
    "jupyter": {
     "outputs_hidden": false
    },
    "pycharm": {
     "is_executing": false,
     "name": "#%%\n"
    }
   },
   "outputs": [
    {
     "data": {
      "text/plain": [
       "'arthritis rheumatoid arthritis anti-ccp non-interventional, prospective, observational study to assess the relative risk of anti-ccp positive patients to develop (subclinical) signs of inflammation in accordance with early rheumatoid arthritis (ra) in a population without pre-classified ra but new1 onset of non-specific musculoskeletal (msk) symptoms in general practices in germany and subsequent 36 months follow-up by rheumatologists prevalence of anti-cyclic citrullinated peptide (anti-ccp) positivity and subclinical signs of inflammation in patients with new onset of non-specific musculoskeletal symptoms possibly related to early rheumatoid arthritis in general practices in germany studies of early arthritis cohorts have shown that a large number of early arthritis patients cannot be accurately diagnosed at their first visit, and hence are often referred as undifferentiated arthritis patients. if patients are found to be anti-ccp(+) when referred to the clinician, however, more than 90 percent develop ra within 3 years - in contrast to only 30 percent of the anti-ccp(-) patients. the presence of anti-ccp antibodies in undifferentiated arthritis therefore accurately predicts development of ra. anti-ccp antibodies are very specific for ra, and they are produced at significant level very early in disease. the specificity of anti-ccp antibodies for the diagnosis of ra is high (94.1-99.0 percent). moreover, it has been reported that anti-ccp antibodies can be present many years before the first visit to the clinic (up to 18 years). furthermore, the presence of anti-ccp antibodies at the first visit to the clinician predicts radiographic progression, as demonstrated by many studies that have shown a strong association of anti-ccp positivity with the development of bone erosions.early diagnosis of ra coupled with rational use of disease-modifying anti-rheumatic drugs (dmard) has been shown to have a favourable effect on the course of the disease. early and accurate diagnosis has therefore become increasingly important. implementing anti-ccp quick tests in general practices could facilitate an early detection of ra or the allocation to a high risk ra group. this, in turn, would guarantee an early referral of the patient to a rheumatologist and together with other clinical examinations can aid in the early diagnosis and treatment. as has been shown in many studies an early intervention is vital to preserve joint function and to improve patient care. in this study, we want to assess the relative risk for patients derived from gps in germany with new onset of non-specific msk symptoms and anti-ccp test positivity to develop (subclinical) signs of inflammation in accordance with early ra. those patients will be identified in general practices and will be tested for anti-ccp status. anti-ccp positive patients will then be introduced to a rheumatologist to validate anti-ccp status and examine presence of clinical signs of early ra in addition to subclinical signs of msk inflammation. furthermore, to focus on the possibility of early detection of anti-ccp before the onset of clinically active arthritis, patients will be followed-up by a rheumatologist until detection of early ra or up to 36 months in total. early ra will be examined using standard of care for signs of inflammation including clinical examination for swollen and tender joints. in addition, ultrasound will be performed to assess joint inflammation as well as fluorescence optical imaging technique (xiralite®) to sensitively illustrate changes in microvascularisation as a marker of subclinical inflammation. in cases of ra diagnosis, the study ends with the date of diagnosis and patients will receive treatment according to local guidelines earlier and medical care will be continued in clinical routine care conditions outside of the study. moreover, the cooperation status between gps and rheumatologists will be evaluated using qualitative interviews. feasibility of the diagnosis of early ra in at risk patients as well as the feasibility of the transferral of these patients from the general practice to the rheumatologist will be assessed. training of gps for detection of early ra will be improved. overall, the hypothesis of the study is that patients with new onset of unspecific msk-symptoms and who are positive for anti-ccp, which both are risk factors for developing ra, will be earlier introduced to and monitored by a rheumatologist for proper clinical examination and potential treatment when establishing ra, which in turn will not only improve patient care, disease outcomes and quality of life, but might also be cost effective. population without pre-classified ra but new onset of non-specific musculoskeletal (msk)  symptoms non-probability sample  inclusion criteria:  - new onset of non-specific msk symptoms, including, but not limited to, arthralgia of  the hands and the large joints such as wrists, knees, and shoulders  - written informed consent obtained prior to the initiation of any study  protocol-required procedures  - general understanding of study procedure and informed consent  - age ≥ 18 and ≤ 65 years  exclusion criteria:  - ra diagnosed according to modified eular/acr (american college of  rheumatology)-criteria  - known arthritis  - known reasons for msk symptoms, e.g. mechanical, traumatic, etc.  - msk symptoms previously reported at another (general) practice  - alcohol, drug or chemical abuse  - underage or incapable patients all 18 years 65 years no'"
      ]
     },
     "execution_count": 8,
     "metadata": {},
     "output_type": "execute_result"
    }
   ],
   "source": [
    "df['search_terms'].iloc[0]"
   ]
  },
  {
   "cell_type": "code",
   "execution_count": 9,
   "metadata": {
    "collapsed": false,
    "jupyter": {
     "outputs_hidden": false
    },
    "pycharm": {
     "is_executing": false,
     "name": "#%%\n"
    }
   },
   "outputs": [],
   "source": [
    "def set_o_strings(strings):\n",
    "    new = OrderedDict()\n",
    "    for string in strings.split():\n",
    "        new[string] = ''\n",
    "    return u\" \".join(new.keys())"
   ]
  },
  {
   "cell_type": "code",
   "execution_count": 10,
   "metadata": {
    "collapsed": false,
    "jupyter": {
     "outputs_hidden": false
    },
    "pycharm": {
     "is_executing": false,
     "name": "#%%\n"
    }
   },
   "outputs": [],
   "source": [
    "def replace_missing(string):\n",
    "    new = re.sub('missing', '', string)\n",
    "    new = re.sub('-', ' ', new)\n",
    "    new = re.sub('\\(\\S*\\)', '', new)\n",
    "    return u\"{}\".format(new)"
   ]
  },
  {
   "cell_type": "code",
   "execution_count": 11,
   "metadata": {
    "collapsed": false,
    "jupyter": {
     "outputs_hidden": false
    },
    "pycharm": {
     "is_executing": false,
     "name": "#%%\n"
    }
   },
   "outputs": [
    {
     "data": {
      "text/plain": [
       "22471"
      ]
     },
     "execution_count": 11,
     "metadata": {},
     "output_type": "execute_result"
    }
   ],
   "source": [
    "search_terms = df['search_terms'].apply(replace_missing).values\n",
    "# search_terms = df['search_terms'].apply(set_o_strings).values\n",
    "len(search_terms)"
   ]
  },
  {
   "cell_type": "code",
   "execution_count": 12,
   "metadata": {},
   "outputs": [],
   "source": [
    "test_terms = search_terms.copy()[-2471:]\n",
    "search_terms = search_terms[:20000]"
   ]
  },
  {
   "cell_type": "code",
   "execution_count": 13,
   "metadata": {},
   "outputs": [
    {
     "data": {
      "text/plain": [
       "(20000, 2471)"
      ]
     },
     "execution_count": 13,
     "metadata": {},
     "output_type": "execute_result"
    }
   ],
   "source": [
    "len(search_terms), len(test_terms)"
   ]
  },
  {
   "cell_type": "code",
   "execution_count": 14,
   "metadata": {},
   "outputs": [
    {
     "data": {
      "text/plain": [
       "'urinary bladder neoplasms muscle invasive bladder cancer muscle invasive bladder cancer muscle invasive  and/or metastatic bladder cancer is associated with poor prognosis and no target therapies for this pathology are currently validated. by 40 gene expression signature realized on frozen samples, we have previously identified an aggressive sub class of mibc, called basal. this sub class (20 percent of mibc) showed strong egfr dependence in vitro and in vivo (rebouissou et al. science translational medicine 2014). this observation suggests a possible response to egfr targeted therapy in patients of this subgroup. our aim is to establish a standard diagnostic tool to differentiate the basal subtype of bladder cancer and evaluate the effect of anti egfr therapy, by analyzing previous clinical trial  and preclinical models, which compare the classical chemotherapy to anti egfr associated chemotherapy. identification and treatments of basal like bladder cancer (study on human tumor samples and animal models) the aim of this study is:  1. to validate a diagnostic test for formalin fixed paraffin embedded  samples by  nanostring technology, using the 40 genes signature as reference. first, we will compare  frozen and ffpe tissues , to establish a transcriptional signature in ffpe  samples. secondly, to further characterize basal subtype of bladder cancer, we will  study the mutational and gain/loss landscape and immunohistochemistry markers in a new  series of tumors after classifying them by our gene signature . these  characteristics will be included in a new signature by defining the optimal prediction  discrimination aic et net reclassification index.  2. to assess the prognosis after cisplatine treatment in 510 patients treated by cystectomy  with or without adjuvant chemotherapy (pt2/pt3/pt4, n0 or n+) and in another  multicentric series of 188 patients treated by cystectomy and adjuvant chemotherapy  (pt3/pt4 et/ou n+). uni and multi variant analysis will be realized by adjusted cox  model, and the added value of basal subtype as compared to standard prognostic factors  will be evaluated. the propensity score will be realized to assess the association of  basal subtype and response to chemotherapy. the anti egfr response will be analyzed in  the clinical trial getug19 which uses panitumumab in patients with metastatic urothelial  carcinomas   3. to study the treatment response in preclinical models. we characterized previously  preclinical murine models derived from xenografts of mibc (n=14 and new xenografts will  be added). we will study the effect of anti egfr alone or in combination with  chemotherapy in basal and non basal subtypes of xenografts. by this study we will be able to better characterize the basal subtype of bladder cancer and confirm its aggressive behaviour as compared to other subtypes of mibc. these results will further help to establish new clinical trials which include anti egfr in patients of basal subtype. patients with bladder cancer from 4 cohorts    2 observational cohorts of patients with muscle invasive bladder cancer (all stages)  from two henri mondor  and foch  hospitals    1 multicentric observational cohort of patients with locally advanced muscle invasive  bladder cancer trated by adjuvantchemotherapy after cystectomy    1 clinical trial getug 19 (mvac + panitumumab) non probability sample  inclusion criteria:  muscle invasive bladder cancer treatment by cystectomy adjuvant chemotherapy for 3rd cohort  clinical trial getug 19 for 4th cohort  exclusion criteria:  ffpe material not available follow up data not available all 18 years 70 years no'"
      ]
     },
     "execution_count": 14,
     "metadata": {},
     "output_type": "execute_result"
    }
   ],
   "source": [
    "test_terms[1]"
   ]
  },
  {
   "cell_type": "code",
   "execution_count": 15,
   "metadata": {
    "pycharm": {
     "is_executing": false,
     "name": "#%%\n"
    }
   },
   "outputs": [
    {
     "data": {
      "text/plain": [
       "'carcinoma clear cell renal cell carcinoma  this phase i trial studies the side effects and best dose of aldesleukin when given together with pembrolizumab in treating patients with kidney cancer that has spread to other parts of the body. aldesleukin may stimulate white blood cells to kill kidney cancer cells. monoclonal antibodies, such as pembrolizumab, may interfere with the ability of tumor cells to grow and spread. giving aldesleukin and pembrolizumab may work better in treating patients with kidney cancer. a phase i trial of interleukin 2  and pembrolizumab combination therapy for patients with advanced renal cell carcinoma primary objectives: i. to evaluate the safety and tolerability of aldesleukin (il 2) combined with pembrolizumab (mk 3475) in patients with metastatic clear cell renal cell carcinoma . secondary objectives: i. to assess preliminary antitumor activity of pembrolizumab in combination with il 2. exploratory objectives: i. to investigate the association of pd l1 protein expression by pretreatment tumor with response to treatment. ii. to investigate the association of regulatory t cell  frequency and treg to effector t cell  ratios in peripheral blood and tumor tissue with response to therapy. iii. to investigate the association of de novo serological and cellular responses against the ubiquitous rcc tumor antigen 5t4 with response to therapy. iv. to investigate the association of tumor infiltrating lymphocyte  repertoire clonality with response to therapy and to assess the detection of dominant til clones within peripheral blood over time in responding patients. v. to investigate the association of whole genome copy number alterations measured on pretreatment archived, formalin fixed, paraffin embedded  tumor with response to therapy. outline: this is a dose escalation study of aldesleukin. patients receive pembrolizumab intravenously  over 30 minutes on day 1. patients also receive aldesleukin subcutaneously  weekly on days 1 5 of courses 1 and 2 or aldesleukin iv on days 2 6 of courses 1 and 2. treatment repeats every 3 weeks for up to 4 courses in the absence of disease progression or unacceptable toxicity. after completion of study treatment, patients are followed up for every 3 months for up to 1 year. inclusion criteria:    be willing and able to provide written informed consent for the trial    have histologic confirmation of rcc with a clear cell component    have advanced (not amenable to potentially curative surgery) or metastatic rcc    have measurable disease based on response evaluation criteria in solid tumors   1.1    available tissue from an archival tissue sample or newly obtained core or excisional  biopsy of a tumor lesion    have a performance status of 0 or 1 on the eastern cooperative oncology group   performance scale    absolute neutrophil count  >= 1,500 /mcl    platelets >= 100,000/mcl    hemoglobin >= 9 g/dl or >= 5.6 mmol/l    serum creatinine =< 1.5 x upper limit of normal  or measured or calculated  creatinine clearance (glomerular filtration rate [gfr] can also be used in place of  creatinine or crcl) >= 40 ml/min for subject with creatinine levels > 1.5 x  institutional uln; creatinine clearance should be calculated by cockcroft gault    serum total bilirubin =< 1.5 x uln or direct bilirubin =< uln for subjects with total  bilirubin levels > 1.5 uln    aspartate aminotransferase  (serum glutamic oxaloacetic transaminase [sgot]) and  alanine aminotransferase  (serum glutamic pyruvic transaminase [sgpt]) =< 2.5 x  uln or =< 5 x uln for subjects with liver metastases    international normalized ratio  or prothrombin time  =< 1.5 x uln unless  subject is receiving anticoagulant therapy as long as pt or partial thromboplastin  time  is within therapeutic range of intended use of anticoagulants    activated partial thromboplastin time  =< 1.5 x uln unless subject is receiving  anticoagulant therapy as long as pt or ptt is within therapeutic range of intended use  of anticoagulants    forced expiratory volume in 1 second  and forced vital capacity  >= 65 percent of  predicted (patients >= 40 years old)    left ventricular ejection fraction  >= 50 percent measured by multigated acquisition   scan, echo, or stress test study with myocardial perfusion imaging    normal/negative cardiac stress testing with myocardial perfusion imaging or cardiac  catheterization with non significant angiogram findings reviewed by a cardiology  consultant (dose level 3 and >= 40 years old)    female subject of childbearing potential should have a negative urine or serum  pregnancy test within 72 hours prior to receiving the first dose of study medication;  if the urine test is positive or cannot be confirmed as negative, a serum pregnancy  test will be required    female subjects of childbearing potential should be willing to use 2 methods of birth  control or be surgically sterile, or abstain from heterosexual activity for the course  of the study through 120 days after the last dose of study medication; subjects of  childbearing potential are those who have not been surgically sterilized or have not  been free from menses for > 1 year    male subjects should agree to use an adequate method of contraception starting with  the first dose of study therapy through 120 days after the last dose of study therapy  exclusion criteria:    (dose levels 1 and 2)   may have received one or more systemic treatments or regimens  for metastatic rcc; (dose level 3)   cannot have received prior systemic treatment for  rcc    has received prior therapy with an anti pd 1, anti pd l1, anti pd l2, anti cd137, or  anti cytotoxic t lymphocyte associated antigen 4 (ctla 4) antibody (including  ipilimumab or any other antibody or drug specifically targeting t cell co stimulation  or checkpoint pathways)    has received prior therapy with il 2 or other investigational systemic cytokine  therapy signaling through a common gamma chain cytokine receptor including il 7, il 15  or il 21    is currently participating in or has participated in a study of an investigational  agent or using an investigational device within 4 weeks of the first dose of treatment    has had a prior monoclonal antibody within 4 weeks prior to study day 1 or who has not  recovered (i.e., =< grade 1 or at baseline) from adverse events due to agents  administered more than 4 weeks earlier    has had prior chemotherapy, targeted small molecule therapy, or radiation therapy  within 2 weeks prior to study day 1 or who has not recovered (i.e., =< grade 1 or at  baseline) from adverse events due to a previously administered agent    note: if subject received major surgery, they must have recovered adequately from   the toxicity and/or complications from the intervention prior to starting therapy    has a known additional malignancy that is progressing or requires active treatment;  exceptions include locally curable cancers such as basal cell carcinoma of the skin,  squamous cell carcinoma of the skin, superficial bladder cancer, or carcinoma in situ  of the cervix or breast that has undergone potentially curative therapy    has known active central nervous system  metastases and/or carcinomatous  meningitis    (dose level 1) subjects with previously treated brain metastases may participate   provided they are stable (without evidence of progression by imaging for at least   four weeks prior to the first dose of trial treatment and any neurologic symptoms   have returned to baseline), have no evidence of new or enlarging brain   metastases, and are not using steroids for at least 7 days prior to trial   treatment    (dose level 2 and 3) subjects may not have any history of or current cns   metastases; baseline imaging of the brain is required within 28 days prior to the   start of study treatments    has a diagnosis of immunodeficiency or is receiving systemic steroid therapy or any  other form of immunosuppressive therapy within 7 days prior to the first dose of trial  treatment    has an active autoimmune disease requiring systemic treatment within the past 3 months  or a documented history of clinically severe autoimmune disease, or a syndrome that  requires systemic steroids or immunosuppressive agents; subjects with vitiligo or  resolved childhood asthma/atopy would be an exception to this rule; subjects that  require intermittent use of bronchodilators or local steroid injections would not be  excluded from the study; subjects with hypothyroidism stable on hormone replacement or  sjorgen`s syndrome will not be excluded from the study    has history of (non infectious) pneumonitis that required steroids or active,  non infectious pneumonitis    ongoing symptomatic cardiac dysrhythmias, uncontrolled atrial fibrillation, or  prolongation of the corrected qt interval defined as > 450 msec for males and > 470  msec for female    history of any of the following cardiovascular conditions within 6 months of  enrollment: cardiac angioplasty or stenting, myocardial infarction, unstable angina,  coronary artery bypass graft surgery, class iii or iv congestive heart failure as  defined by the new york heart association, symptomatic peripheral vascular disease,  cerebrovascular accident, or transient ischemic attack    has an active infection requiring systemic therapy    has a history or current evidence of any condition, therapy, or laboratory abnormality  that might confound the results of the trial, interfere with the subject`s  participation for the full duration of the trial, or is not in the best interest of  the subject to participate, in the opinion of the treating investigator    has known psychiatric or substance abuse disorders that would interfere with  cooperation with the requirements of the trial    is pregnant or breastfeeding, or expecting to conceive or father children within the  projected duration of the trial, starting with the pre screening or screening visit  through 120 days after the last dose of trial treatment    has a known history of human immunodeficiency virus  (hiv 1/2 antibodies)    has known active hepatitis b (e.g., hepatitis b surface antigen [hbsag] reactive) or  hepatitis c (e.g., hepatitis c virus [hcv] ribonucleic acid [rna] [qualitative] is  detected)    has received a live vaccine within 30 days prior to the first dose of trial treatment;  note: seasonal influenza vaccines for injection are generally inactivated flu vaccines  and are allowed; however intranasal influenza vaccines (e.g., flu mist) are live  attenuated vaccines, and are not allowed all 18 years n/a no'"
      ]
     },
     "execution_count": 15,
     "metadata": {},
     "output_type": "execute_result"
    }
   ],
   "source": [
    "search_terms[1]"
   ]
  },
  {
   "cell_type": "code",
   "execution_count": 16,
   "metadata": {
    "pycharm": {
     "is_executing": false,
     "name": "#%%\n"
    }
   },
   "outputs": [],
   "source": [
    "def tokenize(text):\n",
    "    return [token for token in simple_preprocess(text) if token not in STOPWORDS]"
   ]
  },
  {
   "cell_type": "code",
   "execution_count": 17,
   "metadata": {
    "pycharm": {
     "is_executing": false,
     "name": "#%%\n"
    }
   },
   "outputs": [],
   "source": [
    "pool = Pool(processes=multiprocessing.cpu_count())\n",
    "\n",
    "keyword_tokens = pool.map(tokenize, search_terms)"
   ]
  },
  {
   "cell_type": "code",
   "execution_count": 18,
   "metadata": {
    "collapsed": true,
    "jupyter": {
     "outputs_hidden": true
    },
    "pycharm": {
     "is_executing": false,
     "name": "#%%\n"
    }
   },
   "outputs": [
    {
     "data": {
      "text/plain": [
       "['carcinoma',\n",
       " 'clear',\n",
       " 'cell',\n",
       " 'renal',\n",
       " 'cell',\n",
       " 'carcinoma',\n",
       " 'best',\n",
       " 'dose',\n",
       " 'aldesleukin',\n",
       " 'given',\n",
       " 'pembrolizumab',\n",
       " 'treating',\n",
       " 'kidney',\n",
       " 'cancer',\n",
       " 'spread',\n",
       " 'parts',\n",
       " 'body',\n",
       " 'aldesleukin',\n",
       " 'stimulate',\n",
       " 'white',\n",
       " 'blood',\n",
       " 'cells',\n",
       " 'kill',\n",
       " 'kidney',\n",
       " 'cancer',\n",
       " 'cells',\n",
       " 'monoclonal',\n",
       " 'antibodies',\n",
       " 'pembrolizumab',\n",
       " 'interfere',\n",
       " 'ability',\n",
       " 'tumor',\n",
       " 'cells',\n",
       " 'grow',\n",
       " 'spread',\n",
       " 'giving',\n",
       " 'aldesleukin',\n",
       " 'pembrolizumab',\n",
       " 'work',\n",
       " 'better',\n",
       " 'treating',\n",
       " 'kidney',\n",
       " 'cancer',\n",
       " 'interleukin',\n",
       " 'pembrolizumab',\n",
       " 'combination',\n",
       " 'advanced',\n",
       " 'renal',\n",
       " 'cell',\n",
       " 'carcinoma',\n",
       " 'primary',\n",
       " 'objectives',\n",
       " 'tolerability',\n",
       " 'aldesleukin',\n",
       " 'il',\n",
       " 'combined',\n",
       " 'pembrolizumab',\n",
       " 'mk',\n",
       " 'metastatic',\n",
       " 'clear',\n",
       " 'cell',\n",
       " 'renal',\n",
       " 'cell',\n",
       " 'carcinoma',\n",
       " 'secondary',\n",
       " 'objectives',\n",
       " 'preliminary',\n",
       " 'antitumor',\n",
       " 'activity',\n",
       " 'pembrolizumab',\n",
       " 'combination',\n",
       " 'il',\n",
       " 'exploratory',\n",
       " 'objectives',\n",
       " 'investigate',\n",
       " 'association',\n",
       " 'pd',\n",
       " 'protein',\n",
       " 'expression',\n",
       " 'pretreatment',\n",
       " 'tumor',\n",
       " 'response',\n",
       " 'ii',\n",
       " 'investigate',\n",
       " 'association',\n",
       " 'regulatory',\n",
       " 'cell',\n",
       " 'frequency',\n",
       " 'treg',\n",
       " 'effector',\n",
       " 'cell',\n",
       " 'ratios',\n",
       " 'peripheral',\n",
       " 'blood',\n",
       " 'tumor',\n",
       " 'tissue',\n",
       " 'response',\n",
       " 'iii',\n",
       " 'investigate',\n",
       " 'association',\n",
       " 'novo',\n",
       " 'serological',\n",
       " 'cellular',\n",
       " 'responses',\n",
       " 'ubiquitous',\n",
       " 'rcc',\n",
       " 'tumor',\n",
       " 'antigen',\n",
       " 'response',\n",
       " 'iv',\n",
       " 'investigate',\n",
       " 'association',\n",
       " 'tumor',\n",
       " 'infiltrating',\n",
       " 'lymphocyte',\n",
       " 'repertoire',\n",
       " 'clonality',\n",
       " 'response',\n",
       " 'detection',\n",
       " 'dominant',\n",
       " 'til',\n",
       " 'clones',\n",
       " 'peripheral',\n",
       " 'blood',\n",
       " 'responding',\n",
       " 'investigate',\n",
       " 'association',\n",
       " 'genome',\n",
       " 'copy',\n",
       " 'number',\n",
       " 'alterations',\n",
       " 'measured',\n",
       " 'pretreatment',\n",
       " 'archived',\n",
       " 'formalin',\n",
       " 'fixed',\n",
       " 'paraffin',\n",
       " 'embedded',\n",
       " 'tumor',\n",
       " 'response',\n",
       " 'outline',\n",
       " 'dose',\n",
       " 'escalation',\n",
       " 'aldesleukin',\n",
       " 'receive',\n",
       " 'pembrolizumab',\n",
       " 'intravenously',\n",
       " 'minutes',\n",
       " 'day',\n",
       " 'receive',\n",
       " 'aldesleukin',\n",
       " 'subcutaneously',\n",
       " 'weekly',\n",
       " 'courses',\n",
       " 'aldesleukin',\n",
       " 'iv',\n",
       " 'courses',\n",
       " 'repeats',\n",
       " 'courses',\n",
       " 'absence',\n",
       " 'progression',\n",
       " 'unacceptable',\n",
       " 'toxicity',\n",
       " 'completion',\n",
       " 'followed',\n",
       " 'year',\n",
       " 'inclusion',\n",
       " 'criteria',\n",
       " 'willing',\n",
       " 'able',\n",
       " 'provide',\n",
       " 'written',\n",
       " 'informed',\n",
       " 'consent',\n",
       " 'histologic',\n",
       " 'confirmation',\n",
       " 'rcc',\n",
       " 'clear',\n",
       " 'cell',\n",
       " 'component',\n",
       " 'advanced',\n",
       " 'amenable',\n",
       " 'potentially',\n",
       " 'curative',\n",
       " 'surgery',\n",
       " 'metastatic',\n",
       " 'rcc',\n",
       " 'measurable',\n",
       " 'based',\n",
       " 'response',\n",
       " 'evaluation',\n",
       " 'criteria',\n",
       " 'solid',\n",
       " 'tumors',\n",
       " 'available',\n",
       " 'tissue',\n",
       " 'archival',\n",
       " 'tissue',\n",
       " 'sample',\n",
       " 'newly',\n",
       " 'obtained',\n",
       " 'core',\n",
       " 'excisional',\n",
       " 'biopsy',\n",
       " 'tumor',\n",
       " 'lesion',\n",
       " 'performance',\n",
       " 'status',\n",
       " 'eastern',\n",
       " 'cooperative',\n",
       " 'oncology',\n",
       " 'performance',\n",
       " 'scale',\n",
       " 'absolute',\n",
       " 'neutrophil',\n",
       " 'count',\n",
       " 'mcl',\n",
       " 'platelets',\n",
       " 'mcl',\n",
       " 'hemoglobin',\n",
       " 'dl',\n",
       " 'mmol',\n",
       " 'serum',\n",
       " 'creatinine',\n",
       " 'upper',\n",
       " 'limit',\n",
       " 'normal',\n",
       " 'measured',\n",
       " 'calculated',\n",
       " 'creatinine',\n",
       " 'clearance',\n",
       " 'glomerular',\n",
       " 'filtration',\n",
       " 'rate',\n",
       " 'gfr',\n",
       " 'place',\n",
       " 'creatinine',\n",
       " 'crcl',\n",
       " 'ml',\n",
       " 'min',\n",
       " 'subject',\n",
       " 'creatinine',\n",
       " 'levels',\n",
       " 'institutional',\n",
       " 'uln',\n",
       " 'creatinine',\n",
       " 'clearance',\n",
       " 'calculated',\n",
       " 'cockcroft',\n",
       " 'gault',\n",
       " 'serum',\n",
       " 'total',\n",
       " 'bilirubin',\n",
       " 'uln',\n",
       " 'direct',\n",
       " 'bilirubin',\n",
       " 'uln',\n",
       " 'total',\n",
       " 'bilirubin',\n",
       " 'levels',\n",
       " 'uln',\n",
       " 'aspartate',\n",
       " 'serum',\n",
       " 'glutamic',\n",
       " 'oxaloacetic',\n",
       " 'transaminase',\n",
       " 'sgot',\n",
       " 'alanine',\n",
       " 'serum',\n",
       " 'glutamic',\n",
       " 'pyruvic',\n",
       " 'transaminase',\n",
       " 'sgpt',\n",
       " 'uln',\n",
       " 'uln',\n",
       " 'liver',\n",
       " 'metastases',\n",
       " 'international',\n",
       " 'normalized',\n",
       " 'prothrombin',\n",
       " 'uln',\n",
       " 'subject',\n",
       " 'receiving',\n",
       " 'anticoagulant',\n",
       " 'long',\n",
       " 'pt',\n",
       " 'partial',\n",
       " 'thromboplastin',\n",
       " 'therapeutic',\n",
       " 'range',\n",
       " 'intended',\n",
       " 'anticoagulants',\n",
       " 'activated',\n",
       " 'partial',\n",
       " 'thromboplastin',\n",
       " 'uln',\n",
       " 'subject',\n",
       " 'receiving',\n",
       " 'anticoagulant',\n",
       " 'long',\n",
       " 'pt',\n",
       " 'ptt',\n",
       " 'therapeutic',\n",
       " 'range',\n",
       " 'intended',\n",
       " 'anticoagulants',\n",
       " 'forced',\n",
       " 'expiratory',\n",
       " 'volume',\n",
       " 'second',\n",
       " 'forced',\n",
       " 'vital',\n",
       " 'capacity',\n",
       " 'predicted',\n",
       " 'years',\n",
       " 'old',\n",
       " 'left',\n",
       " 'ventricular',\n",
       " 'ejection',\n",
       " 'fraction',\n",
       " 'measured',\n",
       " 'multigated',\n",
       " 'acquisition',\n",
       " 'scan',\n",
       " 'echo',\n",
       " 'stress',\n",
       " 'myocardial',\n",
       " 'perfusion',\n",
       " 'imaging',\n",
       " 'normal',\n",
       " 'negative',\n",
       " 'cardiac',\n",
       " 'stress',\n",
       " 'testing',\n",
       " 'myocardial',\n",
       " 'perfusion',\n",
       " 'imaging',\n",
       " 'cardiac',\n",
       " 'catheterization',\n",
       " 'significant',\n",
       " 'angiogram',\n",
       " 'findings',\n",
       " 'reviewed',\n",
       " 'cardiology',\n",
       " 'consultant',\n",
       " 'dose',\n",
       " 'level',\n",
       " 'years',\n",
       " 'old',\n",
       " 'female',\n",
       " 'subject',\n",
       " 'childbearing',\n",
       " 'potential',\n",
       " 'negative',\n",
       " 'urine',\n",
       " 'serum',\n",
       " 'pregnancy',\n",
       " 'hours',\n",
       " 'prior',\n",
       " 'receiving',\n",
       " 'dose',\n",
       " 'medication',\n",
       " 'urine',\n",
       " 'confirmed',\n",
       " 'negative',\n",
       " 'serum',\n",
       " 'pregnancy',\n",
       " 'required',\n",
       " 'female',\n",
       " 'childbearing',\n",
       " 'potential',\n",
       " 'willing',\n",
       " 'methods',\n",
       " 'birth',\n",
       " 'surgically',\n",
       " 'sterile',\n",
       " 'abstain',\n",
       " 'heterosexual',\n",
       " 'activity',\n",
       " 'course',\n",
       " 'dose',\n",
       " 'medication',\n",
       " 'childbearing',\n",
       " 'potential',\n",
       " 'surgically',\n",
       " 'sterilized',\n",
       " 'free',\n",
       " 'menses',\n",
       " 'year',\n",
       " 'male',\n",
       " 'agree',\n",
       " 'adequate',\n",
       " 'contraception',\n",
       " 'starting',\n",
       " 'dose',\n",
       " 'dose',\n",
       " 'exclusion',\n",
       " 'criteria',\n",
       " 'dose',\n",
       " 'levels',\n",
       " 'received',\n",
       " 'systemic',\n",
       " 'treatments',\n",
       " 'regimens',\n",
       " 'metastatic',\n",
       " 'rcc',\n",
       " 'dose',\n",
       " 'level',\n",
       " 'received',\n",
       " 'prior',\n",
       " 'systemic',\n",
       " 'rcc',\n",
       " 'received',\n",
       " 'prior',\n",
       " 'anti',\n",
       " 'pd',\n",
       " 'anti',\n",
       " 'pd',\n",
       " 'anti',\n",
       " 'pd',\n",
       " 'anti',\n",
       " 'cd',\n",
       " 'anti',\n",
       " 'cytotoxic',\n",
       " 'lymphocyte',\n",
       " 'antigen',\n",
       " 'ctla',\n",
       " 'antibody',\n",
       " 'including',\n",
       " 'ipilimumab',\n",
       " 'antibody',\n",
       " 'drug',\n",
       " 'specifically',\n",
       " 'targeting',\n",
       " 'cell',\n",
       " 'checkpoint',\n",
       " 'pathways',\n",
       " 'received',\n",
       " 'prior',\n",
       " 'il',\n",
       " 'investigational',\n",
       " 'systemic',\n",
       " 'cytokine',\n",
       " 'signaling',\n",
       " 'common',\n",
       " 'gamma',\n",
       " 'chain',\n",
       " 'cytokine',\n",
       " 'receptor',\n",
       " 'including',\n",
       " 'il',\n",
       " 'il',\n",
       " 'il',\n",
       " 'currently',\n",
       " 'participating',\n",
       " 'participated',\n",
       " 'investigational',\n",
       " 'agent',\n",
       " 'investigational',\n",
       " 'device',\n",
       " 'dose',\n",
       " 'prior',\n",
       " 'monoclonal',\n",
       " 'antibody',\n",
       " 'prior',\n",
       " 'day',\n",
       " 'recovered',\n",
       " 'grade',\n",
       " 'baseline',\n",
       " 'adverse',\n",
       " 'events',\n",
       " 'agents',\n",
       " 'administered',\n",
       " 'earlier',\n",
       " 'prior',\n",
       " 'chemotherapy',\n",
       " 'targeted',\n",
       " 'small',\n",
       " 'molecule',\n",
       " 'radiation',\n",
       " 'prior',\n",
       " 'day',\n",
       " 'recovered',\n",
       " 'grade',\n",
       " 'baseline',\n",
       " 'adverse',\n",
       " 'events',\n",
       " 'previously',\n",
       " 'administered',\n",
       " 'agent',\n",
       " 'note',\n",
       " 'subject',\n",
       " 'received',\n",
       " 'major',\n",
       " 'surgery',\n",
       " 'recovered',\n",
       " 'adequately',\n",
       " 'toxicity',\n",
       " 'complications',\n",
       " 'prior',\n",
       " 'starting',\n",
       " 'known',\n",
       " 'additional',\n",
       " 'malignancy',\n",
       " 'progressing',\n",
       " 'requires',\n",
       " 'active',\n",
       " 'exceptions',\n",
       " 'include',\n",
       " 'locally',\n",
       " 'curable',\n",
       " 'cancers',\n",
       " 'basal',\n",
       " 'cell',\n",
       " 'carcinoma',\n",
       " 'skin',\n",
       " 'squamous',\n",
       " 'cell',\n",
       " 'carcinoma',\n",
       " 'skin',\n",
       " 'superficial',\n",
       " 'bladder',\n",
       " 'cancer',\n",
       " 'carcinoma',\n",
       " 'situ',\n",
       " 'cervix',\n",
       " 'breast',\n",
       " 'undergone',\n",
       " 'potentially',\n",
       " 'curative',\n",
       " 'known',\n",
       " 'active',\n",
       " 'central',\n",
       " 'nervous',\n",
       " 'metastases',\n",
       " 'carcinomatous',\n",
       " 'meningitis',\n",
       " 'dose',\n",
       " 'level',\n",
       " 'previously',\n",
       " 'treated',\n",
       " 'brain',\n",
       " 'metastases',\n",
       " 'participate',\n",
       " 'provided',\n",
       " 'stable',\n",
       " 'evidence',\n",
       " 'progression',\n",
       " 'imaging',\n",
       " 'prior',\n",
       " 'dose',\n",
       " 'neurologic',\n",
       " 'returned',\n",
       " 'baseline',\n",
       " 'evidence',\n",
       " 'new',\n",
       " 'enlarging',\n",
       " 'brain',\n",
       " 'metastases',\n",
       " 'steroids',\n",
       " 'prior',\n",
       " 'dose',\n",
       " 'level',\n",
       " 'history',\n",
       " 'current',\n",
       " 'cns',\n",
       " 'metastases',\n",
       " 'baseline',\n",
       " 'imaging',\n",
       " 'brain',\n",
       " 'required',\n",
       " 'prior',\n",
       " 'start',\n",
       " 'treatments',\n",
       " 'diagnosis',\n",
       " 'receiving',\n",
       " 'systemic',\n",
       " 'steroid',\n",
       " 'form',\n",
       " 'prior',\n",
       " 'dose',\n",
       " 'active',\n",
       " 'autoimmune',\n",
       " 'requiring',\n",
       " 'systemic',\n",
       " 'past',\n",
       " 'documented',\n",
       " 'history',\n",
       " 'clinically',\n",
       " 'severe',\n",
       " 'autoimmune',\n",
       " 'syndrome',\n",
       " 'requires',\n",
       " 'systemic',\n",
       " 'steroids',\n",
       " 'agents',\n",
       " 'vitiligo',\n",
       " 'resolved',\n",
       " 'childhood',\n",
       " 'asthma',\n",
       " 'atopy',\n",
       " 'exception',\n",
       " 'rule',\n",
       " 'require',\n",
       " 'intermittent',\n",
       " 'bronchodilators',\n",
       " 'local',\n",
       " 'steroid',\n",
       " 'injections',\n",
       " 'excluded',\n",
       " 'hypothyroidism',\n",
       " 'stable',\n",
       " 'hormone',\n",
       " 'replacement',\n",
       " 'sjorgen',\n",
       " 'syndrome',\n",
       " 'excluded',\n",
       " 'history',\n",
       " 'infectious',\n",
       " 'pneumonitis',\n",
       " 'required',\n",
       " 'steroids',\n",
       " 'active',\n",
       " 'infectious',\n",
       " 'pneumonitis',\n",
       " 'ongoing',\n",
       " 'symptomatic',\n",
       " 'cardiac',\n",
       " 'dysrhythmias',\n",
       " 'uncontrolled',\n",
       " 'atrial',\n",
       " 'fibrillation',\n",
       " 'prolongation',\n",
       " 'corrected',\n",
       " 'qt',\n",
       " 'interval',\n",
       " 'defined',\n",
       " 'msec',\n",
       " 'males',\n",
       " 'msec',\n",
       " 'female',\n",
       " 'history',\n",
       " 'following',\n",
       " 'cardiovascular',\n",
       " 'conditions',\n",
       " 'enrollment',\n",
       " 'cardiac',\n",
       " 'angioplasty',\n",
       " 'stenting',\n",
       " 'myocardial',\n",
       " 'infarction',\n",
       " 'unstable',\n",
       " 'angina',\n",
       " 'coronary',\n",
       " 'artery',\n",
       " 'bypass',\n",
       " 'graft',\n",
       " 'surgery',\n",
       " 'class',\n",
       " 'iii',\n",
       " 'iv',\n",
       " 'congestive',\n",
       " 'heart',\n",
       " 'defined',\n",
       " 'new',\n",
       " 'york',\n",
       " 'heart',\n",
       " 'association',\n",
       " 'symptomatic',\n",
       " 'peripheral',\n",
       " 'vascular',\n",
       " 'cerebrovascular',\n",
       " 'accident',\n",
       " 'transient',\n",
       " 'ischemic',\n",
       " 'attack',\n",
       " 'active',\n",
       " 'infection',\n",
       " 'requiring',\n",
       " 'systemic',\n",
       " 'history',\n",
       " 'current',\n",
       " 'evidence',\n",
       " 'condition',\n",
       " 'laboratory',\n",
       " 'abnormality',\n",
       " 'confound',\n",
       " 'interfere',\n",
       " 'subject',\n",
       " 'participation',\n",
       " 'duration',\n",
       " 'best',\n",
       " 'subject',\n",
       " 'participate',\n",
       " 'opinion',\n",
       " 'treating',\n",
       " 'investigator',\n",
       " 'known',\n",
       " 'psychiatric',\n",
       " 'substance',\n",
       " 'abuse',\n",
       " 'disorders',\n",
       " 'interfere',\n",
       " 'cooperation',\n",
       " 'requirements',\n",
       " 'pregnant',\n",
       " 'breastfeeding',\n",
       " 'expecting',\n",
       " 'conceive',\n",
       " 'father',\n",
       " 'children',\n",
       " 'projected',\n",
       " 'duration',\n",
       " 'starting',\n",
       " 'pre',\n",
       " 'screening',\n",
       " 'screening',\n",
       " 'visit',\n",
       " 'dose',\n",
       " 'known',\n",
       " 'history',\n",
       " 'human',\n",
       " 'virus',\n",
       " 'hiv',\n",
       " 'antibodies',\n",
       " 'known',\n",
       " 'active',\n",
       " 'hepatitis',\n",
       " 'hepatitis',\n",
       " 'surface',\n",
       " 'antigen',\n",
       " 'hbsag',\n",
       " 'reactive',\n",
       " 'hepatitis',\n",
       " 'hepatitis',\n",
       " 'virus',\n",
       " 'hcv',\n",
       " 'ribonucleic',\n",
       " 'acid',\n",
       " 'rna',\n",
       " 'qualitative',\n",
       " 'detected',\n",
       " 'received',\n",
       " 'live',\n",
       " 'vaccine',\n",
       " 'prior',\n",
       " 'dose',\n",
       " 'note',\n",
       " 'seasonal',\n",
       " 'influenza',\n",
       " 'vaccines',\n",
       " 'injection',\n",
       " 'generally',\n",
       " 'inactivated',\n",
       " 'flu',\n",
       " 'vaccines',\n",
       " 'allowed',\n",
       " 'intranasal',\n",
       " 'influenza',\n",
       " 'vaccines',\n",
       " 'flu',\n",
       " 'mist',\n",
       " 'live',\n",
       " 'attenuated',\n",
       " 'vaccines',\n",
       " 'allowed',\n",
       " 'years']"
      ]
     },
     "execution_count": 18,
     "metadata": {},
     "output_type": "execute_result"
    }
   ],
   "source": [
    "keyword_tokens[1]"
   ]
  },
  {
   "cell_type": "code",
   "execution_count": 19,
   "metadata": {
    "collapsed": false,
    "jupyter": {
     "outputs_hidden": false
    },
    "pycharm": {
     "is_executing": false,
     "name": "#%%\n"
    }
   },
   "outputs": [],
   "source": [
    "id2word = corpora.Dictionary(keyword_tokens)"
   ]
  },
  {
   "cell_type": "code",
   "execution_count": 20,
   "metadata": {},
   "outputs": [
    {
     "data": {
      "text/plain": [
       "69836"
      ]
     },
     "execution_count": 20,
     "metadata": {},
     "output_type": "execute_result"
    }
   ],
   "source": [
    "len(id2word.keys())"
   ]
  },
  {
   "cell_type": "code",
   "execution_count": 21,
   "metadata": {},
   "outputs": [
    {
     "data": {
      "text/plain": [
       "16427"
      ]
     },
     "execution_count": 21,
     "metadata": {},
     "output_type": "execute_result"
    }
   ],
   "source": [
    "id2word.filter_extremes(no_below=10, no_above=0.75)\n",
    "len(id2word.keys())"
   ]
  },
  {
   "cell_type": "code",
   "execution_count": 22,
   "metadata": {
    "collapsed": false,
    "jupyter": {
     "outputs_hidden": false
    },
    "pycharm": {
     "is_executing": false,
     "name": "#%%\n"
    }
   },
   "outputs": [],
   "source": [
    "corpus = [id2word.doc2bow(text) for text in keyword_tokens]"
   ]
  },
  {
   "cell_type": "code",
   "execution_count": 23,
   "metadata": {},
   "outputs": [],
   "source": [
    "def compute_coherence_values(dictionary, corpus, series, limit, start=2, step=3, passes=5):\n",
    "    \"\"\"\n",
    "    Compute c_v coherence for various number of topics\n",
    "\n",
    "    Parameters:\n",
    "    ----------\n",
    "    dictionary : Gensim dictionary\n",
    "    corpus : Gensim corpus\n",
    "    series: Tokenized list used to create corpus\n",
    "    start: Int - Start with this many topics\n",
    "    step: Int - Number of topics from next step to caluculate\n",
    "    limit : Max num of topics\n",
    "    passes: the number of times the entire lda model & coherence values are calculated\n",
    "\n",
    "    Returns:\n",
    "    -------\n",
    "    coherence_values : Coherence values corresponding to the LDA model with respective number of topics\n",
    "    \"\"\"\n",
    "    \n",
    "    coherence_values = []\n",
    "    \n",
    "    \n",
    "    for iter_ in range(passes):\n",
    "        for num_topics in range(start, limit + 1, step):\n",
    "            model = LdaMulticore(corpus=corpus,\n",
    "                                 num_topics=num_topics,\n",
    "                                 id2word=dictionary,\n",
    "                                 chunksize=10000,\n",
    "                                 workers=3,\n",
    "                                 )\n",
    "    \n",
    "            coherencemodel = CoherenceModel(model=model,\n",
    "                                            dictionary=dictionary,\n",
    "                                            texts=series,\n",
    "#                                             window_size=50,\n",
    "                                            coherence='c_uci',\n",
    "                                            processes=-1,\n",
    "                                           )\n",
    "        \n",
    "            coherence_values.append({'pass': iter_, \n",
    "                                     'num_topics': num_topics, \n",
    "                                     'coherence_score': coherencemodel.get_coherence()\n",
    "                                    })\n",
    "\n",
    "    return coherence_values\n"
   ]
  },
  {
   "cell_type": "code",
   "execution_count": 24,
   "metadata": {},
   "outputs": [
    {
     "name": "stderr",
     "output_type": "stream",
     "text": [
      "/Users/lambda_school_loaner_153/anaconda3/envs/unit4/lib/python3.7/site-packages/scipy/stats/stats.py:1713: FutureWarning: Using a non-tuple sequence for multidimensional indexing is deprecated; use `arr[tuple(seq)]` instead of `arr[seq]`. In the future this will be interpreted as an array index, `arr[np.array(seq)]`, which will result either in an error or a different result.\n",
      "  return np.add.reduce(sorted[indexer] * weights, axis=axis) / sumval\n"
     ]
    },
    {
     "data": {
      "image/png": "[encoded data removed]",
      "text/plain": [
       "<Figure size 432x288 with 1 Axes>"
      ]
     },
     "metadata": {
      "needs_background": "light"
     },
     "output_type": "display_data"
    }
   ],
   "source": [
    "# Can take a long time to run.\n",
    "coherence_values = compute_coherence_values(dictionary=id2word, \n",
    "                                            corpus=corpus,\n",
    "                                            series=keyword_tokens,\n",
    "                                            start=45,\n",
    "                                            step=4,\n",
    "                                            limit=65, \n",
    "                                            passes=3,\n",
    "                                            )\n",
    "\n",
    "topic_coherence = pd.DataFrame.from_records(coherence_values)\n",
    "\n",
    "ax = sns.lineplot(x=\"num_topics\", y=\"coherence_score\", data=topic_coherence)\n"
   ]
  },
  {
   "cell_type": "code",
   "execution_count": null,
   "metadata": {},
   "outputs": [],
   "source": [
    "# Can take a long time to run.\n",
    "coherence_values = compute_coherence_values(dictionary=id2word, \n",
    "                                            corpus=corpus,\n",
    "                                            series=keyword_tokens,\n",
    "                                            start=50,\n",
    "                                            step=2,\n",
    "                                            limit=60, \n",
    "                                            passes=5,\n",
    "                                            )\n",
    "\n",
    "topic_coherence = pd.DataFrame.from_records(coherence_values)\n",
    "\n",
    "ax = sns.lineplot(x=\"num_topics\", y=\"coherence_score\", data=topic_coherence)\n"
   ]
  },
  {
   "cell_type": "code",
   "execution_count": 37,
   "metadata": {},
   "outputs": [
    {
     "data": {
      "text/plain": [
       "30"
      ]
     },
     "execution_count": 37,
     "metadata": {},
     "output_type": "execute_result"
    }
   ],
   "source": [
    "len(topic_coherence['coherence_score'])"
   ]
  },
  {
   "cell_type": "code",
   "execution_count": 40,
   "metadata": {},
   "outputs": [
    {
     "name": "stdout",
     "output_type": "stream",
     "text": [
      "5 0\n"
     ]
    },
    {
     "data": {
      "image/png": "[encoded data removed]",
      "text/plain": [
       "<Figure size 432x288 with 1 Axes>"
      ]
     },
     "metadata": {
      "needs_background": "light"
     },
     "output_type": "display_data"
    },
    {
     "name": "stdout",
     "output_type": "stream",
     "text": [
      "10 5\n"
     ]
    },
    {
     "data": {
      "image/png": "[encoded data removed]",
      "text/plain": [
       "<Figure size 432x288 with 1 Axes>"
      ]
     },
     "metadata": {
      "needs_background": "light"
     },
     "output_type": "display_data"
    },
    {
     "name": "stdout",
     "output_type": "stream",
     "text": [
      "15 10\n"
     ]
    },
    {
     "data": {
      "image/png": "[encoded data removed]",
      "text/plain": [
       "<Figure size 432x288 with 1 Axes>"
      ]
     },
     "metadata": {
      "needs_background": "light"
     },
     "output_type": "display_data"
    },
    {
     "name": "stdout",
     "output_type": "stream",
     "text": [
      "20 15\n"
     ]
    },
    {
     "data": {
      "image/png": "[encoded data removed]",
      "text/plain": [
       "<Figure size 432x288 with 1 Axes>"
      ]
     },
     "metadata": {
      "needs_background": "light"
     },
     "output_type": "display_data"
    },
    {
     "name": "stdout",
     "output_type": "stream",
     "text": [
      "25 20\n"
     ]
    },
    {
     "data": {
      "image/png": "[encoded data removed]",
      "text/plain": [
       "<Figure size 432x288 with 1 Axes>"
      ]
     },
     "metadata": {
      "needs_background": "light"
     },
     "output_type": "display_data"
    }
   ],
   "source": [
    "for i in range(5, 30, 5):\n",
    "    j = i - 5\n",
    "    print(i, j)\n",
    "    x = range(50, 60, 2)\n",
    "    plt.plot(x, topic_coherence['coherence_score'][j:i])\n",
    "    plt.xlabel('Num Topics')\n",
    "    plt.ylabel('Coherence Score')\n",
    "    plt.legend(('coherence_values'))\n",
    "    plt.title(f'Pass: {i // 5}')\n",
    "    plt.show()"
   ]
  },
  {
   "cell_type": "code",
   "execution_count": 41,
   "metadata": {
    "collapsed": false,
    "jupyter": {
     "outputs_hidden": false
    },
    "pycharm": {
     "is_executing": false,
     "name": "#%%\n"
    }
   },
   "outputs": [],
   "source": [
    "lda = LdaMulticore(corpus=corpus,\n",
    "                   id2word=id2word,\n",
    "#                    random_state=42,\n",
    "                   chunksize=10000,\n",
    "                   num_topics=56,\n",
    "                   passes=15,\n",
    "                   workers=multiprocessing.cpu_count(),\n",
    "                   )"
   ]
  },
  {
   "cell_type": "code",
   "execution_count": 58,
   "metadata": {},
   "outputs": [],
   "source": [
    "def get_search_terms(index):\n",
    "    other_texts = list(map(tokenize, [search_terms[index]]))\n",
    "    other_corpus = [id2word.doc2bow(text) for text in other_texts]\n",
    "    unseen_doc = other_corpus[0]\n",
    "    vector = lda[unseen_doc]  # get topic probability distribution for a document\n",
    "#     terms = [re.findall(r'\"([^\"]*)\"', topic) for topic in lda.print_topic(vector[np.argmax(vector, axis=0)[1]][0], 20).split(' + ')]\n",
    "    terms = [topic for topic in lda.print_topic(vector[np.argmax(vector, axis=0)[1]][0], 20).split(' + ')]\n",
    "    return terms"
   ]
  },
  {
   "cell_type": "code",
   "execution_count": 61,
   "metadata": {},
   "outputs": [],
   "source": [
    "terms = get_search_terms(14064)"
   ]
  },
  {
   "cell_type": "code",
   "execution_count": 62,
   "metadata": {},
   "outputs": [
    {
     "data": {
      "text/plain": [
       "['0.015*\"eye\"',\n",
       " '0.012*\"heart\"',\n",
       " '0.009*\"criteria\"',\n",
       " '0.009*\"years\"',\n",
       " '0.009*\"surgery\"',\n",
       " '0.008*\"visual\"',\n",
       " '0.008*\"ocular\"',\n",
       " '0.008*\"glaucoma\"',\n",
       " '0.007*\"af\"',\n",
       " '0.007*\"retinal\"',\n",
       " '0.006*\"atrial\"',\n",
       " '0.006*\"age\"',\n",
       " '0.006*\"corneal\"',\n",
       " '0.006*\"macular\"',\n",
       " '0.005*\"history\"',\n",
       " '0.005*\"fibrillation\"',\n",
       " '0.005*\"inclusion\"',\n",
       " '0.005*\"cataract\"',\n",
       " '0.005*\"ventricular\"',\n",
       " '0.005*\"exclusion\"']"
      ]
     },
     "execution_count": 62,
     "metadata": {},
     "output_type": "execute_result"
    }
   ],
   "source": [
    "terms"
   ]
  },
  {
   "cell_type": "code",
   "execution_count": 63,
   "metadata": {},
   "outputs": [
    {
     "data": {
      "text/plain": [
       "'ventricular dysfunction left ventricular dysfunction heart failure according to the results from the literature, it has been shown that levosimendan usage 24 48 hours before lvad implementation can improve short and long term outcome in these patients regarding to the patients without preoperative pretreatment. the aim is to compare short and long term outcome in patients who underwent to lvad implementation and pretreated with levosimendan regarding the patient without pretreatment or with other medications. pretreatment with levosimendan in patients undergoing left ventricular assist device implantation left ventricular assist device  implantation is accepted for treatment of end stage heart failure, in both as the bridging to heart transplantation or as the destination therapy. these patients have highly impaired systolic function which contributes to global heart dysfunction. the main complication is arising of pulmonary vascular pressures and pulmonary vascular resistance  and, consequently, right heart dysfunction. from the data in literature, rv dysfunction exist in approximately 25 percent 40 percent of patients with implanted lvad, and in approximately 20 percent 30 percent of those died or have need for the rv assist device due to rv failure refractory to medications. capability of the rv to maintain appropriate output and the fill of the lvad is the main point for correct lvad functioning and patients` early and late postoperative outcome. preimplantation evaluation by echocardiography estimation of rv function, geometry and tricuspid valve function are the criteria for the diagnose of rv dysfunction. laboratory analysis which can lead to the diagnose of rv dysfunction are also included in preimplantation evaluation. specific inotropic therapy in patients with moderate or severe rv dysfunction and/or dilatation can improve rv function in preimplantation period. this is predominantly important in patients who were on the prolonged inotropic support with beta agonist therapy before lvad implantation and in whom their beta receptors are exhausted. the investigators will exam the hemodynamic effects of levosimendan administrated day before in patients underwent lvad implantation. further, investigators will analyze and evaluate early and late outcome in participants with implanted lvad. in study will be observed all patients scheduled for lvad implantation because of severe  heart failure in which heart transplantation cannot be performed due to medical conditions.  further, in study will be observed all patients scheduled for lvad implantation because of  severe heart failure in which any other conservative/surgery therapy did not give positive  results. non probability sample  inclusion criteria:    all patients scheduled for lvad implantation  exclusion criteria:    known patient`s allergy on medication    patient`s disagreement for the procedure all 18 years 70 years no'"
      ]
     },
     "execution_count": 63,
     "metadata": {},
     "output_type": "execute_result"
    }
   ],
   "source": [
    "search_terms[14064]"
   ]
  },
  {
   "cell_type": "code",
   "execution_count": null,
   "metadata": {},
   "outputs": [],
   "source": []
  }
 ],
 "metadata": {
  "kernelspec": {
   "display_name": "unit4 (Python 3.7)",
   "language": "python",
   "name": "unit4"
  },
  "language_info": {
   "codemirror_mode": {
    "name": "ipython",
    "version": 3
   },
   "file_extension": ".py",
   "mimetype": "text/x-python",
   "name": "python",
   "nbconvert_exporter": "python",
   "pygments_lexer": "ipython3",
   "version": "3.7.3"
  },
  "pycharm": {
   "stem_cell": {
    "cell_type": "raw",
    "metadata": {
     "collapsed": false
    },
    "source": []
   }
  }
 },
 "nbformat": 4,
 "nbformat_minor": 4
}
