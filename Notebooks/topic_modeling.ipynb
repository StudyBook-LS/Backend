{
 "cells": [
  {
   "cell_type": "markdown",
   "metadata": {},
   "source": [
    "# Auto-labeling of a corpus of clinical trials for later use in retrieving search results"
   ]
  },
  {
   "cell_type": "code",
   "execution_count": 611,
   "metadata": {
    "collapsed": false,
    "jupyter": {
     "outputs_hidden": false
    },
    "pycharm": {
     "is_executing": false,
     "name": "#%%\n"
    }
   },
   "outputs": [],
   "source": [
    "import csv\n",
    "import gensim\n",
    "import multiprocessing\n",
    "import os\n",
    "import re\n",
    "import spacy\n",
    "import sys\n",
    "\n",
    "from gensim import corpora\n",
    "from gensim.models.phrases import Phrases, Phraser\n",
    "from gensim.models.ldamulticore import LdaMulticore\n",
    "from gensim.models.coherencemodel import CoherenceModel\n",
    "from gensim.parsing.preprocessing import STOPWORDS\n",
    "from gensim.utils import simple_preprocess\n",
    "from multiprocessing import Pool\n",
    "\n",
    "nlp = spacy.load(\"en_core_web_lg\")\n"
   ]
  },
  {
   "cell_type": "markdown",
   "metadata": {},
   "source": [
    "Add a ton of stopwords relating to procedural things to make room for the medical conditions we're looking to classify."
   ]
  },
  {
   "cell_type": "code",
   "execution_count": 889,
   "metadata": {
    "collapsed": false,
    "jupyter": {
     "outputs_hidden": false
    },
    "pycharm": {
     "is_executing": false,
     "name": "#%%\n"
    }
   },
   "outputs": [],
   "source": [
    "STOPWORDS = set(STOPWORDS).union(set(['patient', 'patients', 'study', 'disease',\n",
    "                                      'treatment', 'randomized', 'statistical', \n",
    "                                      'analysis', 'group', 'trial', 'clinical', \n",
    "                                      'controlled', 'safety', 'associated', 'risk', \n",
    "                                      'intervention', 'care', 'health', 'therapy', \n",
    "                                      'participants', 'method', 'monitor', 'studies',\n",
    "                                      'cohorts', 'percent', 'prospective', 'efficacy', \n",
    "                                      'days', 'months', 'evaluate', 'subjects', \n",
    "                                      'data', 'outcomes', 'research', 'function', \n",
    "                                      'effects', 'investigators', 'use', 'population', \n",
    "                                      'compared', 'quality', 'results', 'improve',\n",
    "                                      'term', 'groups', 'weeks', 'week', 'groups', \n",
    "                                      'test', 'control', 'time', 'period', 'placebo', \n",
    "                                      'stimulation', 'symptoms', 'mortality', 'failure',\n",
    "                                      'non', 'interventional', 'observational', 'assess', \n",
    "                                      'relative', 'positive', 'develop', 'signs', \n",
    "                                      'enrolled', 'randomly', 'assigned', 'ratio', \n",
    "                                      'stratified', 'multicenter', 'open', 'phase', \n",
    "                                      'stage', 'iiib', 'eligible', 'criteria', \n",
    "                                      'inclusion', 'exclustion', 'year', 'years',\n",
    "                                      'before', 'after', 'therapy', 'therapies',\n",
    "                                      'interventions', 'controlling', 'terms', 'risks',\n",
    "                                      'enroll', 'studies', 'diseases', 'enrolling',\n",
    "                                      'evaluating', 'evaluated', 'evaluates', 'effect',\n",
    "                                      'invesetigate', 'investigator', 'investigation',\n",
    "                                      'investigations', 'studying', 'eligibility', \"dose\", \n",
    "                                      \"screening\", \"history\", \"drug\", \"active\", \"including\",\n",
    "                                      \"significant\", \"day\", 'days', \"potential\", \"female\", \n",
    "                                      \"mg\", \"hepatitis\", \"investigational\", 'prior', 'known',\n",
    "                                      'clinically', 'clincal', 'clinic', 'period', 'following',\n",
    "                                      'subject', 'visit', 'subjects', 'willing', \n",
    "                                      'participation', 'lab', 'laboratory', 'medical',\n",
    "                                      'response', 'diagnosis', 'stages', 'staged',\n",
    "                                      'diagnoses', 'treat', 'treats', 'treated', 'program',\n",
    "                                      'self', 'based', 'life', 'participate', 'english',\n",
    "                                      'participates', 'able', 'community', 'support',\n",
    "                                      'ability', 'coummunities', 'supports', 'supported',\n",
    "                                      'consent', 'age', 'informed', 'consents', 'consented',\n",
    "                                      'provide', 'provided', 'condition', 'conditions',\n",
    "                                      'conditioned', 'compliance', 'enrollment',\n",
    "                                      'accept', 'accepted', 'accepting', 'enrolment',\n",
    "                                      'accepts', 'current', 'currently', 'controlled',\n",
    "                                      'uncontrolled', 'status', 'recieved', 'times', \n",
    "                                      'limit', 'count', 'disorder', 'disorders', 'follow',\n",
    "                                      'follows', 'followed', 'participant', 'related',\n",
    "                                      'probability', 'probabilities', 'sample', 'samples',\n",
    "                                      'practice', 'individual', 'individuals', \n",
    "                                      'individually', 'specific', 'specify', 'prevalence', \n",
    "                                      'limited', 'procedure', 'procedures', 'write',\n",
    "                                      'obtain', 'practice', 'practices', 'practicing',\n",
    "                                      'diagnostic', 'mg', 'mcg', 'ml', 'qday', 'tid',\n",
    "                                      'qid', 'bid', 'po', 'pr', 'ac', 'prn', 'am', 'pm',\n",
    "                                      'market', 'receive', 'received', 'receives', \n",
    "                                      'require', 'requires', 'required', 'start', 'end',\n",
    "                                      'starts', 'ends', 'starting', 'ending', 'allow',\n",
    "                                      'allows', 'allowed', 'define', 'defines', 'defined',\n",
    "                                      'evaluation', 'ongoing', 'examination', 'evaluations',\n",
    "                                      'examinations', 'evidence', 'upper','lower', 'normal',\n",
    "                                      'people', 'person', 'exclusion', 'hour', 'hours', 'hr',\n",
    "                                      'hrs', 'min', 'minute', 'minutes', 'include', 'equal',\n",
    "                                      'equals', 'double', 'undergo', 'level', 'dl', \n",
    "                                      'diagnose', 'increase', 'increases', 'decrease', \n",
    "                                      'decreases', 'facility' 'implementation', 'center',\n",
    "                                      'training', 'provider', 'providers', 'centers',\n",
    "                                      'facilities', 'trainings', 'previous', 'assess',\n",
    "                                      'assesses', 'assessment', 'assessments', 'assessing',\n",
    "                                      'cause', 'service', 'services', 'project', 'projects',\n",
    "                                      'identify', 'live', 'design', 'designs', 'survey',\n",
    "                                      'surveys', 'surveying', 'implementation', 'implementations',\n",
    "                                      \n",
    "                                      ]))\n"
   ]
  },
  {
   "cell_type": "code",
   "execution_count": 890,
   "metadata": {
    "collapsed": false,
    "jupyter": {
     "outputs_hidden": false
    },
    "pycharm": {
     "is_executing": false,
     "name": "#%%\n"
    }
   },
   "outputs": [],
   "source": [
    "def replace_csv_missing(row):\n",
    "    text = (row[2] + ' ' +  # 'brief_title'\n",
    "            row[3] + ' ' +  # 'condition'\n",
    "            row[5] + ' ' +  # 'brief_summary'\n",
    "            row[8][:500] + ' ' +  # 'eligibility' Keep first 500, tends to be exclusion criteria if it's very long.\n",
    "            row[10] + ' ' +  # 'keyword'\n",
    "            row[11] + ' ' +  # 'mesh_term'\n",
    "            row[12]  # 'official_title\n",
    "           )\n",
    "    text = text.lower()\n",
    "    new = re.sub('missing', '', text)\n",
    "    new = re.sub('-', ' ', new)\n",
    "    new = re.sub('\\(\\S*\\)', ' ', new)\n",
    "    new = re.sub(' \\s+', ' ', new)\n",
    "    return u\"{}\".format(new)"
   ]
  },
  {
   "cell_type": "code",
   "execution_count": 891,
   "metadata": {
    "collapsed": false,
    "jupyter": {
     "outputs_hidden": false
    },
    "pycharm": {
     "is_executing": false,
     "name": "#%%\n"
    }
   },
   "outputs": [],
   "source": [
    "def replace_text_missing(text):\n",
    "    text = text.lower().strip('\\n')\n",
    "    new = re.sub(' \\s+', ' ', text)\n",
    "    return u\"{}\".format(new)"
   ]
  },
  {
   "cell_type": "code",
   "execution_count": 892,
   "metadata": {},
   "outputs": [],
   "source": [
    "def import_text_files(directory):\n",
    "    bad_lines = ('service :',\n",
    "                 'allergies :',\n",
    "                 'chief complaint :',\n",
    "                 'major surgical or invasive procedure :',\n",
    "                 'history of present illness :',\n",
    "                 'past medical history :',\n",
    "                 'social history :',\n",
    "                 'family history :',\n",
    "                 'physical exam :',\n",
    "                 'pertinent results :',\n",
    "                 'brief hospital course :',\n",
    "                 'medications on admission :',\n",
    "                 'impression :',\n",
    "                 'final diagnosis :',\n",
    "                 'underlying medical condition :',\n",
    "                 'discharge disposition :',\n",
    "                 'discharge condition :',\n",
    "                 'discharge instructions :',\n",
    "                 'discharge medications :',\n",
    "                 'followup instructions',\n",
    "                 'signed',\n",
    "                 '( ',\n",
    "                 'job',\n",
    "                 't :',\n",
    "                 'y :',\n",
    "                 'd :',\n",
    "                 'med',\n",
    "                 'dictated',\n",
    "                 )\n",
    "    lines = []\n",
    "    for file in os.listdir(directory):\n",
    "        if file.endswith('txt'):\n",
    "            with open(directory + file, 'r') as f:\n",
    "                for i, line in enumerate(f):\n",
    "                    # Skip first 7 lines.\n",
    "                    if i < 8:\n",
    "                        pass\n",
    "                    # Skip section header lines.\n",
    "                    elif line.lower().startswith(bad_lines):\n",
    "                        pass\n",
    "                    else:\n",
    "                        out =  replace_text_missing(line)\n",
    "                        lines.append(out)\n",
    "    return lines"
   ]
  },
  {
   "cell_type": "code",
   "execution_count": 893,
   "metadata": {},
   "outputs": [],
   "source": [
    "def import_csv_files(file):\n",
    "    all_rows = []\n",
    "    with open(file, 'r') as csvinfile:\n",
    "        csv_reader = csv.reader(csvinfile, delimiter=',')\n",
    "        for row in csv_reader:\n",
    "            all_rows.append(row)\n",
    "    pool = Pool(processes=multiprocessing.cpu_count())    \n",
    "    transformed_rows = pool.map(replace_csv_missing, all_rows)\n",
    "    pool.close() \n",
    "    pool.join()\n",
    "    return transformed_rows\n",
    "    "
   ]
  },
  {
   "cell_type": "markdown",
   "metadata": {},
   "source": [
    "Import data."
   ]
  },
  {
   "cell_type": "code",
   "execution_count": 894,
   "metadata": {},
   "outputs": [],
   "source": [
    "search_terms = import_csv_files('../frontend_dataset_final.csv')[1:]  # Discard header row."
   ]
  },
  {
   "cell_type": "code",
   "execution_count": 895,
   "metadata": {},
   "outputs": [
    {
     "data": {
      "text/plain": [
       "22471"
      ]
     },
     "execution_count": 895,
     "metadata": {},
     "output_type": "execute_result"
    }
   ],
   "source": [
    "len(search_terms)"
   ]
  },
  {
   "cell_type": "code",
   "execution_count": 896,
   "metadata": {},
   "outputs": [],
   "source": [
    "search_terms += import_text_files('beth_docs/')"
   ]
  },
  {
   "cell_type": "code",
   "execution_count": 897,
   "metadata": {},
   "outputs": [
    {
     "data": {
      "text/plain": [
       "34302"
      ]
     },
     "execution_count": 897,
     "metadata": {},
     "output_type": "execute_result"
    }
   ],
   "source": [
    "len(search_terms)"
   ]
  },
  {
   "cell_type": "code",
   "execution_count": 898,
   "metadata": {
    "collapsed": false,
    "jupyter": {
     "outputs_hidden": false
    },
    "pycharm": {
     "is_executing": false,
     "name": "#%%\n"
    }
   },
   "outputs": [
    {
     "data": {
      "text/plain": [
       "43832"
      ]
     },
     "execution_count": 898,
     "metadata": {},
     "output_type": "execute_result"
    }
   ],
   "source": [
    "search_terms += import_text_files('partner_docs/')\n",
    "len(search_terms)"
   ]
  },
  {
   "cell_type": "code",
   "execution_count": 899,
   "metadata": {},
   "outputs": [
    {
     "data": {
      "text/plain": [
       "50984"
      ]
     },
     "execution_count": 899,
     "metadata": {},
     "output_type": "execute_result"
    }
   ],
   "source": [
    "search_terms += import_text_files('beth_txt/')\n",
    "len(search_terms)"
   ]
  },
  {
   "cell_type": "code",
   "execution_count": 900,
   "metadata": {},
   "outputs": [
    {
     "data": {
      "text/plain": [
       "57328"
      ]
     },
     "execution_count": 900,
     "metadata": {},
     "output_type": "execute_result"
    }
   ],
   "source": [
    "search_terms += import_text_files('partner_txt/')\n",
    "len(search_terms)"
   ]
  },
  {
   "cell_type": "markdown",
   "metadata": {},
   "source": [
    "Split into training and test sets."
   ]
  },
  {
   "cell_type": "code",
   "execution_count": 901,
   "metadata": {},
   "outputs": [],
   "source": [
    "test_terms = search_terms.copy()[:1000]\n",
    "search_terms = search_terms[-56328:]"
   ]
  },
  {
   "cell_type": "code",
   "execution_count": 902,
   "metadata": {},
   "outputs": [
    {
     "data": {
      "text/plain": [
       "(56328, 1000)"
      ]
     },
     "execution_count": 902,
     "metadata": {},
     "output_type": "execute_result"
    }
   ],
   "source": [
    "len(search_terms), len(test_terms)"
   ]
  },
  {
   "cell_type": "code",
   "execution_count": 903,
   "metadata": {},
   "outputs": [
    {
     "data": {
      "text/plain": [
       "'vestibulopathy with vestibulo ocular reflex gain deficit the study is examine the eye movements characteristics of patients with vor gain deficits (overt and covert saccades) before and after physical therapy intervention program and examine the most effective physical therapy treatment program for patients with vestibulopathy. vestibulopathy, acute peripheral inclusion criteria: diagnosed with unilateral or bilateral vestibulopathy living independently in the community exclusion criteria: cognitive state decline neurological disorder disease or disorders that can affect balance all 40 years n/a no dizziness vestibular neuronitis vestibulopathy with vestibulo ocular reflex gain deficit characteristics of overt and covert saccadic eye movements measured by the video head impulse test '"
      ]
     },
     "execution_count": 903,
     "metadata": {},
     "output_type": "execute_result"
    }
   ],
   "source": [
    "search_terms[0]"
   ]
  },
  {
   "cell_type": "code",
   "execution_count": 904,
   "metadata": {},
   "outputs": [
    {
     "data": {
      "text/plain": [
       "'prevalence of anti ccp positivity and subclinical signs of inflammation in patients with new onset of non specific musculoskeletal symptoms non interventional, prospective, observational study to assess the relative risk of anti ccp positive patients to develop signs of inflammation in accordance with early rheumatoid arthritis in a population without pre classified ra but new1 onset of non specific musculoskeletal symptoms in general practices in germany and subsequent 36 months follow up by rheumatologists rheumatoid arthritis population without pre classified ra but new onset of non specific musculoskeletal symptoms non probability sample inclusion criteria: new onset of non specific msk symptoms, including, but not limited to, arthralgia of the hands and the large joints such as wrists, knees, and shoulders written informed consent obtained prior to the initiation of any study protocol required procedures general understanding of study procedure and informed consent age ≥ 18 and ≤ 65 years exc anti ccp arthritis prevalence of anti cyclic citrullinated peptide (anti ccp) positivity and subclinical signs of inflammation in patients with new onset of non specific musculoskeletal symptoms possibly related to early rheumatoid arthritis in general practices in germany'"
      ]
     },
     "execution_count": 904,
     "metadata": {},
     "output_type": "execute_result"
    }
   ],
   "source": [
    "test_terms[0]"
   ]
  },
  {
   "cell_type": "markdown",
   "metadata": {},
   "source": [
    "Create lemmatization and tokenization functions."
   ]
  },
  {
   "cell_type": "code",
   "execution_count": 905,
   "metadata": {},
   "outputs": [],
   "source": [
    "def lemmatize(text):\n",
    "    \"\"\"Return new string of lemmatized words from text.\"\"\"\n",
    "    doc = nlp(text)\n",
    "    return \" \".join([token.lemma_ for token in doc if token.text not in STOPWORDS])"
   ]
  },
  {
   "cell_type": "code",
   "execution_count": 906,
   "metadata": {
    "pycharm": {
     "is_executing": false,
     "name": "#%%\n"
    }
   },
   "outputs": [],
   "source": [
    "def tokenize(text):\n",
    "    \"\"\"Return list of tokens from text.\"\"\"\n",
    "    return [token for token in simple_preprocess(text) if token not in STOPWORDS]"
   ]
  },
  {
   "cell_type": "markdown",
   "metadata": {},
   "source": [
    "Apply functions element-wise with multiprocessing."
   ]
  },
  {
   "cell_type": "code",
   "execution_count": 907,
   "metadata": {
    "pycharm": {
     "is_executing": false,
     "name": "#%%\n"
    }
   },
   "outputs": [],
   "source": [
    "pool = Pool(processes=multiprocessing.cpu_count())\n",
    "lemma = pool.map(lemmatize, search_terms)\n",
    "pool.close()\n",
    "pool.join()\n",
    "\n",
    "pool = Pool(processes=multiprocessing.cpu_count())\n",
    "keyword_tokens = pool.map(tokenize, lemma)\n",
    "pool.close()\n",
    "pool.join()"
   ]
  },
  {
   "cell_type": "markdown",
   "metadata": {},
   "source": [
    "Apply Phraser to detect bi-grams and more-grams."
   ]
  },
  {
   "cell_type": "code",
   "execution_count": 908,
   "metadata": {},
   "outputs": [],
   "source": [
    "# token_ = [doc.split(\" \") for doc in keyword_tokens]\n",
    "bigram = Phrases(keyword_tokens,\n",
    "                 min_count=10,\n",
    "                 threshold=5,\n",
    "                 delimiter=b' ')\n",
    "\n",
    "bigram_phraser = Phraser(bigram)\n",
    "\n",
    "bigram_tokens = []\n",
    "for sent in keyword_tokens:\n",
    "    bigram_tokens.append(bigram_phraser[sent])"
   ]
  },
  {
   "cell_type": "markdown",
   "metadata": {},
   "source": [
    "Check bigrams for meaningfullness."
   ]
  },
  {
   "cell_type": "code",
   "execution_count": 909,
   "metadata": {},
   "outputs": [
    {
     "data": {
      "text/plain": [
       "['vestibulopathy',\n",
       " 'vestibulo',\n",
       " 'ocular',\n",
       " 'reflex',\n",
       " 'gain',\n",
       " 'deficit',\n",
       " 'examine',\n",
       " 'eye movement',\n",
       " 'characteristic',\n",
       " 'vor',\n",
       " 'gain',\n",
       " 'deficit',\n",
       " 'overt',\n",
       " 'covert',\n",
       " 'saccade',\n",
       " 'physical',\n",
       " 'examine',\n",
       " 'effective',\n",
       " 'physical',\n",
       " 'vestibulopathy',\n",
       " 'vestibulopathy',\n",
       " 'acute',\n",
       " 'peripheral',\n",
       " 'unilateral bilateral',\n",
       " 'vestibulopathy',\n",
       " 'independently',\n",
       " 'cognitive',\n",
       " 'state',\n",
       " 'decline',\n",
       " 'neurological',\n",
       " 'affect',\n",
       " 'balance',\n",
       " 'dizziness',\n",
       " 'vestibular',\n",
       " 'neuronitis',\n",
       " 'vestibulopathy',\n",
       " 'vestibulo',\n",
       " 'ocular',\n",
       " 'reflex',\n",
       " 'gain',\n",
       " 'deficit',\n",
       " 'characteristic',\n",
       " 'overt',\n",
       " 'covert',\n",
       " 'saccadic',\n",
       " 'eye movement',\n",
       " 'measure',\n",
       " 'video',\n",
       " 'head',\n",
       " 'impulse']"
      ]
     },
     "execution_count": 909,
     "metadata": {},
     "output_type": "execute_result"
    }
   ],
   "source": [
    "bigram_tokens[0]"
   ]
  },
  {
   "cell_type": "markdown",
   "metadata": {},
   "source": [
    "Looks nice.\n",
    "\n",
    "Create a gensim dictionary of our bigram tokens."
   ]
  },
  {
   "cell_type": "code",
   "execution_count": 964,
   "metadata": {
    "pycharm": {
     "is_executing": false,
     "name": "#%%\n"
    }
   },
   "outputs": [],
   "source": [
    "id2word = corpora.Dictionary(bigram_tokens)"
   ]
  },
  {
   "cell_type": "code",
   "execution_count": 965,
   "metadata": {},
   "outputs": [
    {
     "data": {
      "text/plain": [
       "55258"
      ]
     },
     "execution_count": 965,
     "metadata": {},
     "output_type": "execute_result"
    }
   ],
   "source": [
    "len(id2word.keys())"
   ]
  },
  {
   "cell_type": "markdown",
   "metadata": {},
   "source": [
    "Filter our dictionary to, hopefully, more useful words."
   ]
  },
  {
   "cell_type": "code",
   "execution_count": 966,
   "metadata": {},
   "outputs": [
    {
     "data": {
      "text/plain": [
       "10699"
      ]
     },
     "execution_count": 966,
     "metadata": {},
     "output_type": "execute_result"
    }
   ],
   "source": [
    "id2word.filter_extremes(no_below=15, no_above=0.015)\n",
    "len(id2word.keys())"
   ]
  },
  {
   "cell_type": "markdown",
   "metadata": {},
   "source": [
    "Create corpus for modeling."
   ]
  },
  {
   "cell_type": "code",
   "execution_count": 967,
   "metadata": {
    "collapsed": false,
    "jupyter": {
     "outputs_hidden": false
    },
    "pycharm": {
     "is_executing": false,
     "name": "#%%\n"
    }
   },
   "outputs": [],
   "source": [
    "corpus = [id2word.doc2bow(text) for text in bigram_tokens]"
   ]
  },
  {
   "cell_type": "markdown",
   "metadata": {},
   "source": [
    "Fit an LDA model."
   ]
  },
  {
   "cell_type": "code",
   "execution_count": 968,
   "metadata": {
    "collapsed": false,
    "jupyter": {
     "outputs_hidden": false
    },
    "pycharm": {
     "is_executing": false,
     "name": "#%%\n"
    }
   },
   "outputs": [],
   "source": [
    "lda = LdaMulticore(corpus=corpus,\n",
    "                   id2word=id2word,\n",
    "                   chunksize=10000,\n",
    "                   passes=15,\n",
    "                   workers=multiprocessing.cpu_count(),\n",
    "                   )"
   ]
  },
  {
   "cell_type": "markdown",
   "metadata": {},
   "source": [
    "Test out our model."
   ]
  },
  {
   "cell_type": "code",
   "execution_count": 994,
   "metadata": {},
   "outputs": [],
   "source": [
    "def get_search_terms(index):\n",
    "    \"\"\"Return topics for a given index in the test_tems list.\"\"\"\n",
    "    # Preprocess new document.\n",
    "    lemma = list(map(lemmatize, [test_terms[index]]))\n",
    "    other_texts = list(map(tokenize, lemma))\n",
    "    other_corpus = []\n",
    "    for sent in other_texts:\n",
    "        other_corpus.append(bigram_phraser[sent])\n",
    "    corpus = [id2word.doc2bow(text) for text in other_corpus]\n",
    "    unseen_doc = corpus[0]\n",
    "    # Feed processed document to the model.\n",
    "    vector = lda[unseen_doc]  # Get topic probability distribution for a document\n",
    "    # Choose the set of topics the model gives the highest probability to.\n",
    "    terms = [topic.split('*') for topic in lda.print_topic(vector[np.argmax(vector, axis=0)[1]][0], 30).split(' + ')]\n",
    "             #if float(topic.split('*')[0]) >= .005]  # Set a model probability cut-off for topic inclusion.\n",
    "    return terms"
   ]
  },
  {
   "cell_type": "code",
   "execution_count": 995,
   "metadata": {},
   "outputs": [],
   "source": [
    "index_to_search = 949"
   ]
  },
  {
   "cell_type": "code",
   "execution_count": 996,
   "metadata": {},
   "outputs": [
    {
     "data": {
      "text/plain": [
       "'comparison of two strategies for endotracheal tube cuff underinflation prevention during invasive mechanical ventilation during invasive mechanical ventilation, maintaining endotracheal tube cuff pressure around 25 cmh2o is recommended for sealing the upper airways. the continuous control of pcuff with a simple mechanical device, the tracoe smart cuffmanagertm, has never been assessed. the investigators hypothesize that the tracoe smart cuffmanagertm would allow a reduction of the incidence of underinflation episodes, as compared with the intermittent strategy of pcuff control. acute brain injury inclusion criteria: with severe acute brain damage admitted in the icu for less than 48 hours and expected to receive invasive mechanical ventilation (through orotracheal tube with a low pressure high volume cuff) for at least 48 hours after inclusion. exclusion criteria: change in the upper airway management within the 48 hours following the inclusion (extubation or change in the tracheal tube or tracheostomy) pregnancy, moribund status. all 18 years n/a no endotracheal tube wounds and injuries comparison of two strategies for the prevention of endotracheal tube cuff underinflation during invasive mechanical ventilation: intermittent versus continuous cuff pressure control a randomised controlled study'"
      ]
     },
     "execution_count": 996,
     "metadata": {},
     "output_type": "execute_result"
    }
   ],
   "source": [
    "test_terms[index_to_search]"
   ]
  },
  {
   "cell_type": "code",
   "execution_count": 997,
   "metadata": {},
   "outputs": [
    {
     "data": {
      "text/plain": [
       "[['0.024', '\"ventilation\"'],\n",
       " ['0.022', '\"respiratory\"'],\n",
       " ['0.021', '\"oxygen\"'],\n",
       " ['0.019', '\"intubation\"'],\n",
       " ['0.014', '\"flow\"'],\n",
       " ['0.012', '\"needle\"'],\n",
       " ['0.011', '\"high flow\"'],\n",
       " ['0.009', '\"nasal\"'],\n",
       " ['0.009', '\"pressure\"'],\n",
       " ['0.008', '\"tube\"'],\n",
       " ['0.008', '\"invasive\"'],\n",
       " ['0.008', '\"ventilator\"'],\n",
       " ['0.007', '\"aspiration\"'],\n",
       " ['0.007', '\"esophageal\"'],\n",
       " ['0.007', '\"nasal cannula\"'],\n",
       " ['0.006', '\"membrane\"'],\n",
       " ['0.006', '\"mask\"'],\n",
       " ['0.006', '\"pancreatic\"'],\n",
       " ['0.006', '\"intubate\"'],\n",
       " ['0.005', '\"oxygenation\"'],\n",
       " ['0.005', '\"progesterone\"'],\n",
       " ['0.005', '\"invasive ventilation\"'],\n",
       " ['0.005', '\"prevention\"'],\n",
       " ['0.004', '\"mass\"'],\n",
       " ['0.004', '\"pneumothorax\"'],\n",
       " ['0.004', '\"airway\"'],\n",
       " ['0.004', '\"endoscopic ultrasound\"'],\n",
       " ['0.004', '\"solid\"'],\n",
       " ['0.004', '\"place\"'],\n",
       " ['0.004', '\"eus\"']]"
      ]
     },
     "execution_count": 997,
     "metadata": {},
     "output_type": "execute_result"
    }
   ],
   "source": [
    "get_search_terms(index_to_search)"
   ]
  },
  {
   "cell_type": "markdown",
   "metadata": {},
   "source": [
    "Pretty good."
   ]
  },
  {
   "cell_type": "code",
   "execution_count": 998,
   "metadata": {},
   "outputs": [],
   "source": [
    "index_to_search = 244"
   ]
  },
  {
   "cell_type": "code",
   "execution_count": 999,
   "metadata": {},
   "outputs": [
    {
     "data": {
      "text/plain": [
       "'community based intervention effects on older adults` physical activity the research team will conduct a 2 x 2 factorial experiment testing the individual and combined effects of two empirically and theoretically relevant sets of behavior change strategies on community dwelling older adults` physical activity. to do this the investigators will randomize participants >= 70 years old (n = 308) to 1 of 4 experimental conditions. all conditions include an evidence based physical activity protocol endorsed by centers for disease control and prevention for use by all older adults, including those with frailty and multiple co morbidities and the commercially available physical activity monitor (e.g., fitbit) to augment intervention delivery. intervention components that are experimental and vary by condition are the sets of behavior change strategies which will be combined with the physical activity protocol and the physical activity monitor. condition 1 has no specific behavior change strategies; condition 2 includes an intervention component comprised of 5 interpersonal behavior change strategies, such as facilitating social support and social comparison; condition 3 includes an intervention component comprised of 5 intrapersonal behavior change strategies, such as setting personally meaningful goals; and condition 4 includes both sets of behavior change strategies 5 interpersonal strategies combined with 5 intrapersonal behavior change strategies. exercise inclusion criteria: â‰¥70 years of age english speaking low levels of pa (below recommended guidelines) self reported fall risk as guided by the cdc, steadi fall risk screener one or more falls in the last year unsteadiness when standing or walking worries about falling participants who self report the following symptoms will require clearance from a primary provider (as guided by the exercise and screening for you questionnaire) pain, tightness or pressure in chest d community based intervention effects on older adults` physical activity and falls '"
      ]
     },
     "execution_count": 999,
     "metadata": {},
     "output_type": "execute_result"
    }
   ],
   "source": [
    "test_terms[index_to_search]"
   ]
  },
  {
   "cell_type": "code",
   "execution_count": 1000,
   "metadata": {},
   "outputs": [
    {
     "data": {
      "text/plain": [
       "[['0.014', '\"youth\"'],\n",
       " ['0.012', '\"app\"'],\n",
       " ['0.011', '\"behavior\"'],\n",
       " ['0.010', '\"adhd\"'],\n",
       " ['0.009', '\"access\"'],\n",
       " ['0.009', '\"social\"'],\n",
       " ['0.009', '\"mobile\"'],\n",
       " ['0.008', '\"smartphone\"'],\n",
       " ['0.008', '\"african american\"'],\n",
       " ['0.007', '\"speak\"'],\n",
       " ['0.007', '\"address\"'],\n",
       " ['0.007', '\"internet\"'],\n",
       " ['0.007', '\"behavioral\"'],\n",
       " ['0.006', '\"technology\"'],\n",
       " ['0.006', '\"hyperactivity\"'],\n",
       " ['0.006', '\"focus\"'],\n",
       " ['0.006', '\"engage\"'],\n",
       " ['0.006', '\"tailor\"'],\n",
       " ['0.006', '\"feasibility\"'],\n",
       " ['0.006', '\"attention deficit\"'],\n",
       " ['0.006', '\"team\"'],\n",
       " ['0.006', '\"tool\"'],\n",
       " ['0.005', '\"goal\"'],\n",
       " ['0.005', '\"engagement\"'],\n",
       " ['0.005', '\"promote\"'],\n",
       " ['0.005', '\"communication\"'],\n",
       " ['0.005', '\"phone\"'],\n",
       " ['0.005', '\"mhealth\"'],\n",
       " ['0.005', '\"barrier\"'],\n",
       " ['0.005', '\"parent\"']]"
      ]
     },
     "execution_count": 1000,
     "metadata": {},
     "output_type": "execute_result"
    }
   ],
   "source": [
    "get_search_terms(index_to_search)"
   ]
  },
  {
   "cell_type": "code",
   "execution_count": 1001,
   "metadata": {},
   "outputs": [],
   "source": [
    "index_to_search = 847"
   ]
  },
  {
   "cell_type": "code",
   "execution_count": 1002,
   "metadata": {},
   "outputs": [
    {
     "data": {
      "text/plain": [
       "'web based orthopaedic sports medicine registry the purpose of this study is to establish an international, web based clinical registry to collect baseline characteristics of patients undergoing orthopaedic, sports medicine, arthroscopy, and related surgery, and the subsequent outcomes and cost effectiveness associated with the surgical procedures and nonoperative treatments. degenerative and traumatic pathology of the knee cohort will be selected from clinic patients scheduling surgery or nonoperative treatment non probability sample inclusion criteria: all patients electing to schedule routine and medically indicated orthopedic, sports medicine, arthroscopy and related surgery or nonoperative treatment exclusion criteria: non english or spanish speaking vulnerable populations, excluding minors all 12 years n/a no orthopedic surgery orthopaedic sports medicine, arthroscopy, and related surgery registry using the web based orthoillustrated surgical outcomes system'"
      ]
     },
     "execution_count": 1002,
     "metadata": {},
     "output_type": "execute_result"
    }
   ],
   "source": [
    "test_terms[index_to_search]"
   ]
  },
  {
   "cell_type": "code",
   "execution_count": 1003,
   "metadata": {},
   "outputs": [
    {
     "data": {
      "text/plain": [
       "[['0.046', '\"injection\"'],\n",
       " ['0.029', '\"limb\"'],\n",
       " ['0.028', '\"extremity\"'],\n",
       " ['0.028', '\"muscle\"'],\n",
       " ['0.023', '\"hand\"'],\n",
       " ['0.020', '\"movement\"'],\n",
       " ['0.014', '\"rehabilitation\"'],\n",
       " ['0.013', '\"lumbar\"'],\n",
       " ['0.013', '\"virtual reality\"'],\n",
       " ['0.011', '\"physiotherapy\"'],\n",
       " ['0.011', '\"fusion\"'],\n",
       " ['0.011', '\"low pain\"'],\n",
       " ['0.011', '\"botulinum toxin\"'],\n",
       " ['0.010', '\"functional\"'],\n",
       " ['0.008', '\"joint\"'],\n",
       " ['0.008', '\"unilateral\"'],\n",
       " ['0.007', '\"bilateral\"'],\n",
       " ['0.006', '\"degenerative\"'],\n",
       " ['0.006', '\"strength\"'],\n",
       " ['0.006', '\"spasticity\"'],\n",
       " ['0.006', '\"range motion\"'],\n",
       " ['0.006', '\"spinal\"'],\n",
       " ['0.005', '\"body\"'],\n",
       " ['0.005', '\"dystonia\"'],\n",
       " ['0.005', '\"conservative\"'],\n",
       " ['0.005', '\"finger\"'],\n",
       " ['0.005', '\"mitochondrial\"'],\n",
       " ['0.005', '\"neurological\"'],\n",
       " ['0.004', '\"mechanical\"'],\n",
       " ['0.004', '\"neuromuscular\"']]"
      ]
     },
     "execution_count": 1003,
     "metadata": {},
     "output_type": "execute_result"
    }
   ],
   "source": [
    "get_search_terms(index_to_search)"
   ]
  },
  {
   "cell_type": "markdown",
   "metadata": {},
   "source": [
    "Also pretty good."
   ]
  },
  {
   "cell_type": "code",
   "execution_count": 1004,
   "metadata": {},
   "outputs": [],
   "source": [
    "index_to_search = 682"
   ]
  },
  {
   "cell_type": "code",
   "execution_count": 1005,
   "metadata": {},
   "outputs": [
    {
     "data": {
      "text/plain": [
       "'pan asia united states prevention of sudden cardiac death catheter ablation trial the current standard of care for ventricular tachycardia includes the use of medicine called anti arrhythmic drugs and implantable cardioverter defibrillator therapy. these treatments are used to terminate the irregular heartbeats and bring the heart back to a normal rhythm. catheter ablation is a procedure used to eliminate the heart cells causing the arrhythmia. patients eligible for this may benefit from an ablation procedure in addition to an icd to treat their vt condition or risk of developing vt. this study aims to show that treating vt with catheter ablation, if performed preemptively at the time of icd implantation, will reduce subsequent recurrent vt, icd shocks, and lead to improved survival. ventricular tachycardia inclusion criteria: patient is receiving a new implantable cardioverter defibrillator or cardiac resynchronization therapy device (crt d) implant that has study required programing capabilities and is appropriate for remote monitoring. patient who has received the icd / crt d within 90 days of enrollment can also be enrolled. patient who has a high risk of icd shock as shown by documented monomorphic vt by one or more of the following: spontaneous mmvt inducible mmvt sudden cardiac death tachycardia pause scd: pan asia united states prevention of sudden cardiac death catheter ablation trial'"
      ]
     },
     "execution_count": 1005,
     "metadata": {},
     "output_type": "execute_result"
    }
   ],
   "source": [
    "test_terms[index_to_search]"
   ]
  },
  {
   "cell_type": "code",
   "execution_count": 1006,
   "metadata": {},
   "outputs": [
    {
     "data": {
      "text/plain": [
       "[['0.155', '\"breast cancer\"'],\n",
       " ['0.033', '\"breast neoplasm\"'],\n",
       " ['0.026', '\"metastatic breast\"'],\n",
       " ['0.020', '\"survivor\"'],\n",
       " ['0.020', '\"endocrine\"'],\n",
       " ['0.016', '\"icd\"'],\n",
       " ['0.015', '\"edema\"'],\n",
       " ['0.010', '\"er\"'],\n",
       " ['0.010', '\"breast\"'],\n",
       " ['0.010', '\"hormone receptor\"'],\n",
       " ['0.009', '\"cancer survivor\"'],\n",
       " ['0.009', '\"estrogen receptor\"'],\n",
       " ['0.009', '\"postmenopausal woman\"'],\n",
       " ['0.008', '\"death\"'],\n",
       " ['0.008', '\"aromatase inhibitor\"'],\n",
       " ['0.008', '\"fulvestrant\"'],\n",
       " ['0.008', '\"early breast\"'],\n",
       " ['0.008', '\"optical coherence\"'],\n",
       " ['0.007', '\"tamoxifen\"'],\n",
       " ['0.006', '\"tomography\"'],\n",
       " ['0.006', '\"hormonal\"'],\n",
       " ['0.006', '\"sudden cardiac\"'],\n",
       " ['0.006', '\"iii\"'],\n",
       " ['0.005', '\"postmenopausal\"'],\n",
       " ['0.005', '\"defibrillator\"'],\n",
       " ['0.005', '\"adjuvant\"'],\n",
       " ['0.005', '\"palbociclib\"'],\n",
       " ['0.005', '\"diabetic macular\"'],\n",
       " ['0.005', '\"implantable cardioverter\"'],\n",
       " ['0.005', '\"oct\"']]"
      ]
     },
     "execution_count": 1006,
     "metadata": {},
     "output_type": "execute_result"
    }
   ],
   "source": [
    "get_search_terms(index_to_search)"
   ]
  },
  {
   "cell_type": "code",
   "execution_count": 1007,
   "metadata": {},
   "outputs": [],
   "source": [
    "index_to_search = 724"
   ]
  },
  {
   "cell_type": "code",
   "execution_count": 1008,
   "metadata": {},
   "outputs": [
    {
     "data": {
      "text/plain": [
       "'single agent and combined inhibition after allogeneic stem cell transplant the purpose of the study is to determine the safety and benefit of nivolumab, ipilimumab or the combination of nivolumab with ipilimumab given after bone marrow transplant for patients with acute myelogenous leukemia and myelodysplastic syndrome. acute myeloid leukemia and myelodysplastic syndrome inclusion criteria: 1. voluntary signed and dated irb/iec approved written informed consent form in accordance with regulatory and local guidelines. 2. be 18 years or older and 70 years or younger on the day of signing consent 3. have a confirmed diagnosis of non m3 acute myeloid leukemia (intermediate ii is high risk. our population will consist of intermediate ii and high risk patients or any flt3+ aml) or ipss intermediate 2 or high risk myelodysplastic syndrome (appendice leukemia, myeloid, acute phase i study of single agent and combined checkpoint inhibition after allogeneic hematopoietic stem cell transplantation in patients at high risk for post transplant recurrence'"
      ]
     },
     "execution_count": 1008,
     "metadata": {},
     "output_type": "execute_result"
    }
   ],
   "source": [
    "test_terms[index_to_search]"
   ]
  },
  {
   "cell_type": "code",
   "execution_count": 1009,
   "metadata": {},
   "outputs": [
    {
     "data": {
      "text/plain": [
       "[['0.056', '\"leukemia\"'],\n",
       " ['0.036', '\"transplant\"'],\n",
       " ['0.035', '\"stem cell\"'],\n",
       " ['0.032', '\"transplantation\"'],\n",
       " ['0.028', '\"donor\"'],\n",
       " ['0.024', '\"bone marrow\"'],\n",
       " ['0.023', '\"acute myeloid\"'],\n",
       " ['0.016', '\"aml\"'],\n",
       " ['0.013', '\"cell transplantation\"'],\n",
       " ['0.011', '\"acute lymphoblastic\"'],\n",
       " ['0.010', '\"relapse\"'],\n",
       " ['0.010', '\"recipient\"'],\n",
       " ['0.010', '\"hematopoietic stem\"'],\n",
       " ['0.009', '\"host\"'],\n",
       " ['0.009', '\"myelodysplastic syndrome\"'],\n",
       " ['0.008', '\"mds\"'],\n",
       " ['0.008', '\"graft versus\"'],\n",
       " ['0.007', '\"cell transplant\"'],\n",
       " ['0.007', '\"peripheral blood\"'],\n",
       " ['0.007', '\"acute leukemia\"'],\n",
       " ['0.006', '\"allogeneic hematopoietic\"'],\n",
       " ['0.006', '\"graft\"'],\n",
       " ['0.006', '\"hsct\"'],\n",
       " ['0.006', '\"newly\"'],\n",
       " ['0.005', '\"allogeneic\"'],\n",
       " ['0.005', '\"cord blood\"'],\n",
       " ['0.005', '\"relapse refractory\"'],\n",
       " ['0.005', '\"induction\"'],\n",
       " ['0.005', '\"post transplant\"'],\n",
       " ['0.005', '\"autologous\"']]"
      ]
     },
     "execution_count": 1009,
     "metadata": {},
     "output_type": "execute_result"
    }
   ],
   "source": [
    "get_search_terms(index_to_search)"
   ]
  },
  {
   "cell_type": "code",
   "execution_count": 1010,
   "metadata": {},
   "outputs": [],
   "source": [
    "index_to_search = 754"
   ]
  },
  {
   "cell_type": "code",
   "execution_count": 1011,
   "metadata": {},
   "outputs": [
    {
     "data": {
      "text/plain": [
       "'adapting project uplift for blacks in georgia specific aim 8. evaluate the efficacy of project uplift for reducing symptoms of anxiety, depression, and ptsd among african americans at immediate posttest, after 3 months, and after 5 months. depressive symptoms inclusion criteria: identify as african american or black; diagnosed by a healthcare provider with epilepsy or seizure disorder at least 3 months ago; is mildly to moderately depressed or mildly to moderately anxious as determined by the phq 4; willing to be audio recorded during uplift sessions exclusion criteria: does not self identify as african american or black; is not depressed or anxious as determined by the phq 4; is severely depressed or anxious as determined by the phq 4; r epilepsy depression adapting evidence based epilepsy self management programs for blacks in georgia'"
      ]
     },
     "execution_count": 1011,
     "metadata": {},
     "output_type": "execute_result"
    }
   ],
   "source": [
    "test_terms[index_to_search]"
   ]
  },
  {
   "cell_type": "code",
   "execution_count": 1012,
   "metadata": {},
   "outputs": [
    {
     "data": {
      "text/plain": [
       "[['0.072', '\"depression\"'],\n",
       " ['0.023', '\"depressive\"'],\n",
       " ['0.022', '\"major depressive\"'],\n",
       " ['0.020', '\"cardiac arrest\"'],\n",
       " ['0.017', '\"episode\"'],\n",
       " ['0.013', '\"antidepressant\"'],\n",
       " ['0.011', '\"mood\"'],\n",
       " ['0.011', '\"bipolar\"'],\n",
       " ['0.011', '\"psychiatric\"'],\n",
       " ['0.010', '\"ketamine\"'],\n",
       " ['0.010', '\"fibromyalgia\"'],\n",
       " ['0.009', '\"dsm\"'],\n",
       " ['0.009', '\"depressed\"'],\n",
       " ['0.009', '\"mdd\"'],\n",
       " ['0.008', '\"major depression\"'],\n",
       " ['0.007', '\"psychosis\"'],\n",
       " ['0.007', '\"item\"'],\n",
       " ['0.006', '\"scid\"'],\n",
       " ['0.006', '\"mental\"'],\n",
       " ['0.006', '\"eeg\"'],\n",
       " ['0.006', '\"rating scale\"'],\n",
       " ['0.006', '\"interview\"'],\n",
       " ['0.006', '\"version\"'],\n",
       " ['0.006', '\"psychotic\"'],\n",
       " ['0.005', '\"cognitive behavioral\"'],\n",
       " ['0.005', '\"illness\"'],\n",
       " ['0.005', '\"resistant depression\"'],\n",
       " ['0.005', '\"methamphetamine\"'],\n",
       " ['0.004', '\"resistant\"'],\n",
       " ['0.004', '\"mechanism\"']]"
      ]
     },
     "execution_count": 1012,
     "metadata": {},
     "output_type": "execute_result"
    }
   ],
   "source": [
    "get_search_terms(index_to_search)"
   ]
  },
  {
   "cell_type": "code",
   "execution_count": 1013,
   "metadata": {},
   "outputs": [],
   "source": [
    "index_to_search = 74"
   ]
  },
  {
   "cell_type": "code",
   "execution_count": 1014,
   "metadata": {},
   "outputs": [
    {
     "data": {
      "text/plain": [
       "'evaluation of short term outcome of different bifurcation stenting techniques at assuit university cath. lab primary aim: evaluation of the short term outcome of different techniques used in bifurcational coronary arteries intervention regarding major adverse cardiac event : cardiac death, myocardial infarction, target vessel revascularization, or stent thrombosis and occurrence of unstable angina with ecg changes and echo findings in the same target vessel in assiut university cath. lab. secondary aim: calculation of the percentage of bifurcational coronary arteries intervention in assiut university cath.lab stemi st elevation myocardial infarction this study will include patients diagnosed as bifurcational coronary arteries iesion underwent intervention non probability sample inclusion criteria: all patients with true bifurcational coronary arteries lesion defined as (lesions in which there is more than 50 percent diameter stenosis in both the parent vessel and the ostium of the side branch arising from the lesion, and both are more than 2.0 mm in diameter by visual estimation) undergoing intervention either urgent or electiv infarction evaluation of short term outcome of different bifurcation stenting techniques at assuit university cath. lab'"
      ]
     },
     "execution_count": 1014,
     "metadata": {},
     "output_type": "execute_result"
    }
   ],
   "source": [
    "test_terms[index_to_search]"
   ]
  },
  {
   "cell_type": "code",
   "execution_count": 1015,
   "metadata": {},
   "outputs": [
    {
     "data": {
      "text/plain": [
       "[['0.033', '\"coronary artery\"'],\n",
       " ['0.028', '\"myocardial infarction\"'],\n",
       " ['0.027', '\"stent\"'],\n",
       " ['0.027', '\"acute coronary\"'],\n",
       " ['0.022', '\"guide\"'],\n",
       " ['0.020', '\"cardiac surgery\"'],\n",
       " ['0.017', '\"pci\"'],\n",
       " ['0.017', '\"coronary\"'],\n",
       " ['0.012', '\"percutaneous coronary\"'],\n",
       " ['0.012', '\"acs\"'],\n",
       " ['0.012', '\"myocardial\"'],\n",
       " ['0.009', '\"cabg\"'],\n",
       " ['0.009', '\"infarction\"'],\n",
       " ['0.008', '\"indication\"'],\n",
       " ['0.008', '\"vessel\"'],\n",
       " ['0.008', '\"st elevation\"'],\n",
       " ['0.008', '\"cc\"'],\n",
       " ['0.007', '\"complex\"'],\n",
       " ['0.007', '\"unstable angina\"'],\n",
       " ['0.007', '\"cardiogenic shock\"'],\n",
       " ['0.007', '\"volume\"'],\n",
       " ['0.007', '\"ischemic heart\"'],\n",
       " ['0.006', '\"bypass graft\"'],\n",
       " ['0.006', '\"bypass grafting\"'],\n",
       " ['0.006', '\"postoperative\"'],\n",
       " ['0.006', '\"troponin\"'],\n",
       " ['0.006', '\"stenting\"'],\n",
       " ['0.005', '\"elute stent\"'],\n",
       " ['0.005', '\"mi\"'],\n",
       " ['0.005', '\"colchicine\"']]"
      ]
     },
     "execution_count": 1015,
     "metadata": {},
     "output_type": "execute_result"
    }
   ],
   "source": [
    "get_search_terms(index_to_search)"
   ]
  },
  {
   "cell_type": "code",
   "execution_count": 1016,
   "metadata": {},
   "outputs": [],
   "source": [
    "index_to_search = 679"
   ]
  },
  {
   "cell_type": "code",
   "execution_count": 1017,
   "metadata": {},
   "outputs": [
    {
     "data": {
      "text/plain": [
       "'diet for induction and maintenance of remission and re biosis in crohn`s disease the modified exclusive enteral nutrition is an open label randomized controlled trial in mild to severe crohn`s disease patients. the purpose of this study is to determine whether induction of remission and maintenance of remission can be achieved with a new dietary strategy that involves only 2 weeks of exclusive enteral nutrition with modulen and 12 weeks of an exclusion diet involving selected table foods. this novel approach will be compared to the gold standard dietary regime involving 8 weeks of een. crohn`s disease inclusion criteria: 1. established diagnosis of crohn`s disease. 2. patients with mild to severe active crohn`s disease 3. ages 8 18 4. duration of disease ≤ 36 months 5. active inflammation (crp≥>0.6 mg /dl or esr≥>20 or calprotectin≥>200 mcg/gr within the past 3 weeks) during screening 6. patients with b1, p0 uncomplicated disease at enrollment 7. patients with disease defined as l1, l4, l3 or l2 limited to cecum, ascending or transverse colon or l2 with left sided dis crohn`s disease crohn disease modified exclusive enteral nutrition with the crohn`s disease exclusion diet for induction and maintenance of remission and re biosis'"
      ]
     },
     "execution_count": 1017,
     "metadata": {},
     "output_type": "execute_result"
    }
   ],
   "source": [
    "test_terms[index_to_search]"
   ]
  },
  {
   "cell_type": "code",
   "execution_count": 1018,
   "metadata": {},
   "outputs": [
    {
     "data": {
      "text/plain": [
       "[['0.031', '\"trauma\"'],\n",
       " ['0.021', '\"diet\"'],\n",
       " ['0.019', '\"supplementation\"'],\n",
       " ['0.016', '\"supplement\"'],\n",
       " ['0.014', '\"intake\"'],\n",
       " ['0.013', '\"inflammation\"'],\n",
       " ['0.012', '\"dietary\"'],\n",
       " ['0.012', '\"gut\"'],\n",
       " ['0.011', '\"gut microbiota\"'],\n",
       " ['0.010', '\"intestinal\"'],\n",
       " ['0.010', '\"acid\"'],\n",
       " ['0.009', '\"microbiota\"'],\n",
       " ['0.009', '\"consumption\"'],\n",
       " ['0.007', '\"food\"'],\n",
       " ['0.007', '\"oxidative stress\"'],\n",
       " ['0.007', '\"probiotic\"'],\n",
       " ['0.007', '\"product\"'],\n",
       " ['0.007', '\"composition\"'],\n",
       " ['0.007', '\"carbohydrate\"'],\n",
       " ['0.007', '\"role\"'],\n",
       " ['0.006', '\"sugar\"'],\n",
       " ['0.006', '\"consume\"'],\n",
       " ['0.006', '\"nutritional\"'],\n",
       " ['0.006', '\"inflammatory\"'],\n",
       " ['0.006', '\"antioxidant\"'],\n",
       " ['0.005', '\"fatty acid\"'],\n",
       " ['0.005', '\"extract\"'],\n",
       " ['0.005', '\"metabolism\"'],\n",
       " ['0.005', '\"bacteria\"'],\n",
       " ['0.005', '\"red\"']]"
      ]
     },
     "execution_count": 1018,
     "metadata": {},
     "output_type": "execute_result"
    }
   ],
   "source": [
    "get_search_terms(index_to_search)"
   ]
  },
  {
   "cell_type": "code",
   "execution_count": 1063,
   "metadata": {},
   "outputs": [],
   "source": [
    "def search(text):\n",
    "    \"\"\"Return topics for a given index in the test_tems list.\"\"\"\n",
    "    # Preprocess new document.\n",
    "    lemma = list(map(lemmatize, [text]))\n",
    "    other_texts = list(map(tokenize, lemma))\n",
    "    other_corpus = []\n",
    "    for sent in other_texts:\n",
    "        other_corpus.append(bigram_phraser[sent])\n",
    "    corpus = [id2word.doc2bow(text) for text in other_corpus]\n",
    "    unseen_doc = corpus[0]\n",
    "    # Feed processed document to the model.\n",
    "    vector = lda[unseen_doc]  # Get topic probability distribution for a document\n",
    "    # Choose the set of topics the model gives the highest probability to.\n",
    "    if not vector:\n",
    "        return []\n",
    "    terms = [(float(topic.split('*')[0]), topic.split('*')[1].strip('\"')) for topic in lda.print_topic(vector[np.argmax(vector, axis=0)[1]][0], 30).split(' + ')\n",
    "             if float(topic.split('*')[0]) >= .01]  # Set a model probability cut-off for topic inclusion.\n",
    "    return terms"
   ]
  },
  {
   "cell_type": "code",
   "execution_count": 1064,
   "metadata": {},
   "outputs": [
    {
     "data": {
      "text/plain": [
       "[(0.106, 'lung cancer'),\n",
       " (0.068, 'small cell'),\n",
       " (0.034, 'cell lung'),\n",
       " (0.033, 'nsclc'),\n",
       " (0.022, 'lung neoplasm'),\n",
       " (0.021, 'pembrolizumab'),\n",
       " (0.014, 'recurrent metastatic'),\n",
       " (0.012, 'anti pd'),\n",
       " (0.011, 'locally advanced'),\n",
       " (0.01, 'nivolumab'),\n",
       " (0.01, 'carcinoma small')]"
      ]
     },
     "execution_count": 1064,
     "metadata": {},
     "output_type": "execute_result"
    }
   ],
   "source": [
    "search('small cell lung cancer')"
   ]
  },
  {
   "cell_type": "code",
   "execution_count": 1055,
   "metadata": {},
   "outputs": [
    {
     "data": {
      "text/plain": [
       "['0.033', '\"thrombosis\"', '0.033', '\"thrombosis\"']"
      ]
     },
     "execution_count": 1055,
     "metadata": {},
     "output_type": "execute_result"
    }
   ],
   "source": [
    "one = search(\"'thrombosis'\")[0]\n",
    "\n",
    "one += search('venous')[0]\n",
    "one"
   ]
  },
  {
   "cell_type": "code",
   "execution_count": 1058,
   "metadata": {},
   "outputs": [
    {
     "data": {
      "text/plain": [
       "[['0.050', '\"antibiotic\"'],\n",
       " ['0.022', '\"feedback\"'],\n",
       " ['0.020', '\"scoliosis\"'],\n",
       " ['0.015', '\"sensor\"'],\n",
       " ['0.013', '\"physician\"'],\n",
       " ['0.013', '\"extubation\"'],\n",
       " ['0.012', '\"counseling\"'],\n",
       " ['0.012', '\"medication adherence\"'],\n",
       " ['0.010', '\"brace\"']]"
      ]
     },
     "execution_count": 1058,
     "metadata": {},
     "output_type": "execute_result"
    }
   ],
   "source": [
    "search('extubation')"
   ]
  },
  {
   "cell_type": "code",
   "execution_count": 1056,
   "metadata": {},
   "outputs": [
    {
     "data": {
      "text/plain": [
       "[['0.050', '\"antibiotic\"'],\n",
       " ['0.022', '\"feedback\"'],\n",
       " ['0.020', '\"scoliosis\"'],\n",
       " ['0.015', '\"sensor\"'],\n",
       " ['0.013', '\"physician\"'],\n",
       " ['0.013', '\"extubation\"'],\n",
       " ['0.012', '\"counseling\"'],\n",
       " ['0.012', '\"medication adherence\"'],\n",
       " ['0.010', '\"brace\"']]"
      ]
     },
     "execution_count": 1056,
     "metadata": {},
     "output_type": "execute_result"
    }
   ],
   "source": [
    "search(\"'auto extubation'\")"
   ]
  },
  {
   "cell_type": "code",
   "execution_count": 1057,
   "metadata": {},
   "outputs": [
    {
     "data": {
      "text/plain": [
       "['0.105', '\"renal\"', '0.050', '\"antibiotic\"']"
      ]
     },
     "execution_count": 1057,
     "metadata": {},
     "output_type": "execute_result"
    }
   ],
   "source": [
    "one = search('auto')[0]\n",
    "one += search('extubation')[0]\n",
    "one"
   ]
  },
  {
   "cell_type": "code",
   "execution_count": 1065,
   "metadata": {},
   "outputs": [],
   "source": [
    "import pandas as pd"
   ]
  },
  {
   "cell_type": "code",
   "execution_count": 1106,
   "metadata": {},
   "outputs": [],
   "source": [
    "df = pd.read_csv('../frontend_dataset_final.csv').drop(columns='Unnamed: 0')"
   ]
  },
  {
   "cell_type": "code",
   "execution_count": 1107,
   "metadata": {},
   "outputs": [
    {
     "data": {
      "text/html": [
       "<div>\n",
       "<style scoped>\n",
       "    .dataframe tbody tr th:only-of-type {\n",
       "        vertical-align: middle;\n",
       "    }\n",
       "\n",
       "    .dataframe tbody tr th {\n",
       "        vertical-align: top;\n",
       "    }\n",
       "\n",
       "    .dataframe thead th {\n",
       "        text-align: right;\n",
       "    }\n",
       "</style>\n",
       "<table border=\"1\" class=\"dataframe\">\n",
       "  <thead>\n",
       "    <tr style=\"text-align: right;\">\n",
       "      <th></th>\n",
       "      <th>agency</th>\n",
       "      <th>brief_title</th>\n",
       "      <th>brief_summary</th>\n",
       "      <th>city</th>\n",
       "      <th>condition</th>\n",
       "      <th>country</th>\n",
       "      <th>detailed_description</th>\n",
       "      <th>eligibility</th>\n",
       "      <th>gender</th>\n",
       "      <th>keyword</th>\n",
       "      <th>mesh_term</th>\n",
       "      <th>official_title</th>\n",
       "      <th>overall_status</th>\n",
       "      <th>phase</th>\n",
       "      <th>state</th>\n",
       "      <th>url</th>\n",
       "    </tr>\n",
       "  </thead>\n",
       "  <tbody>\n",
       "    <tr>\n",
       "      <th>0</th>\n",
       "      <td>Fraunhofer Institute for Molecular Biology and...</td>\n",
       "      <td>PREVALENCE OF Anti-CCP POSITIVITY AND SUBCLINI...</td>\n",
       "      <td>Non-interventional, prospective, observational...</td>\n",
       "      <td>Frankfurt am Main</td>\n",
       "      <td>Rheumatoid Arthritis</td>\n",
       "      <td>Germany</td>\n",
       "      <td>Studies of early arthritis cohorts have shown ...</td>\n",
       "      <td>population without pre-classified RA but new o...</td>\n",
       "      <td>All</td>\n",
       "      <td>Anti-CCP</td>\n",
       "      <td>Arthritis</td>\n",
       "      <td>PREVALENCE OF ANTI-CYCLIC CITRULLINATED PEPTID...</td>\n",
       "      <td>Recruiting</td>\n",
       "      <td>Missing</td>\n",
       "      <td>Hessia</td>\n",
       "      <td>https://clinicaltrials.gov/show/NCT03267147</td>\n",
       "    </tr>\n",
       "    <tr>\n",
       "      <th>1</th>\n",
       "      <td>University of Washington</td>\n",
       "      <td>Aldesleukin and Pembrolizumab in Treating Pati...</td>\n",
       "      <td>This phase I trial studies the side effects an...</td>\n",
       "      <td>Seattle</td>\n",
       "      <td>Clear Cell Renal Cell Carcinoma</td>\n",
       "      <td>United States</td>\n",
       "      <td>PRIMARY OBJECTIVES: I. To evaluate the safety ...</td>\n",
       "      <td>Inclusion Criteria:  - Be willing and able to ...</td>\n",
       "      <td>All</td>\n",
       "      <td>Missing</td>\n",
       "      <td>Carcinoma</td>\n",
       "      <td>A Phase I Trial of Interleukin-2 (Aldesleukin)...</td>\n",
       "      <td>Recruiting</td>\n",
       "      <td>Phase 1</td>\n",
       "      <td>Washington</td>\n",
       "      <td>https://clinicaltrials.gov/show/NCT03260504</td>\n",
       "    </tr>\n",
       "    <tr>\n",
       "      <th>2</th>\n",
       "      <td>CSPC ZhongQi Pharmaceutical Technology Co., Ltd.</td>\n",
       "      <td>Nab-Paclitaxel Versus Paclitaxel Plus Carbopla...</td>\n",
       "      <td>This is a randomized, multicenter, open, contr...</td>\n",
       "      <td>Missing</td>\n",
       "      <td>Non-small Cell Lung Cancer</td>\n",
       "      <td>Missing</td>\n",
       "      <td>Subjects will receive one of two treatment reg...</td>\n",
       "      <td>Inclusion Criteria:  - Accepted the purpose of...</td>\n",
       "      <td>All</td>\n",
       "      <td>Missing</td>\n",
       "      <td>Lung Neoplasms</td>\n",
       "      <td>The Randomized,Open, Multicenter Phase III Stu...</td>\n",
       "      <td>Not yet recruiting</td>\n",
       "      <td>Phase 3</td>\n",
       "      <td>Missing</td>\n",
       "      <td>https://clinicaltrials.gov/show/NCT03262948</td>\n",
       "    </tr>\n",
       "    <tr>\n",
       "      <th>3</th>\n",
       "      <td>Fraunhofer Institute for Molecular Biology and...</td>\n",
       "      <td>PREVALENCE OF Anti-CCP POSITIVITY AND SUBCLINI...</td>\n",
       "      <td>Non-interventional, prospective, observational...</td>\n",
       "      <td>Frankfurt am Main</td>\n",
       "      <td>Rheumatoid Arthritis</td>\n",
       "      <td>Germany</td>\n",
       "      <td>Studies of early arthritis cohorts have shown ...</td>\n",
       "      <td>population without pre-classified RA but new o...</td>\n",
       "      <td>All</td>\n",
       "      <td>Anti-CCP</td>\n",
       "      <td>Arthritis</td>\n",
       "      <td>PREVALENCE OF ANTI-CYCLIC CITRULLINATED PEPTID...</td>\n",
       "      <td>Recruiting</td>\n",
       "      <td>Missing</td>\n",
       "      <td>Hessia</td>\n",
       "      <td>https://clinicaltrials.gov/show/NCT03267147</td>\n",
       "    </tr>\n",
       "    <tr>\n",
       "      <th>4</th>\n",
       "      <td>Chang Gung Memorial Hospital</td>\n",
       "      <td>Analgesic Effect of Low Level Laser for Proced...</td>\n",
       "      <td>Neonates undergo several painful procedures an...</td>\n",
       "      <td>Kaohsiung</td>\n",
       "      <td>Procedural Pain</td>\n",
       "      <td>Taiwan</td>\n",
       "      <td>This open-label, randomized controlled trial i...</td>\n",
       "      <td>Inclusion Criteria:  - healthy fullterm neonat...</td>\n",
       "      <td>All</td>\n",
       "      <td>neonates</td>\n",
       "      <td>Pain, Procedural</td>\n",
       "      <td>Analgesic Effect of Low Level Laser for Proced...</td>\n",
       "      <td>Recruiting</td>\n",
       "      <td>Missing</td>\n",
       "      <td>Missing</td>\n",
       "      <td>https://clinicaltrials.gov/show/NCT03268148</td>\n",
       "    </tr>\n",
       "  </tbody>\n",
       "</table>\n",
       "</div>"
      ],
      "text/plain": [
       "                                              agency  \\\n",
       "0  Fraunhofer Institute for Molecular Biology and...   \n",
       "1                           University of Washington   \n",
       "2   CSPC ZhongQi Pharmaceutical Technology Co., Ltd.   \n",
       "3  Fraunhofer Institute for Molecular Biology and...   \n",
       "4                       Chang Gung Memorial Hospital   \n",
       "\n",
       "                                         brief_title  \\\n",
       "0  PREVALENCE OF Anti-CCP POSITIVITY AND SUBCLINI...   \n",
       "1  Aldesleukin and Pembrolizumab in Treating Pati...   \n",
       "2  Nab-Paclitaxel Versus Paclitaxel Plus Carbopla...   \n",
       "3  PREVALENCE OF Anti-CCP POSITIVITY AND SUBCLINI...   \n",
       "4  Analgesic Effect of Low Level Laser for Proced...   \n",
       "\n",
       "                                       brief_summary               city  \\\n",
       "0  Non-interventional, prospective, observational...  Frankfurt am Main   \n",
       "1  This phase I trial studies the side effects an...            Seattle   \n",
       "2  This is a randomized, multicenter, open, contr...            Missing   \n",
       "3  Non-interventional, prospective, observational...  Frankfurt am Main   \n",
       "4  Neonates undergo several painful procedures an...          Kaohsiung   \n",
       "\n",
       "                         condition        country  \\\n",
       "0             Rheumatoid Arthritis        Germany   \n",
       "1  Clear Cell Renal Cell Carcinoma  United States   \n",
       "2       Non-small Cell Lung Cancer        Missing   \n",
       "3             Rheumatoid Arthritis        Germany   \n",
       "4                  Procedural Pain         Taiwan   \n",
       "\n",
       "                                detailed_description  \\\n",
       "0  Studies of early arthritis cohorts have shown ...   \n",
       "1  PRIMARY OBJECTIVES: I. To evaluate the safety ...   \n",
       "2  Subjects will receive one of two treatment reg...   \n",
       "3  Studies of early arthritis cohorts have shown ...   \n",
       "4  This open-label, randomized controlled trial i...   \n",
       "\n",
       "                                         eligibility gender   keyword  \\\n",
       "0  population without pre-classified RA but new o...    All  Anti-CCP   \n",
       "1  Inclusion Criteria:  - Be willing and able to ...    All   Missing   \n",
       "2  Inclusion Criteria:  - Accepted the purpose of...    All   Missing   \n",
       "3  population without pre-classified RA but new o...    All  Anti-CCP   \n",
       "4  Inclusion Criteria:  - healthy fullterm neonat...    All  neonates   \n",
       "\n",
       "          mesh_term                                     official_title  \\\n",
       "0         Arthritis  PREVALENCE OF ANTI-CYCLIC CITRULLINATED PEPTID...   \n",
       "1         Carcinoma  A Phase I Trial of Interleukin-2 (Aldesleukin)...   \n",
       "2    Lung Neoplasms  The Randomized,Open, Multicenter Phase III Stu...   \n",
       "3         Arthritis  PREVALENCE OF ANTI-CYCLIC CITRULLINATED PEPTID...   \n",
       "4  Pain, Procedural  Analgesic Effect of Low Level Laser for Proced...   \n",
       "\n",
       "       overall_status    phase       state  \\\n",
       "0          Recruiting  Missing      Hessia   \n",
       "1          Recruiting  Phase 1  Washington   \n",
       "2  Not yet recruiting  Phase 3     Missing   \n",
       "3          Recruiting  Missing      Hessia   \n",
       "4          Recruiting  Missing     Missing   \n",
       "\n",
       "                                           url  \n",
       "0  https://clinicaltrials.gov/show/NCT03267147  \n",
       "1  https://clinicaltrials.gov/show/NCT03260504  \n",
       "2  https://clinicaltrials.gov/show/NCT03262948  \n",
       "3  https://clinicaltrials.gov/show/NCT03267147  \n",
       "4  https://clinicaltrials.gov/show/NCT03268148  "
      ]
     },
     "execution_count": 1107,
     "metadata": {},
     "output_type": "execute_result"
    }
   ],
   "source": [
    "df.head()"
   ]
  },
  {
   "cell_type": "code",
   "execution_count": 1138,
   "metadata": {},
   "outputs": [],
   "source": [
    "def list_terms(df):\n",
    "    terms = (df['condition'] + ' ' +\n",
    "                  df['keyword'] + ' ' + \n",
    "                  df['mesh_term'] + ' ' + \n",
    "                  df['brief_title'] + ' ' +\n",
    "                  df['brief_summary'] + ' ' + \n",
    "                  df['official_title'] + ' ' +\n",
    "                  df['eligibility'][:500]\n",
    "                  )\n",
    "    return terms\n",
    "\n",
    "all_text = df.apply(list_terms, axis=1)"
   ]
  },
  {
   "cell_type": "code",
   "execution_count": 1140,
   "metadata": {},
   "outputs": [],
   "source": [
    "all_text = [text for text in all_text]"
   ]
  },
  {
   "cell_type": "code",
   "execution_count": 1141,
   "metadata": {},
   "outputs": [
    {
     "data": {
      "text/plain": [
       "['Rheumatoid Arthritis Anti-CCP Arthritis PREVALENCE OF Anti-CCP POSITIVITY AND SUBCLINICAL SIGNS OF INFLAMMATION IN PATIENTS WITH NEW ONSET OF NON-SPECIFIC MUSCULOSKELETAL SYMPTOMS Non-interventional, prospective, observational study to assess the relative risk of anti-CCP positive patients to develop (subclinical) signs of inflammation in accordance with early Rheumatoid Arthritis (RA) in a population without pre-classified RA but new1 onset of non-specific musculoskeletal (MSK) symptoms in general practices in Germany and subsequent 36 months follow-up by rheumatologists PREVALENCE OF ANTI-CYCLIC CITRULLINATED PEPTIDE (Anti-CCP) POSITIVITY AND SUBCLINICAL SIGNS OF INFLAMMATION IN PATIENTS WITH NEW ONSET OF NON-SPECIFIC MUSCULOSKELETAL SYMPTOMS POSSIBLY RELATED TO EARLY RHEUMATOID ARTHRITIS IN GENERAL PRACTICES IN GERMANY population without pre-classified RA but new onset of non-specific musculoskeletal (MSK)  symptoms Non-Probability Sample  Inclusion Criteria:  - New onset of non-specific MSK symptoms, including, but not limited to, arthralgia of  the hands and the large joints such as wrists, knees, and shoulders  - Written informed consent obtained prior to the initiation of any study  protocol-required procedures  - General understanding of study procedure and informed consent  - Age ≥ 18 and ≤ 65 years  Exc',\n",
       " 'Clear Cell Renal Cell Carcinoma Missing Carcinoma Aldesleukin and Pembrolizumab in Treating Patients With Advanced or Metastatic Kidney Cancer This phase I trial studies the side effects and best dose of aldesleukin when given together with pembrolizumab in treating patients with kidney cancer that has spread to other parts of the body. Aldesleukin may stimulate white blood cells to kill kidney cancer cells. Monoclonal antibodies, such as pembrolizumab, may interfere with the ability of tumor cells to grow and spread. Giving aldesleukin and pembrolizumab may work better in treating patients with kidney cancer. A Phase I Trial of Interleukin-2 (Aldesleukin) and Pembrolizumab Combination Therapy for Patients With Advanced Renal Cell Carcinoma Inclusion Criteria:  - Be willing and able to provide written informed consent for the trial  - Have histologic confirmation of RCC with a clear cell component  - Have advanced (not amenable to potentially curative surgery) or metastatic RCC  - Have measurable disease based on Response Evaluation Criteria in Solid Tumors (RECIST)  1.1  - Available tissue from an archival tissue sample or newly obtained core or excisional  biopsy of a tumor lesion  - Have a performance status of 0 or 1 on the Eas',\n",
       " 'Non-small Cell Lung Cancer Missing Lung Neoplasms Nab-Paclitaxel Versus Paclitaxel Plus Carboplatin in Advanced Squamous Cell Non Small Cell Lung Cancer This is a randomized, multicenter, open, controlled phase III trial. 388 subjects with stage IIIB who were not eligible for radical surgery or radiotherapy, stage IV or recurrent squamous cell NSCLC were enrolled in this study .The subjects will be randomly assigned to one of the two treatment groups at a 1: 1 ratio, and stratified by sex, ECOG physical status, smoking status, disease staging. The Randomized,Open, Multicenter Phase III Study to Compare the Effectiveness and Safety of Nab-Paclitaxel Versus Paclitaxel Plus Carboplatin First-Line Therapy Advanced Non Small Cell Lung Cancer Squamous Cell Carcinoma Inclusion Criteria:  - Accepted the purpose of the trial, the contents , the predicted efficacy,  pharmacological effects and the full explanation of the risk and was understood that  the subject had signed the informed consent.  - Subjects had histopathologically or cytologically confirmed NSCLC type of squamous  cell carcinoma and were documented; (must be provided without radiotherapy, fixed with  formalin, paraffin At least 5 sheets of tumor tissue after embedding)  - Subjects were IIIB who ',\n",
       " 'Rheumatoid Arthritis Anti-CCP Arthritis PREVALENCE OF Anti-CCP POSITIVITY AND SUBCLINICAL SIGNS OF INFLAMMATION IN PATIENTS WITH NEW ONSET OF NON-SPECIFIC MUSCULOSKELETAL SYMPTOMS Non-interventional, prospective, observational study to assess the relative risk of anti-CCP positive patients to develop (subclinical) signs of inflammation in accordance with early Rheumatoid Arthritis (RA) in a population without pre-classified RA but new1 onset of non-specific musculoskeletal (MSK) symptoms in general practices in Germany and subsequent 36 months follow-up by rheumatologists PREVALENCE OF ANTI-CYCLIC CITRULLINATED PEPTIDE (Anti-CCP) POSITIVITY AND SUBCLINICAL SIGNS OF INFLAMMATION IN PATIENTS WITH NEW ONSET OF NON-SPECIFIC MUSCULOSKELETAL SYMPTOMS POSSIBLY RELATED TO EARLY RHEUMATOID ARTHRITIS IN GENERAL PRACTICES IN GERMANY population without pre-classified RA but new onset of non-specific musculoskeletal (MSK)  symptoms Non-Probability Sample  Inclusion Criteria:  - New onset of non-specific MSK symptoms, including, but not limited to, arthralgia of  the hands and the large joints such as wrists, knees, and shoulders  - Written informed consent obtained prior to the initiation of any study  protocol-required procedures  - General understanding of study procedure and informed consent  - Age ≥ 18 and ≤ 65 years  Exc']"
      ]
     },
     "execution_count": 1141,
     "metadata": {},
     "output_type": "execute_result"
    }
   ],
   "source": [
    "all_text[:4]"
   ]
  },
  {
   "cell_type": "code",
   "execution_count": 1142,
   "metadata": {},
   "outputs": [],
   "source": [
    "pool = Pool(processes=multiprocessing.cpu_count())\n",
    "classification = pool.map(search, all_text)\n",
    "pool.close()\n",
    "pool.join()"
   ]
  },
  {
   "cell_type": "code",
   "execution_count": 1143,
   "metadata": {},
   "outputs": [],
   "source": [
    "df['classification'] = classification"
   ]
  },
  {
   "cell_type": "code",
   "execution_count": 1144,
   "metadata": {},
   "outputs": [
    {
     "data": {
      "text/html": [
       "<div>\n",
       "<style scoped>\n",
       "    .dataframe tbody tr th:only-of-type {\n",
       "        vertical-align: middle;\n",
       "    }\n",
       "\n",
       "    .dataframe tbody tr th {\n",
       "        vertical-align: top;\n",
       "    }\n",
       "\n",
       "    .dataframe thead th {\n",
       "        text-align: right;\n",
       "    }\n",
       "</style>\n",
       "<table border=\"1\" class=\"dataframe\">\n",
       "  <thead>\n",
       "    <tr style=\"text-align: right;\">\n",
       "      <th></th>\n",
       "      <th>agency</th>\n",
       "      <th>brief_title</th>\n",
       "      <th>brief_summary</th>\n",
       "      <th>city</th>\n",
       "      <th>condition</th>\n",
       "      <th>country</th>\n",
       "      <th>detailed_description</th>\n",
       "      <th>eligibility</th>\n",
       "      <th>gender</th>\n",
       "      <th>keyword</th>\n",
       "      <th>mesh_term</th>\n",
       "      <th>official_title</th>\n",
       "      <th>overall_status</th>\n",
       "      <th>phase</th>\n",
       "      <th>state</th>\n",
       "      <th>url</th>\n",
       "      <th>classification</th>\n",
       "    </tr>\n",
       "  </thead>\n",
       "  <tbody>\n",
       "    <tr>\n",
       "      <th>1042</th>\n",
       "      <td>Taipei Veterans General Hospital, Taiwan</td>\n",
       "      <td>Observation Study: Superselective Drug-Eluting...</td>\n",
       "      <td>The purpose of this multicenter registry is to...</td>\n",
       "      <td>Taipei</td>\n",
       "      <td>Hepatocellular Carcinoma</td>\n",
       "      <td>Taiwan</td>\n",
       "      <td>The purpose of this multicenter registry is to...</td>\n",
       "      <td>Superselective Drug-Eluting Chemoembolization ...</td>\n",
       "      <td>All</td>\n",
       "      <td>Hepatocellular Carcinoma</td>\n",
       "      <td>Carcinoma, Hepatocellular</td>\n",
       "      <td>Superselective Drug-Eluting Chemoembolization ...</td>\n",
       "      <td>Recruiting</td>\n",
       "      <td>Missing</td>\n",
       "      <td>Missing</td>\n",
       "      <td>https://clinicaltrials.gov/show/NCT03273608</td>\n",
       "      <td>[(0.056, hepatocellular carcinoma), (0.042, hc...</td>\n",
       "    </tr>\n",
       "    <tr>\n",
       "      <th>9199</th>\n",
       "      <td>Yale University</td>\n",
       "      <td>Zero Sodium Peritoneal Dialysate Protocol Pilo...</td>\n",
       "      <td>The following pilot study will be undertaken t...</td>\n",
       "      <td>New Haven</td>\n",
       "      <td>Potential Applications for Heart Failure</td>\n",
       "      <td>United States</td>\n",
       "      <td>While heart failure (HF) is generally regarded...</td>\n",
       "      <td>Inclusion Criteria:  1. Patients actively unde...</td>\n",
       "      <td>All</td>\n",
       "      <td>Peritoneal dialysis</td>\n",
       "      <td>Heart Failure</td>\n",
       "      <td>Zero Sodium Peritoneal Dialysate Protocol in H...</td>\n",
       "      <td>Recruiting</td>\n",
       "      <td>Early Phase 1</td>\n",
       "      <td>Connecticut</td>\n",
       "      <td>https://clinicaltrials.gov/show/NCT03801226</td>\n",
       "      <td>[(0.065, blood pressure), (0.015, kidney), (0....</td>\n",
       "    </tr>\n",
       "    <tr>\n",
       "      <th>3781</th>\n",
       "      <td>Peking University People`s Hospital</td>\n",
       "      <td>Operative Plate Fixation Versus Conservative T...</td>\n",
       "      <td>Conservative Treatment Versus Operative Plate ...</td>\n",
       "      <td>Missing</td>\n",
       "      <td>Humeral Fractures</td>\n",
       "      <td>Missing</td>\n",
       "      <td>From Jane 2015 to October 2016, patients with ...</td>\n",
       "      <td>Men or women aged 18 to 65 years of age Comple...</td>\n",
       "      <td>All</td>\n",
       "      <td>Humeral Fractures</td>\n",
       "      <td>Fractures, Bone</td>\n",
       "      <td>Operative Plate Fixation Versus Conservative T...</td>\n",
       "      <td>Not yet recruiting</td>\n",
       "      <td>Missing</td>\n",
       "      <td>Missing</td>\n",
       "      <td>https://clinicaltrials.gov/show/NCT03358173</td>\n",
       "      <td>[(0.079, fracture), (0.068, physical activity)...</td>\n",
       "    </tr>\n",
       "    <tr>\n",
       "      <th>10608</th>\n",
       "      <td>Emory University</td>\n",
       "      <td>Syngery-Evaluating the Impact of Decision Aid</td>\n",
       "      <td>The aim of this study is to determine whether ...</td>\n",
       "      <td>Atlanta</td>\n",
       "      <td>Implantable Cardioverter-defibrillators (ICDs)</td>\n",
       "      <td>United States</td>\n",
       "      <td>There are many unanswered questions about how ...</td>\n",
       "      <td>Inclusion Criteria:  - 18 years old and older ...</td>\n",
       "      <td>All</td>\n",
       "      <td>Decision aid</td>\n",
       "      <td>Missing</td>\n",
       "      <td>Evaluating the Impact of Decision Aid Timing o...</td>\n",
       "      <td>Recruiting</td>\n",
       "      <td>Missing</td>\n",
       "      <td>Georgia</td>\n",
       "      <td>https://clinicaltrials.gov/show/NCT03832868</td>\n",
       "      <td>[(0.155, breast cancer), (0.033, breast neopla...</td>\n",
       "    </tr>\n",
       "    <tr>\n",
       "      <th>11941</th>\n",
       "      <td>Case Western Reserve University</td>\n",
       "      <td>Fatigue Management Programs for People With MS</td>\n",
       "      <td>This is a multi-site randomized clinical trial...</td>\n",
       "      <td>Missing</td>\n",
       "      <td>Multiple Sclerosis</td>\n",
       "      <td>Missing</td>\n",
       "      <td>Fatigue is one of the most common and debilita...</td>\n",
       "      <td>Inclusion Criteria:  - Self-report diagnosis o...</td>\n",
       "      <td>All</td>\n",
       "      <td>Fatigue</td>\n",
       "      <td>Sclerosis</td>\n",
       "      <td>Comparing the Effectiveness of Fatigue Managem...</td>\n",
       "      <td>Not yet recruiting</td>\n",
       "      <td>Missing</td>\n",
       "      <td>Missing</td>\n",
       "      <td>https://clinicaltrials.gov/show/NCT03550170</td>\n",
       "      <td>[(0.065, multiple sclerosis), (0.056, fatigue)...</td>\n",
       "    </tr>\n",
       "    <tr>\n",
       "      <th>1772</th>\n",
       "      <td>Hospices Civils de Lyon</td>\n",
       "      <td>Improving Awakening Prognostication After Non ...</td>\n",
       "      <td>In last decades, several advances in the neuro...</td>\n",
       "      <td>Bron</td>\n",
       "      <td>Coma</td>\n",
       "      <td>France</td>\n",
       "      <td>Missing</td>\n",
       "      <td>Inclusion Criteria:  1. Patients presenting ei...</td>\n",
       "      <td>All</td>\n",
       "      <td>coma</td>\n",
       "      <td>Coma</td>\n",
       "      <td>Improving Awakening Prognostication After Non ...</td>\n",
       "      <td>Recruiting</td>\n",
       "      <td>Missing</td>\n",
       "      <td>Missing</td>\n",
       "      <td>https://clinicaltrials.gov/show/NCT02798588</td>\n",
       "      <td>[(0.016, marker), (0.014, measurement), (0.011...</td>\n",
       "    </tr>\n",
       "    <tr>\n",
       "      <th>808</th>\n",
       "      <td>Rigshospitalet, Denmark</td>\n",
       "      <td>Ectopic Adipose Tissue, Exercise Training and ...</td>\n",
       "      <td>Aim: Exercise training improves the risk of ca...</td>\n",
       "      <td>Copenhagen</td>\n",
       "      <td>Adiposity</td>\n",
       "      <td>Denmark</td>\n",
       "      <td>Missing</td>\n",
       "      <td>Inclusion Criteria:  - Men and women  - Sedent...</td>\n",
       "      <td>All</td>\n",
       "      <td>Missing</td>\n",
       "      <td>Missing</td>\n",
       "      <td>Ectopic Adipose Tissue, Exercise Training and ...</td>\n",
       "      <td>Recruiting</td>\n",
       "      <td>Missing</td>\n",
       "      <td>Missing</td>\n",
       "      <td>https://clinicaltrials.gov/show/NCT02901496</td>\n",
       "      <td>[(0.059, obesity), (0.04, metabolic), (0.023, ...</td>\n",
       "    </tr>\n",
       "    <tr>\n",
       "      <th>3157</th>\n",
       "      <td>Baxalta now part of Shire</td>\n",
       "      <td>Phase III Efficacy, Safety, and Tolerability S...</td>\n",
       "      <td>This is a Phase III, prospective, multicenter ...</td>\n",
       "      <td>Buenos Aires</td>\n",
       "      <td>Chronic Inflammatory Demyelinating Polyradicul...</td>\n",
       "      <td>Argentina</td>\n",
       "      <td>Missing</td>\n",
       "      <td>Inclusion Criteria:  1. Documented diagnosis o...</td>\n",
       "      <td>All</td>\n",
       "      <td>Autoimmune Diseases</td>\n",
       "      <td>Polyradiculoneuropathy</td>\n",
       "      <td>A Phase III Study to Evaluate the Efficacy, Sa...</td>\n",
       "      <td>Recruiting</td>\n",
       "      <td>Phase 3</td>\n",
       "      <td>Alberta</td>\n",
       "      <td>https://clinicaltrials.gov/show/NCT02549170</td>\n",
       "      <td>[(0.096, registry), (0.058, lymphoma), (0.029,...</td>\n",
       "    </tr>\n",
       "    <tr>\n",
       "      <th>22325</th>\n",
       "      <td>West China Hospital</td>\n",
       "      <td>Low Molecular Weight Heparin for the Preventio...</td>\n",
       "      <td>Transjugular intrahepatic portosystemic shunt ...</td>\n",
       "      <td>Chengdu</td>\n",
       "      <td>Liver Cirrhosis</td>\n",
       "      <td>China</td>\n",
       "      <td>Missing</td>\n",
       "      <td>Inclusion Criteria:  1. Diagnosis of liver cir...</td>\n",
       "      <td>All</td>\n",
       "      <td>Missing</td>\n",
       "      <td>Liver Cirrhosis</td>\n",
       "      <td>Post-TIPS Short-term Low Molecular Weight Hepa...</td>\n",
       "      <td>Recruiting</td>\n",
       "      <td>Missing</td>\n",
       "      <td>Missing</td>\n",
       "      <td>https://clinicaltrials.gov/show/NCT03171727</td>\n",
       "      <td>[(0.04, platelet), (0.036, inflammatory bowel)...</td>\n",
       "    </tr>\n",
       "    <tr>\n",
       "      <th>1894</th>\n",
       "      <td>VA Office of Research and Development</td>\n",
       "      <td>Albuterol to Improve Respiratory Strength in SCI</td>\n",
       "      <td>Spinal cord injury (SCI), especially involving...</td>\n",
       "      <td>Bronx</td>\n",
       "      <td>Spinal Cord Injury</td>\n",
       "      <td>United States</td>\n",
       "      <td>Although the past 40 years has witnessed a sub...</td>\n",
       "      <td>Inclusion Criteria:  - Male or Female age 18 t...</td>\n",
       "      <td>All</td>\n",
       "      <td>Tetraplegia</td>\n",
       "      <td>Spinal Cord Injuries</td>\n",
       "      <td>The Effect of an Oral Beta-2 Agonist on Respir...</td>\n",
       "      <td>Recruiting</td>\n",
       "      <td>Missing</td>\n",
       "      <td>New York</td>\n",
       "      <td>https://clinicaltrials.gov/show/NCT02508311</td>\n",
       "      <td>[(0.059, copd), (0.043, respiratory), (0.041, ...</td>\n",
       "    </tr>\n",
       "    <tr>\n",
       "      <th>13052</th>\n",
       "      <td>Hunter Holmes Mcguire Veteran Affairs Medical ...</td>\n",
       "      <td>rTMS for Cognitive Rehabilitation After TBI</td>\n",
       "      <td>A novel and promising therapy for cognitive dy...</td>\n",
       "      <td>Richmond</td>\n",
       "      <td>Cognitive Impairment</td>\n",
       "      <td>United States</td>\n",
       "      <td>Subjects with a history of TBI will be recruit...</td>\n",
       "      <td>Inclusion Criteria:  1. one or more mild to mo...</td>\n",
       "      <td>All</td>\n",
       "      <td>Missing</td>\n",
       "      <td>Brain Injuries</td>\n",
       "      <td>Targeted Transcranial Magnetic Stimulation for...</td>\n",
       "      <td>Recruiting</td>\n",
       "      <td>Missing</td>\n",
       "      <td>Virginia</td>\n",
       "      <td>https://clinicaltrials.gov/show/NCT03642158</td>\n",
       "      <td>[(0.066, alzheimer), (0.026, hip), (0.02, ad),...</td>\n",
       "    </tr>\n",
       "    <tr>\n",
       "      <th>14328</th>\n",
       "      <td>Henan University of Traditional Chinese Medicine</td>\n",
       "      <td>Study on Children Henoch-Schönlein Purpura Nep...</td>\n",
       "      <td>The purpose of this study is to determine the ...</td>\n",
       "      <td>Zhengzhou</td>\n",
       "      <td>Henoch-Schönlein Purpura Nephritis</td>\n",
       "      <td>China</td>\n",
       "      <td>Based on Chinese Eleventh Five-year Plan for S...</td>\n",
       "      <td>Inclusion Criteria:  - Clinical diagnosis of H...</td>\n",
       "      <td>All</td>\n",
       "      <td>Children，</td>\n",
       "      <td>Purpura</td>\n",
       "      <td>Demonstrated Study on Children Henoch-Schönlei...</td>\n",
       "      <td>Recruiting</td>\n",
       "      <td>Phase 1/Phase 2</td>\n",
       "      <td>Henan</td>\n",
       "      <td>https://clinicaltrials.gov/show/NCT03591471</td>\n",
       "      <td>[(0.045, parent), (0.032, genetic), (0.027, te...</td>\n",
       "    </tr>\n",
       "    <tr>\n",
       "      <th>7110</th>\n",
       "      <td>Cliniques universitaires Saint-Luc- Université...</td>\n",
       "      <td>Efficacy of a New Sweat Collection Support: Im...</td>\n",
       "      <td>In nearly 25 percent of children under 3 month...</td>\n",
       "      <td>Brussels</td>\n",
       "      <td>Cystic Fibrosis</td>\n",
       "      <td>Belgium</td>\n",
       "      <td>Missing</td>\n",
       "      <td>Inclusion Criteria:  - Subject aged of 2 days ...</td>\n",
       "      <td>All</td>\n",
       "      <td>Cystic Fibrosis Children</td>\n",
       "      <td>Fibrosis</td>\n",
       "      <td>Efficacy of a New Sweat Collection Support: Im...</td>\n",
       "      <td>Recruiting</td>\n",
       "      <td>Missing</td>\n",
       "      <td>Missing</td>\n",
       "      <td>https://clinicaltrials.gov/show/NCT03913507</td>\n",
       "      <td>[(0.036, vaginal), (0.03, fibrosis), (0.026, c...</td>\n",
       "    </tr>\n",
       "    <tr>\n",
       "      <th>15178</th>\n",
       "      <td>University Hospital of Limerick</td>\n",
       "      <td>The Mechanical of Characterisation of Human Sa...</td>\n",
       "      <td>Non-interventional study aiming to ascertain t...</td>\n",
       "      <td>Limerick</td>\n",
       "      <td>Peripheral Vascular Diseases</td>\n",
       "      <td>Ireland</td>\n",
       "      <td>The aim of this study is to mechanically chara...</td>\n",
       "      <td>Study population will consist of individuals u...</td>\n",
       "      <td>All</td>\n",
       "      <td>Missing</td>\n",
       "      <td>Vascular Diseases</td>\n",
       "      <td>The Mechanical of Characterisation of Human Sa...</td>\n",
       "      <td>Recruiting</td>\n",
       "      <td>Missing</td>\n",
       "      <td>Missing</td>\n",
       "      <td>https://clinicaltrials.gov/show/NCT04016649</td>\n",
       "      <td>[(0.023, foot), (0.022, ankle), (0.017, leg), ...</td>\n",
       "    </tr>\n",
       "    <tr>\n",
       "      <th>7503</th>\n",
       "      <td>Miguel Burch</td>\n",
       "      <td>Hiatal Interrogation in Sleeve Gastrectomy</td>\n",
       "      <td>The subject will undergo standard pre-operativ...</td>\n",
       "      <td>Los Angeles</td>\n",
       "      <td>Sleeve Gastrectomy</td>\n",
       "      <td>United States</td>\n",
       "      <td>The obesity epidemic continues to exist as nea...</td>\n",
       "      <td>Inclusion Criteria:  1. Any patient deemed a c...</td>\n",
       "      <td>All</td>\n",
       "      <td>sleeve gastrectomy</td>\n",
       "      <td>Missing</td>\n",
       "      <td>Hiatal Interrogation in Sleeve Gastrectomy (HI...</td>\n",
       "      <td>Recruiting</td>\n",
       "      <td>Missing</td>\n",
       "      <td>California</td>\n",
       "      <td>https://clinicaltrials.gov/show/NCT03527810</td>\n",
       "      <td>[(0.029, block), (0.026, shoulder), (0.026, in...</td>\n",
       "    </tr>\n",
       "    <tr>\n",
       "      <th>17175</th>\n",
       "      <td>Cairo University</td>\n",
       "      <td>Comparison of Peri Implant Soft Tissue Estheti...</td>\n",
       "      <td>The aim of this study is to clinically evaluat...</td>\n",
       "      <td>Cairo</td>\n",
       "      <td>Immediate Temporization and Soft Tissue Augmen...</td>\n",
       "      <td>Egypt</td>\n",
       "      <td>To compare the efficacy of soft tissue augment...</td>\n",
       "      <td>Inclusion Criteria:  1. Age &gt; 18 years old  2....</td>\n",
       "      <td>All</td>\n",
       "      <td>Missing</td>\n",
       "      <td>Missing</td>\n",
       "      <td>Comparison of Peri-implant Soft Tissue Estheti...</td>\n",
       "      <td>Not yet recruiting</td>\n",
       "      <td>Phase 3</td>\n",
       "      <td>Missing</td>\n",
       "      <td>https://clinicaltrials.gov/show/NCT03770975</td>\n",
       "      <td>[(0.073, implant), (0.015, incision), (0.015, ...</td>\n",
       "    </tr>\n",
       "    <tr>\n",
       "      <th>14836</th>\n",
       "      <td>Karolinska University Hospital</td>\n",
       "      <td>Study of Human Adipose Tissue (LOSHAT)</td>\n",
       "      <td>The investigators will study the influence of ...</td>\n",
       "      <td>Missing</td>\n",
       "      <td>Weight Change, Body</td>\n",
       "      <td>Missing</td>\n",
       "      <td>The investigators will ask all subjects that h...</td>\n",
       "      <td>Men and women previously examined at our labor...</td>\n",
       "      <td>All</td>\n",
       "      <td>Missing</td>\n",
       "      <td>Diabetes Mellitus</td>\n",
       "      <td>Longitudinal Observational Study of Human Adip...</td>\n",
       "      <td>Not yet recruiting</td>\n",
       "      <td>Missing</td>\n",
       "      <td>Missing</td>\n",
       "      <td>https://clinicaltrials.gov/show/NCT03675464</td>\n",
       "      <td>[(0.059, obesity), (0.04, metabolic), (0.023, ...</td>\n",
       "    </tr>\n",
       "    <tr>\n",
       "      <th>16385</th>\n",
       "      <td>Columbia University</td>\n",
       "      <td>Upright Back Posture Device Study</td>\n",
       "      <td>This is a randomized controlled study to deter...</td>\n",
       "      <td>New York</td>\n",
       "      <td>Back Pain</td>\n",
       "      <td>United States</td>\n",
       "      <td>Back pain is a common complaint among students...</td>\n",
       "      <td>Inclusion Criteria:  - Postural-related back p...</td>\n",
       "      <td>All</td>\n",
       "      <td>Upright</td>\n",
       "      <td>Back Pain</td>\n",
       "      <td>Upright Back Posture Device Study</td>\n",
       "      <td>Recruiting</td>\n",
       "      <td>Missing</td>\n",
       "      <td>New York</td>\n",
       "      <td>https://clinicaltrials.gov/show/NCT03769246</td>\n",
       "      <td>[(0.019, nutrition), (0.016, weight), (0.013, ...</td>\n",
       "    </tr>\n",
       "    <tr>\n",
       "      <th>512</th>\n",
       "      <td>Edwards (Shanghai) Lifesciences Medical Suppli...</td>\n",
       "      <td>Clinical Study to Evaluate the Performance of ...</td>\n",
       "      <td>Clinical Study to Evaluate the Performance of ...</td>\n",
       "      <td>Beijing</td>\n",
       "      <td>Mitral Valve or Aortic Valve Replacement</td>\n",
       "      <td>China</td>\n",
       "      <td>Missing</td>\n",
       "      <td>The patients who had the heart valves (Type: 7...</td>\n",
       "      <td>All</td>\n",
       "      <td>Missing</td>\n",
       "      <td>Missing</td>\n",
       "      <td>Missing</td>\n",
       "      <td>Recruiting</td>\n",
       "      <td>Missing</td>\n",
       "      <td>Beijing</td>\n",
       "      <td>https://clinicaltrials.gov/show/NCT02523066</td>\n",
       "      <td>[(0.038, chronic kidney), (0.026, ckd), (0.022...</td>\n",
       "    </tr>\n",
       "    <tr>\n",
       "      <th>7615</th>\n",
       "      <td>1Globe Health Institute LLC</td>\n",
       "      <td>A Phase III Clinical Study of Napabucasin (GB2...</td>\n",
       "      <td>This is a randomized, open-label, multi-center...</td>\n",
       "      <td>Bengbu</td>\n",
       "      <td>Previously Treated Metastatic Colorectal Cancer</td>\n",
       "      <td>China</td>\n",
       "      <td>Missing</td>\n",
       "      <td>Inclusion Criteria:  - Histologically confirme...</td>\n",
       "      <td>All</td>\n",
       "      <td>CRC</td>\n",
       "      <td>Colorectal Neoplasms</td>\n",
       "      <td>A Phase III, Randomized, Open-Label Clinical S...</td>\n",
       "      <td>Recruiting</td>\n",
       "      <td>Phase 3</td>\n",
       "      <td>Anhui</td>\n",
       "      <td>https://clinicaltrials.gov/show/NCT03522649</td>\n",
       "      <td>[(0.033, metastatic), (0.031, solid tumor), (0...</td>\n",
       "    </tr>\n",
       "  </tbody>\n",
       "</table>\n",
       "</div>"
      ],
      "text/plain": [
       "                                                  agency  \\\n",
       "1042            Taipei Veterans General Hospital, Taiwan   \n",
       "9199                                     Yale University   \n",
       "3781                 Peking University People`s Hospital   \n",
       "10608                                   Emory University   \n",
       "11941                    Case Western Reserve University   \n",
       "1772                             Hospices Civils de Lyon   \n",
       "808                              Rigshospitalet, Denmark   \n",
       "3157                           Baxalta now part of Shire   \n",
       "22325                                West China Hospital   \n",
       "1894               VA Office of Research and Development   \n",
       "13052  Hunter Holmes Mcguire Veteran Affairs Medical ...   \n",
       "14328   Henan University of Traditional Chinese Medicine   \n",
       "7110   Cliniques universitaires Saint-Luc- Université...   \n",
       "15178                    University Hospital of Limerick   \n",
       "7503                                        Miguel Burch   \n",
       "17175                                   Cairo University   \n",
       "14836                     Karolinska University Hospital   \n",
       "16385                                Columbia University   \n",
       "512    Edwards (Shanghai) Lifesciences Medical Suppli...   \n",
       "7615                         1Globe Health Institute LLC   \n",
       "\n",
       "                                             brief_title  \\\n",
       "1042   Observation Study: Superselective Drug-Eluting...   \n",
       "9199   Zero Sodium Peritoneal Dialysate Protocol Pilo...   \n",
       "3781   Operative Plate Fixation Versus Conservative T...   \n",
       "10608      Syngery-Evaluating the Impact of Decision Aid   \n",
       "11941     Fatigue Management Programs for People With MS   \n",
       "1772   Improving Awakening Prognostication After Non ...   \n",
       "808    Ectopic Adipose Tissue, Exercise Training and ...   \n",
       "3157   Phase III Efficacy, Safety, and Tolerability S...   \n",
       "22325  Low Molecular Weight Heparin for the Preventio...   \n",
       "1894    Albuterol to Improve Respiratory Strength in SCI   \n",
       "13052        rTMS for Cognitive Rehabilitation After TBI   \n",
       "14328  Study on Children Henoch-Schönlein Purpura Nep...   \n",
       "7110   Efficacy of a New Sweat Collection Support: Im...   \n",
       "15178  The Mechanical of Characterisation of Human Sa...   \n",
       "7503          Hiatal Interrogation in Sleeve Gastrectomy   \n",
       "17175  Comparison of Peri Implant Soft Tissue Estheti...   \n",
       "14836             Study of Human Adipose Tissue (LOSHAT)   \n",
       "16385                  Upright Back Posture Device Study   \n",
       "512    Clinical Study to Evaluate the Performance of ...   \n",
       "7615   A Phase III Clinical Study of Napabucasin (GB2...   \n",
       "\n",
       "                                           brief_summary          city  \\\n",
       "1042   The purpose of this multicenter registry is to...        Taipei   \n",
       "9199   The following pilot study will be undertaken t...     New Haven   \n",
       "3781   Conservative Treatment Versus Operative Plate ...       Missing   \n",
       "10608  The aim of this study is to determine whether ...       Atlanta   \n",
       "11941  This is a multi-site randomized clinical trial...       Missing   \n",
       "1772   In last decades, several advances in the neuro...          Bron   \n",
       "808    Aim: Exercise training improves the risk of ca...    Copenhagen   \n",
       "3157   This is a Phase III, prospective, multicenter ...  Buenos Aires   \n",
       "22325  Transjugular intrahepatic portosystemic shunt ...       Chengdu   \n",
       "1894   Spinal cord injury (SCI), especially involving...         Bronx   \n",
       "13052  A novel and promising therapy for cognitive dy...      Richmond   \n",
       "14328  The purpose of this study is to determine the ...     Zhengzhou   \n",
       "7110   In nearly 25 percent of children under 3 month...      Brussels   \n",
       "15178  Non-interventional study aiming to ascertain t...      Limerick   \n",
       "7503   The subject will undergo standard pre-operativ...   Los Angeles   \n",
       "17175  The aim of this study is to clinically evaluat...         Cairo   \n",
       "14836  The investigators will study the influence of ...       Missing   \n",
       "16385  This is a randomized controlled study to deter...      New York   \n",
       "512    Clinical Study to Evaluate the Performance of ...       Beijing   \n",
       "7615   This is a randomized, open-label, multi-center...        Bengbu   \n",
       "\n",
       "                                               condition        country  \\\n",
       "1042                            Hepatocellular Carcinoma         Taiwan   \n",
       "9199            Potential Applications for Heart Failure  United States   \n",
       "3781                                   Humeral Fractures        Missing   \n",
       "10608     Implantable Cardioverter-defibrillators (ICDs)  United States   \n",
       "11941                                 Multiple Sclerosis        Missing   \n",
       "1772                                                Coma         France   \n",
       "808                                            Adiposity        Denmark   \n",
       "3157   Chronic Inflammatory Demyelinating Polyradicul...      Argentina   \n",
       "22325                                    Liver Cirrhosis          China   \n",
       "1894                                  Spinal Cord Injury  United States   \n",
       "13052                               Cognitive Impairment  United States   \n",
       "14328                 Henoch-Schönlein Purpura Nephritis          China   \n",
       "7110                                     Cystic Fibrosis        Belgium   \n",
       "15178                       Peripheral Vascular Diseases        Ireland   \n",
       "7503                                  Sleeve Gastrectomy  United States   \n",
       "17175  Immediate Temporization and Soft Tissue Augmen...          Egypt   \n",
       "14836                                Weight Change, Body        Missing   \n",
       "16385                                          Back Pain  United States   \n",
       "512             Mitral Valve or Aortic Valve Replacement          China   \n",
       "7615     Previously Treated Metastatic Colorectal Cancer          China   \n",
       "\n",
       "                                    detailed_description  \\\n",
       "1042   The purpose of this multicenter registry is to...   \n",
       "9199   While heart failure (HF) is generally regarded...   \n",
       "3781   From Jane 2015 to October 2016, patients with ...   \n",
       "10608  There are many unanswered questions about how ...   \n",
       "11941  Fatigue is one of the most common and debilita...   \n",
       "1772                                             Missing   \n",
       "808                                              Missing   \n",
       "3157                                             Missing   \n",
       "22325                                            Missing   \n",
       "1894   Although the past 40 years has witnessed a sub...   \n",
       "13052  Subjects with a history of TBI will be recruit...   \n",
       "14328  Based on Chinese Eleventh Five-year Plan for S...   \n",
       "7110                                             Missing   \n",
       "15178  The aim of this study is to mechanically chara...   \n",
       "7503   The obesity epidemic continues to exist as nea...   \n",
       "17175  To compare the efficacy of soft tissue augment...   \n",
       "14836  The investigators will ask all subjects that h...   \n",
       "16385  Back pain is a common complaint among students...   \n",
       "512                                              Missing   \n",
       "7615                                             Missing   \n",
       "\n",
       "                                             eligibility gender  \\\n",
       "1042   Superselective Drug-Eluting Chemoembolization ...    All   \n",
       "9199   Inclusion Criteria:  1. Patients actively unde...    All   \n",
       "3781   Men or women aged 18 to 65 years of age Comple...    All   \n",
       "10608  Inclusion Criteria:  - 18 years old and older ...    All   \n",
       "11941  Inclusion Criteria:  - Self-report diagnosis o...    All   \n",
       "1772   Inclusion Criteria:  1. Patients presenting ei...    All   \n",
       "808    Inclusion Criteria:  - Men and women  - Sedent...    All   \n",
       "3157   Inclusion Criteria:  1. Documented diagnosis o...    All   \n",
       "22325  Inclusion Criteria:  1. Diagnosis of liver cir...    All   \n",
       "1894   Inclusion Criteria:  - Male or Female age 18 t...    All   \n",
       "13052  Inclusion Criteria:  1. one or more mild to mo...    All   \n",
       "14328  Inclusion Criteria:  - Clinical diagnosis of H...    All   \n",
       "7110   Inclusion Criteria:  - Subject aged of 2 days ...    All   \n",
       "15178  Study population will consist of individuals u...    All   \n",
       "7503   Inclusion Criteria:  1. Any patient deemed a c...    All   \n",
       "17175  Inclusion Criteria:  1. Age > 18 years old  2....    All   \n",
       "14836  Men and women previously examined at our labor...    All   \n",
       "16385  Inclusion Criteria:  - Postural-related back p...    All   \n",
       "512    The patients who had the heart valves (Type: 7...    All   \n",
       "7615   Inclusion Criteria:  - Histologically confirme...    All   \n",
       "\n",
       "                        keyword                  mesh_term  \\\n",
       "1042   Hepatocellular Carcinoma  Carcinoma, Hepatocellular   \n",
       "9199        Peritoneal dialysis              Heart Failure   \n",
       "3781          Humeral Fractures            Fractures, Bone   \n",
       "10608              Decision aid                    Missing   \n",
       "11941                   Fatigue                  Sclerosis   \n",
       "1772                       coma                       Coma   \n",
       "808                     Missing                    Missing   \n",
       "3157        Autoimmune Diseases     Polyradiculoneuropathy   \n",
       "22325                   Missing            Liver Cirrhosis   \n",
       "1894                Tetraplegia       Spinal Cord Injuries   \n",
       "13052                   Missing             Brain Injuries   \n",
       "14328                 Children，                    Purpura   \n",
       "7110   Cystic Fibrosis Children                   Fibrosis   \n",
       "15178                   Missing          Vascular Diseases   \n",
       "7503         sleeve gastrectomy                    Missing   \n",
       "17175                   Missing                    Missing   \n",
       "14836                   Missing          Diabetes Mellitus   \n",
       "16385                   Upright                  Back Pain   \n",
       "512                     Missing                    Missing   \n",
       "7615                        CRC       Colorectal Neoplasms   \n",
       "\n",
       "                                          official_title      overall_status  \\\n",
       "1042   Superselective Drug-Eluting Chemoembolization ...          Recruiting   \n",
       "9199   Zero Sodium Peritoneal Dialysate Protocol in H...          Recruiting   \n",
       "3781   Operative Plate Fixation Versus Conservative T...  Not yet recruiting   \n",
       "10608  Evaluating the Impact of Decision Aid Timing o...          Recruiting   \n",
       "11941  Comparing the Effectiveness of Fatigue Managem...  Not yet recruiting   \n",
       "1772   Improving Awakening Prognostication After Non ...          Recruiting   \n",
       "808    Ectopic Adipose Tissue, Exercise Training and ...          Recruiting   \n",
       "3157   A Phase III Study to Evaluate the Efficacy, Sa...          Recruiting   \n",
       "22325  Post-TIPS Short-term Low Molecular Weight Hepa...          Recruiting   \n",
       "1894   The Effect of an Oral Beta-2 Agonist on Respir...          Recruiting   \n",
       "13052  Targeted Transcranial Magnetic Stimulation for...          Recruiting   \n",
       "14328  Demonstrated Study on Children Henoch-Schönlei...          Recruiting   \n",
       "7110   Efficacy of a New Sweat Collection Support: Im...          Recruiting   \n",
       "15178  The Mechanical of Characterisation of Human Sa...          Recruiting   \n",
       "7503   Hiatal Interrogation in Sleeve Gastrectomy (HI...          Recruiting   \n",
       "17175  Comparison of Peri-implant Soft Tissue Estheti...  Not yet recruiting   \n",
       "14836  Longitudinal Observational Study of Human Adip...  Not yet recruiting   \n",
       "16385                  Upright Back Posture Device Study          Recruiting   \n",
       "512                                              Missing          Recruiting   \n",
       "7615   A Phase III, Randomized, Open-Label Clinical S...          Recruiting   \n",
       "\n",
       "                 phase        state  \\\n",
       "1042           Missing      Missing   \n",
       "9199     Early Phase 1  Connecticut   \n",
       "3781           Missing      Missing   \n",
       "10608          Missing      Georgia   \n",
       "11941          Missing      Missing   \n",
       "1772           Missing      Missing   \n",
       "808            Missing      Missing   \n",
       "3157           Phase 3      Alberta   \n",
       "22325          Missing      Missing   \n",
       "1894           Missing     New York   \n",
       "13052          Missing     Virginia   \n",
       "14328  Phase 1/Phase 2        Henan   \n",
       "7110           Missing      Missing   \n",
       "15178          Missing      Missing   \n",
       "7503           Missing   California   \n",
       "17175          Phase 3      Missing   \n",
       "14836          Missing      Missing   \n",
       "16385          Missing     New York   \n",
       "512            Missing      Beijing   \n",
       "7615           Phase 3        Anhui   \n",
       "\n",
       "                                               url  \\\n",
       "1042   https://clinicaltrials.gov/show/NCT03273608   \n",
       "9199   https://clinicaltrials.gov/show/NCT03801226   \n",
       "3781   https://clinicaltrials.gov/show/NCT03358173   \n",
       "10608  https://clinicaltrials.gov/show/NCT03832868   \n",
       "11941  https://clinicaltrials.gov/show/NCT03550170   \n",
       "1772   https://clinicaltrials.gov/show/NCT02798588   \n",
       "808    https://clinicaltrials.gov/show/NCT02901496   \n",
       "3157   https://clinicaltrials.gov/show/NCT02549170   \n",
       "22325  https://clinicaltrials.gov/show/NCT03171727   \n",
       "1894   https://clinicaltrials.gov/show/NCT02508311   \n",
       "13052  https://clinicaltrials.gov/show/NCT03642158   \n",
       "14328  https://clinicaltrials.gov/show/NCT03591471   \n",
       "7110   https://clinicaltrials.gov/show/NCT03913507   \n",
       "15178  https://clinicaltrials.gov/show/NCT04016649   \n",
       "7503   https://clinicaltrials.gov/show/NCT03527810   \n",
       "17175  https://clinicaltrials.gov/show/NCT03770975   \n",
       "14836  https://clinicaltrials.gov/show/NCT03675464   \n",
       "16385  https://clinicaltrials.gov/show/NCT03769246   \n",
       "512    https://clinicaltrials.gov/show/NCT02523066   \n",
       "7615   https://clinicaltrials.gov/show/NCT03522649   \n",
       "\n",
       "                                          classification  \n",
       "1042   [(0.056, hepatocellular carcinoma), (0.042, hc...  \n",
       "9199   [(0.065, blood pressure), (0.015, kidney), (0....  \n",
       "3781   [(0.079, fracture), (0.068, physical activity)...  \n",
       "10608  [(0.155, breast cancer), (0.033, breast neopla...  \n",
       "11941  [(0.065, multiple sclerosis), (0.056, fatigue)...  \n",
       "1772   [(0.016, marker), (0.014, measurement), (0.011...  \n",
       "808    [(0.059, obesity), (0.04, metabolic), (0.023, ...  \n",
       "3157   [(0.096, registry), (0.058, lymphoma), (0.029,...  \n",
       "22325  [(0.04, platelet), (0.036, inflammatory bowel)...  \n",
       "1894   [(0.059, copd), (0.043, respiratory), (0.041, ...  \n",
       "13052  [(0.066, alzheimer), (0.026, hip), (0.02, ad),...  \n",
       "14328  [(0.045, parent), (0.032, genetic), (0.027, te...  \n",
       "7110   [(0.036, vaginal), (0.03, fibrosis), (0.026, c...  \n",
       "15178  [(0.023, foot), (0.022, ankle), (0.017, leg), ...  \n",
       "7503   [(0.029, block), (0.026, shoulder), (0.026, in...  \n",
       "17175  [(0.073, implant), (0.015, incision), (0.015, ...  \n",
       "14836  [(0.059, obesity), (0.04, metabolic), (0.023, ...  \n",
       "16385  [(0.019, nutrition), (0.016, weight), (0.013, ...  \n",
       "512    [(0.038, chronic kidney), (0.026, ckd), (0.022...  \n",
       "7615   [(0.033, metastatic), (0.031, solid tumor), (0...  "
      ]
     },
     "execution_count": 1144,
     "metadata": {},
     "output_type": "execute_result"
    }
   ],
   "source": [
    "df.sample(20)"
   ]
  },
  {
   "cell_type": "code",
   "execution_count": 1145,
   "metadata": {},
   "outputs": [],
   "source": [
    "df.to_csv('classified_df.csv', index=False)"
   ]
  },
  {
   "cell_type": "code",
   "execution_count": 1146,
   "metadata": {},
   "outputs": [
    {
     "data": {
      "text/html": [
       "<div>\n",
       "<style scoped>\n",
       "    .dataframe tbody tr th:only-of-type {\n",
       "        vertical-align: middle;\n",
       "    }\n",
       "\n",
       "    .dataframe tbody tr th {\n",
       "        vertical-align: top;\n",
       "    }\n",
       "\n",
       "    .dataframe thead th {\n",
       "        text-align: right;\n",
       "    }\n",
       "</style>\n",
       "<table border=\"1\" class=\"dataframe\">\n",
       "  <thead>\n",
       "    <tr style=\"text-align: right;\">\n",
       "      <th></th>\n",
       "      <th>agency</th>\n",
       "      <th>brief_title</th>\n",
       "      <th>brief_summary</th>\n",
       "      <th>city</th>\n",
       "      <th>condition</th>\n",
       "      <th>country</th>\n",
       "      <th>detailed_description</th>\n",
       "      <th>eligibility</th>\n",
       "      <th>gender</th>\n",
       "      <th>keyword</th>\n",
       "      <th>mesh_term</th>\n",
       "      <th>official_title</th>\n",
       "      <th>overall_status</th>\n",
       "      <th>phase</th>\n",
       "      <th>state</th>\n",
       "      <th>url</th>\n",
       "      <th>classification</th>\n",
       "    </tr>\n",
       "  </thead>\n",
       "  <tbody>\n",
       "    <tr>\n",
       "      <th>0</th>\n",
       "      <td>Fraunhofer Institute for Molecular Biology and...</td>\n",
       "      <td>PREVALENCE OF Anti-CCP POSITIVITY AND SUBCLINI...</td>\n",
       "      <td>Non-interventional, prospective, observational...</td>\n",
       "      <td>Frankfurt am Main</td>\n",
       "      <td>Rheumatoid Arthritis</td>\n",
       "      <td>Germany</td>\n",
       "      <td>Studies of early arthritis cohorts have shown ...</td>\n",
       "      <td>population without pre-classified RA but new o...</td>\n",
       "      <td>All</td>\n",
       "      <td>Anti-CCP</td>\n",
       "      <td>Arthritis</td>\n",
       "      <td>PREVALENCE OF ANTI-CYCLIC CITRULLINATED PEPTID...</td>\n",
       "      <td>Recruiting</td>\n",
       "      <td>Missing</td>\n",
       "      <td>Hessia</td>\n",
       "      <td>https://clinicaltrials.gov/show/NCT03267147</td>\n",
       "      <td>[(0.061, 'rheumatoid arthritis'), (0.044, 'art...</td>\n",
       "    </tr>\n",
       "    <tr>\n",
       "      <th>1</th>\n",
       "      <td>University of Washington</td>\n",
       "      <td>Aldesleukin and Pembrolizumab in Treating Pati...</td>\n",
       "      <td>This phase I trial studies the side effects an...</td>\n",
       "      <td>Seattle</td>\n",
       "      <td>Clear Cell Renal Cell Carcinoma</td>\n",
       "      <td>United States</td>\n",
       "      <td>PRIMARY OBJECTIVES: I. To evaluate the safety ...</td>\n",
       "      <td>Inclusion Criteria:  - Be willing and able to ...</td>\n",
       "      <td>All</td>\n",
       "      <td>Missing</td>\n",
       "      <td>Carcinoma</td>\n",
       "      <td>A Phase I Trial of Interleukin-2 (Aldesleukin)...</td>\n",
       "      <td>Recruiting</td>\n",
       "      <td>Phase 1</td>\n",
       "      <td>Washington</td>\n",
       "      <td>https://clinicaltrials.gov/show/NCT03260504</td>\n",
       "      <td>[(0.033, 'metastatic'), (0.031, 'solid tumor')...</td>\n",
       "    </tr>\n",
       "    <tr>\n",
       "      <th>2</th>\n",
       "      <td>CSPC ZhongQi Pharmaceutical Technology Co., Ltd.</td>\n",
       "      <td>Nab-Paclitaxel Versus Paclitaxel Plus Carbopla...</td>\n",
       "      <td>This is a randomized, multicenter, open, contr...</td>\n",
       "      <td>Missing</td>\n",
       "      <td>Non-small Cell Lung Cancer</td>\n",
       "      <td>Missing</td>\n",
       "      <td>Subjects will receive one of two treatment reg...</td>\n",
       "      <td>Inclusion Criteria:  - Accepted the purpose of...</td>\n",
       "      <td>All</td>\n",
       "      <td>Missing</td>\n",
       "      <td>Lung Neoplasms</td>\n",
       "      <td>The Randomized,Open, Multicenter Phase III Stu...</td>\n",
       "      <td>Not yet recruiting</td>\n",
       "      <td>Phase 3</td>\n",
       "      <td>Missing</td>\n",
       "      <td>https://clinicaltrials.gov/show/NCT03262948</td>\n",
       "      <td>[(0.106, 'lung cancer'), (0.068, 'small cell')...</td>\n",
       "    </tr>\n",
       "    <tr>\n",
       "      <th>3</th>\n",
       "      <td>Fraunhofer Institute for Molecular Biology and...</td>\n",
       "      <td>PREVALENCE OF Anti-CCP POSITIVITY AND SUBCLINI...</td>\n",
       "      <td>Non-interventional, prospective, observational...</td>\n",
       "      <td>Frankfurt am Main</td>\n",
       "      <td>Rheumatoid Arthritis</td>\n",
       "      <td>Germany</td>\n",
       "      <td>Studies of early arthritis cohorts have shown ...</td>\n",
       "      <td>population without pre-classified RA but new o...</td>\n",
       "      <td>All</td>\n",
       "      <td>Anti-CCP</td>\n",
       "      <td>Arthritis</td>\n",
       "      <td>PREVALENCE OF ANTI-CYCLIC CITRULLINATED PEPTID...</td>\n",
       "      <td>Recruiting</td>\n",
       "      <td>Missing</td>\n",
       "      <td>Hessia</td>\n",
       "      <td>https://clinicaltrials.gov/show/NCT03267147</td>\n",
       "      <td>[(0.061, 'rheumatoid arthritis'), (0.044, 'art...</td>\n",
       "    </tr>\n",
       "    <tr>\n",
       "      <th>4</th>\n",
       "      <td>Chang Gung Memorial Hospital</td>\n",
       "      <td>Analgesic Effect of Low Level Laser for Proced...</td>\n",
       "      <td>Neonates undergo several painful procedures an...</td>\n",
       "      <td>Kaohsiung</td>\n",
       "      <td>Procedural Pain</td>\n",
       "      <td>Taiwan</td>\n",
       "      <td>This open-label, randomized controlled trial i...</td>\n",
       "      <td>Inclusion Criteria:  - healthy fullterm neonat...</td>\n",
       "      <td>All</td>\n",
       "      <td>neonates</td>\n",
       "      <td>Pain, Procedural</td>\n",
       "      <td>Analgesic Effect of Low Level Laser for Proced...</td>\n",
       "      <td>Recruiting</td>\n",
       "      <td>Missing</td>\n",
       "      <td>Missing</td>\n",
       "      <td>https://clinicaltrials.gov/show/NCT03268148</td>\n",
       "      <td>[(0.083, 'infant'), (0.032, 'birth'), (0.03, '...</td>\n",
       "    </tr>\n",
       "  </tbody>\n",
       "</table>\n",
       "</div>"
      ],
      "text/plain": [
       "                                              agency  \\\n",
       "0  Fraunhofer Institute for Molecular Biology and...   \n",
       "1                           University of Washington   \n",
       "2   CSPC ZhongQi Pharmaceutical Technology Co., Ltd.   \n",
       "3  Fraunhofer Institute for Molecular Biology and...   \n",
       "4                       Chang Gung Memorial Hospital   \n",
       "\n",
       "                                         brief_title  \\\n",
       "0  PREVALENCE OF Anti-CCP POSITIVITY AND SUBCLINI...   \n",
       "1  Aldesleukin and Pembrolizumab in Treating Pati...   \n",
       "2  Nab-Paclitaxel Versus Paclitaxel Plus Carbopla...   \n",
       "3  PREVALENCE OF Anti-CCP POSITIVITY AND SUBCLINI...   \n",
       "4  Analgesic Effect of Low Level Laser for Proced...   \n",
       "\n",
       "                                       brief_summary               city  \\\n",
       "0  Non-interventional, prospective, observational...  Frankfurt am Main   \n",
       "1  This phase I trial studies the side effects an...            Seattle   \n",
       "2  This is a randomized, multicenter, open, contr...            Missing   \n",
       "3  Non-interventional, prospective, observational...  Frankfurt am Main   \n",
       "4  Neonates undergo several painful procedures an...          Kaohsiung   \n",
       "\n",
       "                         condition        country  \\\n",
       "0             Rheumatoid Arthritis        Germany   \n",
       "1  Clear Cell Renal Cell Carcinoma  United States   \n",
       "2       Non-small Cell Lung Cancer        Missing   \n",
       "3             Rheumatoid Arthritis        Germany   \n",
       "4                  Procedural Pain         Taiwan   \n",
       "\n",
       "                                detailed_description  \\\n",
       "0  Studies of early arthritis cohorts have shown ...   \n",
       "1  PRIMARY OBJECTIVES: I. To evaluate the safety ...   \n",
       "2  Subjects will receive one of two treatment reg...   \n",
       "3  Studies of early arthritis cohorts have shown ...   \n",
       "4  This open-label, randomized controlled trial i...   \n",
       "\n",
       "                                         eligibility gender   keyword  \\\n",
       "0  population without pre-classified RA but new o...    All  Anti-CCP   \n",
       "1  Inclusion Criteria:  - Be willing and able to ...    All   Missing   \n",
       "2  Inclusion Criteria:  - Accepted the purpose of...    All   Missing   \n",
       "3  population without pre-classified RA but new o...    All  Anti-CCP   \n",
       "4  Inclusion Criteria:  - healthy fullterm neonat...    All  neonates   \n",
       "\n",
       "          mesh_term                                     official_title  \\\n",
       "0         Arthritis  PREVALENCE OF ANTI-CYCLIC CITRULLINATED PEPTID...   \n",
       "1         Carcinoma  A Phase I Trial of Interleukin-2 (Aldesleukin)...   \n",
       "2    Lung Neoplasms  The Randomized,Open, Multicenter Phase III Stu...   \n",
       "3         Arthritis  PREVALENCE OF ANTI-CYCLIC CITRULLINATED PEPTID...   \n",
       "4  Pain, Procedural  Analgesic Effect of Low Level Laser for Proced...   \n",
       "\n",
       "       overall_status    phase       state  \\\n",
       "0          Recruiting  Missing      Hessia   \n",
       "1          Recruiting  Phase 1  Washington   \n",
       "2  Not yet recruiting  Phase 3     Missing   \n",
       "3          Recruiting  Missing      Hessia   \n",
       "4          Recruiting  Missing     Missing   \n",
       "\n",
       "                                           url  \\\n",
       "0  https://clinicaltrials.gov/show/NCT03267147   \n",
       "1  https://clinicaltrials.gov/show/NCT03260504   \n",
       "2  https://clinicaltrials.gov/show/NCT03262948   \n",
       "3  https://clinicaltrials.gov/show/NCT03267147   \n",
       "4  https://clinicaltrials.gov/show/NCT03268148   \n",
       "\n",
       "                                      classification  \n",
       "0  [(0.061, 'rheumatoid arthritis'), (0.044, 'art...  \n",
       "1  [(0.033, 'metastatic'), (0.031, 'solid tumor')...  \n",
       "2  [(0.106, 'lung cancer'), (0.068, 'small cell')...  \n",
       "3  [(0.061, 'rheumatoid arthritis'), (0.044, 'art...  \n",
       "4  [(0.083, 'infant'), (0.032, 'birth'), (0.03, '...  "
      ]
     },
     "execution_count": 1146,
     "metadata": {},
     "output_type": "execute_result"
    }
   ],
   "source": [
    "df1 = pd.read_csv('classified_df.csv')\n",
    "df1.head()"
   ]
  },
  {
   "cell_type": "code",
   "execution_count": null,
   "metadata": {},
   "outputs": [],
   "source": []
  }
 ],
 "metadata": {
  "kernelspec": {
   "display_name": "unit4 (Python 3.7)",
   "language": "python",
   "name": "unit4"
  },
  "language_info": {
   "codemirror_mode": {
    "name": "ipython",
    "version": 3
   },
   "file_extension": ".py",
   "mimetype": "text/x-python",
   "name": "python",
   "nbconvert_exporter": "python",
   "pygments_lexer": "ipython3",
   "version": "3.7.3"
  },
  "pycharm": {
   "stem_cell": {
    "cell_type": "raw",
    "metadata": {
     "collapsed": false
    },
    "source": []
   }
  }
 },
 "nbformat": 4,
 "nbformat_minor": 4
}
