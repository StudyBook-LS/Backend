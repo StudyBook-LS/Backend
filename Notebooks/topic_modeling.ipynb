{
 "cells": [
  {
   "cell_type": "markdown",
   "metadata": {},
   "source": [
    "# Auto-labeling of a corpus of clinical trials for later use in retrieving search results"
   ]
  },
  {
   "cell_type": "code",
   "execution_count": 110,
   "metadata": {
    "collapsed": false,
    "jupyter": {
     "outputs_hidden": false
    },
    "pycharm": {
     "is_executing": false,
     "name": "#%%\n"
    }
   },
   "outputs": [],
   "source": [
    "import csv\n",
    "import gensim\n",
    "import numpy as np\n",
    "import matplotlib.pyplot as plt\n",
    "import multiprocessing\n",
    "import os\n",
    "import pandas as pd\n",
    "import re\n",
    "import seaborn as sns\n",
    "import sys\n",
    "\n",
    "from collections import OrderedDict\n",
    "import spacy\n",
    "from gensim import corpora\n",
    "from gensim.models.phrases import Phrases, Phraser\n",
    "from gensim.models.ldamulticore import LdaMulticore\n",
    "from gensim.models.coherencemodel import CoherenceModel\n",
    "from gensim.parsing.preprocessing import STOPWORDS\n",
    "from gensim.utils import simple_preprocess\n",
    "from multiprocessing import Pool\n",
    "nlp = spacy.load(\"en_core_web_lg\")"
   ]
  },
  {
   "cell_type": "markdown",
   "metadata": {},
   "source": [
    "Add a ton of stopwords relating to procedural things to make room for the medical conditions we're looking to classify with."
   ]
  },
  {
   "cell_type": "code",
   "execution_count": 316,
   "metadata": {
    "collapsed": false,
    "jupyter": {
     "outputs_hidden": false
    },
    "pycharm": {
     "is_executing": false,
     "name": "#%%\n"
    }
   },
   "outputs": [],
   "source": [
    "STOPWORDS = set(STOPWORDS).union(set(['patient', 'patients', 'study', 'disease',\n",
    "                                      'treatment', 'randomized', 'statistical', \n",
    "                                      'analysis', 'group', 'trial', 'clinical', \n",
    "                                      'controlled', 'safety', 'associated', 'risk', \n",
    "                                      'intervention', 'care', 'health', 'therapy', \n",
    "                                      'participants', 'method', 'monitor', 'studies',\n",
    "                                      'cohorts', 'percent', 'prospective', 'efficacy', \n",
    "                                      'days', 'months', 'evaluate', 'subjects', \n",
    "                                      'data', 'outcomes', 'research', 'function', \n",
    "                                      'effects', 'investigators', 'use', 'population', \n",
    "                                      'compared', 'quality', 'results', 'improve',\n",
    "                                      'term', 'groups', 'weeks', 'week', 'groups', \n",
    "                                      'test', 'control', 'time', 'period', 'placebo', \n",
    "                                      'stimulation', 'symptoms', 'mortality', 'failure',\n",
    "                                      'non', 'interventional', 'observational', 'assess', \n",
    "                                      'relative', 'positive', 'develop', 'signs', \n",
    "                                      'enrolled', 'randomly', 'assigned', 'ratio', \n",
    "                                      'stratified', 'multicenter', 'open', 'phase', \n",
    "                                      'stage', 'iiib', 'eligible', 'criteria', \n",
    "                                      'inclusion', 'exclustion', 'year', 'years',\n",
    "                                      'before', 'after', 'therapy', 'therapies',\n",
    "                                      'interventions', 'controlling', 'terms', 'risks',\n",
    "                                      'enroll', 'studies', 'diseases', 'enrolling',\n",
    "                                      'evaluating', 'evaluated', 'evaluates', 'effect',\n",
    "                                      'invesetigate', 'investigator', 'investigation',\n",
    "                                      'investigations', 'studying', 'eligibility', \"dose\", \n",
    "                                      \"screening\", \"history\", \"drug\", \"active\", \"including\",\n",
    "                                      \"significant\", \"day\", 'days', \"potential\", \"female\", \n",
    "                                      \"mg\", \"hepatitis\", \"investigational\", 'prior', 'known',\n",
    "                                      'clinically', 'clincal', 'clinic', 'period', 'following',\n",
    "                                      'subject', 'visit', 'subjects', 'willing', \n",
    "                                      'participation', 'lab', 'laboratory', 'medical',\n",
    "#                                       'health', 'healthy', \n",
    "                                      'response', 'diagnosis', 'stages', 'staged',\n",
    "                                      'diagnoses', 'treat', 'treats', 'treated', 'program',\n",
    "                                      'self', 'based', 'life', 'participate', 'english',\n",
    "                                      'participates', 'able', 'community', 'support',\n",
    "                                      'ability', 'coummunities', 'supports', 'supported',\n",
    "                                      'consent', 'age', 'informed', 'consents', 'consented',\n",
    "                                      'provide', 'provided', 'condition', 'conditions',\n",
    "                                      'conditioned', \n",
    "#                                       'volunteers', 'volunteer', \n",
    "                                      'accept', 'accepted', 'accepting'\n",
    "                                      'accepts', 'current', 'currently', 'controlled',\n",
    "                                      'uncontrolled', 'status', 'recieved', 'times', \n",
    "                                      'limit', 'count', 'disorder', 'disorders', 'follow',\n",
    "                                      'follows', 'followed', 'participant', 'related',\n",
    "                                      'probability', 'probabilities', 'sample', 'samples',\n",
    "                                      'practice', 'individual', 'individuals', \n",
    "                                      'individually', 'specific', 'specify', 'prevalence', \n",
    "                                      'limited', 'procedure', 'procedures', 'write',\n",
    "                                      'obtain', 'practice', 'practices', 'practicing',\n",
    "                                      'diagnostic']))\n"
   ]
  },
  {
   "cell_type": "markdown",
   "metadata": {},
   "source": [
    "Import subset of data."
   ]
  },
  {
   "cell_type": "code",
   "execution_count": 112,
   "metadata": {
    "pycharm": {
     "is_executing": false,
     "name": "#%%\n"
    }
   },
   "outputs": [],
   "source": [
    "df = pd.read_csv('../frontend_dataset_final.csv')"
   ]
  },
  {
   "cell_type": "code",
   "execution_count": 115,
   "metadata": {
    "collapsed": false,
    "jupyter": {
     "outputs_hidden": false
    },
    "pycharm": {
     "is_executing": false,
     "name": "#%%\n"
    }
   },
   "outputs": [
    {
     "data": {
      "text/html": [
       "<div>\n",
       "<style scoped>\n",
       "    .dataframe tbody tr th:only-of-type {\n",
       "        vertical-align: middle;\n",
       "    }\n",
       "\n",
       "    .dataframe tbody tr th {\n",
       "        vertical-align: top;\n",
       "    }\n",
       "\n",
       "    .dataframe thead th {\n",
       "        text-align: right;\n",
       "    }\n",
       "</style>\n",
       "<table border=\"1\" class=\"dataframe\">\n",
       "  <thead>\n",
       "    <tr style=\"text-align: right;\">\n",
       "      <th></th>\n",
       "      <th>agency</th>\n",
       "      <th>brief_title</th>\n",
       "      <th>brief_summary</th>\n",
       "      <th>city</th>\n",
       "      <th>condition</th>\n",
       "      <th>country</th>\n",
       "      <th>detailed_description</th>\n",
       "      <th>eligibility</th>\n",
       "      <th>gender</th>\n",
       "      <th>keyword</th>\n",
       "      <th>mesh_term</th>\n",
       "      <th>official_title</th>\n",
       "      <th>overall_status</th>\n",
       "      <th>phase</th>\n",
       "      <th>state</th>\n",
       "      <th>url</th>\n",
       "    </tr>\n",
       "  </thead>\n",
       "  <tbody>\n",
       "    <tr>\n",
       "      <th>0</th>\n",
       "      <td>Fraunhofer Institute for Molecular Biology and...</td>\n",
       "      <td>PREVALENCE OF Anti-CCP POSITIVITY AND SUBCLINI...</td>\n",
       "      <td>Non-interventional, prospective, observational...</td>\n",
       "      <td>Frankfurt am Main</td>\n",
       "      <td>Rheumatoid Arthritis</td>\n",
       "      <td>Germany</td>\n",
       "      <td>Studies of early arthritis cohorts have shown ...</td>\n",
       "      <td>population without pre-classified RA but new o...</td>\n",
       "      <td>All</td>\n",
       "      <td>Anti-CCP</td>\n",
       "      <td>Arthritis</td>\n",
       "      <td>PREVALENCE OF ANTI-CYCLIC CITRULLINATED PEPTID...</td>\n",
       "      <td>Recruiting</td>\n",
       "      <td>Missing</td>\n",
       "      <td>Hessia</td>\n",
       "      <td>https://clinicaltrials.gov/show/NCT03267147</td>\n",
       "    </tr>\n",
       "    <tr>\n",
       "      <th>1</th>\n",
       "      <td>University of Washington</td>\n",
       "      <td>Aldesleukin and Pembrolizumab in Treating Pati...</td>\n",
       "      <td>This phase I trial studies the side effects an...</td>\n",
       "      <td>Seattle</td>\n",
       "      <td>Clear Cell Renal Cell Carcinoma</td>\n",
       "      <td>United States</td>\n",
       "      <td>PRIMARY OBJECTIVES: I. To evaluate the safety ...</td>\n",
       "      <td>Inclusion Criteria:  - Be willing and able to ...</td>\n",
       "      <td>All</td>\n",
       "      <td>Missing</td>\n",
       "      <td>Carcinoma</td>\n",
       "      <td>A Phase I Trial of Interleukin-2 (Aldesleukin)...</td>\n",
       "      <td>Recruiting</td>\n",
       "      <td>Phase 1</td>\n",
       "      <td>Washington</td>\n",
       "      <td>https://clinicaltrials.gov/show/NCT03260504</td>\n",
       "    </tr>\n",
       "    <tr>\n",
       "      <th>2</th>\n",
       "      <td>CSPC ZhongQi Pharmaceutical Technology Co., Ltd.</td>\n",
       "      <td>Nab-Paclitaxel Versus Paclitaxel Plus Carbopla...</td>\n",
       "      <td>This is a randomized, multicenter, open, contr...</td>\n",
       "      <td>Missing</td>\n",
       "      <td>Non-small Cell Lung Cancer</td>\n",
       "      <td>Missing</td>\n",
       "      <td>Subjects will receive one of two treatment reg...</td>\n",
       "      <td>Inclusion Criteria:  - Accepted the purpose of...</td>\n",
       "      <td>All</td>\n",
       "      <td>Missing</td>\n",
       "      <td>Lung Neoplasms</td>\n",
       "      <td>The Randomized,Open, Multicenter Phase III Stu...</td>\n",
       "      <td>Not yet recruiting</td>\n",
       "      <td>Phase 3</td>\n",
       "      <td>Missing</td>\n",
       "      <td>https://clinicaltrials.gov/show/NCT03262948</td>\n",
       "    </tr>\n",
       "    <tr>\n",
       "      <th>3</th>\n",
       "      <td>Fraunhofer Institute for Molecular Biology and...</td>\n",
       "      <td>PREVALENCE OF Anti-CCP POSITIVITY AND SUBCLINI...</td>\n",
       "      <td>Non-interventional, prospective, observational...</td>\n",
       "      <td>Frankfurt am Main</td>\n",
       "      <td>Rheumatoid Arthritis</td>\n",
       "      <td>Germany</td>\n",
       "      <td>Studies of early arthritis cohorts have shown ...</td>\n",
       "      <td>population without pre-classified RA but new o...</td>\n",
       "      <td>All</td>\n",
       "      <td>Anti-CCP</td>\n",
       "      <td>Arthritis</td>\n",
       "      <td>PREVALENCE OF ANTI-CYCLIC CITRULLINATED PEPTID...</td>\n",
       "      <td>Recruiting</td>\n",
       "      <td>Missing</td>\n",
       "      <td>Hessia</td>\n",
       "      <td>https://clinicaltrials.gov/show/NCT03267147</td>\n",
       "    </tr>\n",
       "    <tr>\n",
       "      <th>4</th>\n",
       "      <td>Chang Gung Memorial Hospital</td>\n",
       "      <td>Analgesic Effect of Low Level Laser for Proced...</td>\n",
       "      <td>Neonates undergo several painful procedures an...</td>\n",
       "      <td>Kaohsiung</td>\n",
       "      <td>Procedural Pain</td>\n",
       "      <td>Taiwan</td>\n",
       "      <td>This open-label, randomized controlled trial i...</td>\n",
       "      <td>Inclusion Criteria:  - healthy fullterm neonat...</td>\n",
       "      <td>All</td>\n",
       "      <td>neonates</td>\n",
       "      <td>Pain, Procedural</td>\n",
       "      <td>Analgesic Effect of Low Level Laser for Proced...</td>\n",
       "      <td>Recruiting</td>\n",
       "      <td>Missing</td>\n",
       "      <td>Missing</td>\n",
       "      <td>https://clinicaltrials.gov/show/NCT03268148</td>\n",
       "    </tr>\n",
       "  </tbody>\n",
       "</table>\n",
       "</div>"
      ],
      "text/plain": [
       "                                              agency  \\\n",
       "0  Fraunhofer Institute for Molecular Biology and...   \n",
       "1                           University of Washington   \n",
       "2   CSPC ZhongQi Pharmaceutical Technology Co., Ltd.   \n",
       "3  Fraunhofer Institute for Molecular Biology and...   \n",
       "4                       Chang Gung Memorial Hospital   \n",
       "\n",
       "                                         brief_title  \\\n",
       "0  PREVALENCE OF Anti-CCP POSITIVITY AND SUBCLINI...   \n",
       "1  Aldesleukin and Pembrolizumab in Treating Pati...   \n",
       "2  Nab-Paclitaxel Versus Paclitaxel Plus Carbopla...   \n",
       "3  PREVALENCE OF Anti-CCP POSITIVITY AND SUBCLINI...   \n",
       "4  Analgesic Effect of Low Level Laser for Proced...   \n",
       "\n",
       "                                       brief_summary               city  \\\n",
       "0  Non-interventional, prospective, observational...  Frankfurt am Main   \n",
       "1  This phase I trial studies the side effects an...            Seattle   \n",
       "2  This is a randomized, multicenter, open, contr...            Missing   \n",
       "3  Non-interventional, prospective, observational...  Frankfurt am Main   \n",
       "4  Neonates undergo several painful procedures an...          Kaohsiung   \n",
       "\n",
       "                         condition        country  \\\n",
       "0             Rheumatoid Arthritis        Germany   \n",
       "1  Clear Cell Renal Cell Carcinoma  United States   \n",
       "2       Non-small Cell Lung Cancer        Missing   \n",
       "3             Rheumatoid Arthritis        Germany   \n",
       "4                  Procedural Pain         Taiwan   \n",
       "\n",
       "                                detailed_description  \\\n",
       "0  Studies of early arthritis cohorts have shown ...   \n",
       "1  PRIMARY OBJECTIVES: I. To evaluate the safety ...   \n",
       "2  Subjects will receive one of two treatment reg...   \n",
       "3  Studies of early arthritis cohorts have shown ...   \n",
       "4  This open-label, randomized controlled trial i...   \n",
       "\n",
       "                                         eligibility gender   keyword  \\\n",
       "0  population without pre-classified RA but new o...    All  Anti-CCP   \n",
       "1  Inclusion Criteria:  - Be willing and able to ...    All   Missing   \n",
       "2  Inclusion Criteria:  - Accepted the purpose of...    All   Missing   \n",
       "3  population without pre-classified RA but new o...    All  Anti-CCP   \n",
       "4  Inclusion Criteria:  - healthy fullterm neonat...    All  neonates   \n",
       "\n",
       "          mesh_term                                     official_title  \\\n",
       "0         Arthritis  PREVALENCE OF ANTI-CYCLIC CITRULLINATED PEPTID...   \n",
       "1         Carcinoma  A Phase I Trial of Interleukin-2 (Aldesleukin)...   \n",
       "2    Lung Neoplasms  The Randomized,Open, Multicenter Phase III Stu...   \n",
       "3         Arthritis  PREVALENCE OF ANTI-CYCLIC CITRULLINATED PEPTID...   \n",
       "4  Pain, Procedural  Analgesic Effect of Low Level Laser for Proced...   \n",
       "\n",
       "       overall_status    phase       state  \\\n",
       "0          Recruiting  Missing      Hessia   \n",
       "1          Recruiting  Phase 1  Washington   \n",
       "2  Not yet recruiting  Phase 3     Missing   \n",
       "3          Recruiting  Missing      Hessia   \n",
       "4          Recruiting  Missing     Missing   \n",
       "\n",
       "                                           url  \n",
       "0  https://clinicaltrials.gov/show/NCT03267147  \n",
       "1  https://clinicaltrials.gov/show/NCT03260504  \n",
       "2  https://clinicaltrials.gov/show/NCT03262948  \n",
       "3  https://clinicaltrials.gov/show/NCT03267147  \n",
       "4  https://clinicaltrials.gov/show/NCT03268148  "
      ]
     },
     "execution_count": 115,
     "metadata": {},
     "output_type": "execute_result"
    }
   ],
   "source": [
    "df = df.drop(columns='Unnamed: 0')\n",
    "df.head()"
   ]
  },
  {
   "cell_type": "markdown",
   "metadata": {},
   "source": [
    "Choose colums to pull text from."
   ]
  },
  {
   "cell_type": "code",
   "execution_count": 116,
   "metadata": {
    "collapsed": false,
    "jupyter": {
     "outputs_hidden": false
    },
    "pycharm": {
     "is_executing": false,
     "name": "#%%\n"
    }
   },
   "outputs": [],
   "source": [
    "df['search_terms'] = (df['mesh_term'].str.lower()\n",
    "                      + ' ' + df['condition'].str.lower() \n",
    "                      + ' ' + df['keyword'].str.lower()\n",
    "                      + ' ' + df['brief_summary'].str.lower()\n",
    "                      + ' ' + df['official_title'].str.lower()\n",
    "#                       + ' ' + df['detailed_description'].str.lower()\n",
    "                      + ' ' + df['eligibility'].str.lower()\n",
    "                      )"
   ]
  },
  {
   "cell_type": "code",
   "execution_count": 117,
   "metadata": {
    "collapsed": false,
    "jupyter": {
     "outputs_hidden": false
    },
    "pycharm": {
     "is_executing": false,
     "name": "#%%\n"
    }
   },
   "outputs": [
    {
     "data": {
      "text/plain": [
       "'arthritis rheumatoid arthritis anti-ccp non-interventional, prospective, observational study to assess the relative risk of anti-ccp positive patients to develop (subclinical) signs of inflammation in accordance with early rheumatoid arthritis (ra) in a population without pre-classified ra but new1 onset of non-specific musculoskeletal (msk) symptoms in general practices in germany and subsequent 36 months follow-up by rheumatologists prevalence of anti-cyclic citrullinated peptide (anti-ccp) positivity and subclinical signs of inflammation in patients with new onset of non-specific musculoskeletal symptoms possibly related to early rheumatoid arthritis in general practices in germany population without pre-classified ra but new onset of non-specific musculoskeletal (msk)  symptoms non-probability sample  inclusion criteria:  - new onset of non-specific msk symptoms, including, but not limited to, arthralgia of  the hands and the large joints such as wrists, knees, and shoulders  - written informed consent obtained prior to the initiation of any study  protocol-required procedures  - general understanding of study procedure and informed consent  - age ≥ 18 and ≤ 65 years  exclusion criteria:  - ra diagnosed according to modified eular/acr (american college of  rheumatology)-criteria  - known arthritis  - known reasons for msk symptoms, e.g. mechanical, traumatic, etc.  - msk symptoms previously reported at another (general) practice  - alcohol, drug or chemical abuse  - underage or incapable patients all 18 years 65 years no'"
      ]
     },
     "execution_count": 117,
     "metadata": {},
     "output_type": "execute_result"
    }
   ],
   "source": [
    "df['search_terms'].iloc[0]"
   ]
  },
  {
   "cell_type": "markdown",
   "metadata": {},
   "source": [
    "Remove some puctuation and 'missing' from any column without info."
   ]
  },
  {
   "cell_type": "code",
   "execution_count": 119,
   "metadata": {
    "collapsed": false,
    "jupyter": {
     "outputs_hidden": false
    },
    "pycharm": {
     "is_executing": false,
     "name": "#%%\n"
    }
   },
   "outputs": [],
   "source": [
    "def replace_missing(string):\n",
    "    new = re.sub('missing', '', string)\n",
    "    new = re.sub('-', ' ', new)\n",
    "    new = re.sub('\\(\\S*\\)', '', new)\n",
    "    return u\"{}\".format(new)"
   ]
  },
  {
   "cell_type": "code",
   "execution_count": 120,
   "metadata": {
    "collapsed": false,
    "jupyter": {
     "outputs_hidden": false
    },
    "pycharm": {
     "is_executing": false,
     "name": "#%%\n"
    }
   },
   "outputs": [
    {
     "data": {
      "text/plain": [
       "22471"
      ]
     },
     "execution_count": 120,
     "metadata": {},
     "output_type": "execute_result"
    }
   ],
   "source": [
    "search_terms = df['search_terms'].apply(replace_missing).values\n",
    "len(search_terms)"
   ]
  },
  {
   "cell_type": "markdown",
   "metadata": {},
   "source": [
    "Split into training and test sets."
   ]
  },
  {
   "cell_type": "code",
   "execution_count": 121,
   "metadata": {},
   "outputs": [],
   "source": [
    "test_terms = search_terms.copy()[-2471:]\n",
    "search_terms = search_terms[:20000]"
   ]
  },
  {
   "cell_type": "code",
   "execution_count": 122,
   "metadata": {},
   "outputs": [
    {
     "data": {
      "text/plain": [
       "(20000, 2471)"
      ]
     },
     "execution_count": 122,
     "metadata": {},
     "output_type": "execute_result"
    }
   ],
   "source": [
    "len(search_terms), len(test_terms)"
   ]
  },
  {
   "cell_type": "code",
   "execution_count": 123,
   "metadata": {},
   "outputs": [
    {
     "data": {
      "text/plain": [
       "' upper gastrointestinal subepithelial tumors stomach neoplasm to increase the diagnostic accuracy of subepithelial tumors, larger tissue samples are required. it is difficult to obtain adequate tissue samples. there were several biopsy methods to obtain tissue samples. pathological examination would include mitosis counts, particularly in hypoechoic subepithelial tumors located in the 4th layer of the gastric wall, where differentiation between leiomyoma of benign nature and gastrointestinal stromal tumor  of malignant potential is essential. so we hypothesize that unroofing biopsy is an more appropriate method than eus fnb(endoscopic ultrasonography guided fine needle biopsy). we will compare diagnostic accuracy and complications between eus fnb & unroofing biopsy.  inclusion criteria:    older than 19 years old and younger than 80 years old    suspected upper gastrointestinal subepithelial tumors(≥15mm, ≤35mm) that were  originated from muscularis propria layer on endoscopic ultrasonography  exclusion criteria:    patient who had bleeding tendency    any previous surgery on esophagus, stomach or duodenum    patients who can not be underwent sedated endoscopy    gastrointestinal subepithelial tumor that was not origianted from muscularis propria  layer on eus    constrast related allergic disease all 19 years 80 years no'"
      ]
     },
     "execution_count": 123,
     "metadata": {},
     "output_type": "execute_result"
    }
   ],
   "source": [
    "test_terms[0]"
   ]
  },
  {
   "cell_type": "code",
   "execution_count": 124,
   "metadata": {
    "pycharm": {
     "is_executing": false,
     "name": "#%%\n"
    }
   },
   "outputs": [
    {
     "data": {
      "text/plain": [
       "'arthritis rheumatoid arthritis anti ccp non interventional, prospective, observational study to assess the relative risk of anti ccp positive patients to develop  signs of inflammation in accordance with early rheumatoid arthritis  in a population without pre classified ra but new1 onset of non specific musculoskeletal  symptoms in general practices in germany and subsequent 36 months follow up by rheumatologists prevalence of anti cyclic citrullinated peptide (anti ccp) positivity and subclinical signs of inflammation in patients with new onset of non specific musculoskeletal symptoms possibly related to early rheumatoid arthritis in general practices in germany population without pre classified ra but new onset of non specific musculoskeletal   symptoms non probability sample  inclusion criteria:    new onset of non specific msk symptoms, including, but not limited to, arthralgia of  the hands and the large joints such as wrists, knees, and shoulders    written informed consent obtained prior to the initiation of any study  protocol required procedures    general understanding of study procedure and informed consent    age ≥ 18 and ≤ 65 years  exclusion criteria:    ra diagnosed according to modified eular/acr (american college of  rheumatology) criteria    known arthritis    known reasons for msk symptoms, e.g. mechanical, traumatic, etc.    msk symptoms previously reported at another  practice    alcohol, drug or chemical abuse    underage or incapable patients all 18 years 65 years no'"
      ]
     },
     "execution_count": 124,
     "metadata": {},
     "output_type": "execute_result"
    }
   ],
   "source": [
    "search_terms[0]"
   ]
  },
  {
   "cell_type": "markdown",
   "metadata": {},
   "source": [
    "Create lemmatization and tokenization functions."
   ]
  },
  {
   "cell_type": "code",
   "execution_count": 126,
   "metadata": {},
   "outputs": [],
   "source": [
    "def lemmatize(text):\n",
    "    \"\"\"Return new string of lemmatized words from text.\"\"\"\n",
    "    doc = nlp(text)\n",
    "    return \" \".join([token.lemma_ for token in doc if token.text not in STOPWORDS])"
   ]
  },
  {
   "cell_type": "code",
   "execution_count": 127,
   "metadata": {
    "pycharm": {
     "is_executing": false,
     "name": "#%%\n"
    }
   },
   "outputs": [],
   "source": [
    "def tokenize(text):\n",
    "    \"\"\"Return list of tokens from text.\"\"\"\n",
    "    return [token for token in simple_preprocess(text) if token not in STOPWORDS]"
   ]
  },
  {
   "cell_type": "markdown",
   "metadata": {},
   "source": [
    "Apply functions element-wise with multiprocessing."
   ]
  },
  {
   "cell_type": "code",
   "execution_count": 128,
   "metadata": {
    "pycharm": {
     "is_executing": false,
     "name": "#%%\n"
    }
   },
   "outputs": [],
   "source": [
    "pool = Pool(processes=multiprocessing.cpu_count())\n",
    "lemma = pool.map(lemmatize, search_terms)\n",
    "keyword_tokens = pool.map(tokenize, lemma)"
   ]
  },
  {
   "cell_type": "markdown",
   "metadata": {},
   "source": [
    "Apply Phraser to detect bi-grams and more-grams."
   ]
  },
  {
   "cell_type": "code",
   "execution_count": 132,
   "metadata": {},
   "outputs": [],
   "source": [
    "# token_ = [doc.split(\" \") for doc in keyword_tokens]\n",
    "bigram = Phrases(keyword_tokens,\n",
    "                 min_count=10,\n",
    "                 threshold=5,\n",
    "                 delimiter=b' ')\n",
    "\n",
    "bigram_phraser = Phraser(bigram)\n",
    "\n",
    "bigram_tokens = []\n",
    "for sent in keyword_tokens:\n",
    "    bigram_tokens.append(bigram_phraser[sent])"
   ]
  },
  {
   "cell_type": "markdown",
   "metadata": {},
   "source": [
    "Check bigrams for meaningfullness."
   ]
  },
  {
   "cell_type": "code",
   "execution_count": 133,
   "metadata": {},
   "outputs": [
    {
     "data": {
      "text/plain": [
       "['arthritis rheumatoid',\n",
       " 'arthritis',\n",
       " 'anti ccp',\n",
       " 'anti ccp',\n",
       " 'inflammation',\n",
       " 'accordance',\n",
       " 'early',\n",
       " 'rheumatoid arthritis',\n",
       " 'pre',\n",
       " 'classify',\n",
       " 'ra',\n",
       " 'new onset',\n",
       " 'specific',\n",
       " 'musculoskeletal',\n",
       " 'general practice',\n",
       " 'germany',\n",
       " 'subsequent',\n",
       " 'rheumatologist',\n",
       " 'prevalence',\n",
       " 'anti',\n",
       " 'cyclic',\n",
       " 'citrullinate',\n",
       " 'peptide',\n",
       " 'anti ccp',\n",
       " 'positivity',\n",
       " 'subclinical',\n",
       " 'inflammation',\n",
       " 'new onset',\n",
       " 'specific',\n",
       " 'musculoskeletal',\n",
       " 'possibly',\n",
       " 'early',\n",
       " 'rheumatoid arthritis',\n",
       " 'general practice',\n",
       " 'germany',\n",
       " 'pre',\n",
       " 'classify',\n",
       " 'ra',\n",
       " 'new onset',\n",
       " 'specific',\n",
       " 'musculoskeletal',\n",
       " 'probability sample',\n",
       " 'new onset',\n",
       " 'specific',\n",
       " 'msk',\n",
       " 'limited',\n",
       " 'arthralgia',\n",
       " 'hand',\n",
       " 'large',\n",
       " 'joint',\n",
       " 'wrist',\n",
       " 'knee',\n",
       " 'shoulder',\n",
       " 'write obtain',\n",
       " 'initiation',\n",
       " 'protocol',\n",
       " 'require',\n",
       " 'procedure',\n",
       " 'general',\n",
       " 'understanding',\n",
       " 'procedure',\n",
       " 'exclusion',\n",
       " 'ra',\n",
       " 'diagnose',\n",
       " 'accord modify',\n",
       " 'eular',\n",
       " 'acr',\n",
       " 'american college',\n",
       " 'rheumatology',\n",
       " 'arthritis',\n",
       " 'reason',\n",
       " 'msk',\n",
       " 'mechanical',\n",
       " 'traumatic',\n",
       " 'msk',\n",
       " 'previously',\n",
       " 'report',\n",
       " 'practice',\n",
       " 'alcohol',\n",
       " 'chemical abuse',\n",
       " 'underage',\n",
       " 'incapable']"
      ]
     },
     "execution_count": 133,
     "metadata": {},
     "output_type": "execute_result"
    }
   ],
   "source": [
    "bigram_tokens[0]"
   ]
  },
  {
   "cell_type": "markdown",
   "metadata": {},
   "source": [
    "Looks nice.\n",
    "\n",
    "Create a gensim dictionary of our bigram tokens."
   ]
  },
  {
   "cell_type": "code",
   "execution_count": 134,
   "metadata": {
    "pycharm": {
     "is_executing": false,
     "name": "#%%\n"
    }
   },
   "outputs": [],
   "source": [
    "id2word = corpora.Dictionary(bigram_tokens)"
   ]
  },
  {
   "cell_type": "code",
   "execution_count": 135,
   "metadata": {},
   "outputs": [
    {
     "data": {
      "text/plain": [
       "59225"
      ]
     },
     "execution_count": 135,
     "metadata": {},
     "output_type": "execute_result"
    }
   ],
   "source": [
    "len(id2word.keys())"
   ]
  },
  {
   "cell_type": "markdown",
   "metadata": {},
   "source": [
    "Filter our dictionary to, hopefully, more useful words."
   ]
  },
  {
   "cell_type": "code",
   "execution_count": 136,
   "metadata": {},
   "outputs": [
    {
     "data": {
      "text/plain": [
       "26780"
      ]
     },
     "execution_count": 136,
     "metadata": {},
     "output_type": "execute_result"
    }
   ],
   "source": [
    "id2word.filter_extremes(no_below=5, no_above=0.75)\n",
    "len(id2word.keys())"
   ]
  },
  {
   "cell_type": "markdown",
   "metadata": {},
   "source": [
    "Create corpus for modeling."
   ]
  },
  {
   "cell_type": "code",
   "execution_count": 137,
   "metadata": {
    "collapsed": false,
    "jupyter": {
     "outputs_hidden": false
    },
    "pycharm": {
     "is_executing": false,
     "name": "#%%\n"
    }
   },
   "outputs": [],
   "source": [
    "corpus = [id2word.doc2bow(text) for text in bigram_tokens]"
   ]
  },
  {
   "cell_type": "markdown",
   "metadata": {},
   "source": [
    "Fit an LDA model."
   ]
  },
  {
   "cell_type": "code",
   "execution_count": 143,
   "metadata": {
    "collapsed": false,
    "jupyter": {
     "outputs_hidden": false
    },
    "pycharm": {
     "is_executing": false,
     "name": "#%%\n"
    }
   },
   "outputs": [
    {
     "name": "stderr",
     "output_type": "stream",
     "text": [
      "/Users/lambda_school_loaner_153/anaconda3/envs/unit4/lib/python3.7/site-packages/gensim/models/ldamodel.py:775: RuntimeWarning: divide by zero encountered in log\n",
      "  diff = np.log(self.expElogbeta)\n"
     ]
    }
   ],
   "source": [
    "lda = LdaMulticore(corpus=corpus,\n",
    "                   id2word=id2word,\n",
    "#                    random_state=42,\n",
    "                   chunksize=10000,\n",
    "#                    num_topics=85,\n",
    "                   passes=15,\n",
    "                   workers=multiprocessing.cpu_count(),\n",
    "                   )"
   ]
  },
  {
   "cell_type": "markdown",
   "metadata": {},
   "source": [
    "Test out our model."
   ]
  },
  {
   "cell_type": "code",
   "execution_count": 279,
   "metadata": {},
   "outputs": [],
   "source": [
    "def get_search_terms(index):\n",
    "    \"\"\"Return topics for a given index in the test_tems list.\"\"\"\n",
    "    # Preprocess new document.\n",
    "    lemma = list(map(lemmatize, [test_terms[index]]))\n",
    "    other_texts = list(map(tokenize, lemma))\n",
    "    other_corpus = []\n",
    "    for sent in other_texts:\n",
    "        other_corpus.append(bigram_phraser[sent])\n",
    "    corpus = [id2word.doc2bow(text) for text in other_corpus]\n",
    "    unseen_doc = corpus[0]\n",
    "    # Feed processed document to the model.\n",
    "    vector = lda[unseen_doc]  # get topic probability distribution for a document\n",
    "    # Choose the set of topics the model gives the highest probability to.\n",
    "    terms = [topic for topic in lda.print_topic(vector[np.argmax(vector, axis=0)[1]][0], 20).split(' + ')\n",
    "             # Set a model probability cut-off for topic inclusion.\n",
    "             if float(topic[:5]) >= .005]\n",
    "    return terms"
   ]
  },
  {
   "cell_type": "code",
   "execution_count": 280,
   "metadata": {},
   "outputs": [],
   "source": [
    "index_to_search = 949"
   ]
  },
  {
   "cell_type": "code",
   "execution_count": 281,
   "metadata": {},
   "outputs": [
    {
     "data": {
      "text/plain": [
       "['0.024*\"pediatric\"',\n",
       " '0.020*\"child\"',\n",
       " '0.017*\"hiv\"',\n",
       " '0.014*\"center\"',\n",
       " '0.012*\"parent\"',\n",
       " '0.010*\"adolescent\"',\n",
       " '0.009*\"probability sample\"',\n",
       " '0.007*\"old\"',\n",
       " '0.006*\"protocol\"',\n",
       " '0.006*\"parent guardian\"',\n",
       " '0.006*\"hiv infection\"',\n",
       " '0.005*\"adherence\"',\n",
       " '0.005*\"survey\"',\n",
       " '0.005*\"art\"',\n",
       " '0.005*\"hospital\"',\n",
       " '0.005*\"cohort\"']"
      ]
     },
     "execution_count": 281,
     "metadata": {},
     "output_type": "execute_result"
    }
   ],
   "source": [
    "get_search_terms(index_to_search)"
   ]
  },
  {
   "cell_type": "code",
   "execution_count": 282,
   "metadata": {},
   "outputs": [
    {
     "data": {
      "text/plain": [
       "'hiv infections hiv infections adherence, medication youth living with hiv  often face unique challenges achieving high and sustained rates of adherence to their antiretroviral therapy . poor adherence can lead to unsuppressed virus, more advanced hiv disease and poorer health outcomes, eventually exhausting treatment options. to date however, there are few demonstrated interventions for youth failing first line therapy. this study will evaluate a novel intervention that uses remote coaching through video enabled counseling sessions, a `smart` pill bottle that notifies an adherence coach when youth fail to open/close the device around dose time, and problem solving outreach by the coach when and as needed. this intensive `boot camp` strategy is implemented for 12 weeks followed by observation through 48 weeks. triggered escalating real time adherence intervention to promote rapid hiv viral suppression among youth living with hiv failing antiretroviral therapy: the tera study inclusion criteria:  1. age 13 through 24 years   2. confirmation of hiv 1 infection as documented in the participant`s medical record by  at least two of the following criteria:    reactive hiv screening test result with an hiv antibody or hiv   antibody/antigen based, food and drug administration  licensed assay   followed by a positive supplemental assay (e.g., hiv 1 western blot, hiv 1   indirect immunofluorescence, hiv 1/hiv 2 discriminatory immunoassay);    plasma hiv 1 quantitative ribonucleic acid  assay >1,000 copies/ml;    positive hiv 1 deoxyribonucleic acid  polymerase chain reaction  assay;   or    positive plasma hiv 1 rna qualitative assay  3. participant aware of his or her hiv infection, as determined by site staff  4. documented plasma hiv 1 rna plasma ≥200 copies/ml within 45 days of the date of the  enrollment visit  5. prescribed antiretroviral therapy for at least 24 weeks or more prior to documented  plasma hiv 1 rna plasma ≥200 copies/ml.  6. prescribed a once daily (one or more pills once a day) art regimen with at least two  active agents (per clinician judgment or genotype evidence) at enrollment  7. able to communicate in spoken and written english  8. currently has a cellular phone that is also able to send and receive text messages  9. willing and able to provide at least one additional contact phone number (preferably  two) to contact participant  10. able and willing to provide written informed assent/consent and able to obtain written  parental or guardian permission (if required as specified by the site, by state law,  and/or institutional review board [irb] policy, and detailed in each site`s protocol  implementation plans [pips]) to be screened for and to enroll in this study  exclusion criteria:  1. gross cognitive limitations, acute emotional instability, or medical or mental health  illness that in the opinion of site personnel would impair the individual`s ability to  provide informed consent and/or interfere with the protocol`s objectives  2. concurrent participation in interventional studies addressing adherence unless  approved in advance by study team  3. positive pregnancy test at the time of enrollment. if participant becomes pregnant  while on study, they may continue on study  4. currently using or planning to use an electronic dose monitoring and reminder device  outside of the study all 13 years 24 years accepts healthy volunteers'"
      ]
     },
     "execution_count": 282,
     "metadata": {},
     "output_type": "execute_result"
    }
   ],
   "source": [
    "test_terms[index_to_search]"
   ]
  },
  {
   "cell_type": "markdown",
   "metadata": {},
   "source": [
    "Pretty good."
   ]
  },
  {
   "cell_type": "code",
   "execution_count": 317,
   "metadata": {},
   "outputs": [],
   "source": [
    "index_to_search = 2344"
   ]
  },
  {
   "cell_type": "code",
   "execution_count": 318,
   "metadata": {},
   "outputs": [
    {
     "data": {
      "text/plain": [
       "['0.039*\"lung cancer\"',\n",
       " '0.028*\"small cell\"',\n",
       " '0.014*\"ptsd\"',\n",
       " '0.012*\"nsclc\"',\n",
       " '0.010*\"tumor\"',\n",
       " '0.010*\"cancer\"',\n",
       " '0.009*\"cell lung\"',\n",
       " '0.008*\"lung neoplasm\"',\n",
       " '0.007*\"radiation\"',\n",
       " '0.006*\"surgery\"',\n",
       " '0.006*\"lung\"',\n",
       " '0.005*\"primary\"',\n",
       " '0.005*\"registration\"',\n",
       " '0.005*\"level\"',\n",
       " '0.005*\"endometrial cancer\"',\n",
       " '0.005*\"radiotherapy\"']"
      ]
     },
     "execution_count": 318,
     "metadata": {},
     "output_type": "execute_result"
    }
   ],
   "source": [
    "get_search_terms(index_to_search)"
   ]
  },
  {
   "cell_type": "code",
   "execution_count": 319,
   "metadata": {},
   "outputs": [
    {
     "data": {
      "text/plain": [
       "' healthy mri the purpose of this study is to assess the image quality improvement provided by a custom mr spine coil in comparison with the fda approved coil when used for radiotherapy treatment planning. a custom designed mr coil for spine radiotherapy treatment planning enrollment in this study will be open to all mskcc employees to act as healthy volunteers  provided they meet the eligibility criteria for the protocol. employees who provide consent  willfully and voluntarily may participate as a healthy volunteer once. employees who are  under direct supervision of any investigators on the study will not be eligible to  participate. an irb approved flyer with pertinent contact information will be distributed  throughout the institution to inform all mskcc employees of the possibility of  participating in this study. no preferences will be given by race or gender for the  selection of participants. probability sample  inclusion criteria:    healthy volunteers age 18 or older  exclusion criteria:    anyone who would be normally excluded from undergoing an mri examination as per  memorial hospital for cancer and allied diseases screening questionnaire    volunteers with a pacemaker, aneurysm clip or any other condition that would warrant  avoidance of a strong magnetic field    female volunteers who are pregnant or nursing    volunteers who are unable to comply or complete the mri exam due to claustrophobia or  high levels of anxiety    volunteers who are under direct supervision of any investigators on the study will not  be eligible to participate all 18 years n/a accepts healthy volunteers'"
      ]
     },
     "execution_count": 319,
     "metadata": {},
     "output_type": "execute_result"
    }
   ],
   "source": [
    "test_terms[index_to_search]"
   ]
  },
  {
   "cell_type": "markdown",
   "metadata": {},
   "source": [
    "Might want to reconsider using 'healthy' and 'volunteer' in STOPWORDS"
   ]
  },
  {
   "cell_type": "code",
   "execution_count": 286,
   "metadata": {},
   "outputs": [],
   "source": [
    "index_to_search = 244"
   ]
  },
  {
   "cell_type": "code",
   "execution_count": 287,
   "metadata": {},
   "outputs": [
    {
     "data": {
      "text/plain": [
       "['0.025*\"pd\"',\n",
       " '0.024*\"parkinson\"',\n",
       " '0.008*\"motor\"',\n",
       " '0.007*\"gait\"',\n",
       " '0.007*\"parkinson parkinson\"',\n",
       " '0.007*\"vestibular\"']"
      ]
     },
     "execution_count": 287,
     "metadata": {},
     "output_type": "execute_result"
    }
   ],
   "source": [
    "get_search_terms(index_to_search)"
   ]
  },
  {
   "cell_type": "code",
   "execution_count": 288,
   "metadata": {},
   "outputs": [
    {
     "data": {
      "text/plain": [
       "'parkinson disease parkinson`s disease parkinson disease parkinson`s disease  is a common neurodegenerative disorder affecting approximately 80,000 veterans, representing a priority area for va research. current medicines for pd only improve symptoms, treatments that slow disease progression are needed, and earlier diagnosis of pd may be the key to their development. pd symptoms can be mimicked by medicines (most commonly antipsychotic drugs that block dopamine), and some of these patients actually have underlying \"prodromal\" pd that was \"unmasked\" years before it would have caused symptoms. this problem is increasing as these medicines are now used for common conditions including post traumatic stress disorder and depression. the investigators will identify prodromal pd in patients with drug induced symptoms using brain scans. these patients will be enrolled in a randomized clinical trial of aerobic exercise which slows progression in animal models of pd and has other health benefits. the investigators will measure the effect of exercise on symptoms, disease progression (using brain scans) and markers of pd risk (using blood tests). these studies will improve early pd diagnosis and potentially identify a way to slow progression of pd. effect of exercise on recovery in drug induced parkinsonism and parkinson disease inclusion criteria:    veteran    subjects with parkinsonian signs:    rest tremor    rigidity    bradykinesia    parkinsonian signs occurring after the institution of therapy with a medication having  a known association with dip, examples include:    haloperidol    chlorpromazine    fluphenazine    perphenazine    risperidone    thioridazine    thiothixene    lithium    valproic acid    ziprasidone    olanzapine    aripiprazole    potential subjects with dip will be pre screened using a brief (12 item) scratch and  sniff smell test with hyposmic subjects invited to learn more about the study.    clinical diagnosis of h/y <=2 pd  exclusion criteria:    subjects with a known diagnosis of atypical parkinsonian syndrome, i.e.:    dementia with lewy bodies    progressive supranuclear palsy    corticobasal degeneration    multiple system atrophy)    or other neurodegenerative condition    subjects with a history of:    sinus trauma or surgery    encephalitis    current nasal congestion or other known reason for olfactory impairment    subjects with a contraindication to dati (sensitivity or allergy to iodine, treatment  with a drug with a significant effect on datscan that cannot be temporarily weaned)    subjects with known unstable cardiac, pulmonary, orthopedic or other conditions that  would preclude safe participation in exercise training    subjects currently engaging in exercise more than 45 minutes per day, 3 days per week all 40 years 89 years no'"
      ]
     },
     "execution_count": 288,
     "metadata": {},
     "output_type": "execute_result"
    }
   ],
   "source": [
    "test_terms[index_to_search]"
   ]
  },
  {
   "cell_type": "markdown",
   "metadata": {},
   "source": [
    "Also pretty good."
   ]
  },
  {
   "cell_type": "code",
   "execution_count": 289,
   "metadata": {},
   "outputs": [],
   "source": [
    "index_to_search = 1249"
   ]
  },
  {
   "cell_type": "code",
   "execution_count": 290,
   "metadata": {},
   "outputs": [
    {
     "data": {
      "text/plain": [
       "['0.013*\"surgery\"',\n",
       " '0.011*\"vitamin\"',\n",
       " '0.010*\"undergo\"',\n",
       " '0.010*\"lung\"',\n",
       " '0.008*\"anesthesia\"',\n",
       " '0.008*\"procedure\"',\n",
       " '0.006*\"level\"',\n",
       " '0.006*\"general anesthesia\"',\n",
       " '0.006*\"require\"',\n",
       " '0.006*\"volume\"',\n",
       " '0.005*\"airway\"',\n",
       " '0.005*\"surgical\"',\n",
       " '0.005*\"measurement\"',\n",
       " '0.005*\"tissue\"',\n",
       " '0.005*\"cancer\"']"
      ]
     },
     "execution_count": 290,
     "metadata": {},
     "output_type": "execute_result"
    }
   ],
   "source": [
    "get_search_terms(index_to_search)"
   ]
  },
  {
   "cell_type": "code",
   "execution_count": 291,
   "metadata": {},
   "outputs": [
    {
     "data": {
      "text/plain": [
       "'wounds and injuries critical illness trauma the aim of this study is to determine if the incidence of post operative complications can be decreased by the implementation of intra operative, minimally invasive hemodynamic monitoring  via flotrac™ and ev1000™ in trauma patients. fluid resuscitation optimization in surgical trauma patients  inclusion criteria:  1. 18 years of age or older  2. injury severity score > 15 (indicator of anticipated trauma mortality)  3. admission to surgical trauma icu   4. anticipated surgery within 72 hours of admission  5. american society of anesthesiology patient classification status  2 5  6. lactic acid > 2.5 within 24 hours of surgical procedure or base deficit ≥   5 mmol/l,  or persistent requirement for vasopressor support within 24 hours of surgical  procedure  7. patient requires mechanical ventilation prior to consenting surgery  8. vascular devices that include a minimum of an arterial line  9. minimally invasive hemodynamic monitoring initiated prior to first surgical procedure  unless patient is taken emergently, e.g. or from trauma bay  10. patients requiring emergent initial operative procedures will be eligible for  consenting if above criteria are met prior to their second surgical procedure  11. anticipated operative procedure precipitating evaluation and/or consenting for study  must be > 30 minutes in duration    procedures < 30 minutes would not result in significant metabolic stress   necessitating a continuation of mihm  exclusion criteria:  1. pregnancy  2. exclusions due to limitations with respect to accuracy of mihm:    patients not intubated prior to surgical procedure    patients requiring an open thoracotomy    patients with known history of surgical intervention for peripheral vascular   disease    patients with pre existing atrial arrhythmias    patients who are on cardiopulmonary bypass  3. isolated acute cerebral injury and/or traumatic cerebral injury    hemodynamic management in this patient population does not always follow   typical/standard endpoints due to nuances of managing intracranial pressures  4. cardiac arrest prior to enrollment  5. patients with pre existing, dialysis dependent, renal failure upon admission    hemodynamic management in this patient population does not always follow   typical/standard endpoints due to nuances of managing renal failure  6. patients with pre existing cirrhosis    hepatic failure results in abnormal clearance of lactic acid  7. patients with no survival injuries, e.g. gunshot wound to the head all 18 years n/a no'"
      ]
     },
     "execution_count": 291,
     "metadata": {},
     "output_type": "execute_result"
    }
   ],
   "source": [
    "test_terms[index_to_search]"
   ]
  },
  {
   "cell_type": "markdown",
   "metadata": {},
   "source": [
    "Misses 'trauma', the major topic. It's going to need to be more consistent. \n",
    "\n",
    "I've requested access to a huge corpus of medical text from anonomized discharge notes as our set is relatively small. I'll also move over to sagemaker as it's getting really slow locally already."
   ]
  },
  {
   "cell_type": "markdown",
   "metadata": {},
   "source": [
    "One more..."
   ]
  },
  {
   "cell_type": "code",
   "execution_count": 304,
   "metadata": {},
   "outputs": [],
   "source": [
    "index_to_search = 2255"
   ]
  },
  {
   "cell_type": "code",
   "execution_count": 305,
   "metadata": {},
   "outputs": [
    {
     "data": {
      "text/plain": [
       "['0.037*\"leukemia\"',\n",
       " '0.013*\"aml\"',\n",
       " '0.012*\"relapse\"',\n",
       " '0.010*\"acute myeloid\"',\n",
       " '0.009*\"high\"',\n",
       " '0.009*\"bone marrow\"',\n",
       " '0.008*\"define\"',\n",
       " '0.008*\"cell\"',\n",
       " '0.008*\"receive\"',\n",
       " '0.007*\"chemotherapy\"',\n",
       " '0.007*\"syndrome\"',\n",
       " '0.007*\"enrollment\"',\n",
       " '0.005*\"relapse refractory\"',\n",
       " '0.005*\"myelodysplastic syndrome\"',\n",
       " '0.005*\"stem cell\"',\n",
       " '0.005*\"remission\"',\n",
       " '0.005*\"blast\"',\n",
       " '0.005*\"acute lymphoblastic\"',\n",
       " '0.005*\"mds\"',\n",
       " '0.005*\"infection\"']"
      ]
     },
     "execution_count": 305,
     "metadata": {},
     "output_type": "execute_result"
    }
   ],
   "source": [
    "get_search_terms(index_to_search)"
   ]
  },
  {
   "cell_type": "code",
   "execution_count": 306,
   "metadata": {},
   "outputs": [
    {
     "data": {
      "text/plain": [
       "'leukemia leukemia, myelogenous, chronic leukemia, myelogenous, chronic the purpose of this study is to show that myeloablative hematopoietic progenitor cell transplantation  continues to offer acceptable disease free survival for select patients requiring hpct. myeloablative hematopoietic progenitor cell transplantation  for pediatric malignancies inclusion criteria:    malignant disease    chronic myleogenous leukemia in chronic or accelerated phase    acute lymphoblastic leukemia      first remission high risk all (ph+, t( 4 11) infants).     second remission all, after a short first remission (<36 mos from dx).     3rd or greater remission all.    acute myelogenous leukemia      first remission high risk acute nonlymphoblastic  (as defined by   cytogenetics), if a matched sibling donor is available.     initial partial remission aml (<20 percent blasts in the bone marrow).     aml that is refractory to two cycles of induction therapy.     second or greater remission aml    myelodysplastic/myeloproliferative disease     juvenile myelomonocytic leukemia      myelosplastic syndrome and/or pre leukemia at any stage    lymphoma     relapsed lymphoma with residual disease that appears to be chemo sensitive   and non bulky (<5 cm at largest diameter)    venous access: three lumens of central vascular access will be required for all  patients entered on protocol due to the need for a dedicated line for continuous  infusion cyclosporine.    informed consent: the patient and/or the patient`s legally authorized guardian must  acknowledge in writing that consent to become a study subject has been obtained in  accordance with the institutional policies approved by the u.s. department of health  and human services.    patient organ function requirements:    adequate renal function: serum creatinine <~1.5 x normal, or creatinine clearance   of 70 ml/min/1.73 me2 or an equivalent gfr as determined by the institutional   normal range    adequate liver function: total bilirubin <1.5 x normal; and sgot  or sgpt    <~2.5 x normal    adequate cardiac function: shortening fraction of >/=27 percent by echocardiogram    adequate pulmonary function: fev1/fvc >/=60 percent by pulmonary function test; for   children who are uncooperative, no evidence of dysnpea at rest, or exercise   intolerance, and must have a pulse oximetry >94 percent in room air    performance status: lansky for children </= 16 years >/= 60; karnofsky status for  those > 16 years of age >/= 70    effective contraceptive use: women of childbearing potential and sexually active males  should use effective contraception while on study.  exclusion criteria:    patients who are pregnant or lactating    inability to find a suitable donor for the patient    patient is hiv positive    patient has active hepatitis b    disease progression or relapse prior to hpc infusion all n/a 21 years no'"
      ]
     },
     "execution_count": 306,
     "metadata": {},
     "output_type": "execute_result"
    }
   ],
   "source": [
    "test_terms[index_to_search]"
   ]
  },
  {
   "cell_type": "code",
   "execution_count": null,
   "metadata": {},
   "outputs": [],
   "source": []
  }
 ],
 "metadata": {
  "kernelspec": {
   "display_name": "unit4 (Python 3.7)",
   "language": "python",
   "name": "unit4"
  },
  "language_info": {
   "codemirror_mode": {
    "name": "ipython",
    "version": 3
   },
   "file_extension": ".py",
   "mimetype": "text/x-python",
   "name": "python",
   "nbconvert_exporter": "python",
   "pygments_lexer": "ipython3",
   "version": "3.7.3"
  },
  "pycharm": {
   "stem_cell": {
    "cell_type": "raw",
    "metadata": {
     "collapsed": false
    },
    "source": []
   }
  }
 },
 "nbformat": 4,
 "nbformat_minor": 4
}
