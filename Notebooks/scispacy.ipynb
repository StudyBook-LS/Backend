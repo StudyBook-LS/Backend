{
 "cells": [
  {
   "cell_type": "markdown",
   "metadata": {},
   "source": [
    "Study categorization with scispacy"
   ]
  },
  {
   "cell_type": "code",
   "execution_count": 1,
   "metadata": {
    "collapsed": true,
    "jupyter": {
     "outputs_hidden": true
    },
    "pycharm": {
     "is_executing": false,
     "name": "#%%\n"
    }
   },
   "outputs": [
    {
     "name": "stderr",
     "output_type": "stream",
     "text": [
      "/Users/lambda_school_loaner_153/anaconda3/envs/unit4/lib/python3.7/site-packages/sklearn/base.py:306: UserWarning: Trying to unpickle estimator TfidfTransformer from version 0.20.3 when using version 0.21.3. This might lead to breaking code or invalid results. Use at your own risk.\n",
      "  UserWarning)\n",
      "/Users/lambda_school_loaner_153/anaconda3/envs/unit4/lib/python3.7/site-packages/sklearn/base.py:306: UserWarning: Trying to unpickle estimator TfidfVectorizer from version 0.20.3 when using version 0.21.3. This might lead to breaking code or invalid results. Use at your own risk.\n",
      "  UserWarning)\n"
     ]
    }
   ],
   "source": [
    "import csv\n",
    "import gensim\n",
    "import multiprocessing\n",
    "import numpy as np\n",
    "import os\n",
    "import pandas as pd\n",
    "import re\n",
    "import spacy\n",
    "import scispacy\n",
    "import sys\n",
    "\n",
    "from gensim import corpora\n",
    "from gensim.models.phrases import Phrases, Phraser\n",
    "from gensim.models.ldamulticore import LdaMulticore\n",
    "from gensim.models.coherencemodel import CoherenceModel\n",
    "from gensim.parsing.preprocessing import STOPWORDS\n",
    "from gensim.utils import simple_preprocess\n",
    "from multiprocessing import Pool\n",
    "from scispacy.abbreviation import AbbreviationDetector\n",
    "from scispacy.umls_linking import UmlsEntityLinker\n"
   ]
  },
  {
   "cell_type": "code",
   "execution_count": null,
   "metadata": {},
   "outputs": [],
   "source": [
    "nlp = spacy.load(\"en_core_sci_lg\")\n",
    "\n",
    "abbreviation_pipe = AbbreviationDetector(nlp)\n",
    "nlp.add_pipe(abbreviation_pipe)\n",
    "\n",
    "linker = UmlsEntityLinker(resolve_abbreviations=True,\n",
    "                         k=10,\n",
    "                         max_entities_per_mention=3)\n",
    "nlp.add_pipe(linker)"
   ]
  },
  {
   "cell_type": "markdown",
   "metadata": {},
   "source": [
    "Add a ton of stopwords relating to procedural things to make room for the medical conditions we're looking to classify."
   ]
  },
  {
   "cell_type": "code",
   "execution_count": 28,
   "metadata": {
    "collapsed": false,
    "jupyter": {
     "outputs_hidden": false
    },
    "pycharm": {
     "is_executing": false,
     "name": "#%%\n"
    }
   },
   "outputs": [],
   "source": [
    "STOPWORDS = set(STOPWORDS).union(set(['patient', 'patients', 'study', 'disease',\n",
    "                                      'treatment', 'randomized', 'statistical', \n",
    "                                      'analysis', 'group', 'trial', 'clinical', \n",
    "                                      'controlled', 'safety', 'associated', 'risk', \n",
    "                                      'intervention', 'care', 'health', 'therapy', \n",
    "                                      'participants', 'method', 'monitor', 'studies',\n",
    "                                      'cohorts', 'percent', 'prospective', 'efficacy', \n",
    "                                      'days', 'months', 'evaluate', 'subjects', \n",
    "                                      'data', 'outcomes', 'research', 'function', \n",
    "                                      'effects', 'investigators', 'use', 'population', \n",
    "                                      'compared', 'quality', 'results', 'improve',\n",
    "                                      'term', 'groups', 'weeks', 'week', 'groups', \n",
    "                                      'test', 'control', 'time', 'period', 'placebo', \n",
    "                                      'stimulation', 'symptoms', 'mortality', 'failure',\n",
    "                                      'non', 'interventional', 'observational', 'assess', \n",
    "                                      'relative', 'positive', 'develop', 'signs', \n",
    "                                      'enrolled', 'randomly', 'assigned', 'ratio', \n",
    "                                      'stratified', 'multicenter', 'open', 'phase', \n",
    "                                      'stage', 'iiib', 'eligible', 'criteria', \n",
    "                                      'inclusion', 'exclustion', 'year', 'years',\n",
    "                                      'before', 'after', 'therapy', 'therapies',\n",
    "                                      'interventions', 'controlling', 'terms', 'risks',\n",
    "                                      'enroll', 'studies', 'diseases', 'enrolling',\n",
    "                                      'evaluating', 'evaluated', 'evaluates', 'effect',\n",
    "                                      'invesetigate', 'investigator', 'investigation',\n",
    "                                      'investigations', 'studying', 'eligibility', \"dose\", \n",
    "                                      \"screening\", \"history\", \"drug\", \"active\", \"including\",\n",
    "                                      \"significant\", \"day\", 'days', \"potential\", \"female\", \n",
    "                                      \"mg\", \"hepatitis\", \"investigational\", 'prior', 'known',\n",
    "                                      'clinically', 'clincal', 'clinic', 'period', 'following',\n",
    "                                      'subject', 'visit', 'subjects', 'willing', \n",
    "                                      'participation', 'lab', 'laboratory', 'medical',\n",
    "                                      'response', 'diagnosis', 'stages', 'staged',\n",
    "                                      'diagnoses', 'treat', 'treats', 'treated', 'program',\n",
    "                                      'self', 'based', 'life', 'participate', 'english',\n",
    "                                      'participates', 'able', 'community', 'support',\n",
    "                                      'ability', 'coummunities', 'supports', 'supported',\n",
    "                                      'consent', 'age', 'informed', 'consents', 'consented',\n",
    "                                      'provide', 'provided', 'condition', 'conditions',\n",
    "                                      'conditioned', 'compliance', 'enrollment',\n",
    "                                      'accept', 'accepted', 'accepting', 'enrolment',\n",
    "                                      'accepts', 'current', 'currently', 'controlled',\n",
    "                                      'uncontrolled', 'status', 'recieved', 'times', \n",
    "                                      'limit', 'count', 'disorder', 'disorders', 'follow',\n",
    "                                      'follows', 'followed', 'participant', 'related',\n",
    "                                      'probability', 'probabilities', 'sample', 'samples',\n",
    "                                      'practice', 'individual', 'individuals', \n",
    "                                      'individually', 'specific', 'specify', 'prevalence', \n",
    "                                      'limited', 'procedure', 'procedures', 'write',\n",
    "                                      'obtain', 'practice', 'practices', 'practicing',\n",
    "                                      'diagnostic', 'mg', 'mcg', 'ml', 'qday', 'tid',\n",
    "                                      'qid', 'bid', 'po', 'pr', 'ac', 'prn', 'am', 'pm',\n",
    "                                      'market', 'receive', 'received', 'receives', \n",
    "                                      'require', 'requires', 'required', 'start', 'end',\n",
    "                                      'starts', 'ends', 'starting', 'ending', 'allow',\n",
    "                                      'allows', 'allowed', 'define', 'defines', 'defined',\n",
    "                                      'evaluation', 'ongoing', 'examination', 'evaluations',\n",
    "                                      'examinations', 'evidence', 'upper','lower', 'normal',\n",
    "                                      'people', 'person', 'exclusion', 'hour', 'hours', 'hr',\n",
    "                                      'hrs', 'min', 'minute', 'minutes', 'include', 'equal',\n",
    "                                      'equals', 'double', 'undergo', 'level', 'dl', \n",
    "                                      'diagnose', 'increase', 'increases', 'decrease', \n",
    "                                      'decreases', 'facility' 'implementation', 'center',\n",
    "                                      'training', 'provider', 'providers', 'centers',\n",
    "                                      'facilities', 'trainings', 'previous', 'assess',\n",
    "                                      'assesses', 'assessment', 'assessments', 'assessing',\n",
    "                                      'cause', 'service', 'services', 'project', 'projects',\n",
    "                                      'identify', 'live', 'design', 'designs', 'survey',\n",
    "                                      'surveys', 'surveying', 'implementation', \n",
    "                                      'implementations', 'research', 'decision', 'improve',\n",
    "                                      'investigate', 'information', 'conclusion', 'qualify',\n",
    "                                      'quantify', 'researcher', 'researching', 'outcome',\n",
    "                                      'prognosis', 'positively', 'objective', 'compare',\n",
    "                                      'randomize', 'induce', 'treatment', 'change', 'lab',\n",
    "                                      'laboratory', 'changes', 'labs', 'laboratories',\n",
    "                                      'clinical trial'\n",
    "                                      ]))\n"
   ]
  },
  {
   "cell_type": "code",
   "execution_count": 29,
   "metadata": {
    "collapsed": false,
    "jupyter": {
     "outputs_hidden": false
    },
    "pycharm": {
     "is_executing": false,
     "name": "#%%\n"
    }
   },
   "outputs": [],
   "source": [
    "def replace_csv_missing(row):\n",
    "    text = (row[0] + ' ' +  # 'brief_title'\n",
    "            row[1] + ' ' +  # 'condition'\n",
    "            row[2] + ' ' +  # 'brief_summary'\n",
    "            row[3] + ' ' +  # 'keyword'\n",
    "#             row[4][:500] + ' ' +  # 'eligibility' Keep first 500, tends to be exclusion criteria if it's very long.\n",
    "#             row[5] + ' ' +   # 'official_title\n",
    "            row[6] + ' ' +   # 'official_title\n",
    "            row[7] + ' ' +   # 'official_title\n",
    "            row[8]  # 'official_title\n",
    "           )\n",
    "    new = re.sub('missing', '', text)\n",
    "    new = re.sub('-', ' ', new)\n",
    "    new = re.sub('\\(\\S*\\)', ' ', new)\n",
    "    new = re.sub(' \\s+', ' ', new)\n",
    "    return u\"{}\".format(new)"
   ]
  },
  {
   "cell_type": "code",
   "execution_count": 30,
   "metadata": {},
   "outputs": [],
   "source": [
    "def import_csv_files(file):\n",
    "    all_rows = []\n",
    "    with open(file, 'r') as csvinfile:\n",
    "        csv_reader = csv.reader(csvinfile, delimiter=',')\n",
    "        for row in csv_reader:\n",
    "            all_rows.append(row)\n",
    "    pool = Pool(processes=multiprocessing.cpu_count())\n",
    "    with pool as p:\n",
    "        transformed_rows = p.map(replace_csv_missing, all_rows)\n",
    "    return transformed_rows\n",
    "    "
   ]
  },
  {
   "cell_type": "markdown",
   "metadata": {},
   "source": [
    "Import data."
   ]
  },
  {
   "cell_type": "code",
   "execution_count": 31,
   "metadata": {},
   "outputs": [],
   "source": [
    "search_terms = import_csv_files('../all_trials_text.csv')[1:]  # Discard header row."
   ]
  },
  {
   "cell_type": "code",
   "execution_count": 32,
   "metadata": {},
   "outputs": [
    {
     "data": {
      "text/plain": [
       "316684"
      ]
     },
     "execution_count": 32,
     "metadata": {},
     "output_type": "execute_result"
    }
   ],
   "source": [
    "len(search_terms)"
   ]
  },
  {
   "cell_type": "code",
   "execution_count": 33,
   "metadata": {},
   "outputs": [
    {
     "data": {
      "text/plain": [
       "' The goal of this clinical research study is to learn if olaparib, when given after treatment with cabazitaxel, carboplatin, and prednisone, can help to control aggressive variant prostate cancer . The safety of these drugs will also be studied. This is an investigational study. Cabazitaxel and carboplatin are FDA approved and commercially available for the treatment of certain types of prostate cancer. Prednisone is FDA approved and commercially available as a corticosteroid. Olaparib is FDA approved and commercially available for the treatment of certain types of ovarian cancer. The combination of cabazitaxel and carboplatin followed by olaparib in this study is investigational. The study doctor can describe how the study drugs are designed to work. Up to 96 participants will be enrolled on this study. All will take part at MD Anderson. Study of Olaparib Maintenance Following Cabazitaxel Carbo in Men With AVPC Prostate Cancer Aggressiveness Carcinoma Prostatic Neoplasms prostate cancer Carcinoma Randomized Phase II Study of Olaparib Maintenance Following Cabazitaxel Carboplatin Induction Chemotherapy in Men With Aggressive Variant Prostate Cancer '"
      ]
     },
     "execution_count": 33,
     "metadata": {},
     "output_type": "execute_result"
    }
   ],
   "source": [
    "search_terms[8]"
   ]
  },
  {
   "cell_type": "code",
   "execution_count": 34,
   "metadata": {},
   "outputs": [],
   "source": [
    "doc = nlp(search_terms[8])"
   ]
  },
  {
   "cell_type": "code",
   "execution_count": 35,
   "metadata": {},
   "outputs": [
    {
     "data": {
      "text/plain": [
       "aggressive"
      ]
     },
     "execution_count": 35,
     "metadata": {},
     "output_type": "execute_result"
    }
   ],
   "source": [
    "entity = doc.ents[8]\n",
    "entity"
   ]
  },
  {
   "cell_type": "code",
   "execution_count": 36,
   "metadata": {},
   "outputs": [
    {
     "name": "stdout",
     "output_type": "stream",
     "text": [
      "CUI: C0580822, Name: Aggressive course\n",
      "Definition: In medicine, describes a tumor or disease that forms, grows, or spreads quickly. It may also describe treatment that is more severe or intense than usual.\n",
      "TUI(s): T079\n",
      "Aliases: (total: 2): \n",
      "\t Aggressive, aggressive\n",
      "CUI: C1547300, Name: Precaution Code - Aggressive\n",
      "Definition: None\n",
      "TUI(s): T170\n",
      "Aliases: (total: 1): \n",
      "\t Aggressive\n",
      "CUI: C1548760, Name: Risk Codes - Aggressive\n",
      "Definition: None\n",
      "TUI(s): T170\n",
      "Aliases: (total: 1): \n",
      "\t Aggressive\n"
     ]
    }
   ],
   "source": [
    "# for entity in doc.ents:\n",
    "for ent in entity._.umls_ents:\n",
    "    print(linker.umls.cui_to_entity[ent[0]])"
   ]
  },
  {
   "cell_type": "code",
   "execution_count": 37,
   "metadata": {},
   "outputs": [],
   "source": [
    "def get_search_terms(index):\n",
    "    doc = nlp(search_terms[index])\n",
    "    terms = pd.Series([text.lemma_.lower() for text in doc.ents if text.lemma_.lower() not in STOPWORDS]).value_counts(normalize=True)\n",
    "    terms_ = pd.DataFrame({'terms': terms.index,\n",
    "                           'probs': np.round(terms.values, 4)})\n",
    "    print(search_terms[index])\n",
    "    return list(terms_.itertuples(index=False, name=None))"
   ]
  },
  {
   "cell_type": "code",
   "execution_count": 38,
   "metadata": {},
   "outputs": [
    {
     "name": "stdout",
     "output_type": "stream",
     "text": [
      " Electromagnetic field versus diclofenac drugs on primary dysmenorrhea: Arandomized controlled trial in the Egyptian women Electromagnetic Field Versus Diclofenac Drugs on Primary Dysmenorrhea Electromagnetic Field Dysmenorrhea Dysmenorrhea Dysmenorrhea Electromagnetic Field Versus Diclofenac Drugs on Primary Dysmenorrhea: Arandomized Controlled Trial in the Egyptian Women\n"
     ]
    },
    {
     "data": {
      "text/plain": [
       "[('primary dysmenorrhea', 0.2),\n",
       " ('electromagnetic field', 0.2),\n",
       " ('diclofenac drugs', 0.1333),\n",
       " ('arandomized controlled trial', 0.1333),\n",
       " ('electromagnetic field dysmenorrhea dysmenorrhea dysmenorrhea', 0.0667),\n",
       " ('women', 0.0667),\n",
       " ('diclofenac', 0.0667),\n",
       " ('egyptian', 0.0667),\n",
       " ('egyptian woman', 0.0667)]"
      ]
     },
     "execution_count": 38,
     "metadata": {},
     "output_type": "execute_result"
    }
   ],
   "source": [
    "get_search_terms(20)"
   ]
  },
  {
   "cell_type": "code",
   "execution_count": 39,
   "metadata": {},
   "outputs": [
    {
     "name": "stdout",
     "output_type": "stream",
     "text": [
      " A split mouth design study will be performed regarding the use of platelet concentrates on ridge preservation: L PRF vs A PRF vs control. Patient needing multiple teeth extractions in the upper jaw (single rooted teeth) will be recruited. The use of each platelet concentrate or control will be randomized by means of a computer program. The results will be analysed clinical and radiographically . When the subject will choose for implant rehabilitation, a biopsy will be taken in the site of the preserved sockets. The region will be localized with a customized stent, fabricated with the position of the extracted teeth. VAS scales will be provided to evaluate the post operative discomfort. Effect of L PRF and A PRF in Ridge Preservation Atrophic Maxilla Atrophy leucocyte and platelet rich fibrin Atrophy The Use of L PRF and A PRF in Ridge Preservation: a Randomized Controlled Clinical Trial\n"
     ]
    },
    {
     "data": {
      "text/plain": [
       "[('prf', 0.1053),\n",
       " ('l prf', 0.0526),\n",
       " ('platelet concentrate', 0.0526),\n",
       " ('ridge preservation', 0.0526),\n",
       " ('single rooted tooth', 0.0263),\n",
       " ('radiographically', 0.0263),\n",
       " ('atrophic maxilla', 0.0263),\n",
       " ('customize', 0.0263),\n",
       " ('position', 0.0263),\n",
       " ('vas', 0.0263),\n",
       " ('post', 0.0263),\n",
       " ('tooth', 0.0263),\n",
       " ('platelet rich fibrin', 0.0263),\n",
       " ('socket', 0.0263),\n",
       " ('fabricate', 0.0263),\n",
       " ('biopsy', 0.0263),\n",
       " ('localized', 0.0263),\n",
       " ('site', 0.0263),\n",
       " ('multiple tooth', 0.0263),\n",
       " ('ridge', 0.0263),\n",
       " ('region', 0.0263),\n",
       " ('implant rehabilitation', 0.0263),\n",
       " ('atrophy', 0.0263),\n",
       " ('upper jaw', 0.0263),\n",
       " ('split mouth design', 0.0263),\n",
       " ('leucocyte', 0.0263),\n",
       " ('l', 0.0263),\n",
       " ('stent', 0.0263),\n",
       " ('result', 0.0263),\n",
       " ('randomized controlled clinical trial', 0.0263),\n",
       " ('analyse', 0.0263),\n",
       " ('computer program', 0.0263)]"
      ]
     },
     "execution_count": 39,
     "metadata": {},
     "output_type": "execute_result"
    }
   ],
   "source": [
    "get_search_terms(15)"
   ]
  },
  {
   "cell_type": "code",
   "execution_count": 40,
   "metadata": {},
   "outputs": [
    {
     "name": "stdout",
     "output_type": "stream",
     "text": [
      " This clinical trial will evaluate safety, immunogenicity, and efficacy (prevention of Mtb infection as measured by IGRA conversions) of H56:IC31 in remotely BCG vaccinated adolescents. A Phase II Study of H56:IC31 in Healthy Adolescents Tuberculosis Infection Infection Tuberculosis Latent Tuberculosis Infection A Randomized, Placebo Controlled, Double Blind Phase II Study to Evaluate Safety, Immunogenicity, and Prevention of Infection With Mycobacterium Tuberculosis of H56:IC31 in Healthy Adolescents\n"
     ]
    },
    {
     "data": {
      "text/plain": [
       "[('h56:ic31', 0.1304),\n",
       " ('prevention', 0.087),\n",
       " ('healthy', 0.087),\n",
       " ('infection', 0.087),\n",
       " ('adolescent', 0.087),\n",
       " ('immunogenicity', 0.087),\n",
       " ('mtb infection', 0.0435),\n",
       " ('evaluate safety', 0.0435),\n",
       " ('igra', 0.0435),\n",
       " ('mycobacterium tuberculosis', 0.0435),\n",
       " ('remotely bcg', 0.0435),\n",
       " ('conversion', 0.0435),\n",
       " ('phase ii study', 0.0435),\n",
       " ('vaccinated', 0.0435),\n",
       " ('double blind phase ii study', 0.0435),\n",
       " ('latent tuberculosis', 0.0435)]"
      ]
     },
     "execution_count": 40,
     "metadata": {},
     "output_type": "execute_result"
    }
   ],
   "source": [
    "get_search_terms(11)"
   ]
  },
  {
   "cell_type": "code",
   "execution_count": 41,
   "metadata": {},
   "outputs": [
    {
     "name": "stdout",
     "output_type": "stream",
     "text": [
      " This study evaluates the utility and reliability of Somnocheck micro Weinmann for obstructive sleep apnea syndrome screening in patients affected by resistant systemic arterial hypertension. Results are compared with a modified portable sleep apnea testing (type III portable monitoring: Somnocheck 2 Weinmann). Screening of Obstructive Sleep Apnea Syndrome in Patients With Resistant Systemic Arterial Hypertension: Pilot Study Sleep Apnea, Obstructive Apnea Sleep Apnea Syndromes Sleep Apnea, Obstructive Hypertension Apnea Screening of Obstructive Sleep Apnea Syndrome in Patients With Resistant Systemic Arterial Hypertension: Pilot Study\n"
     ]
    },
    {
     "data": {
      "text/plain": [
       "[('resistant', 0.1304),\n",
       " ('obstructive sleep apnea syndrome', 0.1304),\n",
       " ('systemic', 0.1304),\n",
       " ('utility', 0.0435),\n",
       " ('somnocheck micro', 0.0435),\n",
       " ('affect', 0.0435),\n",
       " ('screen', 0.0435),\n",
       " ('modify', 0.0435),\n",
       " ('obstructive apnea sleep apnea syndromes sleep apnea', 0.0435),\n",
       " ('pilot study', 0.0435),\n",
       " ('pilot study sleep apnea', 0.0435),\n",
       " ('arterial hypertension', 0.0435),\n",
       " ('obstructive hypertension', 0.0435),\n",
       " ('somnocheck 2 weinmann', 0.0435),\n",
       " ('type iii portable', 0.0435),\n",
       " ('reliability', 0.0435),\n",
       " ('apnea screening', 0.0435)]"
      ]
     },
     "execution_count": 41,
     "metadata": {},
     "output_type": "execute_result"
    }
   ],
   "source": [
    "get_search_terms(23455)"
   ]
  },
  {
   "cell_type": "code",
   "execution_count": 42,
   "metadata": {},
   "outputs": [
    {
     "name": "stdout",
     "output_type": "stream",
     "text": [
      " To test the hypothesis that nebulized Pulmicort Respules could reduce post operation pulmonary complication incidence in primary lung cancer patients with COPD. Compare post operation pulmonary complication incidence in two treatment arms among primary lung cancer patients with COPD required single lobectomy from 3days before operation to 7 days after operation. Efficacy of Nebulized Pulmicort Respules in Primary Lung Cancer Patients With COPD Post Operative Complication, Pulmonary Lung Neoplasms Postoperative Complications primary lung cancer patients Lung Neoplasms Efficacy of Nebulized Pulmicort Respules on Post Operation Pulmonary Complication During Pulmonary Single Lobectomy Surgery in Primary Lung Cancer Patients With COPD\n"
     ]
    },
    {
     "data": {
      "text/plain": [
       "[('copd', 0.1111),\n",
       " ('primary lung cancer', 0.1111),\n",
       " ('post', 0.1111),\n",
       " ('operation', 0.0833),\n",
       " ('pulmonary complication', 0.0833),\n",
       " ('respules', 0.0833),\n",
       " ('nebulized pulmicort', 0.0556),\n",
       " ('incidence', 0.0556),\n",
       " ('pulmonary single lobectomy surgery', 0.0278),\n",
       " ('reduce', 0.0278),\n",
       " ('nebulize', 0.0278),\n",
       " ('single lobectomy', 0.0278),\n",
       " ('pulmonary lung neoplasms', 0.0278),\n",
       " ('postoperative', 0.0278),\n",
       " ('lung neoplasm', 0.0278),\n",
       " ('complications', 0.0278),\n",
       " ('pulmicort', 0.0278),\n",
       " ('hypothesis', 0.0278),\n",
       " ('operative complication', 0.0278)]"
      ]
     },
     "execution_count": 42,
     "metadata": {},
     "output_type": "execute_result"
    }
   ],
   "source": [
    "get_search_terms(31984)"
   ]
  },
  {
   "cell_type": "code",
   "execution_count": null,
   "metadata": {},
   "outputs": [],
   "source": []
  }
 ],
 "metadata": {
  "kernelspec": {
   "display_name": "unit4 (Python 3.7)",
   "language": "python",
   "name": "unit4"
  },
  "language_info": {
   "codemirror_mode": {
    "name": "ipython",
    "version": 3
   },
   "file_extension": ".py",
   "mimetype": "text/x-python",
   "name": "python",
   "nbconvert_exporter": "python",
   "pygments_lexer": "ipython3",
   "version": "3.7.3"
  }
 },
 "nbformat": 4,
 "nbformat_minor": 4
}
