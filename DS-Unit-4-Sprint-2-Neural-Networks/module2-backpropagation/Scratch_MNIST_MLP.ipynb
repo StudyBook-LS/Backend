{
 "cells": [
  {
   "cell_type": "code",
   "execution_count": null,
   "metadata": {},
   "outputs": [],
   "source": []
  },
  {
   "cell_type": "code",
   "execution_count": 1,
   "metadata": {
    "colab": {},
    "colab_type": "code",
    "id": "5MOPtYdk1HgA"
   },
   "outputs": [],
   "source": [
    "import matplotlib\n",
    "import matplotlib.pyplot as plt\n",
    "import numpy as np\n",
    "import seaborn as sns\n",
    "from sklearn.metrics import classification_report, confusion_matrix\n",
    "from sklearn.datasets import fetch_openml\n"
   ]
  },
  {
   "cell_type": "code",
   "execution_count": 2,
   "metadata": {},
   "outputs": [],
   "source": [
    "X, y = fetch_openml('mnist_784', version=1, return_X_y=True)\n",
    "X = X / 255\n"
   ]
  },
  {
   "cell_type": "code",
   "execution_count": 3,
   "metadata": {},
   "outputs": [
    {
     "data": {
      "text/plain": [
       "((784, 60000), (784, 10000), (10, 60000), (10, 10000))"
      ]
     },
     "execution_count": 3,
     "metadata": {},
     "output_type": "execute_result"
    }
   ],
   "source": [
    "digits = 10\n",
    "examples = y.shape[0]\n",
    "\n",
    "y = y.reshape(1, examples)\n",
    "\n",
    "Y_new = np.eye(digits)[y.astype('int32')]\n",
    "Y_new = Y_new.T.reshape(digits, examples)\n",
    "\n",
    "m = 60000\n",
    "m_test = X.shape[0] - m\n",
    "\n",
    "X_train, X_test = X[:m].T, X[m:].T\n",
    "Y_train, Y_test = Y_new[:, :m], Y_new[:, m:]\n",
    "\n",
    "shuffle_index = np.random.permutation(m)\n",
    "X_train, Y_train = X_train[:, shuffle_index], Y_train[:, shuffle_index]\n",
    "X_train.shape, X_test.shape, Y_train.shape, Y_test.shape"
   ]
  },
  {
   "cell_type": "code",
   "execution_count": 4,
   "metadata": {},
   "outputs": [],
   "source": [
    "def show(image, label):\n",
    "    plt.imshow(image.reshape(28, 28), cmap = matplotlib.cm.binary)\n",
    "    plt.axis('off')\n",
    "    plt.show()\n",
    "    print(label)"
   ]
  },
  {
   "cell_type": "code",
   "execution_count": 5,
   "metadata": {},
   "outputs": [
    {
     "data": {
      "image/png": "[encoded data removed]",
      "text/plain": [
       "<Figure size 432x288 with 1 Axes>"
      ]
     },
     "metadata": {
      "needs_background": "light"
     },
     "output_type": "display_data"
    },
    {
     "name": "stdout",
     "output_type": "stream",
     "text": [
      "[0. 0. 1. 0. 0. 0. 0. 0. 0. 0.]\n"
     ]
    }
   ],
   "source": [
    "i = 12\n",
    "show(X_train[:,i].reshape(1, -1), Y_train[:,i])"
   ]
  },
  {
   "cell_type": "code",
   "execution_count": 6,
   "metadata": {},
   "outputs": [],
   "source": [
    "class NNImage(object):\n",
    "    \"\"\"Classifier for the classic MNIST handwritten numbers dataset.\n",
    "    \n",
    "    Instantiate an instance with desired hyperparameters:    \n",
    "    model = NNImage(batch_size=32)\n",
    "    \n",
    "    X must be an array of flattened 28x28 pixel 8bit grayscale images.\n",
    "    \n",
    "    y must be an array of integer labels.\n",
    "    \n",
    "    Train model by calling model.fit(X, y)\n",
    "    \n",
    "    Call model.predict(X) to get a prediction on a new image.\n",
    "    \n",
    "    Call model.plot() to plot loss per epoch.\n",
    "    \n",
    "    :param epochs: int Number of training iterations Default = 2000\n",
    "    :param batch_size: int Number of training examples per training iteration\n",
    "        Default = None == full dataset is run per each trainint iteratin.\n",
    "    :param learning_rate: float Step size to adjust weights and biases per iteration.\n",
    "    :param n_hidden: int Number of nodes in hidden layer. Default = 128\n",
    "    \n",
    "    \n",
    "    \"\"\"\n",
    "    def __init__(self, epochs=1000, batch_size=None, learning_rate=1, n_hidden=128):\n",
    "        self.lr = learning_rate\n",
    "        self.epochs = epochs\n",
    "        self.m = None\n",
    "        self.batch_size = batch_size\n",
    "        self.losses = []\n",
    "        \n",
    "        # Initialize hidden layer.\n",
    "        self.hidden_weight = np.random.randn(n_hidden, 784)\n",
    "        self.hidden_bias = np.zeros((n_hidden, 1))\n",
    "        \n",
    "        # Initialize ouput layer.\n",
    "        self.output_weight = np.random.randn(10, n_hidden)\n",
    "        self.output_bias = np.zeros((10, 1))\n",
    "        \n",
    "    \n",
    "    def sigmoid(self, x):\n",
    "        \"\"\"Sigmoid activation fuction\"\"\"\n",
    "        \n",
    "        return 1 / (1 + np.exp(-x))\n",
    "\n",
    "    def loss(self, y, yhat):\n",
    "        \"\"\"Multiclass loss.\"\"\"\n",
    "        \n",
    "        # Sum the log loss.\n",
    "        loss_sum = np.sum(np.multiply(y, np.log(yhat)))\n",
    "        # And average over all training examples.\n",
    "        m = y.shape[1]\n",
    "        return -(1 / m) * loss_sum\n",
    "    \n",
    "    def fit(self, X, y):\n",
    "        \"\"\"Train the model\"\"\"\n",
    "        \n",
    "        for i in range(1, self.epochs + 1):\n",
    "            # Generate random subset if batch_size specified.\n",
    "            if self.batch_size:\n",
    "                X = np.random.permutation(X)[:,range(self.batch_size)]\n",
    "                y = np.random.permutation(y)[:,range(self.batch_size)]\n",
    "            \n",
    "            # One training iteration.\n",
    "            self.m = X.shape[1]\n",
    "            p = self.predict(X)\n",
    "            loss = self.backpass(X, y, p)\n",
    "            \n",
    "            # Print and record loss for every 100 iterations.\n",
    "            if i % 100 == 0:\n",
    "                self.losses.append(loss)\n",
    "                print(f'Loss at epoch {i}: {loss}')\n",
    "   \n",
    "    def predict(self, X):\n",
    "        \"\"\"Forward pass of network.\"\"\"\n",
    "        \n",
    "        # Apply  hidden layer's weights and bias to features.\n",
    "        self.hidden_output = np.matmul(self.hidden_weight, X) + self.hidden_bias\n",
    "        # Apply sigmoid activaton\n",
    "        self.activated_hidden = self.sigmoid(self.hidden_output)\n",
    "        \n",
    "        # Apply output layer's weights and bias to hidden layer output.\n",
    "        output_output = np.matmul(self.output_weight, self.activated_hidden) + self.output_bias\n",
    "        # Apply softmax activation.\n",
    "        activated_output = np.exp(output_output) / np.sum(np.exp(output_output), axis=0)\n",
    "\n",
    "        return activated_output\n",
    "    \n",
    "    def backpass(self, X, y, out):\n",
    "        \"\"\"Backpropogation algorithm\"\"\"\n",
    "        \n",
    "        # TODO: Add optimizer.\n",
    "        loss = self.loss(y, out)\n",
    "        \n",
    "        # Calculate error.\n",
    "        delta_output = out - y\n",
    "        # Calculate gradients for output layer weights and biases\n",
    "        delta_output_weight = (1. / self.m) * np.matmul(delta_output, self.activated_hidden.T)\n",
    "        delta_output_bias = (1. / self.m) * np.sum(delta_output, axis=1, keepdims=True)\n",
    "        \n",
    "        # Weighted sum of errors.\n",
    "        delta_activation = np.matmul(self.output_weight.T, delta_output)\n",
    "        # Apply weighted sum to derivative of sigmoid activation.\n",
    "        delta_hidden = delta_activation * self.sigmoid(self.hidden_output) * (1 - self.sigmoid(self.hidden_output))\n",
    "        \n",
    "        # Caluculate gradients for output layer weights and bias\n",
    "        delta_hidden_weight = (1. / self.m) * np.matmul(delta_hidden, X.T)\n",
    "        delta_hidden_bias = (1. / self.m) * np.sum(delta_hidden, axis=1, keepdims=True)\n",
    "        \n",
    "        # Update weights and biases.\n",
    "        self.output_weight -= self.lr * delta_output_weight\n",
    "        self.output_bias -= self.lr * delta_output_bias\n",
    "\n",
    "        self.hidden_weight -= self.lr * delta_hidden_weight\n",
    "        self.hidden_bias -= self.lr * delta_hidden_bias\n",
    "        \n",
    "        # Return loss for plotting.\n",
    "        return loss\n",
    "    \n",
    "    def plot(self):\n",
    "        \"\"\"Plot the loss per 100 epochs\"\"\"\n",
    "        \n",
    "        plt.figure(figsize=(10, 10))\n",
    "        plt.title('Loss by epoch.')\n",
    "        plt.xlabel('Epochs / 100')\n",
    "        plt.ylabel('Cross Entropy')\n",
    "        plt.plot(self.losses)\n",
    "        plt.show()\n",
    "        "
   ]
  },
  {
   "cell_type": "code",
   "execution_count": 12,
   "metadata": {},
   "outputs": [],
   "source": [
    "nni = NNImage(epochs=1000, batch_size=None, learning_rate=1, n_hidden=64)\n"
   ]
  },
  {
   "cell_type": "code",
   "execution_count": 13,
   "metadata": {},
   "outputs": [
    {
     "name": "stdout",
     "output_type": "stream",
     "text": [
      "Loss at epoch 100: 0.7330853613949173\n",
      "Loss at epoch 200: 0.5553923108052644\n",
      "Loss at epoch 300: 0.4807410918818313\n",
      "Loss at epoch 400: 0.4362435548556087\n",
      "Loss at epoch 500: 0.4052312797323968\n",
      "Loss at epoch 600: 0.38162988012052457\n",
      "Loss at epoch 700: 0.3626548965686762\n",
      "Loss at epoch 800: 0.3468297712792368\n",
      "Loss at epoch 900: 0.3332681318817552\n",
      "Loss at epoch 1000: 0.32140141279383966\n"
     ]
    }
   ],
   "source": [
    "nni.fit(X_train, Y_train)"
   ]
  },
  {
   "cell_type": "code",
   "execution_count": 14,
   "metadata": {},
   "outputs": [
    {
     "data": {
      "image/png": "[encoded data removed]",
      "text/plain": [
       "<Figure size 720x720 with 1 Axes>"
      ]
     },
     "metadata": {
      "needs_background": "light"
     },
     "output_type": "display_data"
    }
   ],
   "source": [
    "nni.plot()"
   ]
  },
  {
   "cell_type": "code",
   "execution_count": 15,
   "metadata": {},
   "outputs": [],
   "source": [
    "def nice_confusion(y_true, y_pred):\n",
    "    return sns.heatmap(confusion_matrix(y_true, y_pred),\n",
    "                       annot=True,\n",
    "                       fmt='d',\n",
    "                       cmap='copper_r')\n"
   ]
  },
  {
   "cell_type": "code",
   "execution_count": 16,
   "metadata": {},
   "outputs": [
    {
     "name": "stdout",
     "output_type": "stream",
     "text": [
      "              precision    recall  f1-score   support\n",
      "\n",
      "           0       0.95      0.93      0.94      1009\n",
      "           1       0.97      0.97      0.97      1140\n",
      "           2       0.87      0.88      0.88      1021\n",
      "           3       0.89      0.88      0.88      1025\n",
      "           4       0.91      0.89      0.90      1011\n",
      "           5       0.85      0.87      0.86       867\n",
      "           6       0.92      0.92      0.92       965\n",
      "           7       0.90      0.92      0.91      1002\n",
      "           8       0.86      0.87      0.86       964\n",
      "           9       0.86      0.87      0.87       996\n",
      "\n",
      "    accuracy                           0.90     10000\n",
      "   macro avg       0.90      0.90      0.90     10000\n",
      "weighted avg       0.90      0.90      0.90     10000\n",
      "\n"
     ]
    },
    {
     "data": {
      "image/png": "[encoded data removed]",
      "text/plain": [
       "<Figure size 432x288 with 2 Axes>"
      ]
     },
     "metadata": {
      "needs_background": "light"
     },
     "output_type": "display_data"
    }
   ],
   "source": [
    "predictions = np.argmax(nni.predict(X_test), axis=0)\n",
    "labels = np.argmax(Y_test, axis=0)\n",
    "nice_confusion(predictions, labels)\n",
    "print(classification_report(predictions, labels))"
   ]
  },
  {
   "cell_type": "code",
   "execution_count": null,
   "metadata": {},
   "outputs": [],
   "source": []
  }
 ],
 "metadata": {
  "kernelspec": {
   "display_name": "Python 3.7 (unit4wk2)",
   "language": "python",
   "name": "unit4wk2"
  },
  "language_info": {
   "codemirror_mode": {
    "name": "ipython",
    "version": 3
   },
   "file_extension": ".py",
   "mimetype": "text/x-python",
   "name": "python",
   "nbconvert_exporter": "python",
   "pygments_lexer": "ipython3",
   "version": "3.7.3"
  }
 },
 "nbformat": 4,
 "nbformat_minor": 4
}
