{
 "cells": [
  {
   "cell_type": "markdown",
   "metadata": {
    "colab_type": "text",
    "id": "NGGrt9EYlCqY"
   },
   "source": [
    "<img align=\"left\" src=\"https://lever-client-logos.s3.amazonaws.com/864372b1-534c-480e-acd5-9711f850815c-1524247202159.png\" width=200>\n",
    "<br></br>\n",
    "\n",
    "# Backpropagation Practice\n",
    "\n",
    "## *Data Science Unit 4 Sprint 2 Assignment 2*\n",
    "\n",
    "Implement a 3 input, 4 node hidden-layer, 1 output node Multilayer Perceptron on the following dataset:\n",
    "\n",
    "| x1 | x2 | x3 | y |\n",
    "|----|----|----|---|\n",
    "| 0  | 0  | 1  | 0 |\n",
    "| 0  | 1  | 1  | 1 |\n",
    "| 1  | 0  | 1  | 1 |\n",
    "| 0  | 1  | 0  | 1 |\n",
    "| 1  | 0  | 0  | 1 |\n",
    "| 1  | 1  | 1  | 0 |\n",
    "| 0  | 0  | 0  | 0 |\n",
    "\n",
    "If you look at the data you'll notice that the first two columns behave like an XOR gate while the last column is mostly just noise. Remember that creating an XOR gate was what the perceptron was criticized for not being able to learn. "
   ]
  },
  {
   "cell_type": "code",
   "execution_count": 14,
   "metadata": {
    "colab": {},
    "colab_type": "code",
    "id": "nEREYT-3wI1f"
   },
   "outputs": [],
   "source": [
    "import numpy as np\n",
    "import pandas as pd\n",
    "import matplotlib.pyplot as plt\n",
    "%matplotlib inline"
   ]
  },
  {
   "cell_type": "code",
   "execution_count": 45,
   "metadata": {},
   "outputs": [],
   "source": [
    "data = {'x1': [0,\n",
    "               0,\n",
    "               1,\n",
    "               0,\n",
    "               1,\n",
    "               1,\n",
    "               0,\n",
    "               1,\n",
    "              ],\n",
    "       'x2': [0,\n",
    "              1,\n",
    "              0,\n",
    "              1,\n",
    "              0,\n",
    "              1,\n",
    "              0,\n",
    "              1,\n",
    "             ],\n",
    "       'x3': [1,\n",
    "              1,\n",
    "              1,\n",
    "              0,\n",
    "              0,\n",
    "              1,\n",
    "              1,\n",
    "              0,\n",
    "             ],\n",
    "       'y': [0,\n",
    "             1,\n",
    "             1,\n",
    "             1,\n",
    "             1,\n",
    "             0,\n",
    "             0,\n",
    "             0,\n",
    "            ]}   "
   ]
  },
  {
   "cell_type": "code",
   "execution_count": 46,
   "metadata": {},
   "outputs": [],
   "source": [
    "df = pd.DataFrame.from_dict(data)"
   ]
  },
  {
   "cell_type": "code",
   "execution_count": 47,
   "metadata": {},
   "outputs": [
    {
     "data": {
      "text/html": [
       "<div>\n",
       "<style scoped>\n",
       "    .dataframe tbody tr th:only-of-type {\n",
       "        vertical-align: middle;\n",
       "    }\n",
       "\n",
       "    .dataframe tbody tr th {\n",
       "        vertical-align: top;\n",
       "    }\n",
       "\n",
       "    .dataframe thead th {\n",
       "        text-align: right;\n",
       "    }\n",
       "</style>\n",
       "<table border=\"1\" class=\"dataframe\">\n",
       "  <thead>\n",
       "    <tr style=\"text-align: right;\">\n",
       "      <th></th>\n",
       "      <th>x1</th>\n",
       "      <th>x2</th>\n",
       "      <th>x3</th>\n",
       "      <th>y</th>\n",
       "    </tr>\n",
       "  </thead>\n",
       "  <tbody>\n",
       "    <tr>\n",
       "      <th>0</th>\n",
       "      <td>0</td>\n",
       "      <td>0</td>\n",
       "      <td>1</td>\n",
       "      <td>0</td>\n",
       "    </tr>\n",
       "    <tr>\n",
       "      <th>1</th>\n",
       "      <td>0</td>\n",
       "      <td>1</td>\n",
       "      <td>1</td>\n",
       "      <td>1</td>\n",
       "    </tr>\n",
       "    <tr>\n",
       "      <th>2</th>\n",
       "      <td>1</td>\n",
       "      <td>0</td>\n",
       "      <td>1</td>\n",
       "      <td>1</td>\n",
       "    </tr>\n",
       "    <tr>\n",
       "      <th>3</th>\n",
       "      <td>0</td>\n",
       "      <td>1</td>\n",
       "      <td>0</td>\n",
       "      <td>1</td>\n",
       "    </tr>\n",
       "    <tr>\n",
       "      <th>4</th>\n",
       "      <td>1</td>\n",
       "      <td>0</td>\n",
       "      <td>0</td>\n",
       "      <td>1</td>\n",
       "    </tr>\n",
       "    <tr>\n",
       "      <th>5</th>\n",
       "      <td>1</td>\n",
       "      <td>1</td>\n",
       "      <td>1</td>\n",
       "      <td>0</td>\n",
       "    </tr>\n",
       "    <tr>\n",
       "      <th>6</th>\n",
       "      <td>0</td>\n",
       "      <td>0</td>\n",
       "      <td>1</td>\n",
       "      <td>0</td>\n",
       "    </tr>\n",
       "    <tr>\n",
       "      <th>7</th>\n",
       "      <td>1</td>\n",
       "      <td>1</td>\n",
       "      <td>0</td>\n",
       "      <td>0</td>\n",
       "    </tr>\n",
       "  </tbody>\n",
       "</table>\n",
       "</div>"
      ],
      "text/plain": [
       "   x1  x2  x3  y\n",
       "0   0   0   1  0\n",
       "1   0   1   1  1\n",
       "2   1   0   1  1\n",
       "3   0   1   0  1\n",
       "4   1   0   0  1\n",
       "5   1   1   1  0\n",
       "6   0   0   1  0\n",
       "7   1   1   0  0"
      ]
     },
     "execution_count": 47,
     "metadata": {},
     "output_type": "execute_result"
    }
   ],
   "source": [
    "df"
   ]
  },
  {
   "cell_type": "code",
   "execution_count": 48,
   "metadata": {},
   "outputs": [],
   "source": [
    "class MLP(object):\n",
    "    \n",
    "    def __init__(self, epochs=1000, learning_rate=0.01, n_input=3, n_hidden=4, n_out=1):\n",
    "        \n",
    "        # Initialize hyperparameter variables.\n",
    "        self.epochs = epochs\n",
    "        self.lr = learning_rate\n",
    "        self.n_input = n_input\n",
    "        self.n_hidden = n_hidden\n",
    "        self.n_out = n_out\n",
    "    \n",
    "        # Initialize weights and biases.\n",
    "        self.hidden_weight = np.random.random(size=(self.n_input + 1, self.n_hidden))\n",
    "        self.output_weight = np.random.random(size=(self.n_hidden + 1, self.n_out))\n",
    "    \n",
    "    def sigmoid(self, x):\n",
    "        return 1 / (1 + np.exp(-x))\n",
    "    \n",
    "    def sigmoid_prime(self, x):\n",
    "        return x * (1 - x)\n",
    "    \n",
    "    def fit(self, X, y):\n",
    "        self.errors = []\n",
    "        for _ in range(self.epochs):\n",
    "            out = self.predict(X)\n",
    "            self.backpass(X, y, out)\n",
    "        print(f'Training error at final epoch: {self.errors[-1]}')\n",
    "\n",
    "    def backpass(self, X, y, out):\n",
    "        y = y.reshape((y.shape[0], 1))\n",
    "        error = y - out\n",
    "        \n",
    "        self.errors.append(np.sum(error**2))\n",
    "        # Caluculate adjustment from hidden -> output.\n",
    "        delta_output = self.sigmoid_prime(out) * error\n",
    "        \n",
    "        # Calculate error from input -> hidden.\n",
    "        output_error = delta_output.dot(self.output_weight[1:].T)\n",
    "        delta_hidden = output_error * self.sigmoid_prime(out)\n",
    "        \n",
    "        #Adjust hidden -> output weghts.\n",
    "\n",
    "        self.output_weight[1:] += self.activated_hidden.T.dot(delta_output) * self.lr\n",
    "        self.output_weight[0] = np.sum(delta_output)\n",
    "\n",
    "        self.hidden_weight[1:] += X.T.dot(delta_hidden) * self.lr\n",
    "        self.hidden_weight[0] = np.sum(delta_hidden)\n",
    "    \n",
    "    def predict(self, X):\n",
    "        inputs = np.dot(X, self.hidden_weight[1:]) + self.hidden_weight[0]\n",
    "        self.activated_hidden = self.sigmoid(inputs)\n",
    "        output = np.dot(self.activated_hidden, self.output_weight[1:]) + self.output_weight[0]\n",
    "        final = self.sigmoid(output)\n",
    "        return final\n",
    "        \n",
    "    def plot_error(self):\n",
    "        plt.figure(figsize=(8, 8))\n",
    "        plt.title('Training Error')\n",
    "        plt.plot(self.errors)\n"
   ]
  },
  {
   "cell_type": "code",
   "execution_count": 79,
   "metadata": {},
   "outputs": [],
   "source": [
    "nn = MLP(epochs=60000, n_hidden=15)"
   ]
  },
  {
   "cell_type": "code",
   "execution_count": 80,
   "metadata": {},
   "outputs": [],
   "source": [
    "X = df[['x1', 'x2', 'x3']]\n",
    "y = df['y']"
   ]
  },
  {
   "cell_type": "code",
   "execution_count": 81,
   "metadata": {},
   "outputs": [
    {
     "name": "stdout",
     "output_type": "stream",
     "text": [
      "Training error at final epoch: 1.732978501399431\n"
     ]
    }
   ],
   "source": [
    "nn.fit(X.values, y.values)"
   ]
  },
  {
   "cell_type": "code",
   "execution_count": 82,
   "metadata": {},
   "outputs": [
    {
     "data": {
      "text/html": [
       "<div>\n",
       "<style scoped>\n",
       "    .dataframe tbody tr th:only-of-type {\n",
       "        vertical-align: middle;\n",
       "    }\n",
       "\n",
       "    .dataframe tbody tr th {\n",
       "        vertical-align: top;\n",
       "    }\n",
       "\n",
       "    .dataframe thead th {\n",
       "        text-align: right;\n",
       "    }\n",
       "</style>\n",
       "<table border=\"1\" class=\"dataframe\">\n",
       "  <thead>\n",
       "    <tr style=\"text-align: right;\">\n",
       "      <th></th>\n",
       "      <th>x1</th>\n",
       "      <th>x2</th>\n",
       "      <th>x3</th>\n",
       "      <th>y</th>\n",
       "    </tr>\n",
       "  </thead>\n",
       "  <tbody>\n",
       "    <tr>\n",
       "      <th>0</th>\n",
       "      <td>0</td>\n",
       "      <td>0</td>\n",
       "      <td>1</td>\n",
       "      <td>0</td>\n",
       "    </tr>\n",
       "    <tr>\n",
       "      <th>1</th>\n",
       "      <td>0</td>\n",
       "      <td>1</td>\n",
       "      <td>1</td>\n",
       "      <td>1</td>\n",
       "    </tr>\n",
       "    <tr>\n",
       "      <th>2</th>\n",
       "      <td>1</td>\n",
       "      <td>0</td>\n",
       "      <td>1</td>\n",
       "      <td>1</td>\n",
       "    </tr>\n",
       "    <tr>\n",
       "      <th>3</th>\n",
       "      <td>0</td>\n",
       "      <td>1</td>\n",
       "      <td>0</td>\n",
       "      <td>1</td>\n",
       "    </tr>\n",
       "    <tr>\n",
       "      <th>4</th>\n",
       "      <td>1</td>\n",
       "      <td>0</td>\n",
       "      <td>0</td>\n",
       "      <td>1</td>\n",
       "    </tr>\n",
       "    <tr>\n",
       "      <th>5</th>\n",
       "      <td>1</td>\n",
       "      <td>1</td>\n",
       "      <td>1</td>\n",
       "      <td>0</td>\n",
       "    </tr>\n",
       "    <tr>\n",
       "      <th>6</th>\n",
       "      <td>0</td>\n",
       "      <td>0</td>\n",
       "      <td>1</td>\n",
       "      <td>0</td>\n",
       "    </tr>\n",
       "    <tr>\n",
       "      <th>7</th>\n",
       "      <td>1</td>\n",
       "      <td>1</td>\n",
       "      <td>0</td>\n",
       "      <td>0</td>\n",
       "    </tr>\n",
       "  </tbody>\n",
       "</table>\n",
       "</div>"
      ],
      "text/plain": [
       "   x1  x2  x3  y\n",
       "0   0   0   1  0\n",
       "1   0   1   1  1\n",
       "2   1   0   1  1\n",
       "3   0   1   0  1\n",
       "4   1   0   0  1\n",
       "5   1   1   1  0\n",
       "6   0   0   1  0\n",
       "7   1   1   0  0"
      ]
     },
     "execution_count": 82,
     "metadata": {},
     "output_type": "execute_result"
    }
   ],
   "source": [
    "df"
   ]
  },
  {
   "cell_type": "code",
   "execution_count": 83,
   "metadata": {},
   "outputs": [
    {
     "name": "stdout",
     "output_type": "stream",
     "text": [
      "[0.37072923]\n",
      "[0.34727895]\n",
      "[0.34239998]\n",
      "[0.6004258]\n",
      "[0.61568169]\n",
      "[0.31965806]\n",
      "[0.37072923]\n",
      "[0.46267812]\n"
     ]
    }
   ],
   "source": [
    "for x in X.values:\n",
    "    print(nn.predict(x))"
   ]
  },
  {
   "cell_type": "code",
   "execution_count": 78,
   "metadata": {},
   "outputs": [
    {
     "data": {
      "image/png": "[encoded data removed]",
      "text/plain": [
       "<Figure size 576x576 with 1 Axes>"
      ]
     },
     "metadata": {
      "needs_background": "light"
     },
     "output_type": "display_data"
    }
   ],
   "source": [
    "nn.plot_error()"
   ]
  },
  {
   "cell_type": "markdown",
   "metadata": {
    "colab_type": "text",
    "id": "8b-r70o8p2Dm"
   },
   "source": [
    "## Try building/training a more complex MLP on a bigger dataset.\n",
    "\n",
    "Use the [MNIST dataset](http://yann.lecun.com/exdb/mnist/) to build the cannonical handwriting digit recognizer and see what kind of accuracy you can achieve. \n",
    "\n",
    "If you need inspiration, the internet is chalk-full of tutorials, but I want you to see how far you can get on your own first. I've linked to the original MNIST dataset above but it will probably be easier to download data through a neural network library. If you reference outside resources make sure you understand every line of code that you're using from other sources, and share with your fellow students helpful resources that you find.\n"
   ]
  },
  {
   "cell_type": "code",
   "execution_count": 1,
   "metadata": {
    "colab": {},
    "colab_type": "code",
    "id": "5MOPtYdk1HgA"
   },
   "outputs": [],
   "source": [
    "import matplotlib\n",
    "import matplotlib.pyplot as plt\n",
    "import numpy as np\n",
    "import seaborn as sns\n",
    "from sklearn.metrics import classification_report, confusion_matrix\n",
    "from sklearn.datasets import fetch_openml\n"
   ]
  },
  {
   "cell_type": "code",
   "execution_count": 2,
   "metadata": {},
   "outputs": [],
   "source": [
    "X, y = fetch_openml('mnist_784', version=1, return_X_y=True)\n",
    "X = X / 255\n"
   ]
  },
  {
   "cell_type": "code",
   "execution_count": 3,
   "metadata": {},
   "outputs": [
    {
     "data": {
      "text/plain": [
       "((784, 60000), (784, 10000), (10, 60000), (10, 10000))"
      ]
     },
     "execution_count": 3,
     "metadata": {},
     "output_type": "execute_result"
    }
   ],
   "source": [
    "digits = 10\n",
    "examples = y.shape[0]\n",
    "\n",
    "y = y.reshape(1, examples)\n",
    "\n",
    "Y_new = np.eye(digits)[y.astype('int32')]\n",
    "Y_new = Y_new.T.reshape(digits, examples)\n",
    "\n",
    "m = 60000\n",
    "m_test = X.shape[0] - m\n",
    "\n",
    "X_train, X_test = X[:m].T, X[m:].T\n",
    "Y_train, Y_test = Y_new[:, :m], Y_new[:, m:]\n",
    "\n",
    "shuffle_index = np.random.permutation(m)\n",
    "X_train, Y_train = X_train[:, shuffle_index], Y_train[:, shuffle_index]\n",
    "X_train.shape, X_test.shape, Y_train.shape, Y_test.shape"
   ]
  },
  {
   "cell_type": "code",
   "execution_count": 4,
   "metadata": {},
   "outputs": [],
   "source": [
    "def show(image, label):\n",
    "    plt.imshow(image.reshape(28, 28), cmap = matplotlib.cm.binary)\n",
    "    plt.axis('off')\n",
    "    plt.show()\n",
    "    print(label)"
   ]
  },
  {
   "cell_type": "code",
   "execution_count": 5,
   "metadata": {},
   "outputs": [
    {
     "data": {
      "image/png": "[encoded data removed]",
      "text/plain": [
       "<Figure size 432x288 with 1 Axes>"
      ]
     },
     "metadata": {
      "needs_background": "light"
     },
     "output_type": "display_data"
    },
    {
     "name": "stdout",
     "output_type": "stream",
     "text": [
      "[0. 0. 0. 0. 0. 0. 0. 0. 0. 1.]\n"
     ]
    }
   ],
   "source": [
    "i = 12\n",
    "show(X_train[:,i].reshape(1, -1), Y_train[:,i])"
   ]
  },
  {
   "cell_type": "code",
   "execution_count": null,
   "metadata": {},
   "outputs": [],
   "source": [
    "def compute_multiclass_loss(Y, Y_hat):\n",
    "\n",
    "    L_sum = np.sum(np.multiply(Y, np.log(Y_hat)))\n",
    "    m = Y.shape[1]\n",
    "    L = -(1/m) * L_sum\n",
    "\n",
    "    return L\n"
   ]
  },
  {
   "cell_type": "code",
   "execution_count": null,
   "metadata": {},
   "outputs": [],
   "source": [
    "def sigmoid(z):\n",
    "    s = 1 / (1 + np.exp(-z))\n",
    "    return s\n"
   ]
  },
  {
   "cell_type": "code",
   "execution_count": null,
   "metadata": {},
   "outputs": [],
   "source": [
    "n_x = X_train.shape[0]\n",
    "n_h = 64\n",
    "learning_rate = 1\n",
    "\n",
    "W1 = np.random.randn(n_h, n_x)\n",
    "b1 = np.zeros((n_h, 1))\n",
    "W2 = np.random.randn(digits, n_h)\n",
    "b2 = np.zeros((digits, 1))\n",
    "\n",
    "X = X_train\n",
    "Y = Y_train\n",
    "\n",
    "for i in range(2000):\n",
    "\n",
    "    Z1 = np.matmul(W1,X) + b1\n",
    "    A1 = sigmoid(Z1)\n",
    "    Z2 = np.matmul(W2,A1) + b2\n",
    "    A2 = np.exp(Z2) / np.sum(np.exp(Z2), axis=0)\n",
    "\n",
    "    cost = compute_multiclass_loss(Y, A2)\n",
    "\n",
    "    dZ2 = A2-Y\n",
    "    dW2 = (1./m) * np.matmul(dZ2, A1.T)\n",
    "    db2 = (1./m) * np.sum(dZ2, axis=1, keepdims=True)\n",
    "\n",
    "    dA1 = np.matmul(W2.T, dZ2)\n",
    "    dZ1 = dA1 * sigmoid(Z1) * (1 - sigmoid(Z1))\n",
    "    dW1 = (1./m) * np.matmul(dZ1, X.T)\n",
    "    db1 = (1./m) * np.sum(dZ1, axis=1, keepdims=True)\n",
    "\n",
    "    W2 = W2 - learning_rate * dW2\n",
    "    b2 = b2 - learning_rate * db2\n",
    "    W1 = W1 - learning_rate * dW1\n",
    "    b1 = b1 - learning_rate * db1\n",
    "\n",
    "    if (i % 100 == 0):\n",
    "        print(\"Epoch\", i, \"cost: \", cost)\n",
    "\n",
    "print(\"Final cost:\", cost)\n"
   ]
  },
  {
   "cell_type": "code",
   "execution_count": null,
   "metadata": {},
   "outputs": [],
   "source": [
    "Z1 = np.matmul(W1, X_test) + b1\n",
    "A1 = sigmoid(Z1)\n",
    "Z2 = np.matmul(W2, A1) + b2\n",
    "A2 = np.exp(Z2) / np.sum(np.exp(Z2), axis=0)\n",
    "\n",
    "predictions = np.argmax(A2, axis=0)\n",
    "labels = np.argmax(Y_test, axis=0)\n",
    "\n",
    "print(confusion_matrix(predictions, labels))\n",
    "print(classification_report(predictions, labels))\n"
   ]
  },
  {
   "cell_type": "code",
   "execution_count": 6,
   "metadata": {},
   "outputs": [],
   "source": [
    "class NNImage(object):\n",
    "    \"\"\"Classifier for the classic MNIST handwritten numbers dataset.\n",
    "    \n",
    "    Instantiate an instance with desired hyperparameters:    \n",
    "    model = NNImage(batch_size=32)\n",
    "    \n",
    "    X must be an array of flattened 28x28 pixel 8bit grayscale images.\n",
    "    \n",
    "    y must be an array of integer labels.\n",
    "    \n",
    "    Train model by calling model.fit(X, y)\n",
    "    \n",
    "    Call model.predict(X) to get a prediction on a new image.\n",
    "    \n",
    "    Call model.plot() to plot loss per epoch.\n",
    "    \n",
    "    :param epochs: int Number of training iterations Default = 2000\n",
    "    :param batch_size: int Number of training examples per training iteration\n",
    "        Default = None == full dataset is run per each trainint iteratin.\n",
    "    :param learning_rate: float Step size to adjust weights and biases per iteration.\n",
    "    :param n_hidden: int Number of nodes in hidden layer. Default = 128\n",
    "    \n",
    "    \n",
    "    \"\"\"\n",
    "    def __init__(self, epochs=1000, batch_size=None, learning_rate=1, n_hidden=128):\n",
    "        self.lr = learning_rate\n",
    "        self.epochs = epochs\n",
    "        self.m = None\n",
    "        self.batch_size = batch_size\n",
    "        self.losses = []\n",
    "        \n",
    "        # Initialize hidden layer.\n",
    "        self.hidden_weight = np.random.randn(n_hidden, 784)\n",
    "        self.hidden_bias = np.zeros((n_hidden, 1))\n",
    "        \n",
    "        # Initialize ouput layer.\n",
    "        self.output_weight = np.random.randn(10, n_hidden)\n",
    "        self.output_bias = np.zeros((10, 1))\n",
    "        \n",
    "    \n",
    "    def sigmoid(self, x):\n",
    "        \"\"\"Sigmoid activation fuction\"\"\"\n",
    "        \n",
    "        return 1 / (1 + np.exp(-x))\n",
    "\n",
    "    def loss(self, y, yhat):\n",
    "        \"\"\"Multiclass loss.\"\"\"\n",
    "        \n",
    "        # Sum the log loss.\n",
    "        loss_sum = np.sum(np.multiply(y, np.log(yhat)))\n",
    "        # And average over all training examples.\n",
    "        m = y.shape[1]\n",
    "        return -(1 / m) * loss_sum\n",
    "    \n",
    "    def fit(self, X, y):\n",
    "        \"\"\"Train the model\"\"\"\n",
    "        \n",
    "        for i in range(1, self.epochs + 1):\n",
    "            # Generate random subset if batch_size specified.\n",
    "            if self.batch_size:\n",
    "                X = np.random.permutation(X)[:,range(self.batch_size)]\n",
    "                y = np.random.permutation(y)[:,range(self.batch_size)]\n",
    "            \n",
    "            # One training iteration.\n",
    "            self.m = X.shape[1]\n",
    "            p = self.predict(X)\n",
    "            loss = self.backpass(X, y, p)\n",
    "            \n",
    "            # Print and record loss for every 100 iterations.\n",
    "            if i % 100 == 0:\n",
    "                self.losses.append(loss)\n",
    "                print(f'Loss at epoch {i}: {loss}')\n",
    "   \n",
    "    def predict(self, X):\n",
    "        \"\"\"Forward pass of network.\"\"\"\n",
    "        \n",
    "        # Apply  hidden layer's weights and bias to features.\n",
    "        self.hidden_output = np.matmul(self.hidden_weight, X) + self.hidden_bias\n",
    "        # Apply sigmoid activaton\n",
    "        self.activated_hidden = self.sigmoid(self.hidden_output)\n",
    "        \n",
    "        # Apply output layer's weights and bias to hidden layer output.\n",
    "        output_output = np.matmul(self.output_weight, self.activated_hidden) + self.output_bias\n",
    "        # Apply softmax activation.\n",
    "        activated_output = np.exp(output_output) / np.sum(np.exp(output_output), axis=0)\n",
    "\n",
    "        return activated_output\n",
    "    \n",
    "    def backpass(self, X, y, out):\n",
    "        \"\"\"Backpropogation algorithm\"\"\"\n",
    "        \n",
    "        # TODO: Add optimizer.\n",
    "        loss = self.loss(y, out)\n",
    "        \n",
    "        # Calculate error.\n",
    "        delta_output = out - y\n",
    "        # Calculate gradients for output layer weights and biases\n",
    "        delta_output_weight = (1. / self.m) * np.matmul(delta_output, self.activated_hidden.T)\n",
    "        delta_output_bias = (1. / self.m) * np.sum(delta_output, axis=1, keepdims=True)\n",
    "        \n",
    "        # Weighted sum of errors.\n",
    "        delta_activation = np.matmul(self.output_weight.T, delta_output)\n",
    "        # Apply weighted sum to derivative of sigmoid activation.\n",
    "        delta_hidden = delta_activation * self.sigmoid(self.hidden_output) * (1 - self.sigmoid(self.hidden_output))\n",
    "        \n",
    "        # Caluculate gradients for output layer weights and bias\n",
    "        delta_hidden_weight = (1. / self.m) * np.matmul(delta_hidden, X.T)\n",
    "        delta_hidden_bias = (1. / self.m) * np.sum(delta_hidden, axis=1, keepdims=True)\n",
    "        \n",
    "        # Update weights and biases.\n",
    "        self.output_weight -= self.lr * delta_output_weight\n",
    "        self.output_bias -= self.lr * delta_output_bias\n",
    "\n",
    "        self.hidden_weight -= self.lr * delta_hidden_weight\n",
    "        self.hidden_bias -= self.lr * delta_hidden_bias\n",
    "        \n",
    "        # Return loss for plotting.\n",
    "        return loss\n",
    "    \n",
    "    def plot(self):\n",
    "        \"\"\"Plot the loss per 100 epochs\"\"\"\n",
    "        \n",
    "        plt.figure(figsize=(10, 10))\n",
    "        plt.title('Loss by epoch.')\n",
    "        plt.xlabel('Epochs / 100')\n",
    "        plt.ylabel('Cross Entropy')\n",
    "        plt.plot(self.losses)\n",
    "        plt.show()\n",
    "        "
   ]
  },
  {
   "cell_type": "code",
   "execution_count": 7,
   "metadata": {},
   "outputs": [],
   "source": [
    "nni = NNImage(epochs=1000, batch_size=None, learning_rate=1, n_hidden=32)\n"
   ]
  },
  {
   "cell_type": "code",
   "execution_count": 8,
   "metadata": {},
   "outputs": [
    {
     "name": "stdout",
     "output_type": "stream",
     "text": [
      "Loss at epoch 100: 0.89625560182324\n",
      "Loss at epoch 200: 0.6759436020697147\n",
      "Loss at epoch 300: 0.5775186828669966\n",
      "Loss at epoch 400: 0.5170649927575115\n",
      "Loss at epoch 500: 0.47524290823155474\n",
      "Loss at epoch 600: 0.4443234701463376\n",
      "Loss at epoch 700: 0.42026007614805366\n",
      "Loss at epoch 800: 0.4007108295079609\n",
      "Loss at epoch 900: 0.3843162822928971\n",
      "Loss at epoch 1000: 0.3702498819675706\n"
     ]
    }
   ],
   "source": [
    "nni.fit(X_train, Y_train)"
   ]
  },
  {
   "cell_type": "code",
   "execution_count": 9,
   "metadata": {},
   "outputs": [
    {
     "data": {
      "image/png": "[encoded data removed]",
      "text/plain": [
       "<Figure size 720x720 with 1 Axes>"
      ]
     },
     "metadata": {
      "needs_background": "light"
     },
     "output_type": "display_data"
    }
   ],
   "source": [
    "nni.plot()"
   ]
  },
  {
   "cell_type": "code",
   "execution_count": 10,
   "metadata": {},
   "outputs": [],
   "source": [
    "def nice_confusion(y_true, y_pred):\n",
    "    return sns.heatmap(confusion_matrix(y_true, y_pred),\n",
    "                       annot=True,\n",
    "                       fmt='d',\n",
    "                       cmap='copper_r')\n"
   ]
  },
  {
   "cell_type": "code",
   "execution_count": 11,
   "metadata": {},
   "outputs": [
    {
     "name": "stdout",
     "output_type": "stream",
     "text": [
      "              precision    recall  f1-score   support\n",
      "\n",
      "           0       0.94      0.92      0.93      1006\n",
      "           1       0.98      0.96      0.97      1151\n",
      "           2       0.86      0.89      0.88       999\n",
      "           3       0.85      0.85      0.85      1014\n",
      "           4       0.91      0.86      0.89      1041\n",
      "           5       0.81      0.85      0.83       848\n",
      "           6       0.93      0.89      0.91       993\n",
      "           7       0.91      0.91      0.91      1028\n",
      "           8       0.83      0.85      0.84       952\n",
      "           9       0.85      0.89      0.87       968\n",
      "\n",
      "    accuracy                           0.89     10000\n",
      "   macro avg       0.89      0.89      0.89     10000\n",
      "weighted avg       0.89      0.89      0.89     10000\n",
      "\n"
     ]
    },
    {
     "data": {
      "image/png": "[encoded data removed]",
      "text/plain": [
       "<Figure size 432x288 with 2 Axes>"
      ]
     },
     "metadata": {
      "needs_background": "light"
     },
     "output_type": "display_data"
    }
   ],
   "source": [
    "predictions = np.argmax(nni.predict(X_test), axis=0)\n",
    "labels = np.argmax(Y_test, axis=0)\n",
    "nice_confusion(predictions, labels)\n",
    "print(classification_report(predictions, labels))"
   ]
  },
  {
   "cell_type": "markdown",
   "metadata": {},
   "source": [
    "The code below doesn't work. It is left for posterity."
   ]
  },
  {
   "cell_type": "code",
   "execution_count": 444,
   "metadata": {},
   "outputs": [],
   "source": [
    "class MLPImage(object):\n",
    "    \n",
    "    def __init__(self, epochs=1000, learning_rate=0.001, n_input=784, n_hidden=128, n_out=10):\n",
    "        \n",
    "        # Initialize hyperparameter variables.\n",
    "        self.epochs = epochs\n",
    "        self.lr = learning_rate\n",
    "        self.n_input = n_input\n",
    "        self.n_hidden = n_hidden\n",
    "        self.n_out = n_out\n",
    "    \n",
    "        # Initialize weights and biases.\n",
    "        self.hidden_weight = np.random.random(size=(self.n_input + 1, self.n_hidden))\n",
    "        self.output_weight = np.random.random(size=(self.n_hidden + 1, self.n_out))\n",
    "    \n",
    "    def sigmoid(self, x):\n",
    "        return 1 / (1 + np.exp(-x))\n",
    "    \n",
    "    def sigmoid_prime(self, x):\n",
    "        return x * (1 - x)\n",
    "\n",
    "    def softmax(self, inputs):\n",
    "        inputs = inputs.flatten()\n",
    "        return np.exp(inputs) / float(sum(np.exp(inputs)))\n",
    "    \n",
    "    def cross_entropy(self, X, y):\n",
    "        \"\"\"\n",
    "        X is the output from fully connected layer (num_examples x num_classes)\n",
    "        y is labels (num_examples x 1)\n",
    "            Note that y is not one-hot encoded vector. \n",
    "            It can be computed as y.argmax(axis=1) from one-hot encoded vectors of labels if required.\n",
    "        \"\"\"\n",
    "        m = y.shape[0]\n",
    "        p = self.softmax(X).reshape((28, 28))\n",
    "        # We use multidimensional array indexing to extract \n",
    "        # softmax probability of the correct label for each sample.\n",
    "        # Refer to https://docs.scipy.org/doc/numpy/user/basics.indexing.html#indexing-multi-dimensional-arrays for understanding multidimensional array indexing.\n",
    "        log_likelihood = -np.log(p[range(m), y])\n",
    "        print(f'cross m {m}, X {log_likelihood.shape}')\n",
    "        loss = np.sum(log_likelihood) / m\n",
    "        return loss\n",
    "\n",
    "    def delta_cross_entropy(self, X, y):\n",
    "        \"\"\"\n",
    "        X is the output from fully connected layer (num_examples x num_classes)\n",
    "        y is labels (num_examples x 1)\n",
    "            Note that y is not one-hot encoded vector. \n",
    "            It can be computed as y.argmax(axis=1) from one-hot encoded vectors of labels if required.\n",
    "        \"\"\"\n",
    "        m = y.shape[0]\n",
    "        grad = self.softmax(X).reshape(1, -1)\n",
    "        print(f'grad {grad.shape}, y {y}')\n",
    "        grad[:, y] -= 1\n",
    "        grad = grad/m\n",
    "        return grad.reshape(- )\n",
    "\n",
    "    def fit(self, X, y):\n",
    "        self.errors = []\n",
    "        for _ in range(self.epochs):\n",
    "            for image, label in zip(X, y):\n",
    "                image = image.flatten() / 255\n",
    "                out = self.predict(image)\n",
    "                self.backpass(image, label, out)\n",
    "        print(f'Training error at final epoch: {self.errors[-1]}')\n",
    "\n",
    "    def backpass(self, X, y, out):\n",
    "        label = np.zeros((10, 1), dtype=np.int8)\n",
    "        print(f'back {label}')\n",
    "        label[y][0] = 1\n",
    "        error = self.cross_entropy(X, label)        \n",
    "        \n",
    "        self.errors.append(error)\n",
    "        # Caluculate adjustment from hidden -> output.\n",
    "        delta_output = error * self.delta_cross_entropy(X, label)\n",
    "        \n",
    "        # Calculate error from input -> hidden.\n",
    "        output_error = delta_output.dot(self.output_weight[1:].T)\n",
    "        delta_hidden = output_error * self.sigmoid_prime(self.activated_hidden)\n",
    "        \n",
    "        #Adjust hidden -> output weghts.\n",
    "        self.output_weight[1:] += self.activated_hidden.T.dot(delta_output) * self.lr\n",
    "        self.output_weight[0] = np.sum(delta_output)\n",
    "\n",
    "        self.hidden_weight[1:] += X.T.dot(delta_hidden) * self.lr\n",
    "        self.hidden_weight[0] = np.sum(delta_hidden)\n",
    "    \n",
    "    def predict(self, X):\n",
    "        inputs = np.dot(X, self.hidden_weight[1:]) + self.hidden_weight[0]\n",
    "        self.activated_hidden = self.sigmoid(inputs)\n",
    "        output = np.dot(self.activated_hidden, self.output_weight[1:]) + self.output_weight[0]\n",
    "        pred = self.softmax(output)\n",
    "        final = np.argmax(pred)\n",
    "        print(f'pred {pred.shape}, {final}')\n",
    "        return pred\n",
    "        \n",
    "    def plot_error(self):\n",
    "        plt.figure(figsize=(8, 8))\n",
    "        plt.title('Training Error')\n",
    "        plt.plot(self.errors)\n"
   ]
  },
  {
   "cell_type": "code",
   "execution_count": 445,
   "metadata": {},
   "outputs": [],
   "source": [
    "nnimage = MLPImage()"
   ]
  },
  {
   "cell_type": "code",
   "execution_count": 446,
   "metadata": {},
   "outputs": [
    {
     "name": "stdout",
     "output_type": "stream",
     "text": [
      "pred (10,), 8\n",
      "back [[0]\n",
      " [0]\n",
      " [0]\n",
      " [0]\n",
      " [0]\n",
      " [0]\n",
      " [0]\n",
      " [0]\n",
      " [0]\n",
      " [0]]\n",
      "cross m 10, X (10, 10)\n",
      "grad (1, 784), y [[0]\n",
      " [0]\n",
      " [0]\n",
      " [0]\n",
      " [0]\n",
      " [1]\n",
      " [0]\n",
      " [0]\n",
      " [0]\n",
      " [0]]\n"
     ]
    },
    {
     "ename": "ValueError",
     "evalue": "shapes (784,1) and (10,128) not aligned: 1 (dim 1) != 10 (dim 0)",
     "output_type": "error",
     "traceback": [
      "\u001b[0;31m---------------------------------------------------------------------------\u001b[0m",
      "\u001b[0;31mValueError\u001b[0m                                Traceback (most recent call last)",
      "\u001b[0;32m<ipython-input-446-82f68fd539a9>\u001b[0m in \u001b[0;36m<module>\u001b[0;34m\u001b[0m\n\u001b[0;32m----> 1\u001b[0;31m \u001b[0mnnimage\u001b[0m\u001b[0;34m.\u001b[0m\u001b[0mfit\u001b[0m\u001b[0;34m(\u001b[0m\u001b[0mx_train\u001b[0m\u001b[0;34m[\u001b[0m\u001b[0;34m:\u001b[0m\u001b[0;36m10000\u001b[0m\u001b[0;34m]\u001b[0m\u001b[0;34m,\u001b[0m \u001b[0my_train\u001b[0m\u001b[0;34m[\u001b[0m\u001b[0;34m:\u001b[0m\u001b[0;36m10000\u001b[0m\u001b[0;34m]\u001b[0m\u001b[0;34m)\u001b[0m\u001b[0;34m\u001b[0m\u001b[0;34m\u001b[0m\u001b[0m\n\u001b[0m",
      "\u001b[0;32m<ipython-input-444-a63f0e4ac49c>\u001b[0m in \u001b[0;36mfit\u001b[0;34m(self, X, y)\u001b[0m\n\u001b[1;32m     61\u001b[0m                 \u001b[0mimage\u001b[0m \u001b[0;34m=\u001b[0m \u001b[0mimage\u001b[0m\u001b[0;34m.\u001b[0m\u001b[0mflatten\u001b[0m\u001b[0;34m(\u001b[0m\u001b[0;34m)\u001b[0m \u001b[0;34m/\u001b[0m \u001b[0;36m255\u001b[0m\u001b[0;34m\u001b[0m\u001b[0;34m\u001b[0m\u001b[0m\n\u001b[1;32m     62\u001b[0m                 \u001b[0mout\u001b[0m \u001b[0;34m=\u001b[0m \u001b[0mself\u001b[0m\u001b[0;34m.\u001b[0m\u001b[0mpredict\u001b[0m\u001b[0;34m(\u001b[0m\u001b[0mimage\u001b[0m\u001b[0;34m)\u001b[0m\u001b[0;34m\u001b[0m\u001b[0;34m\u001b[0m\u001b[0m\n\u001b[0;32m---> 63\u001b[0;31m                 \u001b[0mself\u001b[0m\u001b[0;34m.\u001b[0m\u001b[0mbackpass\u001b[0m\u001b[0;34m(\u001b[0m\u001b[0mimage\u001b[0m\u001b[0;34m,\u001b[0m \u001b[0mlabel\u001b[0m\u001b[0;34m,\u001b[0m \u001b[0mout\u001b[0m\u001b[0;34m)\u001b[0m\u001b[0;34m\u001b[0m\u001b[0;34m\u001b[0m\u001b[0m\n\u001b[0m\u001b[1;32m     64\u001b[0m         \u001b[0mprint\u001b[0m\u001b[0;34m(\u001b[0m\u001b[0;34mf'Training error at final epoch: {self.errors[-1]}'\u001b[0m\u001b[0;34m)\u001b[0m\u001b[0;34m\u001b[0m\u001b[0;34m\u001b[0m\u001b[0m\n\u001b[1;32m     65\u001b[0m \u001b[0;34m\u001b[0m\u001b[0m\n",
      "\u001b[0;32m<ipython-input-444-a63f0e4ac49c>\u001b[0m in \u001b[0;36mbackpass\u001b[0;34m(self, X, y, out)\u001b[0m\n\u001b[1;32m     75\u001b[0m \u001b[0;34m\u001b[0m\u001b[0m\n\u001b[1;32m     76\u001b[0m         \u001b[0;31m# Calculate error from input -> hidden.\u001b[0m\u001b[0;34m\u001b[0m\u001b[0;34m\u001b[0m\u001b[0;34m\u001b[0m\u001b[0m\n\u001b[0;32m---> 77\u001b[0;31m         \u001b[0moutput_error\u001b[0m \u001b[0;34m=\u001b[0m \u001b[0mdelta_output\u001b[0m\u001b[0;34m.\u001b[0m\u001b[0mdot\u001b[0m\u001b[0;34m(\u001b[0m\u001b[0mself\u001b[0m\u001b[0;34m.\u001b[0m\u001b[0moutput_weight\u001b[0m\u001b[0;34m[\u001b[0m\u001b[0;36m1\u001b[0m\u001b[0;34m:\u001b[0m\u001b[0;34m]\u001b[0m\u001b[0;34m.\u001b[0m\u001b[0mT\u001b[0m\u001b[0;34m)\u001b[0m\u001b[0;34m\u001b[0m\u001b[0;34m\u001b[0m\u001b[0m\n\u001b[0m\u001b[1;32m     78\u001b[0m         \u001b[0mdelta_hidden\u001b[0m \u001b[0;34m=\u001b[0m \u001b[0moutput_error\u001b[0m \u001b[0;34m*\u001b[0m \u001b[0mself\u001b[0m\u001b[0;34m.\u001b[0m\u001b[0msigmoid_prime\u001b[0m\u001b[0;34m(\u001b[0m\u001b[0mself\u001b[0m\u001b[0;34m.\u001b[0m\u001b[0mactivated_hidden\u001b[0m\u001b[0;34m)\u001b[0m\u001b[0;34m\u001b[0m\u001b[0;34m\u001b[0m\u001b[0m\n\u001b[1;32m     79\u001b[0m \u001b[0;34m\u001b[0m\u001b[0m\n",
      "\u001b[0;31mValueError\u001b[0m: shapes (784,1) and (10,128) not aligned: 1 (dim 1) != 10 (dim 0)"
     ]
    }
   ],
   "source": [
    "nnimage.fit(x_train[:10000], y_train[:10000])"
   ]
  },
  {
   "cell_type": "code",
   "execution_count": null,
   "metadata": {},
   "outputs": [],
   "source": []
  },
  {
   "cell_type": "markdown",
   "metadata": {
    "colab_type": "text",
    "id": "FwlRJSfBlCvy"
   },
   "source": [
    "## Stretch Goals: \n",
    "\n",
    "- Implement Cross Validation model evaluation on your MNIST implementation \n",
    "- Research different [Gradient Descent Based Optimizers](https://keras.io/optimizers/)\n",
    " - [Siraj Raval the evolution of gradient descent](https://www.youtube.com/watch?v=nhqo0u1a6fw)\n",
    "- Build a housing price estimation model using a neural network. How does its accuracy compare with the regression models that we fit earlier on in class?"
   ]
  }
 ],
 "metadata": {
  "colab": {
   "name": "LS_DS_432_Backprop_Assignment.ipynb",
   "provenance": [],
   "version": "0.3.2"
  },
  "kernelspec": {
   "display_name": "Python 3.7 (unit4wk2)",
   "language": "python",
   "name": "unit4wk2"
  },
  "language_info": {
   "codemirror_mode": {
    "name": "ipython",
    "version": 3
   },
   "file_extension": ".py",
   "mimetype": "text/x-python",
   "name": "python",
   "nbconvert_exporter": "python",
   "pygments_lexer": "ipython3",
   "version": "3.7.3"
  }
 },
 "nbformat": 4,
 "nbformat_minor": 4
}
