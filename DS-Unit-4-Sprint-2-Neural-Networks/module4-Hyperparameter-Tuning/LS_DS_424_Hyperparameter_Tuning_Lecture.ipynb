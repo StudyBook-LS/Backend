{
 "cells": [
  {
   "cell_type": "markdown",
   "metadata": {
    "colab_type": "text",
    "id": "41TS0Sa0rDNx"
   },
   "source": [
    "<img align=\"left\" src=\"https://lever-client-logos.s3.amazonaws.com/864372b1-534c-480e-acd5-9711f850815c-1524247202159.png\" width=200>\n",
    "<br></br>\n",
    "\n",
    "# Hyperparameter Tuning\n",
    "\n",
    "## *Data Science Unit 4 Sprint 2 Lecture 4*\n",
    "\n",
    "# Model Validation with Keras - Boston Housing Data"
   ]
  },
  {
   "cell_type": "code",
   "execution_count": 2,
   "metadata": {
    "colab": {},
    "colab_type": "code",
    "id": "ZyirqVC_sC64"
   },
   "outputs": [
    {
     "name": "stderr",
     "output_type": "stream",
     "text": [
      "Using TensorFlow backend.\n"
     ]
    }
   ],
   "source": [
    "from tensorflow import keras\n",
    "from keras.models import Sequential\n",
    "from keras.layers import Dense\n",
    "import pandas as pd\n",
    "import numpy\n",
    "# fix random seed for reproducibility\n",
    "numpy.random.seed(42)"
   ]
  },
  {
   "cell_type": "markdown",
   "metadata": {
    "colab_type": "text",
    "id": "0s0o2pqBs88q"
   },
   "source": [
    "### Load Boston Housing Data\n",
    "\n",
    "Even though we can import this dataset from Keras, Keras already has it divided up into test and train datasets for us I don't want that for this demonstration, so I'm going to import it from Scikit-Learn instead."
   ]
  },
  {
   "cell_type": "code",
   "execution_count": 3,
   "metadata": {
    "colab": {
     "base_uri": "https://localhost:8080/",
     "height": 212
    },
    "colab_type": "code",
    "id": "cMMt4MtAsVx0",
    "outputId": "a4e3e990-f948-46e6-ea93-dd7433a317e9"
   },
   "outputs": [
    {
     "name": "stdout",
     "output_type": "stream",
     "text": [
      "(506, 14)\n"
     ]
    },
    {
     "data": {
      "text/html": [
       "<div>\n",
       "<style scoped>\n",
       "    .dataframe tbody tr th:only-of-type {\n",
       "        vertical-align: middle;\n",
       "    }\n",
       "\n",
       "    .dataframe tbody tr th {\n",
       "        vertical-align: top;\n",
       "    }\n",
       "\n",
       "    .dataframe thead th {\n",
       "        text-align: right;\n",
       "    }\n",
       "</style>\n",
       "<table border=\"1\" class=\"dataframe\">\n",
       "  <thead>\n",
       "    <tr style=\"text-align: right;\">\n",
       "      <th></th>\n",
       "      <th>CRIM</th>\n",
       "      <th>ZN</th>\n",
       "      <th>INDUS</th>\n",
       "      <th>CHAS</th>\n",
       "      <th>NOX</th>\n",
       "      <th>RM</th>\n",
       "      <th>AGE</th>\n",
       "      <th>DIS</th>\n",
       "      <th>RAD</th>\n",
       "      <th>TAX</th>\n",
       "      <th>PTRATIO</th>\n",
       "      <th>B</th>\n",
       "      <th>LSTAT</th>\n",
       "      <th>MEDV</th>\n",
       "    </tr>\n",
       "  </thead>\n",
       "  <tbody>\n",
       "    <tr>\n",
       "      <th>0</th>\n",
       "      <td>0.00632</td>\n",
       "      <td>18.0</td>\n",
       "      <td>2.31</td>\n",
       "      <td>0.0</td>\n",
       "      <td>0.538</td>\n",
       "      <td>6.575</td>\n",
       "      <td>65.2</td>\n",
       "      <td>4.0900</td>\n",
       "      <td>1.0</td>\n",
       "      <td>296.0</td>\n",
       "      <td>15.3</td>\n",
       "      <td>396.90</td>\n",
       "      <td>4.98</td>\n",
       "      <td>24.0</td>\n",
       "    </tr>\n",
       "    <tr>\n",
       "      <th>1</th>\n",
       "      <td>0.02731</td>\n",
       "      <td>0.0</td>\n",
       "      <td>7.07</td>\n",
       "      <td>0.0</td>\n",
       "      <td>0.469</td>\n",
       "      <td>6.421</td>\n",
       "      <td>78.9</td>\n",
       "      <td>4.9671</td>\n",
       "      <td>2.0</td>\n",
       "      <td>242.0</td>\n",
       "      <td>17.8</td>\n",
       "      <td>396.90</td>\n",
       "      <td>9.14</td>\n",
       "      <td>21.6</td>\n",
       "    </tr>\n",
       "    <tr>\n",
       "      <th>2</th>\n",
       "      <td>0.02729</td>\n",
       "      <td>0.0</td>\n",
       "      <td>7.07</td>\n",
       "      <td>0.0</td>\n",
       "      <td>0.469</td>\n",
       "      <td>7.185</td>\n",
       "      <td>61.1</td>\n",
       "      <td>4.9671</td>\n",
       "      <td>2.0</td>\n",
       "      <td>242.0</td>\n",
       "      <td>17.8</td>\n",
       "      <td>392.83</td>\n",
       "      <td>4.03</td>\n",
       "      <td>34.7</td>\n",
       "    </tr>\n",
       "    <tr>\n",
       "      <th>3</th>\n",
       "      <td>0.03237</td>\n",
       "      <td>0.0</td>\n",
       "      <td>2.18</td>\n",
       "      <td>0.0</td>\n",
       "      <td>0.458</td>\n",
       "      <td>6.998</td>\n",
       "      <td>45.8</td>\n",
       "      <td>6.0622</td>\n",
       "      <td>3.0</td>\n",
       "      <td>222.0</td>\n",
       "      <td>18.7</td>\n",
       "      <td>394.63</td>\n",
       "      <td>2.94</td>\n",
       "      <td>33.4</td>\n",
       "    </tr>\n",
       "    <tr>\n",
       "      <th>4</th>\n",
       "      <td>0.06905</td>\n",
       "      <td>0.0</td>\n",
       "      <td>2.18</td>\n",
       "      <td>0.0</td>\n",
       "      <td>0.458</td>\n",
       "      <td>7.147</td>\n",
       "      <td>54.2</td>\n",
       "      <td>6.0622</td>\n",
       "      <td>3.0</td>\n",
       "      <td>222.0</td>\n",
       "      <td>18.7</td>\n",
       "      <td>396.90</td>\n",
       "      <td>5.33</td>\n",
       "      <td>36.2</td>\n",
       "    </tr>\n",
       "  </tbody>\n",
       "</table>\n",
       "</div>"
      ],
      "text/plain": [
       "      CRIM    ZN  INDUS  CHAS    NOX     RM   AGE     DIS  RAD    TAX  \\\n",
       "0  0.00632  18.0   2.31   0.0  0.538  6.575  65.2  4.0900  1.0  296.0   \n",
       "1  0.02731   0.0   7.07   0.0  0.469  6.421  78.9  4.9671  2.0  242.0   \n",
       "2  0.02729   0.0   7.07   0.0  0.469  7.185  61.1  4.9671  2.0  242.0   \n",
       "3  0.03237   0.0   2.18   0.0  0.458  6.998  45.8  6.0622  3.0  222.0   \n",
       "4  0.06905   0.0   2.18   0.0  0.458  7.147  54.2  6.0622  3.0  222.0   \n",
       "\n",
       "   PTRATIO       B  LSTAT  MEDV  \n",
       "0     15.3  396.90   4.98  24.0  \n",
       "1     17.8  396.90   9.14  21.6  \n",
       "2     17.8  392.83   4.03  34.7  \n",
       "3     18.7  394.63   2.94  33.4  \n",
       "4     18.7  396.90   5.33  36.2  "
      ]
     },
     "execution_count": 3,
     "metadata": {},
     "output_type": "execute_result"
    }
   ],
   "source": [
    "# load dataset\n",
    "from sklearn.datasets import load_boston\n",
    "boston_dataset = load_boston()\n",
    "df = pd.DataFrame(boston_dataset.data, columns=boston_dataset.feature_names)\n",
    "df['MEDV'] = boston_dataset.target\n",
    "print(df.shape)\n",
    "df.head()"
   ]
  },
  {
   "cell_type": "markdown",
   "metadata": {
    "colab_type": "text",
    "id": "Pm7zow5IvaTt"
   },
   "source": [
    "## Normalizing Input Data\n",
    "\n",
    "It's not 100% necessary to normalize/scale your input data before feeding it to a neural network, the network can learn the appropriate weights to deal with data of as long as it is numerically represented,  but it is recommended as it can help **make training faster** and **reduces the chances that gradient descent might get stuck in a local optimum**.\n",
    "\n",
    "<https://stackoverflow.com/questions/4674623/why-do-we-have-to-normalize-the-input-for-an-artificial-neural-network>"
   ]
  },
  {
   "cell_type": "code",
   "execution_count": 4,
   "metadata": {
    "colab": {
     "base_uri": "https://localhost:8080/",
     "height": 235
    },
    "colab_type": "code",
    "id": "q5qDpUj9vZVw",
    "outputId": "ce27017a-b173-455d-954e-d462e17e66f4"
   },
   "outputs": [
    {
     "name": "stdout",
     "output_type": "stream",
     "text": [
      "[[-0.41978194  0.28482986 -1.2879095  ... -1.45900038  0.44105193\n",
      "  -1.0755623 ]\n",
      " [-0.41733926 -0.48772236 -0.59338101 ... -0.30309415  0.44105193\n",
      "  -0.49243937]\n",
      " [-0.41734159 -0.48772236 -0.59338101 ... -0.30309415  0.39642699\n",
      "  -1.2087274 ]\n",
      " ...\n",
      " [-0.41344658 -0.48772236  0.11573841 ...  1.17646583  0.44105193\n",
      "  -0.98304761]\n",
      " [-0.40776407 -0.48772236  0.11573841 ...  1.17646583  0.4032249\n",
      "  -0.86530163]\n",
      " [-0.41500016 -0.48772236  0.11573841 ...  1.17646583  0.44105193\n",
      "  -0.66905833]]\n"
     ]
    }
   ],
   "source": [
    "from sklearn.preprocessing import StandardScaler\n",
    "\n",
    "# Split into X and y and turn into numpy arays\n",
    "y = df.MEDV.values\n",
    "X = df.drop(\"MEDV\", axis='columns').values\n",
    "\n",
    "# Scale input data\n",
    "scaler = StandardScaler()\n",
    "X = scaler.fit_transform(X)\n",
    "print(X)"
   ]
  },
  {
   "cell_type": "markdown",
   "metadata": {
    "colab_type": "text",
    "id": "l6hgCWbir90R"
   },
   "source": [
    "## Model Validation using an automatic verification Dataset\n",
    "\n",
    "Instead of doing a train test split, Keras has a really nice feature that you can set the validation.split argument when fitting your model and Keras will take that portion of your test data and use it as a validation dataset. "
   ]
  },
  {
   "cell_type": "code",
   "execution_count": 5,
   "metadata": {
    "colab": {
     "base_uri": "https://localhost:8080/",
     "height": 1750
    },
    "colab_type": "code",
    "id": "GMXVfmzXp1Oo",
    "outputId": "b05e251e-508f-46e6-865b-f869ae2a5dc4"
   },
   "outputs": [
    {
     "name": "stderr",
     "output_type": "stream",
     "text": [
      "WARNING: Logging before flag parsing goes to stderr.\n",
      "W0815 09:10:00.065381 4678366656 deprecation_wrapper.py:119] From /Users/lambda_school_loaner_153/anaconda3/envs/unit4wk2/lib/python3.7/site-packages/keras/backend/tensorflow_backend.py:74: The name tf.get_default_graph is deprecated. Please use tf.compat.v1.get_default_graph instead.\n",
      "\n",
      "W0815 09:10:00.152984 4678366656 deprecation_wrapper.py:119] From /Users/lambda_school_loaner_153/anaconda3/envs/unit4wk2/lib/python3.7/site-packages/keras/backend/tensorflow_backend.py:517: The name tf.placeholder is deprecated. Please use tf.compat.v1.placeholder instead.\n",
      "\n",
      "W0815 09:10:00.174682 4678366656 deprecation_wrapper.py:119] From /Users/lambda_school_loaner_153/anaconda3/envs/unit4wk2/lib/python3.7/site-packages/keras/backend/tensorflow_backend.py:4138: The name tf.random_uniform is deprecated. Please use tf.random.uniform instead.\n",
      "\n",
      "W0815 09:10:00.283310 4678366656 deprecation_wrapper.py:119] From /Users/lambda_school_loaner_153/anaconda3/envs/unit4wk2/lib/python3.7/site-packages/keras/optimizers.py:790: The name tf.train.Optimizer is deprecated. Please use tf.compat.v1.train.Optimizer instead.\n",
      "\n",
      "W0815 09:10:00.519153 4678366656 deprecation_wrapper.py:119] From /Users/lambda_school_loaner_153/anaconda3/envs/unit4wk2/lib/python3.7/site-packages/keras/backend/tensorflow_backend.py:986: The name tf.assign_add is deprecated. Please use tf.compat.v1.assign_add instead.\n",
      "\n",
      "W0815 09:10:00.766415 4678366656 deprecation_wrapper.py:119] From /Users/lambda_school_loaner_153/anaconda3/envs/unit4wk2/lib/python3.7/site-packages/keras/backend/tensorflow_backend.py:973: The name tf.assign is deprecated. Please use tf.compat.v1.assign instead.\n",
      "\n"
     ]
    },
    {
     "name": "stdout",
     "output_type": "stream",
     "text": [
      "Train on 339 samples, validate on 167 samples\n",
      "Epoch 1/50\n",
      "339/339 [==============================] - 3s 7ms/step - loss: 658.7615 - mean_squared_error: 658.7615 - val_loss: 284.5562 - val_mean_squared_error: 284.5562\n",
      "Epoch 2/50\n",
      "339/339 [==============================] - 0s 586us/step - loss: 442.2552 - mean_squared_error: 442.2552 - val_loss: 176.0276 - val_mean_squared_error: 176.0276\n",
      "Epoch 3/50\n",
      "339/339 [==============================] - 0s 638us/step - loss: 123.6627 - mean_squared_error: 123.6627 - val_loss: 119.4311 - val_mean_squared_error: 119.4311\n",
      "Epoch 4/50\n",
      "339/339 [==============================] - 0s 602us/step - loss: 34.1486 - mean_squared_error: 34.1486 - val_loss: 93.7729 - val_mean_squared_error: 93.7729\n",
      "Epoch 5/50\n",
      "339/339 [==============================] - 0s 607us/step - loss: 18.4771 - mean_squared_error: 18.4771 - val_loss: 89.2309 - val_mean_squared_error: 89.2309\n",
      "Epoch 6/50\n",
      "339/339 [==============================] - 0s 603us/step - loss: 14.8702 - mean_squared_error: 14.8702 - val_loss: 89.9724 - val_mean_squared_error: 89.9724\n",
      "Epoch 7/50\n",
      "339/339 [==============================] - 0s 628us/step - loss: 12.9258 - mean_squared_error: 12.9258 - val_loss: 84.3925 - val_mean_squared_error: 84.3925\n",
      "Epoch 8/50\n",
      "339/339 [==============================] - 0s 656us/step - loss: 11.9298 - mean_squared_error: 11.9298 - val_loss: 79.9684 - val_mean_squared_error: 79.9684\n",
      "Epoch 9/50\n",
      "339/339 [==============================] - 0s 682us/step - loss: 11.1471 - mean_squared_error: 11.1471 - val_loss: 76.1683 - val_mean_squared_error: 76.1683\n",
      "Epoch 10/50\n",
      "339/339 [==============================] - 0s 657us/step - loss: 10.5891 - mean_squared_error: 10.5891 - val_loss: 74.0688 - val_mean_squared_error: 74.0688\n",
      "Epoch 11/50\n",
      "339/339 [==============================] - 0s 636us/step - loss: 10.2770 - mean_squared_error: 10.2770 - val_loss: 70.0340 - val_mean_squared_error: 70.0340\n",
      "Epoch 12/50\n",
      "339/339 [==============================] - 0s 699us/step - loss: 9.4460 - mean_squared_error: 9.4460 - val_loss: 67.2084 - val_mean_squared_error: 67.2084\n",
      "Epoch 13/50\n",
      "339/339 [==============================] - 0s 676us/step - loss: 8.9634 - mean_squared_error: 8.9634 - val_loss: 64.0270 - val_mean_squared_error: 64.0270\n",
      "Epoch 14/50\n",
      "339/339 [==============================] - 0s 605us/step - loss: 8.5556 - mean_squared_error: 8.5556 - val_loss: 62.7786 - val_mean_squared_error: 62.7786\n",
      "Epoch 15/50\n",
      "339/339 [==============================] - 0s 641us/step - loss: 8.1467 - mean_squared_error: 8.1467 - val_loss: 60.1877 - val_mean_squared_error: 60.1877\n",
      "Epoch 16/50\n",
      "339/339 [==============================] - 0s 604us/step - loss: 7.9000 - mean_squared_error: 7.9000 - val_loss: 58.6502 - val_mean_squared_error: 58.6502\n",
      "Epoch 17/50\n",
      "339/339 [==============================] - 0s 666us/step - loss: 7.6703 - mean_squared_error: 7.6703 - val_loss: 56.8854 - val_mean_squared_error: 56.8854\n",
      "Epoch 18/50\n",
      "339/339 [==============================] - 0s 556us/step - loss: 7.4183 - mean_squared_error: 7.4183 - val_loss: 55.5821 - val_mean_squared_error: 55.5821\n",
      "Epoch 19/50\n",
      "339/339 [==============================] - 0s 715us/step - loss: 7.0910 - mean_squared_error: 7.0910 - val_loss: 53.3334 - val_mean_squared_error: 53.3334\n",
      "Epoch 20/50\n",
      "339/339 [==============================] - 0s 688us/step - loss: 6.8306 - mean_squared_error: 6.8306 - val_loss: 50.9996 - val_mean_squared_error: 50.9996\n",
      "Epoch 21/50\n",
      "339/339 [==============================] - 0s 676us/step - loss: 6.6770 - mean_squared_error: 6.6770 - val_loss: 50.1780 - val_mean_squared_error: 50.1780\n",
      "Epoch 22/50\n",
      "339/339 [==============================] - 0s 689us/step - loss: 6.5748 - mean_squared_error: 6.5748 - val_loss: 48.0051 - val_mean_squared_error: 48.0051\n",
      "Epoch 23/50\n",
      "339/339 [==============================] - 0s 669us/step - loss: 6.3433 - mean_squared_error: 6.3433 - val_loss: 47.3788 - val_mean_squared_error: 47.3788\n",
      "Epoch 24/50\n",
      "339/339 [==============================] - 0s 717us/step - loss: 6.3260 - mean_squared_error: 6.3260 - val_loss: 47.1048 - val_mean_squared_error: 47.1048\n",
      "Epoch 25/50\n",
      "339/339 [==============================] - 0s 595us/step - loss: 5.9210 - mean_squared_error: 5.9210 - val_loss: 44.5234 - val_mean_squared_error: 44.5234\n",
      "Epoch 26/50\n",
      "339/339 [==============================] - 0s 683us/step - loss: 5.8326 - mean_squared_error: 5.8326 - val_loss: 44.4460 - val_mean_squared_error: 44.4460\n",
      "Epoch 27/50\n",
      "339/339 [==============================] - 0s 676us/step - loss: 5.7143 - mean_squared_error: 5.7143 - val_loss: 42.9722 - val_mean_squared_error: 42.9722\n",
      "Epoch 28/50\n",
      "339/339 [==============================] - 0s 628us/step - loss: 5.5751 - mean_squared_error: 5.5751 - val_loss: 41.7630 - val_mean_squared_error: 41.7630\n",
      "Epoch 29/50\n",
      "339/339 [==============================] - 0s 711us/step - loss: 5.6076 - mean_squared_error: 5.6076 - val_loss: 41.6482 - val_mean_squared_error: 41.6482\n",
      "Epoch 30/50\n",
      "339/339 [==============================] - 0s 881us/step - loss: 5.4757 - mean_squared_error: 5.4757 - val_loss: 40.9360 - val_mean_squared_error: 40.9360\n",
      "Epoch 31/50\n",
      "339/339 [==============================] - 0s 682us/step - loss: 5.2626 - mean_squared_error: 5.2626 - val_loss: 40.0413 - val_mean_squared_error: 40.0413\n",
      "Epoch 32/50\n",
      "339/339 [==============================] - 0s 661us/step - loss: 5.3294 - mean_squared_error: 5.3294 - val_loss: 40.4593 - val_mean_squared_error: 40.4593\n",
      "Epoch 33/50\n",
      "339/339 [==============================] - 0s 759us/step - loss: 5.0906 - mean_squared_error: 5.0906 - val_loss: 38.9426 - val_mean_squared_error: 38.9426\n",
      "Epoch 34/50\n",
      "339/339 [==============================] - 0s 760us/step - loss: 5.1056 - mean_squared_error: 5.1056 - val_loss: 38.1816 - val_mean_squared_error: 38.1816\n",
      "Epoch 35/50\n",
      "339/339 [==============================] - 0s 642us/step - loss: 5.1433 - mean_squared_error: 5.1433 - val_loss: 38.6980 - val_mean_squared_error: 38.6980\n",
      "Epoch 36/50\n",
      "339/339 [==============================] - 0s 765us/step - loss: 4.7876 - mean_squared_error: 4.7876 - val_loss: 37.7738 - val_mean_squared_error: 37.7738\n",
      "Epoch 37/50\n",
      "339/339 [==============================] - 0s 1ms/step - loss: 4.8361 - mean_squared_error: 4.8361 - val_loss: 37.9151 - val_mean_squared_error: 37.9151\n",
      "Epoch 38/50\n",
      "339/339 [==============================] - 0s 994us/step - loss: 4.6739 - mean_squared_error: 4.6739 - val_loss: 36.7681 - val_mean_squared_error: 36.7681\n",
      "Epoch 39/50\n",
      "339/339 [==============================] - 0s 940us/step - loss: 4.7252 - mean_squared_error: 4.7252 - val_loss: 36.7667 - val_mean_squared_error: 36.7667\n",
      "Epoch 40/50\n",
      "339/339 [==============================] - 0s 687us/step - loss: 4.6194 - mean_squared_error: 4.6194 - val_loss: 36.2336 - val_mean_squared_error: 36.2336\n",
      "Epoch 41/50\n",
      "339/339 [==============================] - 0s 786us/step - loss: 4.6270 - mean_squared_error: 4.6270 - val_loss: 36.7785 - val_mean_squared_error: 36.7785\n",
      "Epoch 42/50\n",
      "339/339 [==============================] - 0s 1ms/step - loss: 4.4447 - mean_squared_error: 4.4447 - val_loss: 36.3411 - val_mean_squared_error: 36.3411\n",
      "Epoch 43/50\n",
      "339/339 [==============================] - 0s 1ms/step - loss: 4.4480 - mean_squared_error: 4.4480 - val_loss: 36.1404 - val_mean_squared_error: 36.1404\n",
      "Epoch 44/50\n",
      "339/339 [==============================] - 0s 784us/step - loss: 4.9875 - mean_squared_error: 4.9875 - val_loss: 35.2901 - val_mean_squared_error: 35.2901\n",
      "Epoch 45/50\n",
      "339/339 [==============================] - 0s 906us/step - loss: 4.4533 - mean_squared_error: 4.4533 - val_loss: 35.7489 - val_mean_squared_error: 35.7489\n",
      "Epoch 46/50\n",
      "339/339 [==============================] - 0s 714us/step - loss: 4.3038 - mean_squared_error: 4.3038 - val_loss: 35.7731 - val_mean_squared_error: 35.7731\n",
      "Epoch 47/50\n",
      "339/339 [==============================] - 0s 731us/step - loss: 4.2081 - mean_squared_error: 4.2081 - val_loss: 35.8121 - val_mean_squared_error: 35.8121\n",
      "Epoch 48/50\n",
      "339/339 [==============================] - 0s 708us/step - loss: 4.2521 - mean_squared_error: 4.2521 - val_loss: 35.3888 - val_mean_squared_error: 35.3888\n",
      "Epoch 49/50\n",
      "339/339 [==============================] - 0s 726us/step - loss: 4.1888 - mean_squared_error: 4.1888 - val_loss: 34.8168 - val_mean_squared_error: 34.8168\n",
      "Epoch 50/50\n",
      "339/339 [==============================] - 0s 890us/step - loss: 4.1754 - mean_squared_error: 4.1754 - val_loss: 35.1395 - val_mean_squared_error: 35.1395\n"
     ]
    },
    {
     "data": {
      "text/plain": [
       "<keras.callbacks.History at 0x1a43f87e48>"
      ]
     },
     "execution_count": 5,
     "metadata": {},
     "output_type": "execute_result"
    }
   ],
   "source": [
    "# Important Hyperparameters\n",
    "inputs = X.shape[1]\n",
    "epochs = 50\n",
    "batch_size = 10\n",
    "\n",
    "# Create Model\n",
    "model = Sequential()\n",
    "model.add(Dense(64, activation='relu', input_shape=(inputs,)))\n",
    "model.add(Dense(64, activation='relu'))\n",
    "model.add(Dense(1))\n",
    "# Compile Model\n",
    "model.compile(optimizer='adam', loss='mse', metrics=['mse'])\n",
    "# Fit Model\n",
    "model.fit(X, y, validation_split=0.33, epochs=epochs, batch_size=batch_size)"
   ]
  },
  {
   "cell_type": "markdown",
   "metadata": {
    "colab_type": "text",
    "id": "FYgb6yiKzyK5"
   },
   "source": [
    "## Model Verification using a Manual Verification Dataset\n",
    "\n",
    "Even though Keras has this nice feature you can still do train test split and pass it both X_test and y_test datasets as a tuple using the `validation_data` parameter."
   ]
  },
  {
   "cell_type": "code",
   "execution_count": 6,
   "metadata": {
    "colab": {
     "base_uri": "https://localhost:8080/",
     "height": 1750
    },
    "colab_type": "code",
    "id": "D6SenwGVzQlK",
    "outputId": "ccab02a8-f28f-4db9-9065-89b52b177266"
   },
   "outputs": [
    {
     "name": "stdout",
     "output_type": "stream",
     "text": [
      "Train on 339 samples, validate on 167 samples\n",
      "Epoch 1/50\n",
      "339/339 [==============================] - 2s 5ms/step - loss: 519.4794 - mean_squared_error: 519.4794 - val_loss: 365.9609 - val_mean_squared_error: 365.9609\n",
      "Epoch 2/50\n",
      "339/339 [==============================] - 0s 542us/step - loss: 315.0444 - mean_squared_error: 315.0444 - val_loss: 177.0944 - val_mean_squared_error: 177.0944\n",
      "Epoch 3/50\n",
      "339/339 [==============================] - 0s 569us/step - loss: 123.4259 - mean_squared_error: 123.4259 - val_loss: 63.0010 - val_mean_squared_error: 63.0010\n",
      "Epoch 4/50\n",
      "339/339 [==============================] - 0s 590us/step - loss: 50.5782 - mean_squared_error: 50.5782 - val_loss: 36.2535 - val_mean_squared_error: 36.2535\n",
      "Epoch 5/50\n",
      "339/339 [==============================] - 0s 498us/step - loss: 32.1070 - mean_squared_error: 32.1070 - val_loss: 26.2899 - val_mean_squared_error: 26.2899\n",
      "Epoch 6/50\n",
      "339/339 [==============================] - 0s 573us/step - loss: 25.3819 - mean_squared_error: 25.3819 - val_loss: 20.8733 - val_mean_squared_error: 20.8733\n",
      "Epoch 7/50\n",
      "339/339 [==============================] - 0s 607us/step - loss: 21.9959 - mean_squared_error: 21.9959 - val_loss: 19.3034 - val_mean_squared_error: 19.3034\n",
      "Epoch 8/50\n",
      "339/339 [==============================] - 0s 602us/step - loss: 20.0234 - mean_squared_error: 20.0234 - val_loss: 17.6836 - val_mean_squared_error: 17.6836\n",
      "Epoch 9/50\n",
      "339/339 [==============================] - 0s 658us/step - loss: 18.3556 - mean_squared_error: 18.3556 - val_loss: 16.4934 - val_mean_squared_error: 16.4934\n",
      "Epoch 10/50\n",
      "339/339 [==============================] - 0s 612us/step - loss: 17.2997 - mean_squared_error: 17.2997 - val_loss: 15.6185 - val_mean_squared_error: 15.6185\n",
      "Epoch 11/50\n",
      "339/339 [==============================] - 0s 518us/step - loss: 16.3625 - mean_squared_error: 16.3625 - val_loss: 15.5495 - val_mean_squared_error: 15.5495\n",
      "Epoch 12/50\n",
      "339/339 [==============================] - 0s 655us/step - loss: 15.7526 - mean_squared_error: 15.7526 - val_loss: 14.4188 - val_mean_squared_error: 14.4188\n",
      "Epoch 13/50\n",
      "339/339 [==============================] - 0s 734us/step - loss: 15.1471 - mean_squared_error: 15.1471 - val_loss: 14.0580 - val_mean_squared_error: 14.0580\n",
      "Epoch 14/50\n",
      "339/339 [==============================] - 0s 644us/step - loss: 14.5523 - mean_squared_error: 14.5523 - val_loss: 13.7131 - val_mean_squared_error: 13.7131\n",
      "Epoch 15/50\n",
      "339/339 [==============================] - 0s 617us/step - loss: 14.1649 - mean_squared_error: 14.1649 - val_loss: 13.6435 - val_mean_squared_error: 13.6435\n",
      "Epoch 16/50\n",
      "339/339 [==============================] - 0s 696us/step - loss: 13.7700 - mean_squared_error: 13.7700 - val_loss: 12.9771 - val_mean_squared_error: 12.9771\n",
      "Epoch 17/50\n",
      "339/339 [==============================] - 0s 680us/step - loss: 13.0601 - mean_squared_error: 13.0601 - val_loss: 12.7494 - val_mean_squared_error: 12.7494\n",
      "Epoch 18/50\n",
      "339/339 [==============================] - 0s 580us/step - loss: 13.0068 - mean_squared_error: 13.0068 - val_loss: 12.5800 - val_mean_squared_error: 12.5800\n",
      "Epoch 19/50\n",
      "339/339 [==============================] - 0s 695us/step - loss: 12.8176 - mean_squared_error: 12.8176 - val_loss: 12.4401 - val_mean_squared_error: 12.4401\n",
      "Epoch 20/50\n",
      "339/339 [==============================] - 0s 618us/step - loss: 12.1139 - mean_squared_error: 12.1139 - val_loss: 12.7396 - val_mean_squared_error: 12.7396\n",
      "Epoch 21/50\n",
      "339/339 [==============================] - 0s 634us/step - loss: 12.1372 - mean_squared_error: 12.1372 - val_loss: 13.0884 - val_mean_squared_error: 13.0884\n",
      "Epoch 22/50\n",
      "339/339 [==============================] - 0s 674us/step - loss: 11.9468 - mean_squared_error: 11.9468 - val_loss: 11.6976 - val_mean_squared_error: 11.6976\n",
      "Epoch 23/50\n",
      "339/339 [==============================] - 0s 714us/step - loss: 11.4450 - mean_squared_error: 11.4450 - val_loss: 13.0735 - val_mean_squared_error: 13.0735\n",
      "Epoch 24/50\n",
      "339/339 [==============================] - 0s 594us/step - loss: 11.3965 - mean_squared_error: 11.3965 - val_loss: 12.1064 - val_mean_squared_error: 12.1064\n",
      "Epoch 25/50\n",
      "339/339 [==============================] - 0s 658us/step - loss: 10.9252 - mean_squared_error: 10.9252 - val_loss: 13.2031 - val_mean_squared_error: 13.2031\n",
      "Epoch 26/50\n",
      "339/339 [==============================] - 0s 649us/step - loss: 10.8699 - mean_squared_error: 10.8699 - val_loss: 11.3753 - val_mean_squared_error: 11.3753\n",
      "Epoch 27/50\n",
      "339/339 [==============================] - 0s 695us/step - loss: 10.7622 - mean_squared_error: 10.7622 - val_loss: 12.1434 - val_mean_squared_error: 12.1434\n",
      "Epoch 28/50\n",
      "339/339 [==============================] - 0s 646us/step - loss: 10.4554 - mean_squared_error: 10.4554 - val_loss: 11.0711 - val_mean_squared_error: 11.0711\n",
      "Epoch 29/50\n",
      "339/339 [==============================] - 0s 769us/step - loss: 10.3582 - mean_squared_error: 10.3582 - val_loss: 11.7481 - val_mean_squared_error: 11.7481\n",
      "Epoch 30/50\n",
      "339/339 [==============================] - 0s 743us/step - loss: 10.1220 - mean_squared_error: 10.1220 - val_loss: 12.5552 - val_mean_squared_error: 12.5552\n",
      "Epoch 31/50\n",
      "339/339 [==============================] - 0s 698us/step - loss: 9.9950 - mean_squared_error: 9.9950 - val_loss: 11.0961 - val_mean_squared_error: 11.0961\n",
      "Epoch 32/50\n",
      "339/339 [==============================] - 0s 868us/step - loss: 9.9545 - mean_squared_error: 9.9545 - val_loss: 10.9523 - val_mean_squared_error: 10.9523\n",
      "Epoch 33/50\n",
      "339/339 [==============================] - 0s 680us/step - loss: 9.6064 - mean_squared_error: 9.6064 - val_loss: 10.7077 - val_mean_squared_error: 10.7077\n",
      "Epoch 34/50\n",
      "339/339 [==============================] - 0s 680us/step - loss: 9.5352 - mean_squared_error: 9.5352 - val_loss: 10.9521 - val_mean_squared_error: 10.9521\n",
      "Epoch 35/50\n",
      "339/339 [==============================] - 0s 746us/step - loss: 9.4759 - mean_squared_error: 9.4759 - val_loss: 11.1495 - val_mean_squared_error: 11.1495\n",
      "Epoch 36/50\n",
      "339/339 [==============================] - 0s 1ms/step - loss: 9.1288 - mean_squared_error: 9.1288 - val_loss: 11.1417 - val_mean_squared_error: 11.1417\n",
      "Epoch 37/50\n",
      "339/339 [==============================] - 0s 1ms/step - loss: 8.9656 - mean_squared_error: 8.9656 - val_loss: 10.6093 - val_mean_squared_error: 10.6093\n",
      "Epoch 38/50\n",
      "339/339 [==============================] - 0s 694us/step - loss: 9.2599 - mean_squared_error: 9.2599 - val_loss: 10.6730 - val_mean_squared_error: 10.6730\n",
      "Epoch 39/50\n",
      "339/339 [==============================] - 0s 686us/step - loss: 8.7962 - mean_squared_error: 8.7962 - val_loss: 10.6697 - val_mean_squared_error: 10.6697\n",
      "Epoch 40/50\n",
      "339/339 [==============================] - 0s 750us/step - loss: 8.6840 - mean_squared_error: 8.6840 - val_loss: 10.4943 - val_mean_squared_error: 10.4943\n",
      "Epoch 41/50\n",
      "339/339 [==============================] - 0s 1ms/step - loss: 8.6764 - mean_squared_error: 8.6764 - val_loss: 10.5197 - val_mean_squared_error: 10.5197\n",
      "Epoch 42/50\n",
      "339/339 [==============================] - 0s 1ms/step - loss: 8.6844 - mean_squared_error: 8.6844 - val_loss: 10.8777 - val_mean_squared_error: 10.8777\n",
      "Epoch 43/50\n",
      "339/339 [==============================] - 0s 918us/step - loss: 8.4771 - mean_squared_error: 8.4771 - val_loss: 10.9719 - val_mean_squared_error: 10.9719\n",
      "Epoch 44/50\n",
      "339/339 [==============================] - 0s 978us/step - loss: 8.3211 - mean_squared_error: 8.3211 - val_loss: 10.8720 - val_mean_squared_error: 10.8720\n",
      "Epoch 45/50\n",
      "339/339 [==============================] - 0s 907us/step - loss: 8.3911 - mean_squared_error: 8.3911 - val_loss: 11.1082 - val_mean_squared_error: 11.1082\n",
      "Epoch 46/50\n",
      "339/339 [==============================] - 0s 1ms/step - loss: 8.2151 - mean_squared_error: 8.2151 - val_loss: 10.9425 - val_mean_squared_error: 10.9425\n",
      "Epoch 47/50\n",
      "339/339 [==============================] - 0s 759us/step - loss: 8.0008 - mean_squared_error: 8.0008 - val_loss: 10.7650 - val_mean_squared_error: 10.7650\n",
      "Epoch 48/50\n",
      "339/339 [==============================] - 0s 999us/step - loss: 8.0885 - mean_squared_error: 8.0885 - val_loss: 10.5845 - val_mean_squared_error: 10.5845\n",
      "Epoch 49/50\n",
      "339/339 [==============================] - 0s 1ms/step - loss: 7.8094 - mean_squared_error: 7.8094 - val_loss: 10.5234 - val_mean_squared_error: 10.5234\n",
      "Epoch 50/50\n",
      "339/339 [==============================] - 0s 767us/step - loss: 7.6813 - mean_squared_error: 7.6813 - val_loss: 10.7297 - val_mean_squared_error: 10.7297\n"
     ]
    },
    {
     "data": {
      "text/plain": [
       "<keras.callbacks.History at 0x1a44c6c0b8>"
      ]
     },
     "execution_count": 6,
     "metadata": {},
     "output_type": "execute_result"
    }
   ],
   "source": [
    "from sklearn.datasets import load_boston\n",
    "from sklearn.model_selection import train_test_split\n",
    "\n",
    "# Random Seed\n",
    "seed = 42\n",
    "numpy.random.seed(seed)\n",
    "\n",
    "# Load Dataset\n",
    "boston_dataset = load_boston()\n",
    "df = pd.DataFrame(boston_dataset.data, columns=boston_dataset.feature_names)\n",
    "df['MEDV'] = boston_dataset.target\n",
    "\n",
    "# Split into X and y and turn into numpy arays\n",
    "y = df.MEDV.values\n",
    "X = df.drop(\"MEDV\", axis='columns').values\n",
    "\n",
    "# Scale inputs\n",
    "scaler = StandardScaler()\n",
    "X = scaler.fit_transform(X)\n",
    "\n",
    "# Manual Validation Dataset\n",
    "X_train, X_test, y_train, y_test = train_test_split(X, y, test_size=0.33, random_state=seed)\n",
    "\n",
    "# Important Hyperparameters\n",
    "inputs = X.shape[1]\n",
    "epochs = 50\n",
    "batch_size = 10\n",
    "\n",
    "# Create Model\n",
    "model = Sequential()\n",
    "model.add(Dense(64, activation='relu', input_shape=(inputs,)))\n",
    "model.add(Dense(64, activation='relu'))\n",
    "model.add(Dense(1))\n",
    "# Compile Model\n",
    "model.compile(optimizer='rmsprop', loss='mse', metrics=['mse'])\n",
    "# Fit Model\n",
    "model.fit(X_train, y_train, validation_data=(X_test, y_test), epochs=epochs, batch_size=batch_size)\n"
   ]
  },
  {
   "cell_type": "markdown",
   "metadata": {
    "colab_type": "text",
    "id": "k3FOE1vxx7yn"
   },
   "source": [
    "## Manual K-fold Cross Validation (regression)\n",
    "\n",
    "K-fold Cross Validation is the best way to validate your model as it will reduce the variance of your overall accuracy measure by splitting the data into smaller cross validation batches using one of the split out datasets as the validation dataset. The model is then fit K times rotating the validation set until each portion of the data has served as the validation dataset, the accuracy results from each subset are then averaged and reported as the overall test accuracy. The upside is that you can be more confident in your model's final reported accuracy. The downside is that you have to train your model K times which is computationally expensive and just not pheasible for some large networks that can take days to train a single time.\n",
    "\n",
    "K-fold Cross Validation gets tricky if you want to standardize your data because you will have to standardize your X values for each fold of your model separately. Due to this, we're going to use a Scikit-Learn Pipeline to help us do this for each fold of our dataset. \n",
    "\n",
    "Also, it's weird, but cross_val_score returns MSE values as negative values:\n",
    "<https://github.com/scikit-learn/scikit-learn/issues/2439>"
   ]
  },
  {
   "cell_type": "code",
   "execution_count": 7,
   "metadata": {
    "colab": {
     "base_uri": "https://localhost:8080/",
     "height": 34
    },
    "colab_type": "code",
    "id": "OnIHhAYV3Xt-",
    "outputId": "ad8afa5d-740f-4988-8b34-7bf3966e2c5a"
   },
   "outputs": [
    {
     "name": "stdout",
     "output_type": "stream",
     "text": [
      "K-fold Cross-Val Results - Mean: 24.72 StDev: 13.63 MSE\n"
     ]
    }
   ],
   "source": [
    "# Keras imports\n",
    "from keras.models import Sequential\n",
    "from keras.layers import Dense\n",
    "from keras.wrappers.scikit_learn import KerasRegressor\n",
    "# sklearn imports\n",
    "from sklearn.datasets import load_boston\n",
    "from sklearn.model_selection import cross_val_score\n",
    "from sklearn.model_selection import KFold\n",
    "from sklearn.preprocessing import StandardScaler\n",
    "from sklearn.pipeline import Pipeline\n",
    "\n",
    "# Random Seed\n",
    "seed = 42\n",
    "numpy.random.seed(seed)\n",
    "\n",
    "# Load Dataset\n",
    "boston_dataset = load_boston()\n",
    "df = pd.DataFrame(boston_dataset.data, columns=boston_dataset.feature_names)\n",
    "df['MEDV'] = boston_dataset.target\n",
    "\n",
    "# Split into X and y and turn into numpy arays\n",
    "y = df.MEDV.values\n",
    "X = df.drop(\"MEDV\", axis='columns').values\n",
    "\n",
    "# Important Hyperparameters\n",
    "inputs = X.shape[1]\n",
    "epochs = 50\n",
    "batch_size = 10\n",
    "\n",
    "# define base model\n",
    "def baseline_model():\n",
    "    # create model\n",
    "    model = Sequential()\n",
    "    model.add(Dense(64, input_dim=inputs, activation='relu')) \n",
    "    model.add(Dense(64, activation='relu')) \n",
    "    model.add(Dense(1))\n",
    "    # Compile model\n",
    "    model.compile(loss='mean_squared_error', optimizer='adam')\n",
    "    return model\n",
    "\n",
    "# evaluate model with standardized dataset\n",
    "estimators = []\n",
    "estimators.append(('standardize', StandardScaler()))\n",
    "estimators.append(('mlp', KerasRegressor(build_fn=baseline_model, epochs=epochs, batch_size=batch_size,\n",
    "    verbose=0)))\n",
    "pipeline = Pipeline(estimators)\n",
    "kfold = KFold(n_splits=5, random_state=seed)\n",
    "results = cross_val_score(pipeline, X, y, cv=kfold)\n",
    "print(f\"K-fold Cross-Val Results - Mean: {-results.mean():.2f} StDev: {results.std():.2f} MSE\")"
   ]
  },
  {
   "cell_type": "markdown",
   "metadata": {
    "colab_type": "text",
    "id": "N95xwMJw-5Di"
   },
   "source": [
    "## Manual K-fold Cross Validation (classification)"
   ]
  },
  {
   "cell_type": "code",
   "execution_count": 10,
   "metadata": {
    "colab": {
     "base_uri": "https://localhost:8080/",
     "height": 118
    },
    "colab_type": "code",
    "id": "4YNTT4Tm6E0W",
    "outputId": "0c4bcbb5-a831-42f4-ddf1-1d0ee47769b8"
   },
   "outputs": [
    {
     "name": "stderr",
     "output_type": "stream",
     "text": [
      "W0815 09:32:21.827888 4678366656 deprecation.py:506] From /Users/lambda_school_loaner_153/anaconda3/envs/unit4wk2/lib/python3.7/site-packages/tensorflow/python/ops/init_ops.py:1251: calling VarianceScaling.__init__ (from tensorflow.python.ops.init_ops) with dtype is deprecated and will be removed in a future version.\n",
      "Instructions for updating:\n",
      "Call initializer instance with the dtype argument instead of passing it to the constructor\n",
      "W0815 09:32:21.971303 4678366656 deprecation.py:323] From /Users/lambda_school_loaner_153/anaconda3/envs/unit4wk2/lib/python3.7/site-packages/tensorflow/python/ops/nn_impl.py:180: add_dispatch_support.<locals>.wrapper (from tensorflow.python.ops.array_ops) is deprecated and will be removed in a future version.\n",
      "Instructions for updating:\n",
      "Use tf.where in 2.0, which has the same broadcast rule as np.where\n"
     ]
    },
    {
     "name": "stdout",
     "output_type": "stream",
     "text": [
      "acc: 75.32%\n",
      "acc: 70.13%\n",
      "acc: 68.18%\n",
      "acc: 73.20%\n",
      "acc: 68.63%\n",
      "71.09% +/- 2.75%\n"
     ]
    }
   ],
   "source": [
    "# MLP for Pima Indians Dataset with 10-fold cross validation\n",
    "from tensorflow.keras.models import Sequential\n",
    "from tensorflow.keras.layers import Dense\n",
    "from sklearn.model_selection import StratifiedKFold\n",
    "import numpy\n",
    "\n",
    "# fix random seed for reproducibility\n",
    "seed = 42\n",
    "numpy.random.seed(seed)\n",
    "\n",
    "# load pima indians dataset\n",
    "url =\"https://raw.githubusercontent.com/jbrownlee/Datasets/master/pima-indians-diabetes.data.csv\"\n",
    "\n",
    "dataset = pd.read_csv(url, header=None).values\n",
    "\n",
    "# split into input (X) and output (Y) variables\n",
    "X = dataset[:,0:8]\n",
    "Y = dataset[:,8]\n",
    "\n",
    "# define 5-fold cross validation test harness\n",
    "kfold = StratifiedKFold(n_splits=5, shuffle=True, random_state=seed)\n",
    "cvscores = []\n",
    "for train, test in kfold.split(X, Y):\n",
    "    # create model\n",
    "    model = Sequential()\n",
    "    model.add(Dense(12, input_dim=8, activation='relu'))\n",
    "    model.add(Dense(8, activation='relu'))\n",
    "    model.add(Dense(1, activation='sigmoid'))\n",
    "    # Compile model\n",
    "    model.compile(loss='binary_crossentropy', optimizer='adam', metrics=['accuracy']) # Fit the model\n",
    "    model.fit(X[train], Y[train], epochs=150, batch_size=10, verbose=0)\n",
    "    # evaluate the model\n",
    "    scores = model.evaluate(X[test], Y[test], verbose=0)\n",
    "    print(f'{model.metrics_names[1]}: {(scores[1]*100):.2f}%') \n",
    "    cvscores.append(scores[1]*100)\n",
    "print(f'{numpy.mean(cvscores):.2f}% +/- {numpy.std(cvscores):.2f}%')"
   ]
  },
  {
   "cell_type": "markdown",
   "metadata": {
    "colab_type": "text",
    "id": "JILi3KJjAkfF"
   },
   "source": [
    "# Hyperparameter Tuning\n",
    "\n",
    "Hyperparameter tuning is much more important with neural networks than it has been with any other models that we have considered up to this point. Other supervised learning models might have a couple of parameters, but neural networks can have dozens. These can substantially affect the accuracy of our models and although it can be a time consuming process is a necessary step when working with neural networks.\n",
    "\n",
    "Hyperparameter tuning comes with a challenge. How can we compare models specified with different hyperparameters if our model's final error metric can vary somewhat erratically? How do we avoid just getting unlucky and selecting the wrong hyperparameter? This is a problem that to a certain degree we just have to live with as we test and test again. However, we can minimize it somewhat by pairing our experiments with Cross Validation to reduce the variance of our final accuracy values."
   ]
  },
  {
   "cell_type": "markdown",
   "metadata": {
    "colab_type": "text",
    "id": "sYJ8t_ezHP4W"
   },
   "source": [
    "## Hyperparameter Tuning Approaches:\n",
    "\n",
    "### 1) Babysitting AKA \"Grad Student Descent\".\n",
    "\n",
    "If you fiddled with any hyperparameters yesterday, this is basically what you did. This approach is 100% manual and is pretty common among researchers where finding that 1 exact specification that jumps your model to a level of accuracy never seen before is the difference between publishing and not publishing a paper. Of course the professors don't do this themselves, that's grunt work. This is also known as the fiddle with hyperparameters until you run out of time method.\n",
    "\n",
    "### 2) Grid Search\n",
    "\n",
    "Grid Search is the Grad Student galaxy brain realization of: why don't I just specify all the experiments I want to run and let the computer try every possible combination of them while I go and grab lunch. This has a specific downside in that if I specify 5 hyperparameters with 5 options each then I've just created 5^5 combinations of hyperparameters to check. Which means that I have to train 3125 different versions of my model Then if I use 5-fold Cross Validation on that then my model has to run 15,525 times. This is the brute-force method of hyperparameter tuning, but it can be very profitable if done wisely. \n",
    "\n",
    "When using Grid Search here's what I suggest: don't use it to test combinations of different hyperparameters, only use it to test different specifications of **a single** hyperparameter. It's rare that combinations between different hyperparameters lead to big performance gains. You'll get 90-95% of the way there if you just Grid Search one parameter and take the best result, then retain that best result while you test another, and then retain the best specification from that while you train another. This at least makes the situation much more manageable and leads to pretty good results. \n",
    "\n",
    "### 3) Random Search\n",
    "\n",
    "Do Grid Search for a couple of hours and you'll say to yourself - \"There's got to be a better way.\" Enter Random Search. For Random search you specify a hyperparameter space and it picks specifications from that randomly, tries them out, gives you the best results and says - That's going to have to be good enough, go home and spend time with your family. \n",
    "\n",
    "Grid Search treats every parameter as if it was equally important, but this just isn't the case, some are known to move the needle a lot more than others (we'll talk about that in a minute). Random Search allows searching to be specified along the most important parameter and experiments less along the dimensions of less important hyperparameters. The downside of Random search is that it won't find the absolute best hyperparameters, but it is much less costly to perform than Grid Search. \n",
    "\n",
    "### 4) Bayesian Methods\n",
    "\n",
    "One thing that can make more manual methods like babysitting and gridsearch effective is that as the experimenter sees results he can then make updates to his future searches taking into account the results of past specifications. If only we could hyperparameter tune our hyperparameter tuning. Well, we kind of can. Enter Bayesian Optimization. Neural Networks are like an optimization problem within an optimization problem, and Bayesian Optimization is a search strategy that tries to take into account the results of past searches in order to improve future ones. This is the most advanced method but can be a little bit tricky to implement. "
   ]
  },
  {
   "cell_type": "markdown",
   "metadata": {
    "colab_type": "text",
    "id": "HfQ7D043OMMn"
   },
   "source": [
    "## What Hyperparameters are there to test?\n",
    "\n",
    "- batch_size\n",
    "- training epochs\n",
    "- optimization algorithms\n",
    "- learning rate\n",
    "- momentum\n",
    "- activation functions\n",
    "- dropout regularization\n",
    "- number of neurons in the hidden layer\n",
    "\n",
    "There are more, but these are the most important."
   ]
  },
  {
   "cell_type": "markdown",
   "metadata": {
    "colab_type": "text",
    "id": "4Xl9c2VPPITI"
   },
   "source": [
    "## Creating a \"Test Harness\"\n",
    "\n",
    "You want it to be easy to specify different version of your model and for that model to undergo the same conditions every time with nothing different except for the hyperparameter(s) that you are testing. \n",
    "\n",
    "In order to do this we're going to use GridSearchCV from scikit learn to run our model with different hyperparameters and then report back to us the best one. In order to do this we have to wrap our model in either a KerasRegressor or KerasClassifier object to prepare it to work with Scikit-Learn. We also have to put our model specification within a function that we can call in order to generate it. This is required in order to use KerasRegressor or KerasClassifier"
   ]
  },
  {
   "cell_type": "markdown",
   "metadata": {
    "colab_type": "text",
    "id": "Mri5-kXzVKAa"
   },
   "source": [
    "## Batch Size\n",
    "\n",
    "Batch size determines how many observations the model is shown before it calculates loss/error and updates the model weights via gradient descent. You're looking for a sweet spot here where you're showing it enough observations that you have enough information to updates the weights, but not such a large batch size that you don't get a lot of weight update iterations performed in a given epoch. Feed-forward Neural Networks aren't as sensitive to bach_size as other networks, but it is still an important hyperparameter to tune. Smaller batch sizes will also take longer to train. "
   ]
  },
  {
   "cell_type": "code",
   "execution_count": 16,
   "metadata": {
    "colab": {
     "base_uri": "https://localhost:8080/",
     "height": 13561
    },
    "colab_type": "code",
    "id": "2smXfriNAGn7",
    "outputId": "ae996575-78e2-43fb-9dbe-5d44aaf0b430"
   },
   "outputs": [
    {
     "name": "stdout",
     "output_type": "stream",
     "text": [
      "256/256 [==============================] - 1s 5ms/step\n",
      "256/256 [==============================] - 1s 6ms/step\n",
      "256/256 [==============================] - 1s 5ms/step\n",
      "256/256 [==============================] - 1s 5ms/step\n",
      "256/256 [==============================] - 1s 5ms/step\n",
      "256/256 [==============================] - 1s 6ms/step\n",
      "256/256 [==============================] - 1s 5ms/step\n",
      "256/256 [==============================] - 2s 6ms/step\n",
      "256/256 [==============================] - 1s 6ms/step\n",
      "256/256 [==============================] - 1s 6ms/step\n",
      "256/256 [==============================] - 1s 6ms/step\n",
      "256/256 [==============================] - 1s 6ms/step\n",
      "256/256 [==============================] - 2s 8ms/step\n",
      "256/256 [==============================] - 2s 6ms/step\n",
      "256/256 [==============================] - 2s 6ms/step\n",
      "256/256 [==============================] - 2s 6ms/step\n",
      "256/256 [==============================] - 2s 8ms/step\n",
      "256/256 [==============================] - 2s 6ms/step\n",
      "Best: 0.6393229259798924 using {'batch_size': 100, 'epochs': 20}\n",
      "Means: 0.632812502871578, Stdev: 0.02407973862352648 with: {'batch_size': 10, 'epochs': 20}\n",
      "Means: 0.5976562473612527, Stdev: 0.05012597820464369 with: {'batch_size': 20, 'epochs': 20}\n",
      "Means: 0.635416666045785, Stdev: 0.026557389525249827 with: {'batch_size': 40, 'epochs': 20}\n",
      "Means: 0.5546875018626451, Stdev: 0.05524271991437724 with: {'batch_size': 60, 'epochs': 20}\n",
      "Means: 0.535156254346172, Stdev: 0.11486412609883082 with: {'batch_size': 80, 'epochs': 20}\n",
      "Means: 0.6393229259798924, Stdev: 0.025779941974749136 with: {'batch_size': 100, 'epochs': 20}\n"
     ]
    }
   ],
   "source": [
    "import numpy\n",
    "from sklearn.model_selection import GridSearchCV\n",
    "from keras.models import Sequential\n",
    "from keras.layers import Dense\n",
    "from keras.wrappers.scikit_learn import KerasClassifier\n",
    "\n",
    "# fix random seed for reproducibility\n",
    "# fix random seed for reproducibility\n",
    "seed = 42\n",
    "numpy.random.seed(seed)\n",
    "\n",
    "# load pima indians dataset\n",
    "url =\"https://raw.githubusercontent.com/jbrownlee/Datasets/master/pima-indians-diabetes.data.csv\"\n",
    "\n",
    "# split into input (X) and output (Y) variables\n",
    "X = dataset[:,0:8]\n",
    "Y = dataset[:,8]\n",
    "\n",
    "# Function to create model, required for KerasClassifier\n",
    "def create_model():\n",
    "\t# create model\n",
    "\tmodel = Sequential()\n",
    "\tmodel.add(Dense(12, input_dim=8, activation='relu'))\n",
    "\tmodel.add(Dense(1, activation='sigmoid'))\n",
    "\t# Compile model\n",
    "\tmodel.compile(loss='binary_crossentropy', optimizer='adam', metrics=['accuracy'])\n",
    "\treturn model\n",
    "\n",
    "# create model\n",
    "model = KerasClassifier(build_fn=create_model, verbose=1)\n",
    "\n",
    "# define the grid search parameters\n",
    "# batch_size = [10, 20, 40, 60, 80, 100]\n",
    "# param_grid = dict(batch_size=batch_size, epochs=epochs)\n",
    "\n",
    "# define the grid search parameters\n",
    "param_grid = {'batch_size': [10, 20, 40, 60, 80, 100],\n",
    "              'epochs': [20]}\n",
    "\n",
    "# Create Grid Search\n",
    "grid = GridSearchCV(estimator=model, param_grid=param_grid, n_jobs=1)\n",
    "grid_result = grid.fit(X, Y, verbose=0)\n",
    "\n",
    "# Report Results\n",
    "print(f\"Best: {grid_result.best_score_} using {grid_result.best_params_}\")\n",
    "means = grid_result.cv_results_['mean_test_score']\n",
    "stds = grid_result.cv_results_['std_test_score']\n",
    "params = grid_result.cv_results_['params']\n",
    "for mean, stdev, param in zip(means, stds, params):\n",
    "    print(f\"Means: {mean}, Stdev: {stdev} with: {param}\") "
   ]
  },
  {
   "cell_type": "markdown",
   "metadata": {
    "colab_type": "text",
    "id": "pmABfjlvXbqi"
   },
   "source": [
    "## Epochs\n",
    "\n",
    "The number of training epochs has a large and direct affect on the accuracy, However, more epochs is almost always goign to better than less epochs. This means that if you tune this parameter at the beginning and try and maintain the same value all throughout your training, you're going to be waiting a long time for each iteration of GridSearch. I suggest picking a fixed moderat # of epochs all throughout your training and then Grid Searching this parameter at the very end. "
   ]
  },
  {
   "cell_type": "code",
   "execution_count": 17,
   "metadata": {
    "colab": {
     "base_uri": "https://localhost:8080/",
     "height": 26329
    },
    "colab_type": "code",
    "id": "bAmxP3N7TmFh",
    "outputId": "3ddb08c4-51ac-4eaa-ff39-143397024544"
   },
   "outputs": [
    {
     "name": "stdout",
     "output_type": "stream",
     "text": [
      "256/256 [==============================] - 2s 7ms/step\n",
      "256/256 [==============================] - 2s 7ms/step\n",
      "256/256 [==============================] - 2s 7ms/step\n",
      "256/256 [==============================] - 2s 7ms/step\n",
      "256/256 [==============================] - 2s 7ms/step\n",
      "256/256 [==============================] - 2s 8ms/step\n",
      "256/256 [==============================] - 2s 8ms/step\n",
      "256/256 [==============================] - 2s 8ms/step\n",
      "256/256 [==============================] - 2s 8ms/step\n",
      "256/256 [==============================] - 2s 8ms/step\n",
      "256/256 [==============================] - 2s 8ms/step\n",
      "256/256 [==============================] - 2s 8ms/step\n",
      "256/256 [==============================] - 2s 9ms/step\n",
      "256/256 [==============================] - 2s 10ms/step\n",
      "256/256 [==============================] - 2s 9ms/step\n",
      "256/256 [==============================] - 2s 9ms/step\n",
      "256/256 [==============================] - 2s 9ms/step\n",
      "256/256 [==============================] - 2s 9ms/step\n",
      "Best: 0.6653645771245161 using {'batch_size': 80, 'epochs': 60}\n",
      "Means: 0.6197916703919569, Stdev: 0.020255661685650857 with: {'batch_size': 60, 'epochs': 20}\n",
      "Means: 0.5898437484477957, Stdev: 0.07540850535979825 with: {'batch_size': 60, 'epochs': 40}\n",
      "Means: 0.6484374941016237, Stdev: 0.033298729110426604 with: {'batch_size': 60, 'epochs': 60}\n",
      "Means: 0.5273437506208817, Stdev: 0.07500271175147223 with: {'batch_size': 80, 'epochs': 20}\n",
      "Means: 0.6419270796080431, Stdev: 0.05883917819764858 with: {'batch_size': 80, 'epochs': 40}\n",
      "Means: 0.6653645771245161, Stdev: 0.04787702778925459 with: {'batch_size': 80, 'epochs': 60}\n"
     ]
    }
   ],
   "source": [
    "# define the grid search parameters\n",
    "param_grid = {'batch_size': [60, 80],\n",
    "              'epochs': [20, 40, 60]}\n",
    "\n",
    "# Create Grid Search\n",
    "grid = GridSearchCV(estimator=model, param_grid=param_grid, n_jobs=1)\n",
    "grid_result = grid.fit(X, Y, verbose=0)\n",
    "\n",
    "# Report Results\n",
    "print(f\"Best: {grid_result.best_score_} using {grid_result.best_params_}\")\n",
    "means = grid_result.cv_results_['mean_test_score']\n",
    "stds = grid_result.cv_results_['std_test_score']\n",
    "params = grid_result.cv_results_['params']\n",
    "for mean, stdev, param in zip(means, stds, params):\n",
    "    print(f\"Means: {mean}, Stdev: {stdev} with: {param}\")"
   ]
  },
  {
   "cell_type": "code",
   "execution_count": null,
   "metadata": {
    "colab": {},
    "colab_type": "code",
    "id": "b5feRhSiZ9o9"
   },
   "outputs": [],
   "source": []
  },
  {
   "cell_type": "markdown",
   "metadata": {
    "colab_type": "text",
    "id": "EKcuY6OiaLfz"
   },
   "source": [
    "## Optimizer\n",
    "\n",
    "Remember that there's a different optimizers [optimizers](https://keras.io/optimizers/). At some point, take some time to read up on them a little bit. \"adam\" usually gives the best results. The thing to know about choosing an optimizer is that different optimizers have different hyperparameters like learning rate, momentum, etc. So based on the optimizer you choose you might also have to tune the learning rate and momentum of those optimizers after that. "
   ]
  },
  {
   "cell_type": "markdown",
   "metadata": {
    "colab_type": "text",
    "id": "DG3wq5iOaLig"
   },
   "source": [
    "## Learning Rate\n",
    "\n",
    "Remember that the Learning Rate is a hyperparameter that is specific to your gradient-descent based optimizer selection. A learning rate that is too high will cause divergent behavior, but a Learning Rate that is too low will fail to converge, again, you're looking for the sweet spot. I would start out tuning learning rates by orders of magnitude: [.001, .01, .1, .2, .3, .5] etc. I wouldn't go above .5, but you can try it and see what the behavior is like. \n",
    "\n",
    "Once you have narrowed it down, make the window even smaller and try it again. If after running the above specification your model reports that .1 is the best optimizer, then you should probably try things like [.05, .08, .1, .12, .15] to try and narrow it down. \n",
    "\n",
    "It can also be good to tune the number of epochs in combination with the learning rate since the number of iterations that you allow the learning rate to reach the minimum can determine if you have let it run long enough to converge to the minimum. "
   ]
  },
  {
   "cell_type": "markdown",
   "metadata": {
    "colab_type": "text",
    "id": "gNTBUWd1aLlA"
   },
   "source": [
    "## Momentum\n",
    "\n",
    "Momentum is a hyperparameter that is more commonly associated with Stochastic Gradient Descent. SGD is a common optimizer because it's what people understand and know, but I doubt it will get you the best results, you can try hyperparameter tuning its attributes and see if you can beat the performance from adam. Momentum is a property that decides the willingness of an optimizer to overshoot the minimum. Imagine a ball rolling down one side of a bowl and then up the opposite side a little bit before settling back to the bottom. The purpose of momentum is to try and escale local minima."
   ]
  },
  {
   "cell_type": "markdown",
   "metadata": {
    "colab_type": "text",
    "id": "xnEG-bCJaLnZ"
   },
   "source": [
    "## Activation Functions\n",
    "\n",
    "We've talked about this a little bit, typically you'l want to use ReLU for hidden layers and either Sigmoid, or Softmax for output layers of binary and multi-class classification implementations respectively, but try other activation functions and see if you can get any better results with sigmoid or tanh or something. There are a lot of activation functions that we haven't really talked about. Maybe you'll get good results with them. Maybe you won't. :) <https://keras.io/activations/>"
   ]
  },
  {
   "cell_type": "markdown",
   "metadata": {
    "colab_type": "text",
    "id": "oul9sPq-dU-h"
   },
   "source": [
    "## Network Weight Initialization\n",
    "\n",
    "You saw how big of an effect the way that we initialize our network's weights can have on our results. There are **a lot** of what are called initialization modes. I don't understand all of them, but they can have a big affect on your model's initial accuracy. Your model will get further with less epochs if you initialize it with weights that are well suited to the problem you're trying to solve.\n",
    "\n",
    "`init_mode = ['uniform', 'lecun_uniform', 'normal', 'zero', 'glorot_normal', 'glorot_uniform', 'he_normal', 'he_uniform']`"
   ]
  },
  {
   "cell_type": "markdown",
   "metadata": {
    "colab_type": "text",
    "id": "bqtEuxeQaLqE"
   },
   "source": [
    "## Dropout Regularization and the Weight Constraint\n",
    "\n",
    "the Dropout Regularization value is a percentage of neurons that you want to be randomly deactivated during training. The weight constraint is a second regularization parameter that works in tandem with dropout regularization. You should tune these two values at the same time. \n",
    "\n",
    "Using dropout on visible vs hidden layers might have a different effect. Using dropout on hidden layers might not have any effect while using dropout on hidden layers might have a substantial effect. You don't necessarily need to turn use dropout unless you see that your model has overfitting and generalizability problems."
   ]
  },
  {
   "cell_type": "markdown",
   "metadata": {
    "colab_type": "text",
    "id": "P2c5Cv6oaLtO"
   },
   "source": [
    "## Neurons in Hidden Layer \n",
    "\n",
    "Remember that when we only had a single perceptron our model was only able to fit to linearly separable data, but as we have added layers and nodes to those layers our network has become a powerhouse of fitting nonlinearity in data. The larger the network and the more nodes generally the stronger the network's capacity to fit nonlinear patterns in data. The more nodes and layers the longer it will take to train a network, and higher the probability of overfitting. The larger your network gets the more you'll need dropout regularization or other regularization techniques to keep it in check. \n",
    "\n",
    "Typically depth (more layers) is more important than width (more nodes) for neural networks. This is part of why Deep Learning is so highly touted. Certain deep learning architectures have truly been huge breakthroughs for certain machine learning tasks. \n",
    "\n",
    "You might borrow ideas from other network architectures. For example if I was doing image recognition and I wasn't taking cues from state of the art architectures like resnet, alexnet, googlenet, etc. Then I'm probably going to have to do a lot more experimentation on my own before I find something that works.\n",
    "\n",
    "There are some heuristics, but I am highly skeptical of them. I think you're better off experimenting on your own and forming your own intuition for these kinds of problems. \n",
    "\n",
    "- https://machinelearningmastery.com/how-to-configure-the-number-of-layers-and-nodes-in-a-neural-network/"
   ]
  },
  {
   "cell_type": "markdown",
   "metadata": {
    "colab_type": "text",
    "id": "3LvRYQOwd-aZ"
   },
   "source": [
    "# Hyperparameter Tuning Tips:\n",
    "\n",
    "1) Use **at least** 3-fold cross validation. 5-fold or 10-fold would be better if you're patient enough.\n",
    "\n",
    "2) Sampling your dataset can speed up iterations if you have enough data to justify it.\n",
    "\n",
    "3) Start with \"Coarse Grids\" we gave an example of this when we were talking about Learning Rate, start with wide gaps between values that you're testing and then run additional tests with more narrow gaps between values until you find an optimum.\n",
    "\n",
    "4) Even though we're using Cross Validation, reproducibility can still be a challenge. Don't be afraid to run some tests multiple times to see if you get the same results. Sometimes the accuracy differences are so slight that grid search picking one hyperparameter over another is just luck of the draw.\n",
    "\n",
    "5) Run your tests in verbose mode. Not only will you be less stressed out wondering if it's actually running, but you will be able to more quickly identify if something has gone haywire by glancing at the output every now and again.\n",
    "\n",
    "6) Pick a moderate amount of epochs and stick with that all throughout your training, until the very end, then tune your epochs. \n",
    "\n",
    "7) As you begin to have a lot of hyperparameters narrowed down, test them along with narrow versions of other hyperparameters in order to catch the small effects of interactions between specific hyperparameters.\n",
    "\n",
    "8) Being a perfectionist here is going to be a long and painful journey, so please do a cost-benefit analysis of how you're using your time here. Learn the concept, have the experience, but don't spend 3 days hyperparameter tuning your assignment."
   ]
  },
  {
   "cell_type": "markdown",
   "metadata": {
    "colab_type": "text",
    "id": "z2cC0lpAhDQ_"
   },
   "source": [
    "## Additional Reading:\n",
    "\n",
    "I know I sound like a shill for Jason Brownlee, but honestly he has some of the very best articles on the internet in regards to hyperparameter tuning with Keras. I have leaned on his articles heavily when doing hyperparameter tuning before and saw great results from following his advice. He has articles on lots and lots of Keras related topics, so keep an ey out for his website: <http://machinelearningmastery.com> as you look through search results today.\n",
    "\n",
    "- https://machinelearningmastery.com/grid-search-hyperparameters-deep-learning-models-python-keras/\n",
    "- https://blog.floydhub.com/guide-to-hyperparameters-search-for-deep-learning-models/\n",
    "- https://machinelearningmastery.com/dropout-regularization-deep-learning-models-keras/\n",
    "- https://machinelearningmastery.com/introduction-to-weight-constraints-to-reduce-generalization-error-in-deep-learning/\n",
    "- https://machinelearningmastery.com/how-to-configure-the-number-of-layers-and-nodes-in-a-neural-network/"
   ]
  }
 ],
 "metadata": {
  "colab": {
   "collapsed_sections": [],
   "name": "LS_DS_434_Hyperparameter_Tuning.ipynb",
   "provenance": [],
   "version": "0.3.2"
  },
  "kernelspec": {
   "display_name": "Python 3.7 (unit4wk2)",
   "language": "python",
   "name": "unit4wk2"
  },
  "language_info": {
   "codemirror_mode": {
    "name": "ipython",
    "version": 3
   },
   "file_extension": ".py",
   "mimetype": "text/x-python",
   "name": "python",
   "nbconvert_exporter": "python",
   "pygments_lexer": "ipython3",
   "version": "3.7.3"
  }
 },
 "nbformat": 4,
 "nbformat_minor": 4
}
